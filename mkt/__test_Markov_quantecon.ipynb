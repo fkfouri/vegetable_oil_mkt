{
 "cells": [
  {
   "cell_type": "code",
   "execution_count": 1,
   "id": "4de1a6fd",
   "metadata": {},
   "outputs": [],
   "source": [
    "import numpy as np\n",
    "import quantecon as qe"
   ]
  },
  {
   "cell_type": "markdown",
   "id": "faa108c3",
   "metadata": {},
   "source": [
    "- https://networks.quantecon.org/ch_mcs.html\n",
    "- https://python-advanced.quantecon.org/stationary_densities.html\n",
    "- https://python.quantecon.org/finite_markov.html\n",
    "- https://python.quantecon.org/markov_perf.html\n",
    "- https://www.viralml.com/video-content.html?fm=yt&v=sdp49vTanSk"
   ]
  },
  {
   "cell_type": "code",
   "execution_count": 2,
   "id": "295958d0",
   "metadata": {},
   "outputs": [
    {
     "data": {
      "text/plain": [
       "True"
      ]
     },
     "execution_count": 2,
     "metadata": {},
     "output_type": "execute_result"
    }
   ],
   "source": [
    "P = [[0.9, 0.1, 0.0],\n",
    "     [0.4, 0.4, 0.2],\n",
    "     [0.1, 0.1, 0.8]]\n",
    "mc = qe.MarkovChain(P, ('poor', 'middle', 'rich'))\n",
    "mc.is_irreducible"
   ]
  },
  {
   "cell_type": "code",
   "execution_count": 3,
   "id": "22960f50",
   "metadata": {},
   "outputs": [
    {
     "data": {
      "text/plain": [
       "1"
      ]
     },
     "execution_count": 3,
     "metadata": {},
     "output_type": "execute_result"
    }
   ],
   "source": [
    "mc.period"
   ]
  },
  {
   "cell_type": "code",
   "execution_count": 4,
   "id": "066eedf7",
   "metadata": {},
   "outputs": [
    {
     "data": {
      "text/plain": [
       "array([[0.71428571, 0.14285714, 0.14285714]])"
      ]
     },
     "execution_count": 4,
     "metadata": {},
     "output_type": "execute_result"
    }
   ],
   "source": [
    "mc = qe.MarkovChain(P)\n",
    "mc.stationary_distributions "
   ]
  },
  {
   "cell_type": "code",
   "execution_count": null,
   "id": "fb44858b",
   "metadata": {},
   "outputs": [],
   "source": []
  }
 ],
 "metadata": {
  "kernelspec": {
   "display_name": "env-win-tese",
   "language": "python",
   "name": "env-win-tese"
  },
  "language_info": {
   "codemirror_mode": {
    "name": "ipython",
    "version": 3
   },
   "file_extension": ".py",
   "mimetype": "text/x-python",
   "name": "python",
   "nbconvert_exporter": "python",
   "pygments_lexer": "ipython3",
   "version": "3.10.0"
  },
  "toc": {
   "base_numbering": 1,
   "nav_menu": {},
   "number_sections": true,
   "sideBar": true,
   "skip_h1_title": false,
   "title_cell": "Table of Contents",
   "title_sidebar": "Contents",
   "toc_cell": false,
   "toc_position": {},
   "toc_section_display": true,
   "toc_window_display": false
  }
 },
 "nbformat": 4,
 "nbformat_minor": 5
}
