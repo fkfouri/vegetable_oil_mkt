{
 "cells": [
  {
   "cell_type": "markdown",
   "id": "63e75056",
   "metadata": {},
   "source": [
    "# Oferta e Demanda"
   ]
  },
  {
   "cell_type": "code",
   "execution_count": 2,
   "id": "10615690",
   "metadata": {},
   "outputs": [],
   "source": [
    "import pandas as pd\n",
    "import numpy as np\n",
    "import json\n",
    "import importlib, sys, os, requests\n",
    "from datetime import date, datetime\n",
    "\n",
    "from pathlib import Path\n",
    "sys.path.append(str(Path(os.path.abspath('')).parents[0]))\n",
    "\n",
    "import seaborn as sns\n",
    "import matplotlib.pyplot as plt\n",
    "\n",
    "import plotly.graph_objects as go\n",
    "import plotly.express as px\n",
    "from plotly.subplots import make_subplots\n",
    "\n",
    "import yfinance as yf\n",
    "import investpy\n",
    "\n",
    "import support_library as sl\n",
    "\n",
    "_ = [importlib.reload(sys.modules[m]) for m in list(sys.modules) if 'support_library' in m]"
   ]
  },
  {
   "cell_type": "code",
   "execution_count": 5,
   "id": "3433a210",
   "metadata": {},
   "outputs": [
    {
     "data": {
      "text/plain": [
       "datetime.date(2022, 3, 30)"
      ]
     },
     "execution_count": 5,
     "metadata": {},
     "output_type": "execute_result"
    }
   ],
   "source": [
    "DATE_FORMAT = '%Y-%m-%d'\n",
    "MIN_DATE    = \"2010-01-01\"\n",
    "TODAY       = date.today()\n",
    "TODAY_STR   = date.today().strftime(DATE_FORMAT)\n",
    "REF_MES     = 12 \n",
    "\n",
    "DATASET     = r'../dataset/'\n",
    "\n",
    "TODAY"
   ]
  },
  {
   "cell_type": "markdown",
   "id": "9dd64a19",
   "metadata": {},
   "source": [
    "# Preco Soja"
   ]
  },
  {
   "cell_type": "code",
   "execution_count": 3,
   "id": "9f09ec4d",
   "metadata": {},
   "outputs": [
    {
     "name": "stdout",
     "output_type": "stream",
     "text": [
      "(3043, 13)\n"
     ]
    },
    {
     "data": {
      "text/html": [
       "<div>\n",
       "<style scoped>\n",
       "    .dataframe tbody tr th:only-of-type {\n",
       "        vertical-align: middle;\n",
       "    }\n",
       "\n",
       "    .dataframe tbody tr th {\n",
       "        vertical-align: top;\n",
       "    }\n",
       "\n",
       "    .dataframe thead th {\n",
       "        text-align: right;\n",
       "    }\n",
       "</style>\n",
       "<table border=\"1\" class=\"dataframe\">\n",
       "  <thead>\n",
       "    <tr style=\"text-align: right;\">\n",
       "      <th></th>\n",
       "      <th>sb_grain_future_price</th>\n",
       "      <th>sb_grain_future_volume</th>\n",
       "      <th>sb_grain_spot_price</th>\n",
       "      <th>sb_grain_spot_volume</th>\n",
       "      <th>sb_oil_future_price</th>\n",
       "      <th>sb_oil_future_volume</th>\n",
       "      <th>sb_oil_spot_price</th>\n",
       "      <th>sb_oil_spot_volume</th>\n",
       "      <th>sb_meal_future_price</th>\n",
       "      <th>sb_meal_future_volume</th>\n",
       "      <th>sb_meal_spot_price</th>\n",
       "      <th>sb_meal_spot_volume</th>\n",
       "      <th>date</th>\n",
       "    </tr>\n",
       "    <tr>\n",
       "      <th>Date</th>\n",
       "      <th></th>\n",
       "      <th></th>\n",
       "      <th></th>\n",
       "      <th></th>\n",
       "      <th></th>\n",
       "      <th></th>\n",
       "      <th></th>\n",
       "      <th></th>\n",
       "      <th></th>\n",
       "      <th></th>\n",
       "      <th></th>\n",
       "      <th></th>\n",
       "      <th></th>\n",
       "    </tr>\n",
       "  </thead>\n",
       "  <tbody>\n",
       "    <tr>\n",
       "      <th>2010-01-04</th>\n",
       "      <td>385.63</td>\n",
       "      <td>25947</td>\n",
       "      <td>388.75</td>\n",
       "      <td>87661.0</td>\n",
       "      <td>901.69</td>\n",
       "      <td>24855.0</td>\n",
       "      <td>910.29</td>\n",
       "      <td>51055.0</td>\n",
       "      <td>348.33</td>\n",
       "      <td>3802.0</td>\n",
       "      <td>339.84</td>\n",
       "      <td>22970.0</td>\n",
       "      <td>2010-01-04</td>\n",
       "    </tr>\n",
       "    <tr>\n",
       "      <th>2010-01-05</th>\n",
       "      <td>386.64</td>\n",
       "      <td>21073</td>\n",
       "      <td>389.85</td>\n",
       "      <td>63725.0</td>\n",
       "      <td>897.50</td>\n",
       "      <td>10840.0</td>\n",
       "      <td>906.10</td>\n",
       "      <td>26802.0</td>\n",
       "      <td>352.08</td>\n",
       "      <td>3162.0</td>\n",
       "      <td>343.26</td>\n",
       "      <td>16625.0</td>\n",
       "      <td>2010-01-05</td>\n",
       "    </tr>\n",
       "    <tr>\n",
       "      <th>2010-01-06</th>\n",
       "      <td>385.99</td>\n",
       "      <td>17567</td>\n",
       "      <td>389.12</td>\n",
       "      <td>63223.0</td>\n",
       "      <td>896.62</td>\n",
       "      <td>9257.0</td>\n",
       "      <td>905.44</td>\n",
       "      <td>35365.0</td>\n",
       "      <td>350.42</td>\n",
       "      <td>2183.0</td>\n",
       "      <td>341.94</td>\n",
       "      <td>16785.0</td>\n",
       "      <td>2010-01-06</td>\n",
       "    </tr>\n",
       "    <tr>\n",
       "      <th>2010-01-07</th>\n",
       "      <td>373.96</td>\n",
       "      <td>11750</td>\n",
       "      <td>376.99</td>\n",
       "      <td>88966.0</td>\n",
       "      <td>881.63</td>\n",
       "      <td>4976.0</td>\n",
       "      <td>889.79</td>\n",
       "      <td>147.0</td>\n",
       "      <td>338.41</td>\n",
       "      <td>3298.0</td>\n",
       "      <td>328.71</td>\n",
       "      <td>285.0</td>\n",
       "      <td>2010-01-07</td>\n",
       "    </tr>\n",
       "    <tr>\n",
       "      <th>2010-01-08</th>\n",
       "      <td>372.21</td>\n",
       "      <td>11750</td>\n",
       "      <td>375.52</td>\n",
       "      <td>73190.0</td>\n",
       "      <td>871.49</td>\n",
       "      <td>4976.0</td>\n",
       "      <td>879.87</td>\n",
       "      <td>35634.0</td>\n",
       "      <td>338.19</td>\n",
       "      <td>3298.0</td>\n",
       "      <td>328.82</td>\n",
       "      <td>24729.0</td>\n",
       "      <td>2010-01-08</td>\n",
       "    </tr>\n",
       "  </tbody>\n",
       "</table>\n",
       "</div>"
      ],
      "text/plain": [
       "            sb_grain_future_price  sb_grain_future_volume  \\\n",
       "Date                                                        \n",
       "2010-01-04                 385.63                   25947   \n",
       "2010-01-05                 386.64                   21073   \n",
       "2010-01-06                 385.99                   17567   \n",
       "2010-01-07                 373.96                   11750   \n",
       "2010-01-08                 372.21                   11750   \n",
       "\n",
       "            sb_grain_spot_price  sb_grain_spot_volume  sb_oil_future_price  \\\n",
       "Date                                                                         \n",
       "2010-01-04               388.75               87661.0               901.69   \n",
       "2010-01-05               389.85               63725.0               897.50   \n",
       "2010-01-06               389.12               63223.0               896.62   \n",
       "2010-01-07               376.99               88966.0               881.63   \n",
       "2010-01-08               375.52               73190.0               871.49   \n",
       "\n",
       "            sb_oil_future_volume  sb_oil_spot_price  sb_oil_spot_volume  \\\n",
       "Date                                                                      \n",
       "2010-01-04               24855.0             910.29             51055.0   \n",
       "2010-01-05               10840.0             906.10             26802.0   \n",
       "2010-01-06                9257.0             905.44             35365.0   \n",
       "2010-01-07                4976.0             889.79               147.0   \n",
       "2010-01-08                4976.0             879.87             35634.0   \n",
       "\n",
       "            sb_meal_future_price  sb_meal_future_volume  sb_meal_spot_price  \\\n",
       "Date                                                                          \n",
       "2010-01-04                348.33                 3802.0              339.84   \n",
       "2010-01-05                352.08                 3162.0              343.26   \n",
       "2010-01-06                350.42                 2183.0              341.94   \n",
       "2010-01-07                338.41                 3298.0              328.71   \n",
       "2010-01-08                338.19                 3298.0              328.82   \n",
       "\n",
       "            sb_meal_spot_volume       date  \n",
       "Date                                        \n",
       "2010-01-04              22970.0 2010-01-04  \n",
       "2010-01-05              16625.0 2010-01-05  \n",
       "2010-01-06              16785.0 2010-01-06  \n",
       "2010-01-07                285.0 2010-01-07  \n",
       "2010-01-08              24729.0 2010-01-08  "
      ]
     },
     "execution_count": 3,
     "metadata": {},
     "output_type": "execute_result"
    }
   ],
   "source": [
    "df_soja = sl.soybean.get_all_prices()\n",
    "print(df_soja.shape)\n",
    "df_soja.head()"
   ]
  },
  {
   "cell_type": "code",
   "execution_count": 4,
   "id": "06de4a19",
   "metadata": {},
   "outputs": [
    {
     "data": {
      "image/png": "[encoded data removed]",
      "text/plain": [
       "<Figure size 1080x360 with 1 Axes>"
      ]
     },
     "metadata": {
      "needs_background": "light"
     },
     "output_type": "display_data"
    }
   ],
   "source": [
    "plt.figure(figsize=(15,5))\n",
    "\n",
    "plt.plot(df_soja.index, df_soja['sb_oil_future_price'], label='Oil Future', );\n",
    "plt.plot(df_soja.index, df_soja['sb_oil_spot_price'], label='Oil Spot');\n",
    "plt.plot(df_soja.index, df_soja['sb_grain_future_price'], label='Grain Future');\n",
    "plt.plot(df_soja.index, df_soja['sb_grain_spot_price'], label='Grain Spot');\n",
    "plt.plot(df_soja.index, df_soja['sb_meal_future_price'], label='Meal Future');\n",
    "plt.plot(df_soja.index, df_soja['sb_meal_spot_price'], label='Grain Spot');\n",
    "plt.title(\"Historico de preços da Soja\")\n",
    "plt.ylabel('Price UDS/Metric Ton')\n",
    "plt.legend(loc='best');"
   ]
  },
  {
   "cell_type": "code",
   "execution_count": 6,
   "id": "0246a369",
   "metadata": {},
   "outputs": [],
   "source": [
    "df_soja.to_csv(f'{DATASET}\\__preco_soja.csv')\n",
    "sl.save_excel(df_soja, f'{DATASET}\\__preco_soja.xlsx')"
   ]
  },
  {
   "cell_type": "markdown",
   "id": "6085a784",
   "metadata": {},
   "source": [
    "# Preço Girassol"
   ]
  },
  {
   "cell_type": "markdown",
   "id": "7bacd3e2",
   "metadata": {},
   "source": []
  },
  {
   "cell_type": "markdown",
   "id": "5c7e9acc",
   "metadata": {},
   "source": []
  },
  {
   "cell_type": "markdown",
   "id": "1c847b0c",
   "metadata": {},
   "source": []
  },
  {
   "cell_type": "markdown",
   "id": "3dea701b",
   "metadata": {},
   "source": []
  },
  {
   "cell_type": "markdown",
   "id": "449ebf13",
   "metadata": {},
   "source": []
  },
  {
   "cell_type": "markdown",
   "id": "0090157f",
   "metadata": {},
   "source": []
  },
  {
   "cell_type": "markdown",
   "id": "dc6c457b",
   "metadata": {},
   "source": []
  },
  {
   "cell_type": "markdown",
   "id": "d707b75e",
   "metadata": {},
   "source": []
  },
  {
   "cell_type": "markdown",
   "id": "05cc3509",
   "metadata": {},
   "source": []
  },
  {
   "cell_type": "markdown",
   "id": "8642be7f",
   "metadata": {},
   "source": []
  },
  {
   "cell_type": "markdown",
   "id": "552103d0",
   "metadata": {},
   "source": []
  },
  {
   "cell_type": "markdown",
   "id": "9a65d24a",
   "metadata": {},
   "source": []
  },
  {
   "cell_type": "markdown",
   "id": "7b04bc85",
   "metadata": {},
   "source": []
  },
  {
   "cell_type": "markdown",
   "id": "c5bc8039",
   "metadata": {},
   "source": []
  },
  {
   "cell_type": "markdown",
   "id": "ecdc5bf7",
   "metadata": {},
   "source": []
  },
  {
   "cell_type": "markdown",
   "id": "e67bcf56",
   "metadata": {},
   "source": []
  },
  {
   "cell_type": "markdown",
   "id": "3938f4e3",
   "metadata": {},
   "source": []
  },
  {
   "cell_type": "markdown",
   "id": "343d4556",
   "metadata": {},
   "source": []
  },
  {
   "cell_type": "markdown",
   "id": "8405296c",
   "metadata": {},
   "source": []
  },
  {
   "cell_type": "markdown",
   "id": "a3bf61aa",
   "metadata": {},
   "source": []
  },
  {
   "cell_type": "markdown",
   "id": "c6be0f02",
   "metadata": {},
   "source": []
  },
  {
   "cell_type": "markdown",
   "id": "a5ae09c6",
   "metadata": {},
   "source": []
  },
  {
   "cell_type": "code",
   "execution_count": 13,
   "id": "30f8f483",
   "metadata": {},
   "outputs": [
    {
     "data": {
      "text/html": [
       "<div>\n",
       "<style scoped>\n",
       "    .dataframe tbody tr th:only-of-type {\n",
       "        vertical-align: middle;\n",
       "    }\n",
       "\n",
       "    .dataframe tbody tr th {\n",
       "        vertical-align: top;\n",
       "    }\n",
       "\n",
       "    .dataframe thead th {\n",
       "        text-align: right;\n",
       "    }\n",
       "</style>\n",
       "<table border=\"1\" class=\"dataframe\">\n",
       "  <thead>\n",
       "    <tr style=\"text-align: right;\">\n",
       "      <th></th>\n",
       "      <th>sb_oil_spot_price</th>\n",
       "      <th>sb_oil_spot_volume</th>\n",
       "    </tr>\n",
       "    <tr>\n",
       "      <th>Date</th>\n",
       "      <th></th>\n",
       "      <th></th>\n",
       "    </tr>\n",
       "  </thead>\n",
       "  <tbody>\n",
       "    <tr>\n",
       "      <th>2010-01-04</th>\n",
       "      <td>910.29</td>\n",
       "      <td>51055.0</td>\n",
       "    </tr>\n",
       "    <tr>\n",
       "      <th>2010-01-05</th>\n",
       "      <td>906.10</td>\n",
       "      <td>26802.0</td>\n",
       "    </tr>\n",
       "    <tr>\n",
       "      <th>2010-01-06</th>\n",
       "      <td>905.44</td>\n",
       "      <td>35365.0</td>\n",
       "    </tr>\n",
       "    <tr>\n",
       "      <th>2010-01-07</th>\n",
       "      <td>889.79</td>\n",
       "      <td>147.0</td>\n",
       "    </tr>\n",
       "    <tr>\n",
       "      <th>2010-01-08</th>\n",
       "      <td>879.87</td>\n",
       "      <td>35634.0</td>\n",
       "    </tr>\n",
       "    <tr>\n",
       "      <th>...</th>\n",
       "      <td>...</td>\n",
       "      <td>...</td>\n",
       "    </tr>\n",
       "    <tr>\n",
       "      <th>2022-03-23</th>\n",
       "      <td>1674.85</td>\n",
       "      <td>31251.0</td>\n",
       "    </tr>\n",
       "    <tr>\n",
       "      <th>2022-03-24</th>\n",
       "      <td>1637.81</td>\n",
       "      <td>35571.0</td>\n",
       "    </tr>\n",
       "    <tr>\n",
       "      <th>2022-03-25</th>\n",
       "      <td>1647.96</td>\n",
       "      <td>31999.0</td>\n",
       "    </tr>\n",
       "    <tr>\n",
       "      <th>2022-03-28</th>\n",
       "      <td>1597.25</td>\n",
       "      <td>32982.0</td>\n",
       "    </tr>\n",
       "    <tr>\n",
       "      <th>2022-03-29</th>\n",
       "      <td>1579.83</td>\n",
       "      <td>39382.0</td>\n",
       "    </tr>\n",
       "  </tbody>\n",
       "</table>\n",
       "<p>3043 rows × 2 columns</p>\n",
       "</div>"
      ],
      "text/plain": [
       "            sb_oil_spot_price  sb_oil_spot_volume\n",
       "Date                                             \n",
       "2010-01-04             910.29             51055.0\n",
       "2010-01-05             906.10             26802.0\n",
       "2010-01-06             905.44             35365.0\n",
       "2010-01-07             889.79               147.0\n",
       "2010-01-08             879.87             35634.0\n",
       "...                       ...                 ...\n",
       "2022-03-23            1674.85             31251.0\n",
       "2022-03-24            1637.81             35571.0\n",
       "2022-03-25            1647.96             31999.0\n",
       "2022-03-28            1597.25             32982.0\n",
       "2022-03-29            1579.83             39382.0\n",
       "\n",
       "[3043 rows x 2 columns]"
      ]
     },
     "execution_count": 13,
     "metadata": {},
     "output_type": "execute_result"
    }
   ],
   "source": [
    "df_vol = df_soja[['sb_oil_spot_price', 'sb_oil_spot_volume']]\n",
    "df_vol\n",
    "df_vol"
   ]
  }
 ],
 "metadata": {
  "kernelspec": {
   "display_name": "env-win-tese",
   "language": "python",
   "name": "env-win-tese"
  },
  "language_info": {
   "codemirror_mode": {
    "name": "ipython",
    "version": 3
   },
   "file_extension": ".py",
   "mimetype": "text/x-python",
   "name": "python",
   "nbconvert_exporter": "python",
   "pygments_lexer": "ipython3",
   "version": "3.10.0"
  },
  "toc": {
   "base_numbering": 1,
   "nav_menu": {},
   "number_sections": true,
   "sideBar": true,
   "skip_h1_title": false,
   "title_cell": "Table of Contents",
   "title_sidebar": "Contents",
   "toc_cell": false,
   "toc_position": {},
   "toc_section_display": true,
   "toc_window_display": false
  }
 },
 "nbformat": 4,
 "nbformat_minor": 5
}
