{
 "cells": [
  {
   "cell_type": "markdown",
   "metadata": {},
   "source": [
    "Basedo no ViralML e um pouco do estudo do Pardini\n",
    "\n",
    "Usa um dataset de preços desde 2010 (pix2)\n",
    "\n",
    "Aqui foi utilizado a biblioteca **\\_markov_setup.py**"
   ]
  },
  {
   "cell_type": "code",
   "execution_count": 1,
   "metadata": {},
   "outputs": [],
   "source": [
    "import pandas as pd\n",
    "import numpy as np"
   ]
  },
  {
   "cell_type": "code",
   "execution_count": 2,
   "metadata": {},
   "outputs": [],
   "source": [
    "import logging\n",
    "log = logging.getLogger(__name__)\n",
    "# logging.basicConfig(level=logging.DEBUG) "
   ]
  },
  {
   "cell_type": "code",
   "execution_count": 8,
   "metadata": {},
   "outputs": [
    {
     "name": "stdout",
     "output_type": "stream",
     "text": [
      "E:\\Projetos\\ITA_Tese\n"
     ]
    }
   ],
   "source": [
    "import importlib, sys, os\n",
    "from pathlib import Path\n",
    "sys.path.append( str( Path(os.path.abspath('')).parents[0] ) )"
   ]
  },
  {
   "cell_type": "code",
   "execution_count": 9,
   "metadata": {},
   "outputs": [],
   "source": [
    "# \n",
    "import markov._markov_setup as _markov_setup\n",
    "from support_library.jupyter_plus import *\n",
    "\n",
    "_ = importlib.reload(sys.modules['markov._markov_setup'])"
   ]
  },
  {
   "cell_type": "markdown",
   "metadata": {},
   "source": [
    "# Setup"
   ]
  },
  {
   "cell_type": "code",
   "execution_count": 16,
   "metadata": {},
   "outputs": [],
   "source": [
    "RANDOM_SIZE = 1000000\n",
    "RANDOM_SIZE = 10030\n",
    "\n",
    "QTD_BINS = 3\n",
    "\n",
    "\n",
    "TEST_SIZE = 0.05"
   ]
  },
  {
   "cell_type": "markdown",
   "metadata": {},
   "source": [
    "# DataCollect"
   ]
  },
  {
   "cell_type": "code",
   "execution_count": 17,
   "metadata": {},
   "outputs": [
    {
     "data": {
      "text/html": [
       "<div>\n",
       "<style scoped>\n",
       "    .dataframe tbody tr th:only-of-type {\n",
       "        vertical-align: middle;\n",
       "    }\n",
       "\n",
       "    .dataframe tbody tr th {\n",
       "        vertical-align: top;\n",
       "    }\n",
       "\n",
       "    .dataframe thead th {\n",
       "        text-align: right;\n",
       "    }\n",
       "</style>\n",
       "<table border=\"1\" class=\"dataframe\">\n",
       "  <thead>\n",
       "    <tr style=\"text-align: right;\">\n",
       "      <th></th>\n",
       "      <th>date</th>\n",
       "      <th>bhkp_price</th>\n",
       "      <th>year</th>\n",
       "      <th>week</th>\n",
       "      <th>bhkp_delta</th>\n",
       "      <th>bhkp_delta_outcome</th>\n",
       "      <th>bhkp_variation</th>\n",
       "      <th>Outcome</th>\n",
       "    </tr>\n",
       "  </thead>\n",
       "  <tbody>\n",
       "    <tr>\n",
       "      <th>0</th>\n",
       "      <td>2010-01-05</td>\n",
       "      <td>662.09</td>\n",
       "      <td>2010</td>\n",
       "      <td>1</td>\n",
       "      <td>NaN</td>\n",
       "      <td>21.66</td>\n",
       "      <td>NaN</td>\n",
       "      <td>21.66</td>\n",
       "    </tr>\n",
       "    <tr>\n",
       "      <th>1</th>\n",
       "      <td>2010-01-12</td>\n",
       "      <td>683.75</td>\n",
       "      <td>2010</td>\n",
       "      <td>2</td>\n",
       "      <td>21.66</td>\n",
       "      <td>2.10</td>\n",
       "      <td>0.032715</td>\n",
       "      <td>2.10</td>\n",
       "    </tr>\n",
       "    <tr>\n",
       "      <th>2</th>\n",
       "      <td>2010-01-19</td>\n",
       "      <td>685.85</td>\n",
       "      <td>2010</td>\n",
       "      <td>3</td>\n",
       "      <td>2.10</td>\n",
       "      <td>5.29</td>\n",
       "      <td>0.003071</td>\n",
       "      <td>5.29</td>\n",
       "    </tr>\n",
       "    <tr>\n",
       "      <th>3</th>\n",
       "      <td>2010-01-26</td>\n",
       "      <td>691.14</td>\n",
       "      <td>2010</td>\n",
       "      <td>4</td>\n",
       "      <td>5.29</td>\n",
       "      <td>3.79</td>\n",
       "      <td>0.007713</td>\n",
       "      <td>3.79</td>\n",
       "    </tr>\n",
       "    <tr>\n",
       "      <th>4</th>\n",
       "      <td>2010-02-02</td>\n",
       "      <td>694.93</td>\n",
       "      <td>2010</td>\n",
       "      <td>5</td>\n",
       "      <td>3.79</td>\n",
       "      <td>23.50</td>\n",
       "      <td>0.005484</td>\n",
       "      <td>23.50</td>\n",
       "    </tr>\n",
       "    <tr>\n",
       "      <th>...</th>\n",
       "      <td>...</td>\n",
       "      <td>...</td>\n",
       "      <td>...</td>\n",
       "      <td>...</td>\n",
       "      <td>...</td>\n",
       "      <td>...</td>\n",
       "      <td>...</td>\n",
       "      <td>...</td>\n",
       "    </tr>\n",
       "    <tr>\n",
       "      <th>623</th>\n",
       "      <td>2021-12-31</td>\n",
       "      <td>576.42</td>\n",
       "      <td>2021</td>\n",
       "      <td>52</td>\n",
       "      <td>5.69</td>\n",
       "      <td>11.76</td>\n",
       "      <td>0.009970</td>\n",
       "      <td>11.76</td>\n",
       "    </tr>\n",
       "    <tr>\n",
       "      <th>624</th>\n",
       "      <td>2022-01-07</td>\n",
       "      <td>588.18</td>\n",
       "      <td>2022</td>\n",
       "      <td>1</td>\n",
       "      <td>11.76</td>\n",
       "      <td>5.11</td>\n",
       "      <td>0.020402</td>\n",
       "      <td>5.11</td>\n",
       "    </tr>\n",
       "    <tr>\n",
       "      <th>625</th>\n",
       "      <td>2022-01-14</td>\n",
       "      <td>593.29</td>\n",
       "      <td>2022</td>\n",
       "      <td>2</td>\n",
       "      <td>5.11</td>\n",
       "      <td>7.15</td>\n",
       "      <td>0.008688</td>\n",
       "      <td>7.15</td>\n",
       "    </tr>\n",
       "    <tr>\n",
       "      <th>626</th>\n",
       "      <td>2022-01-21</td>\n",
       "      <td>600.44</td>\n",
       "      <td>2022</td>\n",
       "      <td>3</td>\n",
       "      <td>7.15</td>\n",
       "      <td>2.38</td>\n",
       "      <td>0.012051</td>\n",
       "      <td>2.38</td>\n",
       "    </tr>\n",
       "    <tr>\n",
       "      <th>627</th>\n",
       "      <td>2022-01-28</td>\n",
       "      <td>602.82</td>\n",
       "      <td>2022</td>\n",
       "      <td>4</td>\n",
       "      <td>2.38</td>\n",
       "      <td>NaN</td>\n",
       "      <td>0.003964</td>\n",
       "      <td>NaN</td>\n",
       "    </tr>\n",
       "  </tbody>\n",
       "</table>\n",
       "<p>628 rows × 8 columns</p>\n",
       "</div>"
      ],
      "text/plain": [
       "          date  bhkp_price  year  week  bhkp_delta  bhkp_delta_outcome  \\\n",
       "0   2010-01-05      662.09  2010     1         NaN               21.66   \n",
       "1   2010-01-12      683.75  2010     2       21.66                2.10   \n",
       "2   2010-01-19      685.85  2010     3        2.10                5.29   \n",
       "3   2010-01-26      691.14  2010     4        5.29                3.79   \n",
       "4   2010-02-02      694.93  2010     5        3.79               23.50   \n",
       "..         ...         ...   ...   ...         ...                 ...   \n",
       "623 2021-12-31      576.42  2021    52        5.69               11.76   \n",
       "624 2022-01-07      588.18  2022     1       11.76                5.11   \n",
       "625 2022-01-14      593.29  2022     2        5.11                7.15   \n",
       "626 2022-01-21      600.44  2022     3        7.15                2.38   \n",
       "627 2022-01-28      602.82  2022     4        2.38                 NaN   \n",
       "\n",
       "     bhkp_variation  Outcome  \n",
       "0               NaN    21.66  \n",
       "1          0.032715     2.10  \n",
       "2          0.003071     5.29  \n",
       "3          0.007713     3.79  \n",
       "4          0.005484    23.50  \n",
       "..              ...      ...  \n",
       "623        0.009970    11.76  \n",
       "624        0.020402     5.11  \n",
       "625        0.008688     7.15  \n",
       "626        0.012051     2.38  \n",
       "627        0.003964      NaN  \n",
       "\n",
       "[628 rows x 8 columns]"
      ]
     },
     "execution_count": 17,
     "metadata": {},
     "output_type": "execute_result"
    }
   ],
   "source": [
    "df_master = pd.read_csv(\"pix2.csv\")\n",
    "df = df_master.rename(columns = {'PIX_CHINA_BHKP_NET_USDT':'bhkp_price', \n",
    "                          'PIX_CHINA_NBSK_NET_USDT':'nbkp_price', \n",
    "                           'CHINA_BHKP_PIX_PRICE':'bhkp_price',\n",
    "                          \"DATE\":'date'})\n",
    "\n",
    "df['date'] = pd.to_datetime(df['date'], infer_datetime_format = True)\n",
    "df['year'] = df['date'].dt.year\n",
    "df['week'] = df['date'].dt.isocalendar().week\n",
    "\n",
    "\n",
    "df['bhkp_delta'] = df['bhkp_price'].diff()\n",
    "df['bhkp_delta_outcome'] = df['bhkp_price'].diff(-1) * -1\n",
    "df['bhkp_variation'] = df['bhkp_price'].pct_change()\n",
    "\n",
    "df['Outcome'] = (df['bhkp_price'].shift(-1) - df['bhkp_price'])\n",
    "df"
   ]
  },
  {
   "cell_type": "code",
   "execution_count": 18,
   "metadata": {},
   "outputs": [
    {
     "name": "stdout",
     "output_type": "stream",
     "text": [
      "(628, 8)\n",
      "date                  datetime64[ns]\n",
      "bhkp_price                   float64\n",
      "year                           int64\n",
      "week                          UInt32\n",
      "bhkp_delta                   float64\n",
      "bhkp_delta_outcome           float64\n",
      "bhkp_variation               float64\n",
      "Outcome                      float64\n",
      "dtype: object\n"
     ]
    },
    {
     "data": {
      "text/html": [
       "<div>\n",
       "<style scoped>\n",
       "    .dataframe tbody tr th:only-of-type {\n",
       "        vertical-align: middle;\n",
       "    }\n",
       "\n",
       "    .dataframe tbody tr th {\n",
       "        vertical-align: top;\n",
       "    }\n",
       "\n",
       "    .dataframe thead th {\n",
       "        text-align: right;\n",
       "    }\n",
       "</style>\n",
       "<table border=\"1\" class=\"dataframe\">\n",
       "  <thead>\n",
       "    <tr style=\"text-align: right;\">\n",
       "      <th></th>\n",
       "      <th>date</th>\n",
       "      <th>bhkp_price</th>\n",
       "      <th>year</th>\n",
       "      <th>week</th>\n",
       "      <th>bhkp_delta</th>\n",
       "      <th>bhkp_delta_outcome</th>\n",
       "      <th>bhkp_variation</th>\n",
       "      <th>Outcome</th>\n",
       "    </tr>\n",
       "  </thead>\n",
       "  <tbody>\n",
       "    <tr>\n",
       "      <th>0</th>\n",
       "      <td>2010-01-05</td>\n",
       "      <td>662.09</td>\n",
       "      <td>2010</td>\n",
       "      <td>1</td>\n",
       "      <td>NaN</td>\n",
       "      <td>21.66</td>\n",
       "      <td>NaN</td>\n",
       "      <td>21.66</td>\n",
       "    </tr>\n",
       "    <tr>\n",
       "      <th>1</th>\n",
       "      <td>2010-01-12</td>\n",
       "      <td>683.75</td>\n",
       "      <td>2010</td>\n",
       "      <td>2</td>\n",
       "      <td>21.66</td>\n",
       "      <td>2.10</td>\n",
       "      <td>0.032715</td>\n",
       "      <td>2.10</td>\n",
       "    </tr>\n",
       "    <tr>\n",
       "      <th>2</th>\n",
       "      <td>2010-01-19</td>\n",
       "      <td>685.85</td>\n",
       "      <td>2010</td>\n",
       "      <td>3</td>\n",
       "      <td>2.10</td>\n",
       "      <td>5.29</td>\n",
       "      <td>0.003071</td>\n",
       "      <td>5.29</td>\n",
       "    </tr>\n",
       "    <tr>\n",
       "      <th>3</th>\n",
       "      <td>2010-01-26</td>\n",
       "      <td>691.14</td>\n",
       "      <td>2010</td>\n",
       "      <td>4</td>\n",
       "      <td>5.29</td>\n",
       "      <td>3.79</td>\n",
       "      <td>0.007713</td>\n",
       "      <td>3.79</td>\n",
       "    </tr>\n",
       "    <tr>\n",
       "      <th>4</th>\n",
       "      <td>2010-02-02</td>\n",
       "      <td>694.93</td>\n",
       "      <td>2010</td>\n",
       "      <td>5</td>\n",
       "      <td>3.79</td>\n",
       "      <td>23.50</td>\n",
       "      <td>0.005484</td>\n",
       "      <td>23.50</td>\n",
       "    </tr>\n",
       "  </tbody>\n",
       "</table>\n",
       "</div>"
      ],
      "text/plain": [
       "        date  bhkp_price  year  week  bhkp_delta  bhkp_delta_outcome  \\\n",
       "0 2010-01-05      662.09  2010     1         NaN               21.66   \n",
       "1 2010-01-12      683.75  2010     2       21.66                2.10   \n",
       "2 2010-01-19      685.85  2010     3        2.10                5.29   \n",
       "3 2010-01-26      691.14  2010     4        5.29                3.79   \n",
       "4 2010-02-02      694.93  2010     5        3.79               23.50   \n",
       "\n",
       "   bhkp_variation  Outcome  \n",
       "0             NaN    21.66  \n",
       "1        0.032715     2.10  \n",
       "2        0.003071     5.29  \n",
       "3        0.007713     3.79  \n",
       "4        0.005484    23.50  "
      ]
     },
     "execution_count": 18,
     "metadata": {},
     "output_type": "execute_result"
    }
   ],
   "source": [
    "print(df.shape)\n",
    "print(df.dtypes)\n",
    "df.head()"
   ]
  },
  {
   "cell_type": "code",
   "execution_count": 19,
   "metadata": {},
   "outputs": [
    {
     "data": {
      "text/html": [
       "<div>\n",
       "<style scoped>\n",
       "    .dataframe tbody tr th:only-of-type {\n",
       "        vertical-align: middle;\n",
       "    }\n",
       "\n",
       "    .dataframe tbody tr th {\n",
       "        vertical-align: top;\n",
       "    }\n",
       "\n",
       "    .dataframe thead th {\n",
       "        text-align: right;\n",
       "    }\n",
       "</style>\n",
       "<table border=\"1\" class=\"dataframe\">\n",
       "  <thead>\n",
       "    <tr style=\"text-align: right;\">\n",
       "      <th></th>\n",
       "      <th>bhkp_price</th>\n",
       "      <th>year</th>\n",
       "      <th>week</th>\n",
       "      <th>bhkp_delta</th>\n",
       "      <th>bhkp_delta_outcome</th>\n",
       "      <th>bhkp_variation</th>\n",
       "      <th>Outcome</th>\n",
       "    </tr>\n",
       "  </thead>\n",
       "  <tbody>\n",
       "    <tr>\n",
       "      <th>count</th>\n",
       "      <td>628.000000</td>\n",
       "      <td>628.000000</td>\n",
       "      <td>628.000000</td>\n",
       "      <td>627.000000</td>\n",
       "      <td>627.000000</td>\n",
       "      <td>627.000000</td>\n",
       "      <td>627.000000</td>\n",
       "    </tr>\n",
       "    <tr>\n",
       "      <th>mean</th>\n",
       "      <td>636.316481</td>\n",
       "      <td>2015.544586</td>\n",
       "      <td>26.353503</td>\n",
       "      <td>-0.094530</td>\n",
       "      <td>-0.094530</td>\n",
       "      <td>-0.000056</td>\n",
       "      <td>-0.094530</td>\n",
       "    </tr>\n",
       "    <tr>\n",
       "      <th>std</th>\n",
       "      <td>101.204946</td>\n",
       "      <td>3.488818</td>\n",
       "      <td>15.109886</td>\n",
       "      <td>8.696082</td>\n",
       "      <td>8.696082</td>\n",
       "      <td>0.013797</td>\n",
       "      <td>8.696082</td>\n",
       "    </tr>\n",
       "    <tr>\n",
       "      <th>min</th>\n",
       "      <td>441.260000</td>\n",
       "      <td>2010.000000</td>\n",
       "      <td>1.000000</td>\n",
       "      <td>-58.140000</td>\n",
       "      <td>-58.140000</td>\n",
       "      <td>-0.078251</td>\n",
       "      <td>-58.140000</td>\n",
       "    </tr>\n",
       "    <tr>\n",
       "      <th>25%</th>\n",
       "      <td>574.947500</td>\n",
       "      <td>2013.000000</td>\n",
       "      <td>13.000000</td>\n",
       "      <td>-2.420000</td>\n",
       "      <td>-2.420000</td>\n",
       "      <td>-0.003861</td>\n",
       "      <td>-2.420000</td>\n",
       "    </tr>\n",
       "    <tr>\n",
       "      <th>50%</th>\n",
       "      <td>645.270000</td>\n",
       "      <td>2016.000000</td>\n",
       "      <td>26.000000</td>\n",
       "      <td>0.000000</td>\n",
       "      <td>0.000000</td>\n",
       "      <td>0.000000</td>\n",
       "      <td>0.000000</td>\n",
       "    </tr>\n",
       "    <tr>\n",
       "      <th>75%</th>\n",
       "      <td>703.867500</td>\n",
       "      <td>2019.000000</td>\n",
       "      <td>39.000000</td>\n",
       "      <td>2.500000</td>\n",
       "      <td>2.500000</td>\n",
       "      <td>0.003951</td>\n",
       "      <td>2.500000</td>\n",
       "    </tr>\n",
       "    <tr>\n",
       "      <th>max</th>\n",
       "      <td>846.880000</td>\n",
       "      <td>2022.000000</td>\n",
       "      <td>53.000000</td>\n",
       "      <td>97.260000</td>\n",
       "      <td>97.260000</td>\n",
       "      <td>0.157578</td>\n",
       "      <td>97.260000</td>\n",
       "    </tr>\n",
       "  </tbody>\n",
       "</table>\n",
       "</div>"
      ],
      "text/plain": [
       "       bhkp_price         year        week  bhkp_delta  bhkp_delta_outcome  \\\n",
       "count  628.000000   628.000000  628.000000  627.000000          627.000000   \n",
       "mean   636.316481  2015.544586   26.353503   -0.094530           -0.094530   \n",
       "std    101.204946     3.488818   15.109886    8.696082            8.696082   \n",
       "min    441.260000  2010.000000    1.000000  -58.140000          -58.140000   \n",
       "25%    574.947500  2013.000000   13.000000   -2.420000           -2.420000   \n",
       "50%    645.270000  2016.000000   26.000000    0.000000            0.000000   \n",
       "75%    703.867500  2019.000000   39.000000    2.500000            2.500000   \n",
       "max    846.880000  2022.000000   53.000000   97.260000           97.260000   \n",
       "\n",
       "       bhkp_variation     Outcome  \n",
       "count      627.000000  627.000000  \n",
       "mean        -0.000056   -0.094530  \n",
       "std          0.013797    8.696082  \n",
       "min         -0.078251  -58.140000  \n",
       "25%         -0.003861   -2.420000  \n",
       "50%          0.000000    0.000000  \n",
       "75%          0.003951    2.500000  \n",
       "max          0.157578   97.260000  "
      ]
     },
     "execution_count": 19,
     "metadata": {},
     "output_type": "execute_result"
    }
   ],
   "source": [
    "df.describe()"
   ]
  },
  {
   "cell_type": "markdown",
   "metadata": {},
   "source": [
    "# Markov"
   ]
  },
  {
   "cell_type": "markdown",
   "metadata": {},
   "source": [
    "## Random Sets\n",
    "- **Outcome_Next_Day_Direction**: Resultado Direção do dia seguinte"
   ]
  },
  {
   "cell_type": "code",
   "execution_count": 20,
   "metadata": {},
   "outputs": [],
   "source": [
    "# from markov._markov_setup import *\n",
    "import markov._markov_setup as _markov_setup\n",
    "_ = importlib.reload(sys.modules['markov._markov_setup'])"
   ]
  },
  {
   "cell_type": "code",
   "execution_count": 21,
   "metadata": {},
   "outputs": [
    {
     "name": "stderr",
     "output_type": "stream",
     "text": [
      "get_random_sets:   0%|▏                                                 | 34/10030 [00:00<00:29, 333.33it/s]"
     ]
    },
    {
     "name": "stdout",
     "output_type": "stream",
     "text": [
      "row_set: 0      | row_quant: 27 | rows:    441-467    | market_subset:  (27, 8)   | Close_Date: 01/02/2019\n"
     ]
    },
    {
     "name": "stderr",
     "output_type": "stream",
     "text": [
      "get_random_sets:  20%|██████████▏                                       | 2055/10030 [00:06<00:26, 296.12it/s]"
     ]
    },
    {
     "name": "stdout",
     "output_type": "stream",
     "text": [
      "row_set: 2006   | row_quant: 20 | rows:     56-75     | market_subset:  (20, 8)   | Close_Date: 06/14/2011\n"
     ]
    },
    {
     "name": "stderr",
     "output_type": "stream",
     "text": [
      "get_random_sets:  40%|████████████████████                              | 4032/10030 [00:12<00:18, 323.94it/s]"
     ]
    },
    {
     "name": "stdout",
     "output_type": "stream",
     "text": [
      "row_set: 4012   | row_quant: 23 | rows:    356-378    | market_subset:  (23, 8)   | Close_Date: 04/18/2017\n"
     ]
    },
    {
     "name": "stderr",
     "output_type": "stream",
     "text": [
      "get_random_sets:  60%|██████████████████████████████▏                   | 6049/10030 [00:19<00:13, 302.96it/s]"
     ]
    },
    {
     "name": "stdout",
     "output_type": "stream",
     "text": [
      "row_set: 6018   | row_quant: 17 | rows:    423-439    | market_subset:  (17, 8)   | Close_Date: 06/19/2018\n"
     ]
    },
    {
     "name": "stderr",
     "output_type": "stream",
     "text": [
      "get_random_sets:  81%|████████████████████████████████████████▎         | 8077/10030 [00:26<00:06, 322.46it/s]"
     ]
    },
    {
     "name": "stdout",
     "output_type": "stream",
     "text": [
      "row_set: 8024   | row_quant: 18 | rows:    562-579    | market_subset:  (18, 8)   | Close_Date: 02/26/2021\n"
     ]
    },
    {
     "name": "stderr",
     "output_type": "stream",
     "text": [
      "get_random_sets: 100%|██████████████████████████████████████████████████| 10030/10030 [00:32<00:00, 312.22it/s]"
     ]
    },
    {
     "name": "stdout",
     "output_type": "stream",
     "text": [
      "CPU times: total: 35 s\n",
      "Wall time: 32.2 s\n"
     ]
    },
    {
     "name": "stderr",
     "output_type": "stream",
     "text": [
      "\n"
     ]
    }
   ],
   "source": [
    "# %time my_set = _markov_setup.get_random_sets(df, 2, \\\n",
    "#                                              columns=['bhkp_price', 'bhkp_delta', 'bhkp_variation', 'nbkp_price', 'nbkp_delta', 'nbkp_variation'], \\\n",
    "#                                              outcomes=['bhkp_price', 'bhkp_delta', 'bhkp_variation'])\n",
    "\n",
    "\n",
    "%time my_set = _markov_setup.get_random_sets(df, RANDOM_SIZE, \\\n",
    "                                             columns=['bhkp_price','nbkp_price'], \\\n",
    "                                             outcomes=['bhkp_price', 'nbkp_price'], \\\n",
    "                                             bypass=[])"
   ]
  },
  {
   "cell_type": "code",
   "execution_count": 24,
   "metadata": {},
   "outputs": [
    {
     "name": "stdout",
     "output_type": "stream",
     "text": [
      "CPU times: total: 875 ms\n",
      "Wall time: 956 ms\n"
     ]
    },
    {
     "data": {
      "text/html": [
       "<div>\n",
       "<style scoped>\n",
       "    .dataframe tbody tr th:only-of-type {\n",
       "        vertical-align: middle;\n",
       "    }\n",
       "\n",
       "    .dataframe tbody tr th {\n",
       "        vertical-align: top;\n",
       "    }\n",
       "\n",
       "    .dataframe thead th {\n",
       "        text-align: right;\n",
       "    }\n",
       "</style>\n",
       "<table border=\"1\" class=\"dataframe\">\n",
       "  <thead>\n",
       "    <tr style=\"text-align: right;\">\n",
       "      <th></th>\n",
       "      <th>Sequence_ID</th>\n",
       "      <th>Close_Date</th>\n",
       "      <th>ref_date</th>\n",
       "      <th>bhkp_price</th>\n",
       "      <th>bhkp_price_variation</th>\n",
       "      <th>bhkp_price_outcome</th>\n",
       "    </tr>\n",
       "  </thead>\n",
       "  <tbody>\n",
       "    <tr>\n",
       "      <th>442</th>\n",
       "      <td>0</td>\n",
       "      <td>2019-01-02</td>\n",
       "      <td>2018-07-10</td>\n",
       "      <td>770.06</td>\n",
       "      <td>0.000793</td>\n",
       "      <td>-0.76</td>\n",
       "    </tr>\n",
       "    <tr>\n",
       "      <th>443</th>\n",
       "      <td>0</td>\n",
       "      <td>2019-01-02</td>\n",
       "      <td>2018-07-17</td>\n",
       "      <td>769.30</td>\n",
       "      <td>-0.000987</td>\n",
       "      <td>0.11</td>\n",
       "    </tr>\n",
       "    <tr>\n",
       "      <th>444</th>\n",
       "      <td>0</td>\n",
       "      <td>2019-01-02</td>\n",
       "      <td>2018-07-24</td>\n",
       "      <td>769.41</td>\n",
       "      <td>0.000143</td>\n",
       "      <td>-0.83</td>\n",
       "    </tr>\n",
       "    <tr>\n",
       "      <th>445</th>\n",
       "      <td>0</td>\n",
       "      <td>2019-01-02</td>\n",
       "      <td>2018-07-31</td>\n",
       "      <td>768.58</td>\n",
       "      <td>-0.001079</td>\n",
       "      <td>0.81</td>\n",
       "    </tr>\n",
       "    <tr>\n",
       "      <th>446</th>\n",
       "      <td>0</td>\n",
       "      <td>2019-01-02</td>\n",
       "      <td>2018-08-07</td>\n",
       "      <td>769.39</td>\n",
       "      <td>0.001054</td>\n",
       "      <td>0.97</td>\n",
       "    </tr>\n",
       "    <tr>\n",
       "      <th>...</th>\n",
       "      <td>...</td>\n",
       "      <td>...</td>\n",
       "      <td>...</td>\n",
       "      <td>...</td>\n",
       "      <td>...</td>\n",
       "      <td>...</td>\n",
       "    </tr>\n",
       "    <tr>\n",
       "      <th>51</th>\n",
       "      <td>10029</td>\n",
       "      <td>2011-02-01</td>\n",
       "      <td>2010-12-28</td>\n",
       "      <td>742.71</td>\n",
       "      <td>-0.003382</td>\n",
       "      <td>0.15</td>\n",
       "    </tr>\n",
       "    <tr>\n",
       "      <th>52</th>\n",
       "      <td>10029</td>\n",
       "      <td>2011-02-01</td>\n",
       "      <td>2011-01-04</td>\n",
       "      <td>742.86</td>\n",
       "      <td>0.000202</td>\n",
       "      <td>0.80</td>\n",
       "    </tr>\n",
       "    <tr>\n",
       "      <th>53</th>\n",
       "      <td>10029</td>\n",
       "      <td>2011-02-01</td>\n",
       "      <td>2011-01-11</td>\n",
       "      <td>743.66</td>\n",
       "      <td>0.001077</td>\n",
       "      <td>0.15</td>\n",
       "    </tr>\n",
       "    <tr>\n",
       "      <th>54</th>\n",
       "      <td>10029</td>\n",
       "      <td>2011-02-01</td>\n",
       "      <td>2011-01-18</td>\n",
       "      <td>743.81</td>\n",
       "      <td>0.000202</td>\n",
       "      <td>-0.41</td>\n",
       "    </tr>\n",
       "    <tr>\n",
       "      <th>55</th>\n",
       "      <td>10029</td>\n",
       "      <td>2011-02-01</td>\n",
       "      <td>2011-01-25</td>\n",
       "      <td>743.40</td>\n",
       "      <td>-0.000551</td>\n",
       "      <td>-0.36</td>\n",
       "    </tr>\n",
       "  </tbody>\n",
       "</table>\n",
       "<p>181101 rows × 6 columns</p>\n",
       "</div>"
      ],
      "text/plain": [
       "     Sequence_ID Close_Date   ref_date  bhkp_price  bhkp_price_variation  \\\n",
       "442            0 2019-01-02 2018-07-10      770.06              0.000793   \n",
       "443            0 2019-01-02 2018-07-17      769.30             -0.000987   \n",
       "444            0 2019-01-02 2018-07-24      769.41              0.000143   \n",
       "445            0 2019-01-02 2018-07-31      768.58             -0.001079   \n",
       "446            0 2019-01-02 2018-08-07      769.39              0.001054   \n",
       "..           ...        ...        ...         ...                   ...   \n",
       "51         10029 2011-02-01 2010-12-28      742.71             -0.003382   \n",
       "52         10029 2011-02-01 2011-01-04      742.86              0.000202   \n",
       "53         10029 2011-02-01 2011-01-11      743.66              0.001077   \n",
       "54         10029 2011-02-01 2011-01-18      743.81              0.000202   \n",
       "55         10029 2011-02-01 2011-01-25      743.40             -0.000551   \n",
       "\n",
       "     bhkp_price_outcome  \n",
       "442               -0.76  \n",
       "443                0.11  \n",
       "444               -0.83  \n",
       "445                0.81  \n",
       "446                0.97  \n",
       "..                  ...  \n",
       "51                 0.15  \n",
       "52                 0.80  \n",
       "53                 0.15  \n",
       "54                -0.41  \n",
       "55                -0.36  \n",
       "\n",
       "[181101 rows x 6 columns]"
      ]
     },
     "execution_count": 24,
     "metadata": {},
     "output_type": "execute_result"
    }
   ],
   "source": [
    "%time df1 = _markov_setup.convet_collection_to_dataframe(my_set)\n",
    "df1"
   ]
  },
  {
   "cell_type": "code",
   "execution_count": 25,
   "metadata": {},
   "outputs": [],
   "source": [
    "file_name = f'step_001_pix2_{RANDOM_SIZE}'\n",
    "_markov_setup.export_dataframe(df1, file_name)"
   ]
  },
  {
   "cell_type": "code",
   "execution_count": 26,
   "metadata": {},
   "outputs": [
    {
     "data": {
      "text/html": [
       "<div>\n",
       "<style scoped>\n",
       "    .dataframe tbody tr th:only-of-type {\n",
       "        vertical-align: middle;\n",
       "    }\n",
       "\n",
       "    .dataframe tbody tr th {\n",
       "        vertical-align: top;\n",
       "    }\n",
       "\n",
       "    .dataframe thead th {\n",
       "        text-align: right;\n",
       "    }\n",
       "</style>\n",
       "<table border=\"1\" class=\"dataframe\">\n",
       "  <thead>\n",
       "    <tr style=\"text-align: right;\">\n",
       "      <th></th>\n",
       "      <th>Sequence_ID</th>\n",
       "      <th>Close_Date</th>\n",
       "      <th>ref_date</th>\n",
       "      <th>bhkp_price</th>\n",
       "      <th>bhkp_price_variation</th>\n",
       "      <th>bhkp_price_outcome</th>\n",
       "    </tr>\n",
       "  </thead>\n",
       "  <tbody>\n",
       "    <tr>\n",
       "      <th>442</th>\n",
       "      <td>0</td>\n",
       "      <td>2019-01-02</td>\n",
       "      <td>2018-07-10</td>\n",
       "      <td>770.06</td>\n",
       "      <td>0.000793</td>\n",
       "      <td>-0.76</td>\n",
       "    </tr>\n",
       "    <tr>\n",
       "      <th>443</th>\n",
       "      <td>0</td>\n",
       "      <td>2019-01-02</td>\n",
       "      <td>2018-07-17</td>\n",
       "      <td>769.30</td>\n",
       "      <td>-0.000987</td>\n",
       "      <td>0.11</td>\n",
       "    </tr>\n",
       "    <tr>\n",
       "      <th>444</th>\n",
       "      <td>0</td>\n",
       "      <td>2019-01-02</td>\n",
       "      <td>2018-07-24</td>\n",
       "      <td>769.41</td>\n",
       "      <td>0.000143</td>\n",
       "      <td>-0.83</td>\n",
       "    </tr>\n",
       "    <tr>\n",
       "      <th>445</th>\n",
       "      <td>0</td>\n",
       "      <td>2019-01-02</td>\n",
       "      <td>2018-07-31</td>\n",
       "      <td>768.58</td>\n",
       "      <td>-0.001079</td>\n",
       "      <td>0.81</td>\n",
       "    </tr>\n",
       "    <tr>\n",
       "      <th>446</th>\n",
       "      <td>0</td>\n",
       "      <td>2019-01-02</td>\n",
       "      <td>2018-08-07</td>\n",
       "      <td>769.39</td>\n",
       "      <td>0.001054</td>\n",
       "      <td>0.97</td>\n",
       "    </tr>\n",
       "    <tr>\n",
       "      <th>...</th>\n",
       "      <td>...</td>\n",
       "      <td>...</td>\n",
       "      <td>...</td>\n",
       "      <td>...</td>\n",
       "      <td>...</td>\n",
       "      <td>...</td>\n",
       "    </tr>\n",
       "    <tr>\n",
       "      <th>51</th>\n",
       "      <td>10029</td>\n",
       "      <td>2011-02-01</td>\n",
       "      <td>2010-12-28</td>\n",
       "      <td>742.71</td>\n",
       "      <td>-0.003382</td>\n",
       "      <td>0.15</td>\n",
       "    </tr>\n",
       "    <tr>\n",
       "      <th>52</th>\n",
       "      <td>10029</td>\n",
       "      <td>2011-02-01</td>\n",
       "      <td>2011-01-04</td>\n",
       "      <td>742.86</td>\n",
       "      <td>0.000202</td>\n",
       "      <td>0.80</td>\n",
       "    </tr>\n",
       "    <tr>\n",
       "      <th>53</th>\n",
       "      <td>10029</td>\n",
       "      <td>2011-02-01</td>\n",
       "      <td>2011-01-11</td>\n",
       "      <td>743.66</td>\n",
       "      <td>0.001077</td>\n",
       "      <td>0.15</td>\n",
       "    </tr>\n",
       "    <tr>\n",
       "      <th>54</th>\n",
       "      <td>10029</td>\n",
       "      <td>2011-02-01</td>\n",
       "      <td>2011-01-18</td>\n",
       "      <td>743.81</td>\n",
       "      <td>0.000202</td>\n",
       "      <td>-0.41</td>\n",
       "    </tr>\n",
       "    <tr>\n",
       "      <th>55</th>\n",
       "      <td>10029</td>\n",
       "      <td>2011-02-01</td>\n",
       "      <td>2011-01-25</td>\n",
       "      <td>743.40</td>\n",
       "      <td>-0.000551</td>\n",
       "      <td>-0.36</td>\n",
       "    </tr>\n",
       "  </tbody>\n",
       "</table>\n",
       "<p>181101 rows × 6 columns</p>\n",
       "</div>"
      ],
      "text/plain": [
       "     Sequence_ID Close_Date   ref_date  bhkp_price  bhkp_price_variation  \\\n",
       "442            0 2019-01-02 2018-07-10      770.06              0.000793   \n",
       "443            0 2019-01-02 2018-07-17      769.30             -0.000987   \n",
       "444            0 2019-01-02 2018-07-24      769.41              0.000143   \n",
       "445            0 2019-01-02 2018-07-31      768.58             -0.001079   \n",
       "446            0 2019-01-02 2018-08-07      769.39              0.001054   \n",
       "..           ...        ...        ...         ...                   ...   \n",
       "51         10029 2011-02-01 2010-12-28      742.71             -0.003382   \n",
       "52         10029 2011-02-01 2011-01-04      742.86              0.000202   \n",
       "53         10029 2011-02-01 2011-01-11      743.66              0.001077   \n",
       "54         10029 2011-02-01 2011-01-18      743.81              0.000202   \n",
       "55         10029 2011-02-01 2011-01-25      743.40             -0.000551   \n",
       "\n",
       "     bhkp_price_outcome  \n",
       "442               -0.76  \n",
       "443                0.11  \n",
       "444               -0.83  \n",
       "445                0.81  \n",
       "446                0.97  \n",
       "..                  ...  \n",
       "51                 0.15  \n",
       "52                 0.80  \n",
       "53                 0.15  \n",
       "54                -0.41  \n",
       "55                -0.36  \n",
       "\n",
       "[181101 rows x 6 columns]"
      ]
     },
     "execution_count": 26,
     "metadata": {},
     "output_type": "execute_result"
    }
   ],
   "source": [
    "df2 = _markov_setup.import_dataframe(file_name)\n",
    "df2"
   ]
  },
  {
   "cell_type": "code",
   "execution_count": 27,
   "metadata": {},
   "outputs": [
    {
     "data": {
      "text/markdown": [
       "<span style='color:red'>me pegunto se é efetivo criar o tal do random sets... quando aplico o groupby quase que volta ao tamanho original... mas vamos ver no que vai dar</span>"
      ],
      "text/plain": [
       "<IPython.core.display.Markdown object>"
      ]
     },
     "metadata": {},
     "output_type": "display_data"
    },
    {
     "data": {
      "text/html": [
       "<div>\n",
       "<style scoped>\n",
       "    .dataframe tbody tr th:only-of-type {\n",
       "        vertical-align: middle;\n",
       "    }\n",
       "\n",
       "    .dataframe tbody tr th {\n",
       "        vertical-align: top;\n",
       "    }\n",
       "\n",
       "    .dataframe thead th {\n",
       "        text-align: right;\n",
       "    }\n",
       "</style>\n",
       "<table border=\"1\" class=\"dataframe\">\n",
       "  <thead>\n",
       "    <tr style=\"text-align: right;\">\n",
       "      <th></th>\n",
       "      <th></th>\n",
       "      <th></th>\n",
       "      <th></th>\n",
       "      <th>Sequence_ID</th>\n",
       "      <th>Close_Date</th>\n",
       "    </tr>\n",
       "    <tr>\n",
       "      <th>ref_date</th>\n",
       "      <th>bhkp_price</th>\n",
       "      <th>bhkp_price_variation</th>\n",
       "      <th>bhkp_price_outcome</th>\n",
       "      <th></th>\n",
       "      <th></th>\n",
       "    </tr>\n",
       "  </thead>\n",
       "  <tbody>\n",
       "    <tr>\n",
       "      <th>2010-01-12</th>\n",
       "      <th>683.75</th>\n",
       "      <th>0.032715</th>\n",
       "      <th>2.10</th>\n",
       "      <td>17</td>\n",
       "      <td>17</td>\n",
       "    </tr>\n",
       "    <tr>\n",
       "      <th>2010-01-19</th>\n",
       "      <th>685.85</th>\n",
       "      <th>0.003071</th>\n",
       "      <th>5.29</th>\n",
       "      <td>32</td>\n",
       "      <td>32</td>\n",
       "    </tr>\n",
       "    <tr>\n",
       "      <th>2010-01-26</th>\n",
       "      <th>691.14</th>\n",
       "      <th>0.007713</th>\n",
       "      <th>3.79</th>\n",
       "      <td>46</td>\n",
       "      <td>46</td>\n",
       "    </tr>\n",
       "    <tr>\n",
       "      <th>2010-02-02</th>\n",
       "      <th>694.93</th>\n",
       "      <th>0.005484</th>\n",
       "      <th>23.50</th>\n",
       "      <td>60</td>\n",
       "      <td>60</td>\n",
       "    </tr>\n",
       "    <tr>\n",
       "      <th>2010-02-09</th>\n",
       "      <th>718.43</th>\n",
       "      <th>0.033816</th>\n",
       "      <th>1.57</th>\n",
       "      <td>78</td>\n",
       "      <td>78</td>\n",
       "    </tr>\n",
       "    <tr>\n",
       "      <th>...</th>\n",
       "      <th>...</th>\n",
       "      <th>...</th>\n",
       "      <th>...</th>\n",
       "      <td>...</td>\n",
       "      <td>...</td>\n",
       "    </tr>\n",
       "    <tr>\n",
       "      <th>2021-12-24</th>\n",
       "      <th>570.73</th>\n",
       "      <th>0.006525</th>\n",
       "      <th>5.69</th>\n",
       "      <td>83</td>\n",
       "      <td>83</td>\n",
       "    </tr>\n",
       "    <tr>\n",
       "      <th>2021-12-31</th>\n",
       "      <th>576.42</th>\n",
       "      <th>0.009970</th>\n",
       "      <th>11.76</th>\n",
       "      <td>67</td>\n",
       "      <td>67</td>\n",
       "    </tr>\n",
       "    <tr>\n",
       "      <th>2022-01-07</th>\n",
       "      <th>588.18</th>\n",
       "      <th>0.020402</th>\n",
       "      <th>5.11</th>\n",
       "      <td>54</td>\n",
       "      <td>54</td>\n",
       "    </tr>\n",
       "    <tr>\n",
       "      <th>2022-01-14</th>\n",
       "      <th>593.29</th>\n",
       "      <th>0.008688</th>\n",
       "      <th>7.15</th>\n",
       "      <td>40</td>\n",
       "      <td>40</td>\n",
       "    </tr>\n",
       "    <tr>\n",
       "      <th>2022-01-21</th>\n",
       "      <th>600.44</th>\n",
       "      <th>0.012051</th>\n",
       "      <th>2.38</th>\n",
       "      <td>23</td>\n",
       "      <td>23</td>\n",
       "    </tr>\n",
       "  </tbody>\n",
       "</table>\n",
       "<p>626 rows × 2 columns</p>\n",
       "</div>"
      ],
      "text/plain": [
       "                                                               Sequence_ID  \\\n",
       "ref_date   bhkp_price bhkp_price_variation bhkp_price_outcome                \n",
       "2010-01-12 683.75     0.032715             2.10                         17   \n",
       "2010-01-19 685.85     0.003071             5.29                         32   \n",
       "2010-01-26 691.14     0.007713             3.79                         46   \n",
       "2010-02-02 694.93     0.005484             23.50                        60   \n",
       "2010-02-09 718.43     0.033816             1.57                         78   \n",
       "...                                                                    ...   \n",
       "2021-12-24 570.73     0.006525             5.69                         83   \n",
       "2021-12-31 576.42     0.009970             11.76                        67   \n",
       "2022-01-07 588.18     0.020402             5.11                         54   \n",
       "2022-01-14 593.29     0.008688             7.15                         40   \n",
       "2022-01-21 600.44     0.012051             2.38                         23   \n",
       "\n",
       "                                                               Close_Date  \n",
       "ref_date   bhkp_price bhkp_price_variation bhkp_price_outcome              \n",
       "2010-01-12 683.75     0.032715             2.10                        17  \n",
       "2010-01-19 685.85     0.003071             5.29                        32  \n",
       "2010-01-26 691.14     0.007713             3.79                        46  \n",
       "2010-02-02 694.93     0.005484             23.50                       60  \n",
       "2010-02-09 718.43     0.033816             1.57                        78  \n",
       "...                                                                   ...  \n",
       "2021-12-24 570.73     0.006525             5.69                        83  \n",
       "2021-12-31 576.42     0.009970             11.76                       67  \n",
       "2022-01-07 588.18     0.020402             5.11                        54  \n",
       "2022-01-14 593.29     0.008688             7.15                        40  \n",
       "2022-01-21 600.44     0.012051             2.38                        23  \n",
       "\n",
       "[626 rows x 2 columns]"
      ]
     },
     "execution_count": 27,
     "metadata": {},
     "output_type": "execute_result"
    }
   ],
   "source": [
    "red('me pegunto se é efetivo criar o tal do random sets... quando aplico o groupby quase que volta ao tamanho original... mas vamos ver no que vai dar')\n",
    "\n",
    "df2.groupby(['ref_date','bhkp_price', 'bhkp_price_variation','bhkp_price_outcome']).count()\n",
    "# df2.groupby(['ref_date']).count()"
   ]
  },
  {
   "cell_type": "markdown",
   "metadata": {},
   "source": [
    "## Divisao do dataset em Quantis\n",
    "\n"
   ]
  },
  {
   "cell_type": "code",
   "execution_count": 28,
   "metadata": {},
   "outputs": [],
   "source": [
    "# from markov._markov_setup import *\n",
    "import markov._markov_setup as _markov_setup\n",
    "_ = importlib.reload(sys.modules['markov._markov_setup'])"
   ]
  },
  {
   "cell_type": "code",
   "execution_count": 30,
   "metadata": {},
   "outputs": [
    {
     "data": {
      "text/markdown": [
       "<span style='color:blue'>A quantidade de Quantiles (bins) é 3</span>"
      ],
      "text/plain": [
       "<IPython.core.display.Markdown object>"
      ]
     },
     "metadata": {},
     "output_type": "display_data"
    },
    {
     "data": {
      "text/html": [
       "<div>\n",
       "<style scoped>\n",
       "    .dataframe tbody tr th:only-of-type {\n",
       "        vertical-align: middle;\n",
       "    }\n",
       "\n",
       "    .dataframe tbody tr th {\n",
       "        vertical-align: top;\n",
       "    }\n",
       "\n",
       "    .dataframe thead th {\n",
       "        text-align: right;\n",
       "    }\n",
       "</style>\n",
       "<table border=\"1\" class=\"dataframe\">\n",
       "  <thead>\n",
       "    <tr style=\"text-align: right;\">\n",
       "      <th></th>\n",
       "      <th>Sequence_ID</th>\n",
       "      <th>Close_Date</th>\n",
       "      <th>ref_date</th>\n",
       "      <th>bhkp_price</th>\n",
       "      <th>bhkp_price_variation</th>\n",
       "      <th>bhkp_price_variation_label</th>\n",
       "      <th>bhkp_price_outcome</th>\n",
       "      <th>event_pattern</th>\n",
       "    </tr>\n",
       "  </thead>\n",
       "  <tbody>\n",
       "    <tr>\n",
       "      <th>442</th>\n",
       "      <td>0</td>\n",
       "      <td>2019-01-02</td>\n",
       "      <td>2018-07-10</td>\n",
       "      <td>770.06</td>\n",
       "      <td>0.000793</td>\n",
       "      <td>B</td>\n",
       "      <td>-0.76</td>\n",
       "      <td>B</td>\n",
       "    </tr>\n",
       "    <tr>\n",
       "      <th>443</th>\n",
       "      <td>0</td>\n",
       "      <td>2019-01-02</td>\n",
       "      <td>2018-07-17</td>\n",
       "      <td>769.30</td>\n",
       "      <td>-0.000987</td>\n",
       "      <td>B</td>\n",
       "      <td>0.11</td>\n",
       "      <td>B</td>\n",
       "    </tr>\n",
       "    <tr>\n",
       "      <th>444</th>\n",
       "      <td>0</td>\n",
       "      <td>2019-01-02</td>\n",
       "      <td>2018-07-24</td>\n",
       "      <td>769.41</td>\n",
       "      <td>0.000143</td>\n",
       "      <td>B</td>\n",
       "      <td>-0.83</td>\n",
       "      <td>B</td>\n",
       "    </tr>\n",
       "    <tr>\n",
       "      <th>445</th>\n",
       "      <td>0</td>\n",
       "      <td>2019-01-02</td>\n",
       "      <td>2018-07-31</td>\n",
       "      <td>768.58</td>\n",
       "      <td>-0.001079</td>\n",
       "      <td>B</td>\n",
       "      <td>0.81</td>\n",
       "      <td>B</td>\n",
       "    </tr>\n",
       "    <tr>\n",
       "      <th>446</th>\n",
       "      <td>0</td>\n",
       "      <td>2019-01-02</td>\n",
       "      <td>2018-08-07</td>\n",
       "      <td>769.39</td>\n",
       "      <td>0.001054</td>\n",
       "      <td>B</td>\n",
       "      <td>0.97</td>\n",
       "      <td>B</td>\n",
       "    </tr>\n",
       "    <tr>\n",
       "      <th>...</th>\n",
       "      <td>...</td>\n",
       "      <td>...</td>\n",
       "      <td>...</td>\n",
       "      <td>...</td>\n",
       "      <td>...</td>\n",
       "      <td>...</td>\n",
       "      <td>...</td>\n",
       "      <td>...</td>\n",
       "    </tr>\n",
       "    <tr>\n",
       "      <th>51</th>\n",
       "      <td>10029</td>\n",
       "      <td>2011-02-01</td>\n",
       "      <td>2010-12-28</td>\n",
       "      <td>742.71</td>\n",
       "      <td>-0.003382</td>\n",
       "      <td>A</td>\n",
       "      <td>0.15</td>\n",
       "      <td>A</td>\n",
       "    </tr>\n",
       "    <tr>\n",
       "      <th>52</th>\n",
       "      <td>10029</td>\n",
       "      <td>2011-02-01</td>\n",
       "      <td>2011-01-04</td>\n",
       "      <td>742.86</td>\n",
       "      <td>0.000202</td>\n",
       "      <td>B</td>\n",
       "      <td>0.80</td>\n",
       "      <td>B</td>\n",
       "    </tr>\n",
       "    <tr>\n",
       "      <th>53</th>\n",
       "      <td>10029</td>\n",
       "      <td>2011-02-01</td>\n",
       "      <td>2011-01-11</td>\n",
       "      <td>743.66</td>\n",
       "      <td>0.001077</td>\n",
       "      <td>B</td>\n",
       "      <td>0.15</td>\n",
       "      <td>B</td>\n",
       "    </tr>\n",
       "    <tr>\n",
       "      <th>54</th>\n",
       "      <td>10029</td>\n",
       "      <td>2011-02-01</td>\n",
       "      <td>2011-01-18</td>\n",
       "      <td>743.81</td>\n",
       "      <td>0.000202</td>\n",
       "      <td>B</td>\n",
       "      <td>-0.41</td>\n",
       "      <td>B</td>\n",
       "    </tr>\n",
       "    <tr>\n",
       "      <th>55</th>\n",
       "      <td>10029</td>\n",
       "      <td>2011-02-01</td>\n",
       "      <td>2011-01-25</td>\n",
       "      <td>743.40</td>\n",
       "      <td>-0.000551</td>\n",
       "      <td>B</td>\n",
       "      <td>-0.36</td>\n",
       "      <td>B</td>\n",
       "    </tr>\n",
       "  </tbody>\n",
       "</table>\n",
       "<p>181101 rows × 8 columns</p>\n",
       "</div>"
      ],
      "text/plain": [
       "     Sequence_ID Close_Date   ref_date  bhkp_price  bhkp_price_variation  \\\n",
       "442            0 2019-01-02 2018-07-10      770.06              0.000793   \n",
       "443            0 2019-01-02 2018-07-17      769.30             -0.000987   \n",
       "444            0 2019-01-02 2018-07-24      769.41              0.000143   \n",
       "445            0 2019-01-02 2018-07-31      768.58             -0.001079   \n",
       "446            0 2019-01-02 2018-08-07      769.39              0.001054   \n",
       "..           ...        ...        ...         ...                   ...   \n",
       "51         10029 2011-02-01 2010-12-28      742.71             -0.003382   \n",
       "52         10029 2011-02-01 2011-01-04      742.86              0.000202   \n",
       "53         10029 2011-02-01 2011-01-11      743.66              0.001077   \n",
       "54         10029 2011-02-01 2011-01-18      743.81              0.000202   \n",
       "55         10029 2011-02-01 2011-01-25      743.40             -0.000551   \n",
       "\n",
       "    bhkp_price_variation_label  bhkp_price_outcome event_pattern  \n",
       "442                          B               -0.76             B  \n",
       "443                          B                0.11             B  \n",
       "444                          B               -0.83             B  \n",
       "445                          B                0.81             B  \n",
       "446                          B                0.97             B  \n",
       "..                         ...                 ...           ...  \n",
       "51                           A                0.15             A  \n",
       "52                           B                0.80             B  \n",
       "53                           B                0.15             B  \n",
       "54                           B               -0.41             B  \n",
       "55                           B               -0.36             B  \n",
       "\n",
       "[181101 rows x 8 columns]"
      ]
     },
     "execution_count": 30,
     "metadata": {},
     "output_type": "execute_result"
    }
   ],
   "source": [
    "blue(f\"A quantidade de Quantiles (bins) é {QTD_BINS}\")\n",
    "df3 = _markov_setup.quantiles(df2, QTD_BINS, \\\n",
    "                              columns=['bhkp_price_variation','nbkp_price_variation'], \\\n",
    "                              event_pattern=True)\n",
    "df3"
   ]
  },
  {
   "cell_type": "code",
   "execution_count": 17,
   "metadata": {},
   "outputs": [
    {
     "data": {
      "text/html": [
       "<div>\n",
       "<style scoped>\n",
       "    .dataframe tbody tr th:only-of-type {\n",
       "        vertical-align: middle;\n",
       "    }\n",
       "\n",
       "    .dataframe tbody tr th {\n",
       "        vertical-align: top;\n",
       "    }\n",
       "\n",
       "    .dataframe thead th {\n",
       "        text-align: right;\n",
       "    }\n",
       "</style>\n",
       "<table border=\"1\" class=\"dataframe\">\n",
       "  <thead>\n",
       "    <tr style=\"text-align: right;\">\n",
       "      <th></th>\n",
       "      <th>bhkp_price</th>\n",
       "      <th>bhkp_price_variation</th>\n",
       "      <th>bhkp_price_outcome</th>\n",
       "    </tr>\n",
       "  </thead>\n",
       "  <tbody>\n",
       "    <tr>\n",
       "      <th>count</th>\n",
       "      <td>180518.000000</td>\n",
       "      <td>180518.000000</td>\n",
       "      <td>180518.00000</td>\n",
       "    </tr>\n",
       "    <tr>\n",
       "      <th>mean</th>\n",
       "      <td>634.752505</td>\n",
       "      <td>-0.000227</td>\n",
       "      <td>-0.23507</td>\n",
       "    </tr>\n",
       "    <tr>\n",
       "      <th>std</th>\n",
       "      <td>101.927650</td>\n",
       "      <td>0.013809</td>\n",
       "      <td>8.67576</td>\n",
       "    </tr>\n",
       "    <tr>\n",
       "      <th>min</th>\n",
       "      <td>441.260000</td>\n",
       "      <td>-0.078251</td>\n",
       "      <td>-58.14000</td>\n",
       "    </tr>\n",
       "    <tr>\n",
       "      <th>25%</th>\n",
       "      <td>573.480000</td>\n",
       "      <td>-0.003890</td>\n",
       "      <td>-2.43000</td>\n",
       "    </tr>\n",
       "    <tr>\n",
       "      <th>50%</th>\n",
       "      <td>644.950000</td>\n",
       "      <td>-0.000026</td>\n",
       "      <td>-0.02000</td>\n",
       "    </tr>\n",
       "    <tr>\n",
       "      <th>75%</th>\n",
       "      <td>702.550000</td>\n",
       "      <td>0.003756</td>\n",
       "      <td>2.33000</td>\n",
       "    </tr>\n",
       "    <tr>\n",
       "      <th>max</th>\n",
       "      <td>846.880000</td>\n",
       "      <td>0.157578</td>\n",
       "      <td>97.26000</td>\n",
       "    </tr>\n",
       "  </tbody>\n",
       "</table>\n",
       "</div>"
      ],
      "text/plain": [
       "          bhkp_price  bhkp_price_variation  bhkp_price_outcome\n",
       "count  180518.000000         180518.000000        180518.00000\n",
       "mean      634.752505             -0.000227            -0.23507\n",
       "std       101.927650              0.013809             8.67576\n",
       "min       441.260000             -0.078251           -58.14000\n",
       "25%       573.480000             -0.003890            -2.43000\n",
       "50%       644.950000             -0.000026            -0.02000\n",
       "75%       702.550000              0.003756             2.33000\n",
       "max       846.880000              0.157578            97.26000"
      ]
     },
     "execution_count": 17,
     "metadata": {},
     "output_type": "execute_result"
    }
   ],
   "source": [
    "df3[['bhkp_price','bhkp_price_variation','bhkp_price_outcome','bhkp_price_variation_label']].describe()"
   ]
  },
  {
   "cell_type": "code",
   "execution_count": 31,
   "metadata": {},
   "outputs": [
    {
     "data": {
      "text/markdown": [
       "<span style='color:red'>Observe pelos min, max e std que é quase igual. Ignore bhkp_delta.</span>"
      ],
      "text/plain": [
       "<IPython.core.display.Markdown object>"
      ]
     },
     "metadata": {},
     "output_type": "display_data"
    },
    {
     "data": {
      "text/html": [
       "<div>\n",
       "<style scoped>\n",
       "    .dataframe tbody tr th:only-of-type {\n",
       "        vertical-align: middle;\n",
       "    }\n",
       "\n",
       "    .dataframe tbody tr th {\n",
       "        vertical-align: top;\n",
       "    }\n",
       "\n",
       "    .dataframe thead th {\n",
       "        text-align: right;\n",
       "    }\n",
       "</style>\n",
       "<table border=\"1\" class=\"dataframe\">\n",
       "  <thead>\n",
       "    <tr style=\"text-align: right;\">\n",
       "      <th></th>\n",
       "      <th>bhkp_price</th>\n",
       "      <th>bhkp_variation</th>\n",
       "      <th>bhkp_delta</th>\n",
       "      <th>bhkp_delta_outcome</th>\n",
       "    </tr>\n",
       "  </thead>\n",
       "  <tbody>\n",
       "    <tr>\n",
       "      <th>count</th>\n",
       "      <td>628.000000</td>\n",
       "      <td>627.000000</td>\n",
       "      <td>627.000000</td>\n",
       "      <td>627.000000</td>\n",
       "    </tr>\n",
       "    <tr>\n",
       "      <th>mean</th>\n",
       "      <td>636.316481</td>\n",
       "      <td>-0.000056</td>\n",
       "      <td>-0.094530</td>\n",
       "      <td>-0.094530</td>\n",
       "    </tr>\n",
       "    <tr>\n",
       "      <th>std</th>\n",
       "      <td>101.204946</td>\n",
       "      <td>0.013797</td>\n",
       "      <td>8.696082</td>\n",
       "      <td>8.696082</td>\n",
       "    </tr>\n",
       "    <tr>\n",
       "      <th>min</th>\n",
       "      <td>441.260000</td>\n",
       "      <td>-0.078251</td>\n",
       "      <td>-58.140000</td>\n",
       "      <td>-58.140000</td>\n",
       "    </tr>\n",
       "    <tr>\n",
       "      <th>25%</th>\n",
       "      <td>574.947500</td>\n",
       "      <td>-0.003861</td>\n",
       "      <td>-2.420000</td>\n",
       "      <td>-2.420000</td>\n",
       "    </tr>\n",
       "    <tr>\n",
       "      <th>50%</th>\n",
       "      <td>645.270000</td>\n",
       "      <td>0.000000</td>\n",
       "      <td>0.000000</td>\n",
       "      <td>0.000000</td>\n",
       "    </tr>\n",
       "    <tr>\n",
       "      <th>75%</th>\n",
       "      <td>703.867500</td>\n",
       "      <td>0.003951</td>\n",
       "      <td>2.500000</td>\n",
       "      <td>2.500000</td>\n",
       "    </tr>\n",
       "    <tr>\n",
       "      <th>max</th>\n",
       "      <td>846.880000</td>\n",
       "      <td>0.157578</td>\n",
       "      <td>97.260000</td>\n",
       "      <td>97.260000</td>\n",
       "    </tr>\n",
       "  </tbody>\n",
       "</table>\n",
       "</div>"
      ],
      "text/plain": [
       "       bhkp_price  bhkp_variation  bhkp_delta  bhkp_delta_outcome\n",
       "count  628.000000      627.000000  627.000000          627.000000\n",
       "mean   636.316481       -0.000056   -0.094530           -0.094530\n",
       "std    101.204946        0.013797    8.696082            8.696082\n",
       "min    441.260000       -0.078251  -58.140000          -58.140000\n",
       "25%    574.947500       -0.003861   -2.420000           -2.420000\n",
       "50%    645.270000        0.000000    0.000000            0.000000\n",
       "75%    703.867500        0.003951    2.500000            2.500000\n",
       "max    846.880000        0.157578   97.260000           97.260000"
      ]
     },
     "execution_count": 31,
     "metadata": {},
     "output_type": "execute_result"
    }
   ],
   "source": [
    "red('Observe pelos min, max e std que é quase igual. Ignore bhkp_delta.')\n",
    "df[['bhkp_price','bhkp_variation','bhkp_delta','bhkp_delta_outcome']].describe()"
   ]
  },
  {
   "cell_type": "markdown",
   "metadata": {},
   "source": [
    "## Compressing"
   ]
  },
  {
   "cell_type": "code",
   "execution_count": 32,
   "metadata": {},
   "outputs": [],
   "source": [
    "# from markov._markov_setup import *\n",
    "import markov._markov_setup as _markov_setup\n",
    "_ = importlib.reload(sys.modules['markov._markov_setup'])\n"
   ]
  },
  {
   "cell_type": "code",
   "execution_count": 33,
   "metadata": {},
   "outputs": [
    {
     "data": {
      "text/html": [
       "<div>\n",
       "<style scoped>\n",
       "    .dataframe tbody tr th:only-of-type {\n",
       "        vertical-align: middle;\n",
       "    }\n",
       "\n",
       "    .dataframe tbody tr th {\n",
       "        vertical-align: top;\n",
       "    }\n",
       "\n",
       "    .dataframe thead th {\n",
       "        text-align: right;\n",
       "    }\n",
       "</style>\n",
       "<table border=\"1\" class=\"dataframe\">\n",
       "  <thead>\n",
       "    <tr style=\"text-align: right;\">\n",
       "      <th></th>\n",
       "      <th>Sequence_ID</th>\n",
       "      <th>Close_Date</th>\n",
       "      <th>event_pattern</th>\n",
       "      <th>bhkp_price_outcome</th>\n",
       "    </tr>\n",
       "  </thead>\n",
       "  <tbody>\n",
       "    <tr>\n",
       "      <th>8389</th>\n",
       "      <td>8389</td>\n",
       "      <td>2010-03-09</td>\n",
       "      <td>C,C,C,C,C,C,B,C</td>\n",
       "      <td>6.425000</td>\n",
       "    </tr>\n",
       "    <tr>\n",
       "      <th>6440</th>\n",
       "      <td>6440</td>\n",
       "      <td>2010-03-16</td>\n",
       "      <td>C,C,C,C,C,B,C,C</td>\n",
       "      <td>8.530000</td>\n",
       "    </tr>\n",
       "    <tr>\n",
       "      <th>1032</th>\n",
       "      <td>1032</td>\n",
       "      <td>2010-03-16</td>\n",
       "      <td>C,C,C,C,C,B,C,C</td>\n",
       "      <td>8.530000</td>\n",
       "    </tr>\n",
       "    <tr>\n",
       "      <th>6089</th>\n",
       "      <td>6089</td>\n",
       "      <td>2010-03-23</td>\n",
       "      <td>C,C,C,C,C,C,B,C,C,C</td>\n",
       "      <td>8.945000</td>\n",
       "    </tr>\n",
       "    <tr>\n",
       "      <th>8032</th>\n",
       "      <td>8032</td>\n",
       "      <td>2010-03-30</td>\n",
       "      <td>C,C,C,C,C,B,C,C,C,C</td>\n",
       "      <td>9.655000</td>\n",
       "    </tr>\n",
       "    <tr>\n",
       "      <th>...</th>\n",
       "      <td>...</td>\n",
       "      <td>...</td>\n",
       "      <td>...</td>\n",
       "      <td>...</td>\n",
       "    </tr>\n",
       "    <tr>\n",
       "      <th>4807</th>\n",
       "      <td>4807</td>\n",
       "      <td>2022-01-28</td>\n",
       "      <td>A,A,A,A,A,A,A,B,A,C,A,A,A,A,A,A,A,A,C,B,C,C,C,...</td>\n",
       "      <td>-2.369259</td>\n",
       "    </tr>\n",
       "    <tr>\n",
       "      <th>5112</th>\n",
       "      <td>5112</td>\n",
       "      <td>2022-01-28</td>\n",
       "      <td>A,A,A,B,A,C,A,A,A,A,A,A,A,A,C,B,C,C,C,C,C,C,C</td>\n",
       "      <td>-1.574348</td>\n",
       "    </tr>\n",
       "    <tr>\n",
       "      <th>5977</th>\n",
       "      <td>5977</td>\n",
       "      <td>2022-01-28</td>\n",
       "      <td>A,A,A,A,A,B,A,C,A,A,A,A,A,A,A,A,C,B,C,C,C,C,C,C,C</td>\n",
       "      <td>-1.665600</td>\n",
       "    </tr>\n",
       "    <tr>\n",
       "      <th>5996</th>\n",
       "      <td>5996</td>\n",
       "      <td>2022-01-28</td>\n",
       "      <td>A,A,A,A,C,B,C,C,C,C,C,C,C</td>\n",
       "      <td>2.506923</td>\n",
       "    </tr>\n",
       "    <tr>\n",
       "      <th>8609</th>\n",
       "      <td>8609</td>\n",
       "      <td>2022-01-28</td>\n",
       "      <td>B,C,C,C,C,C,C,C</td>\n",
       "      <td>6.350000</td>\n",
       "    </tr>\n",
       "  </tbody>\n",
       "</table>\n",
       "<p>10030 rows × 4 columns</p>\n",
       "</div>"
      ],
      "text/plain": [
       "      Sequence_ID Close_Date  \\\n",
       "8389         8389 2010-03-09   \n",
       "6440         6440 2010-03-16   \n",
       "1032         1032 2010-03-16   \n",
       "6089         6089 2010-03-23   \n",
       "8032         8032 2010-03-30   \n",
       "...           ...        ...   \n",
       "4807         4807 2022-01-28   \n",
       "5112         5112 2022-01-28   \n",
       "5977         5977 2022-01-28   \n",
       "5996         5996 2022-01-28   \n",
       "8609         8609 2022-01-28   \n",
       "\n",
       "                                          event_pattern  bhkp_price_outcome  \n",
       "8389                                    C,C,C,C,C,C,B,C            6.425000  \n",
       "6440                                    C,C,C,C,C,B,C,C            8.530000  \n",
       "1032                                    C,C,C,C,C,B,C,C            8.530000  \n",
       "6089                                C,C,C,C,C,C,B,C,C,C            8.945000  \n",
       "8032                                C,C,C,C,C,B,C,C,C,C            9.655000  \n",
       "...                                                 ...                 ...  \n",
       "4807  A,A,A,A,A,A,A,B,A,C,A,A,A,A,A,A,A,A,C,B,C,C,C,...           -2.369259  \n",
       "5112      A,A,A,B,A,C,A,A,A,A,A,A,A,A,C,B,C,C,C,C,C,C,C           -1.574348  \n",
       "5977  A,A,A,A,A,B,A,C,A,A,A,A,A,A,A,A,C,B,C,C,C,C,C,C,C           -1.665600  \n",
       "5996                          A,A,A,A,C,B,C,C,C,C,C,C,C            2.506923  \n",
       "8609                                    B,C,C,C,C,C,C,C            6.350000  \n",
       "\n",
       "[10030 rows x 4 columns]"
      ]
     },
     "execution_count": 33,
     "metadata": {},
     "output_type": "execute_result"
    }
   ],
   "source": [
    "df4 = _markov_setup.compress(df3, columns = ['Sequence_ID', 'Close_Date'], \\\n",
    "                                  outcomes = ['bhkp_price_outcome'])\n",
    "\n",
    "df4 = df4.sort_values(by=['Close_Date'])\n",
    "df4"
   ]
  },
  {
   "cell_type": "code",
   "execution_count": 21,
   "metadata": {},
   "outputs": [
    {
     "data": {
      "text/plain": [
       "Sequence_ID                    int64\n",
       "Close_Date            datetime64[ns]\n",
       "event_pattern                 object\n",
       "bhkp_price_outcome           float64\n",
       "dtype: object"
      ]
     },
     "execution_count": 21,
     "metadata": {},
     "output_type": "execute_result"
    }
   ],
   "source": [
    "df4.dtypes"
   ]
  },
  {
   "cell_type": "code",
   "execution_count": 22,
   "metadata": {},
   "outputs": [
    {
     "data": {
      "text/plain": [
       "619"
      ]
     },
     "execution_count": 22,
     "metadata": {},
     "output_type": "execute_result"
    }
   ],
   "source": [
    "len(df4['Close_Date'].unique())"
   ]
  },
  {
   "cell_type": "code",
   "execution_count": 23,
   "metadata": {},
   "outputs": [
    {
     "data": {
      "text/html": [
       "<div>\n",
       "<style scoped>\n",
       "    .dataframe tbody tr th:only-of-type {\n",
       "        vertical-align: middle;\n",
       "    }\n",
       "\n",
       "    .dataframe tbody tr th {\n",
       "        vertical-align: top;\n",
       "    }\n",
       "\n",
       "    .dataframe thead th {\n",
       "        text-align: right;\n",
       "    }\n",
       "</style>\n",
       "<table border=\"1\" class=\"dataframe\">\n",
       "  <thead>\n",
       "    <tr style=\"text-align: right;\">\n",
       "      <th></th>\n",
       "      <th>Sequence_ID</th>\n",
       "      <th>bhkp_price_outcome</th>\n",
       "    </tr>\n",
       "  </thead>\n",
       "  <tbody>\n",
       "    <tr>\n",
       "      <th>count</th>\n",
       "      <td>10030.000000</td>\n",
       "      <td>10030.000000</td>\n",
       "    </tr>\n",
       "    <tr>\n",
       "      <th>mean</th>\n",
       "      <td>5014.500000</td>\n",
       "      <td>-0.231582</td>\n",
       "    </tr>\n",
       "    <tr>\n",
       "      <th>std</th>\n",
       "      <td>2895.555934</td>\n",
       "      <td>4.615105</td>\n",
       "    </tr>\n",
       "    <tr>\n",
       "      <th>min</th>\n",
       "      <td>0.000000</td>\n",
       "      <td>-18.240000</td>\n",
       "    </tr>\n",
       "    <tr>\n",
       "      <th>25%</th>\n",
       "      <td>2507.250000</td>\n",
       "      <td>-2.664176</td>\n",
       "    </tr>\n",
       "    <tr>\n",
       "      <th>50%</th>\n",
       "      <td>5014.500000</td>\n",
       "      <td>-0.163365</td>\n",
       "    </tr>\n",
       "    <tr>\n",
       "      <th>75%</th>\n",
       "      <td>7521.750000</td>\n",
       "      <td>1.927295</td>\n",
       "    </tr>\n",
       "    <tr>\n",
       "      <th>max</th>\n",
       "      <td>10029.000000</td>\n",
       "      <td>24.470000</td>\n",
       "    </tr>\n",
       "  </tbody>\n",
       "</table>\n",
       "</div>"
      ],
      "text/plain": [
       "        Sequence_ID  bhkp_price_outcome\n",
       "count  10030.000000        10030.000000\n",
       "mean    5014.500000           -0.231582\n",
       "std     2895.555934            4.615105\n",
       "min        0.000000          -18.240000\n",
       "25%     2507.250000           -2.664176\n",
       "50%     5014.500000           -0.163365\n",
       "75%     7521.750000            1.927295\n",
       "max    10029.000000           24.470000"
      ]
     },
     "execution_count": 23,
     "metadata": {},
     "output_type": "execute_result"
    }
   ],
   "source": [
    "df4.describe()"
   ]
  },
  {
   "cell_type": "markdown",
   "metadata": {},
   "source": [
    "## Simplificando o Dataset"
   ]
  },
  {
   "cell_type": "code",
   "execution_count": 39,
   "metadata": {},
   "outputs": [],
   "source": [
    "relevant_cut_off = 2 #variations bigger than x USD/ton"
   ]
  },
  {
   "cell_type": "code",
   "execution_count": 40,
   "metadata": {},
   "outputs": [
    {
     "name": "stdout",
     "output_type": "stream",
     "text": [
      "All available data: 10030\n",
      "Relevant changes: 5558\n"
     ]
    }
   ],
   "source": [
    "print(f'All available data: { df4.shape[0]}')\n",
    "df5 = df4[ abs(df4['bhkp_price_outcome']) > relevant_cut_off ][:]\n",
    "df5['direction'] = df5['bhkp_price_outcome'].apply(lambda x: 1 if x >0 else -1)\n",
    "print(f'Relevant changes: { df5.shape[0]}')"
   ]
  },
  {
   "cell_type": "code",
   "execution_count": 41,
   "metadata": {},
   "outputs": [
    {
     "data": {
      "text/html": [
       "<div>\n",
       "<style scoped>\n",
       "    .dataframe tbody tr th:only-of-type {\n",
       "        vertical-align: middle;\n",
       "    }\n",
       "\n",
       "    .dataframe tbody tr th {\n",
       "        vertical-align: top;\n",
       "    }\n",
       "\n",
       "    .dataframe thead th {\n",
       "        text-align: right;\n",
       "    }\n",
       "</style>\n",
       "<table border=\"1\" class=\"dataframe\">\n",
       "  <thead>\n",
       "    <tr style=\"text-align: right;\">\n",
       "      <th></th>\n",
       "      <th>Sequence_ID</th>\n",
       "      <th>Close_Date</th>\n",
       "      <th>event_pattern</th>\n",
       "      <th>bhkp_price_outcome</th>\n",
       "      <th>direction</th>\n",
       "    </tr>\n",
       "  </thead>\n",
       "  <tbody>\n",
       "    <tr>\n",
       "      <th>8389</th>\n",
       "      <td>8389</td>\n",
       "      <td>2010-03-09</td>\n",
       "      <td>C,C,C,C,C,C,B,C</td>\n",
       "      <td>6.425000</td>\n",
       "      <td>1</td>\n",
       "    </tr>\n",
       "    <tr>\n",
       "      <th>6440</th>\n",
       "      <td>6440</td>\n",
       "      <td>2010-03-16</td>\n",
       "      <td>C,C,C,C,C,B,C,C</td>\n",
       "      <td>8.530000</td>\n",
       "      <td>1</td>\n",
       "    </tr>\n",
       "    <tr>\n",
       "      <th>1032</th>\n",
       "      <td>1032</td>\n",
       "      <td>2010-03-16</td>\n",
       "      <td>C,C,C,C,C,B,C,C</td>\n",
       "      <td>8.530000</td>\n",
       "      <td>1</td>\n",
       "    </tr>\n",
       "    <tr>\n",
       "      <th>6089</th>\n",
       "      <td>6089</td>\n",
       "      <td>2010-03-23</td>\n",
       "      <td>C,C,C,C,C,C,B,C,C,C</td>\n",
       "      <td>8.945000</td>\n",
       "      <td>1</td>\n",
       "    </tr>\n",
       "    <tr>\n",
       "      <th>8032</th>\n",
       "      <td>8032</td>\n",
       "      <td>2010-03-30</td>\n",
       "      <td>C,C,C,C,C,B,C,C,C,C</td>\n",
       "      <td>9.655000</td>\n",
       "      <td>1</td>\n",
       "    </tr>\n",
       "    <tr>\n",
       "      <th>...</th>\n",
       "      <td>...</td>\n",
       "      <td>...</td>\n",
       "      <td>...</td>\n",
       "      <td>...</td>\n",
       "      <td>...</td>\n",
       "    </tr>\n",
       "    <tr>\n",
       "      <th>8918</th>\n",
       "      <td>8918</td>\n",
       "      <td>2022-01-28</td>\n",
       "      <td>A,A,C,B,C,C,C,C,C,C,C</td>\n",
       "      <td>4.661818</td>\n",
       "      <td>1</td>\n",
       "    </tr>\n",
       "    <tr>\n",
       "      <th>7748</th>\n",
       "      <td>7748</td>\n",
       "      <td>2022-01-28</td>\n",
       "      <td>A,A,A,A,A,A,A,A,B,A,C,A,A,A,A,A,A,A,A,C,B,C,C,...</td>\n",
       "      <td>-2.929643</td>\n",
       "      <td>-1</td>\n",
       "    </tr>\n",
       "    <tr>\n",
       "      <th>4807</th>\n",
       "      <td>4807</td>\n",
       "      <td>2022-01-28</td>\n",
       "      <td>A,A,A,A,A,A,A,B,A,C,A,A,A,A,A,A,A,A,C,B,C,C,C,...</td>\n",
       "      <td>-2.369259</td>\n",
       "      <td>-1</td>\n",
       "    </tr>\n",
       "    <tr>\n",
       "      <th>5996</th>\n",
       "      <td>5996</td>\n",
       "      <td>2022-01-28</td>\n",
       "      <td>A,A,A,A,C,B,C,C,C,C,C,C,C</td>\n",
       "      <td>2.506923</td>\n",
       "      <td>1</td>\n",
       "    </tr>\n",
       "    <tr>\n",
       "      <th>8609</th>\n",
       "      <td>8609</td>\n",
       "      <td>2022-01-28</td>\n",
       "      <td>B,C,C,C,C,C,C,C</td>\n",
       "      <td>6.350000</td>\n",
       "      <td>1</td>\n",
       "    </tr>\n",
       "  </tbody>\n",
       "</table>\n",
       "<p>5558 rows × 5 columns</p>\n",
       "</div>"
      ],
      "text/plain": [
       "      Sequence_ID Close_Date  \\\n",
       "8389         8389 2010-03-09   \n",
       "6440         6440 2010-03-16   \n",
       "1032         1032 2010-03-16   \n",
       "6089         6089 2010-03-23   \n",
       "8032         8032 2010-03-30   \n",
       "...           ...        ...   \n",
       "8918         8918 2022-01-28   \n",
       "7748         7748 2022-01-28   \n",
       "4807         4807 2022-01-28   \n",
       "5996         5996 2022-01-28   \n",
       "8609         8609 2022-01-28   \n",
       "\n",
       "                                          event_pattern  bhkp_price_outcome  \\\n",
       "8389                                    C,C,C,C,C,C,B,C            6.425000   \n",
       "6440                                    C,C,C,C,C,B,C,C            8.530000   \n",
       "1032                                    C,C,C,C,C,B,C,C            8.530000   \n",
       "6089                                C,C,C,C,C,C,B,C,C,C            8.945000   \n",
       "8032                                C,C,C,C,C,B,C,C,C,C            9.655000   \n",
       "...                                                 ...                 ...   \n",
       "8918                              A,A,C,B,C,C,C,C,C,C,C            4.661818   \n",
       "7748  A,A,A,A,A,A,A,A,B,A,C,A,A,A,A,A,A,A,A,C,B,C,C,...           -2.929643   \n",
       "4807  A,A,A,A,A,A,A,B,A,C,A,A,A,A,A,A,A,A,C,B,C,C,C,...           -2.369259   \n",
       "5996                          A,A,A,A,C,B,C,C,C,C,C,C,C            2.506923   \n",
       "8609                                    B,C,C,C,C,C,C,C            6.350000   \n",
       "\n",
       "      direction  \n",
       "8389          1  \n",
       "6440          1  \n",
       "1032          1  \n",
       "6089          1  \n",
       "8032          1  \n",
       "...         ...  \n",
       "8918          1  \n",
       "7748         -1  \n",
       "4807         -1  \n",
       "5996          1  \n",
       "8609          1  \n",
       "\n",
       "[5558 rows x 5 columns]"
      ]
     },
     "execution_count": 41,
     "metadata": {},
     "output_type": "execute_result"
    }
   ],
   "source": [
    "df5"
   ]
  },
  {
   "cell_type": "markdown",
   "metadata": {},
   "source": [
    "## Split Train & Test"
   ]
  },
  {
   "cell_type": "code",
   "execution_count": 42,
   "metadata": {},
   "outputs": [],
   "source": [
    "from sklearn.model_selection import train_test_split\n"
   ]
  },
  {
   "cell_type": "code",
   "execution_count": 43,
   "metadata": {},
   "outputs": [],
   "source": [
    "train, validation = train_test_split(df5, test_size=TEST_SIZE, shuffle=False, random_state=42)"
   ]
  },
  {
   "cell_type": "code",
   "execution_count": 44,
   "metadata": {},
   "outputs": [
    {
     "name": "stdout",
     "output_type": "stream",
     "text": [
      "train: (5280, 5) | validation: (278, 5)  \n"
     ]
    }
   ],
   "source": [
    "print(f'train: {train.shape} | validation: {validation.shape}  ')"
   ]
  },
  {
   "cell_type": "markdown",
   "metadata": {},
   "source": [
    "Outra forma"
   ]
  },
  {
   "cell_type": "code",
   "execution_count": 45,
   "metadata": {},
   "outputs": [],
   "source": [
    "X = df5[['event_pattern','direction']]\n",
    "y = df5[['bhkp_price_outcome']]"
   ]
  },
  {
   "cell_type": "code",
   "execution_count": 46,
   "metadata": {},
   "outputs": [
    {
     "name": "stdout",
     "output_type": "stream",
     "text": [
      "X_train: (5280, 2) | X_test: (278, 2) | y_train: (5280, 1) | y_test: (278, 1) \n"
     ]
    }
   ],
   "source": [
    "X_train, X_test, y_train, y_test = train_test_split(X, y, test_size=TEST_SIZE, random_state=42)\n",
    "print(f'X_train: {X_train.shape} | X_test: {X_test.shape} | y_train: {y_train.shape} | y_test: {y_test.shape} ')"
   ]
  },
  {
   "cell_type": "code",
   "execution_count": 47,
   "metadata": {},
   "outputs": [
    {
     "data": {
      "text/html": [
       "<div>\n",
       "<style scoped>\n",
       "    .dataframe tbody tr th:only-of-type {\n",
       "        vertical-align: middle;\n",
       "    }\n",
       "\n",
       "    .dataframe tbody tr th {\n",
       "        vertical-align: top;\n",
       "    }\n",
       "\n",
       "    .dataframe thead th {\n",
       "        text-align: right;\n",
       "    }\n",
       "</style>\n",
       "<table border=\"1\" class=\"dataframe\">\n",
       "  <thead>\n",
       "    <tr style=\"text-align: right;\">\n",
       "      <th></th>\n",
       "      <th>event_pattern</th>\n",
       "      <th>direction</th>\n",
       "    </tr>\n",
       "  </thead>\n",
       "  <tbody>\n",
       "    <tr>\n",
       "      <th>3032</th>\n",
       "      <td>C,C,C,C,B,A,B,A,B,B,A,A,A,A,A,A,B,A,A,B,A,A,B,B</td>\n",
       "      <td>-1</td>\n",
       "    </tr>\n",
       "    <tr>\n",
       "      <th>6005</th>\n",
       "      <td>C,C,C,C,C,B,C,C,C</td>\n",
       "      <td>1</td>\n",
       "    </tr>\n",
       "    <tr>\n",
       "      <th>7963</th>\n",
       "      <td>A,C,A,A,A,B,B,A,A,B,B,A,A,B</td>\n",
       "      <td>-1</td>\n",
       "    </tr>\n",
       "    <tr>\n",
       "      <th>6982</th>\n",
       "      <td>A,B,A,A,B,B,B,A,A,B,A,A,A,A,A,A,B,A,A,A,C</td>\n",
       "      <td>-1</td>\n",
       "    </tr>\n",
       "    <tr>\n",
       "      <th>1224</th>\n",
       "      <td>C,C,B,A,A,B,C,A,C,C,C,A,B,C,C,C,C,C,C</td>\n",
       "      <td>1</td>\n",
       "    </tr>\n",
       "    <tr>\n",
       "      <th>...</th>\n",
       "      <td>...</td>\n",
       "      <td>...</td>\n",
       "    </tr>\n",
       "    <tr>\n",
       "      <th>7456</th>\n",
       "      <td>C,C,C,B,C,C,C,C,C,C,C,C,B,C,C,A,C,B,B,B,B,B</td>\n",
       "      <td>1</td>\n",
       "    </tr>\n",
       "    <tr>\n",
       "      <th>8716</th>\n",
       "      <td>B,A,B,B,A,A,A,A,A,A</td>\n",
       "      <td>-1</td>\n",
       "    </tr>\n",
       "    <tr>\n",
       "      <th>603</th>\n",
       "      <td>C,B,C,C,B,B,A,C,B,B,A,B,B,A,A,A,A,A,A,A,A,A</td>\n",
       "      <td>-1</td>\n",
       "    </tr>\n",
       "    <tr>\n",
       "      <th>2525</th>\n",
       "      <td>A,A,A,A,A,A,B,A,C,A,A,A,A,A</td>\n",
       "      <td>-1</td>\n",
       "    </tr>\n",
       "    <tr>\n",
       "      <th>4739</th>\n",
       "      <td>B,B,A,A,B,A,A,A,A,A,A</td>\n",
       "      <td>-1</td>\n",
       "    </tr>\n",
       "  </tbody>\n",
       "</table>\n",
       "<p>5280 rows × 2 columns</p>\n",
       "</div>"
      ],
      "text/plain": [
       "                                        event_pattern  direction\n",
       "3032  C,C,C,C,B,A,B,A,B,B,A,A,A,A,A,A,B,A,A,B,A,A,B,B         -1\n",
       "6005                                C,C,C,C,C,B,C,C,C          1\n",
       "7963                      A,C,A,A,A,B,B,A,A,B,B,A,A,B         -1\n",
       "6982        A,B,A,A,B,B,B,A,A,B,A,A,A,A,A,A,B,A,A,A,C         -1\n",
       "1224            C,C,B,A,A,B,C,A,C,C,C,A,B,C,C,C,C,C,C          1\n",
       "...                                               ...        ...\n",
       "7456      C,C,C,B,C,C,C,C,C,C,C,C,B,C,C,A,C,B,B,B,B,B          1\n",
       "8716                              B,A,B,B,A,A,A,A,A,A         -1\n",
       "603       C,B,C,C,B,B,A,C,B,B,A,B,B,A,A,A,A,A,A,A,A,A         -1\n",
       "2525                      A,A,A,A,A,A,B,A,C,A,A,A,A,A         -1\n",
       "4739                            B,B,A,A,B,A,A,A,A,A,A         -1\n",
       "\n",
       "[5280 rows x 2 columns]"
      ]
     },
     "execution_count": 47,
     "metadata": {},
     "output_type": "execute_result"
    }
   ],
   "source": [
    "X_train"
   ]
  },
  {
   "cell_type": "markdown",
   "metadata": {},
   "source": [
    "## Matrix de Markov"
   ]
  },
  {
   "cell_type": "code",
   "execution_count": 48,
   "metadata": {},
   "outputs": [],
   "source": [
    "# from markov._markov_setup import *\n",
    "import markov._markov_setup as _markov_setup\n",
    "_ = importlib.reload(sys.modules['markov._markov_setup'])\n"
   ]
  },
  {
   "cell_type": "code",
   "execution_count": 51,
   "metadata": {},
   "outputs": [
    {
     "name": "stdout",
     "output_type": "stream",
     "text": [
      "df5_pos: (2446, 5) | df5_neg: (2834, 5)\n"
     ]
    }
   ],
   "source": [
    "df6_pos = train.loc[train['direction'] == 1]\n",
    "df6_neg = train.loc[train['direction'] == -1]\n",
    "print(f'df5_pos: {df6_pos.shape} | df5_neg: {df6_neg.shape}')"
   ]
  },
  {
   "cell_type": "code",
   "execution_count": 52,
   "metadata": {},
   "outputs": [
    {
     "data": {
      "text/html": [
       "<div>\n",
       "<style scoped>\n",
       "    .dataframe tbody tr th:only-of-type {\n",
       "        vertical-align: middle;\n",
       "    }\n",
       "\n",
       "    .dataframe tbody tr th {\n",
       "        vertical-align: top;\n",
       "    }\n",
       "\n",
       "    .dataframe thead th {\n",
       "        text-align: right;\n",
       "    }\n",
       "</style>\n",
       "<table border=\"1\" class=\"dataframe\">\n",
       "  <thead>\n",
       "    <tr style=\"text-align: right;\">\n",
       "      <th></th>\n",
       "      <th>Sequence_ID</th>\n",
       "      <th>Close_Date</th>\n",
       "      <th>event_pattern</th>\n",
       "      <th>bhkp_price_outcome</th>\n",
       "      <th>direction</th>\n",
       "    </tr>\n",
       "  </thead>\n",
       "  <tbody>\n",
       "    <tr>\n",
       "      <th>8389</th>\n",
       "      <td>8389</td>\n",
       "      <td>2010-03-09</td>\n",
       "      <td>C,C,C,C,C,C,B,C</td>\n",
       "      <td>6.425000</td>\n",
       "      <td>1</td>\n",
       "    </tr>\n",
       "    <tr>\n",
       "      <th>6440</th>\n",
       "      <td>6440</td>\n",
       "      <td>2010-03-16</td>\n",
       "      <td>C,C,C,C,C,B,C,C</td>\n",
       "      <td>8.530000</td>\n",
       "      <td>1</td>\n",
       "    </tr>\n",
       "    <tr>\n",
       "      <th>1032</th>\n",
       "      <td>1032</td>\n",
       "      <td>2010-03-16</td>\n",
       "      <td>C,C,C,C,C,B,C,C</td>\n",
       "      <td>8.530000</td>\n",
       "      <td>1</td>\n",
       "    </tr>\n",
       "    <tr>\n",
       "      <th>6089</th>\n",
       "      <td>6089</td>\n",
       "      <td>2010-03-23</td>\n",
       "      <td>C,C,C,C,C,C,B,C,C,C</td>\n",
       "      <td>8.945000</td>\n",
       "      <td>1</td>\n",
       "    </tr>\n",
       "    <tr>\n",
       "      <th>8032</th>\n",
       "      <td>8032</td>\n",
       "      <td>2010-03-30</td>\n",
       "      <td>C,C,C,C,C,B,C,C,C,C</td>\n",
       "      <td>9.655000</td>\n",
       "      <td>1</td>\n",
       "    </tr>\n",
       "    <tr>\n",
       "      <th>...</th>\n",
       "      <td>...</td>\n",
       "      <td>...</td>\n",
       "      <td>...</td>\n",
       "      <td>...</td>\n",
       "      <td>...</td>\n",
       "    </tr>\n",
       "    <tr>\n",
       "      <th>2623</th>\n",
       "      <td>2623</td>\n",
       "      <td>2021-07-30</td>\n",
       "      <td>C,C,B,C,C,C,C,B,C,C,B,B,A,C,B,B,A,B,B,A,A,A,A,A,A</td>\n",
       "      <td>2.176000</td>\n",
       "      <td>1</td>\n",
       "    </tr>\n",
       "    <tr>\n",
       "      <th>1477</th>\n",
       "      <td>1477</td>\n",
       "      <td>2021-07-30</td>\n",
       "      <td>C,C,C,B,C,C,C,C,B,C,C,B,B,A,C,B,B,A,B,B,A,A,A,...</td>\n",
       "      <td>4.075769</td>\n",
       "      <td>1</td>\n",
       "    </tr>\n",
       "    <tr>\n",
       "      <th>6241</th>\n",
       "      <td>6241</td>\n",
       "      <td>2021-07-30</td>\n",
       "      <td>B,C,C,C,C,B,C,C,B,B,A,C,B,B,A,B,B,A,A,A,A,A,A</td>\n",
       "      <td>2.067391</td>\n",
       "      <td>1</td>\n",
       "    </tr>\n",
       "    <tr>\n",
       "      <th>1504</th>\n",
       "      <td>1504</td>\n",
       "      <td>2021-08-06</td>\n",
       "      <td>C,C,C,B,C,C,C,C,B,C,C,B,B,A,C,B,B,A,B,B,A,A,A,...</td>\n",
       "      <td>3.795185</td>\n",
       "      <td>1</td>\n",
       "    </tr>\n",
       "    <tr>\n",
       "      <th>3852</th>\n",
       "      <td>3852</td>\n",
       "      <td>2021-08-06</td>\n",
       "      <td>C,C,C,C,B,C,C,C,C,B,C,C,B,B,A,C,B,B,A,B,B,A,A,...</td>\n",
       "      <td>3.841071</td>\n",
       "      <td>1</td>\n",
       "    </tr>\n",
       "  </tbody>\n",
       "</table>\n",
       "<p>2446 rows × 5 columns</p>\n",
       "</div>"
      ],
      "text/plain": [
       "      Sequence_ID Close_Date  \\\n",
       "8389         8389 2010-03-09   \n",
       "6440         6440 2010-03-16   \n",
       "1032         1032 2010-03-16   \n",
       "6089         6089 2010-03-23   \n",
       "8032         8032 2010-03-30   \n",
       "...           ...        ...   \n",
       "2623         2623 2021-07-30   \n",
       "1477         1477 2021-07-30   \n",
       "6241         6241 2021-07-30   \n",
       "1504         1504 2021-08-06   \n",
       "3852         3852 2021-08-06   \n",
       "\n",
       "                                          event_pattern  bhkp_price_outcome  \\\n",
       "8389                                    C,C,C,C,C,C,B,C            6.425000   \n",
       "6440                                    C,C,C,C,C,B,C,C            8.530000   \n",
       "1032                                    C,C,C,C,C,B,C,C            8.530000   \n",
       "6089                                C,C,C,C,C,C,B,C,C,C            8.945000   \n",
       "8032                                C,C,C,C,C,B,C,C,C,C            9.655000   \n",
       "...                                                 ...                 ...   \n",
       "2623  C,C,B,C,C,C,C,B,C,C,B,B,A,C,B,B,A,B,B,A,A,A,A,A,A            2.176000   \n",
       "1477  C,C,C,B,C,C,C,C,B,C,C,B,B,A,C,B,B,A,B,B,A,A,A,...            4.075769   \n",
       "6241      B,C,C,C,C,B,C,C,B,B,A,C,B,B,A,B,B,A,A,A,A,A,A            2.067391   \n",
       "1504  C,C,C,B,C,C,C,C,B,C,C,B,B,A,C,B,B,A,B,B,A,A,A,...            3.795185   \n",
       "3852  C,C,C,C,B,C,C,C,C,B,C,C,B,B,A,C,B,B,A,B,B,A,A,...            3.841071   \n",
       "\n",
       "      direction  \n",
       "8389          1  \n",
       "6440          1  \n",
       "1032          1  \n",
       "6089          1  \n",
       "8032          1  \n",
       "...         ...  \n",
       "2623          1  \n",
       "1477          1  \n",
       "6241          1  \n",
       "1504          1  \n",
       "3852          1  \n",
       "\n",
       "[2446 rows x 5 columns]"
      ]
     },
     "execution_count": 52,
     "metadata": {},
     "output_type": "execute_result"
    }
   ],
   "source": [
    "df6_pos"
   ]
  },
  {
   "cell_type": "code",
   "execution_count": 53,
   "metadata": {},
   "outputs": [
    {
     "data": {
      "text/plain": [
       "2"
      ]
     },
     "execution_count": 53,
     "metadata": {},
     "output_type": "execute_result"
    }
   ],
   "source": [
    "'fabio fobia'.count('bi')"
   ]
  },
  {
   "cell_type": "code",
   "execution_count": 54,
   "metadata": {},
   "outputs": [
    {
     "data": {
      "text/plain": [
       "['A', 'B', 'C']"
      ]
     },
     "execution_count": 54,
     "metadata": {},
     "output_type": "execute_result"
    }
   ],
   "source": [
    "unique_patterns = _markov_setup.get_labels(QTD_BINS)\n",
    "unique_patterns"
   ]
  },
  {
   "cell_type": "code",
   "execution_count": 56,
   "metadata": {},
   "outputs": [
    {
     "data": {
      "text/markdown": [
       "<span style='color:blue'>Aqui o get_labels nao deve fazer parte... pois os unique patterns pode estar agrupado. Ex. AAA, ABC, etc</span>"
      ],
      "text/plain": [
       "<IPython.core.display.Markdown object>"
      ]
     },
     "metadata": {},
     "output_type": "display_data"
    },
    {
     "name": "stdout",
     "output_type": "stream",
     "text": [
      "3 ['A', 'B', 'C']\n"
     ]
    }
   ],
   "source": [
    "blue('Aqui o get_labels nao deve fazer parte... pois os unique patterns pode estar agrupado. Ex. AAA, ABC, etc')\n",
    "unique_patterns = _markov_setup.get_unique_patterns(train['event_pattern'].values)\n",
    "print(len(unique_patterns), unique_patterns)"
   ]
  },
  {
   "cell_type": "code",
   "execution_count": 39,
   "metadata": {},
   "outputs": [],
   "source": [
    "grid_pos = _markov_setup.build_transition_grid(df6_pos, unique_patterns) \n",
    "grid_neg = _markov_setup.build_transition_grid(df6_neg, unique_patterns)"
   ]
  },
  {
   "cell_type": "code",
   "execution_count": 40,
   "metadata": {},
   "outputs": [
    {
     "name": "stdout",
     "output_type": "stream",
     "text": [
      "x\n",
      "A    1.0\n",
      "B    1.0\n",
      "C    1.0\n",
      "dtype: float64\n"
     ]
    },
    {
     "data": {
      "text/html": [
       "<div>\n",
       "<style scoped>\n",
       "    .dataframe tbody tr th:only-of-type {\n",
       "        vertical-align: middle;\n",
       "    }\n",
       "\n",
       "    .dataframe tbody tr th {\n",
       "        vertical-align: top;\n",
       "    }\n",
       "\n",
       "    .dataframe thead th {\n",
       "        text-align: right;\n",
       "    }\n",
       "</style>\n",
       "<table border=\"1\" class=\"dataframe\">\n",
       "  <thead>\n",
       "    <tr style=\"text-align: right;\">\n",
       "      <th></th>\n",
       "      <th>A</th>\n",
       "      <th>B</th>\n",
       "      <th>C</th>\n",
       "    </tr>\n",
       "    <tr>\n",
       "      <th>x</th>\n",
       "      <th></th>\n",
       "      <th></th>\n",
       "      <th></th>\n",
       "    </tr>\n",
       "  </thead>\n",
       "  <tbody>\n",
       "    <tr>\n",
       "      <th>A</th>\n",
       "      <td>0.213817</td>\n",
       "      <td>0.463927</td>\n",
       "      <td>0.322256</td>\n",
       "    </tr>\n",
       "    <tr>\n",
       "      <th>B</th>\n",
       "      <td>0.096145</td>\n",
       "      <td>0.298746</td>\n",
       "      <td>0.605109</td>\n",
       "    </tr>\n",
       "    <tr>\n",
       "      <th>C</th>\n",
       "      <td>0.038718</td>\n",
       "      <td>0.338739</td>\n",
       "      <td>0.622544</td>\n",
       "    </tr>\n",
       "  </tbody>\n",
       "</table>\n",
       "</div>"
      ],
      "text/plain": [
       "          A         B         C\n",
       "x                              \n",
       "A  0.213817  0.463927  0.322256\n",
       "B  0.096145  0.298746  0.605109\n",
       "C  0.038718  0.338739  0.622544"
      ]
     },
     "execution_count": 40,
     "metadata": {},
     "output_type": "execute_result"
    }
   ],
   "source": [
    "print(grid_pos.sum(1))\n",
    "grid_pos"
   ]
  },
  {
   "cell_type": "code",
   "execution_count": 41,
   "metadata": {},
   "outputs": [
    {
     "name": "stdout",
     "output_type": "stream",
     "text": [
      "x\n",
      "A    1.0\n",
      "B    1.0\n",
      "C    1.0\n",
      "dtype: float64\n"
     ]
    },
    {
     "data": {
      "text/html": [
       "<div>\n",
       "<style scoped>\n",
       "    .dataframe tbody tr th:only-of-type {\n",
       "        vertical-align: middle;\n",
       "    }\n",
       "\n",
       "    .dataframe tbody tr th {\n",
       "        vertical-align: top;\n",
       "    }\n",
       "\n",
       "    .dataframe thead th {\n",
       "        text-align: right;\n",
       "    }\n",
       "</style>\n",
       "<table border=\"1\" class=\"dataframe\">\n",
       "  <thead>\n",
       "    <tr style=\"text-align: right;\">\n",
       "      <th></th>\n",
       "      <th>A</th>\n",
       "      <th>B</th>\n",
       "      <th>C</th>\n",
       "    </tr>\n",
       "    <tr>\n",
       "      <th>x</th>\n",
       "      <th></th>\n",
       "      <th></th>\n",
       "      <th></th>\n",
       "    </tr>\n",
       "  </thead>\n",
       "  <tbody>\n",
       "    <tr>\n",
       "      <th>A</th>\n",
       "      <td>0.615851</td>\n",
       "      <td>0.311733</td>\n",
       "      <td>0.072416</td>\n",
       "    </tr>\n",
       "    <tr>\n",
       "      <th>B</th>\n",
       "      <td>0.551478</td>\n",
       "      <td>0.310502</td>\n",
       "      <td>0.138020</td>\n",
       "    </tr>\n",
       "    <tr>\n",
       "      <th>C</th>\n",
       "      <td>0.345328</td>\n",
       "      <td>0.287276</td>\n",
       "      <td>0.367396</td>\n",
       "    </tr>\n",
       "  </tbody>\n",
       "</table>\n",
       "</div>"
      ],
      "text/plain": [
       "          A         B         C\n",
       "x                              \n",
       "A  0.615851  0.311733  0.072416\n",
       "B  0.551478  0.310502  0.138020\n",
       "C  0.345328  0.287276  0.367396"
      ]
     },
     "execution_count": 41,
     "metadata": {},
     "output_type": "execute_result"
    }
   ],
   "source": [
    "print(grid_neg.sum(1))\n",
    "grid_neg"
   ]
  },
  {
   "cell_type": "markdown",
   "metadata": {},
   "source": [
    "## predict on out of sample data"
   ]
  },
  {
   "cell_type": "code",
   "execution_count": 42,
   "metadata": {},
   "outputs": [],
   "source": [
    "# from markov._markov_setup import *\n",
    "import markov._markov_setup as _markov_setup\n",
    "_ = importlib.reload(sys.modules['markov._markov_setup'])\n"
   ]
  },
  {
   "cell_type": "code",
   "execution_count": 43,
   "metadata": {},
   "outputs": [],
   "source": [
    "def safe_log(numerator, denominator):\n",
    "\n",
    "    if numerator <= 0 and denominator <= 0:\n",
    "        log_value = 0\n",
    "    elif denominator <= 0:\n",
    "        log_value = np.log(numerator / 0.00001)\n",
    "    elif numerator <= 0:\n",
    "        log_value = np.log(0.00001 / denominator)\n",
    "    else:\n",
    "        log_value = np.log(numerator / denominator)\n",
    "        \n",
    "    return log_value"
   ]
  },
  {
   "cell_type": "code",
   "execution_count": 44,
   "metadata": {},
   "outputs": [
    {
     "data": {
      "text/html": [
       "<div>\n",
       "<style scoped>\n",
       "    .dataframe tbody tr th:only-of-type {\n",
       "        vertical-align: middle;\n",
       "    }\n",
       "\n",
       "    .dataframe tbody tr th {\n",
       "        vertical-align: top;\n",
       "    }\n",
       "\n",
       "    .dataframe thead th {\n",
       "        text-align: right;\n",
       "    }\n",
       "</style>\n",
       "<table border=\"1\" class=\"dataframe\">\n",
       "  <thead>\n",
       "    <tr style=\"text-align: right;\">\n",
       "      <th></th>\n",
       "      <th>Sequence_ID</th>\n",
       "      <th>Close_Date</th>\n",
       "      <th>event_pattern</th>\n",
       "      <th>bhkp_price_outcome</th>\n",
       "      <th>direction</th>\n",
       "    </tr>\n",
       "  </thead>\n",
       "  <tbody>\n",
       "    <tr>\n",
       "      <th>3940</th>\n",
       "      <td>3940</td>\n",
       "      <td>2021-09-24</td>\n",
       "      <td>C,C,B,B,A,C,B,B,A,B,B,A,A,A,A,A,A,A,A,A,A,A,A,B,A</td>\n",
       "      <td>-4.319600</td>\n",
       "      <td>-1</td>\n",
       "    </tr>\n",
       "    <tr>\n",
       "      <th>3785</th>\n",
       "      <td>3785</td>\n",
       "      <td>2021-09-24</td>\n",
       "      <td>A,A,A,A,A,A,A,A,A,B,A</td>\n",
       "      <td>-11.000909</td>\n",
       "      <td>-1</td>\n",
       "    </tr>\n",
       "    <tr>\n",
       "      <th>1336</th>\n",
       "      <td>1336</td>\n",
       "      <td>2021-09-24</td>\n",
       "      <td>C,B,C,C,B,B,A,C,B,B,A,B,B,A,A,A,A,A,A,A,A,A,A,...</td>\n",
       "      <td>-3.868889</td>\n",
       "      <td>-1</td>\n",
       "    </tr>\n",
       "    <tr>\n",
       "      <th>5363</th>\n",
       "      <td>5363</td>\n",
       "      <td>2021-09-24</td>\n",
       "      <td>A,A,A,A,A,A,A,A,A,B,A</td>\n",
       "      <td>-11.000909</td>\n",
       "      <td>-1</td>\n",
       "    </tr>\n",
       "    <tr>\n",
       "      <th>1063</th>\n",
       "      <td>1063</td>\n",
       "      <td>2021-09-24</td>\n",
       "      <td>B,B,A,C,B,B,A,B,B,A,A,A,A,A,A,A,A,A,A,A,A,B,A</td>\n",
       "      <td>-6.862609</td>\n",
       "      <td>-1</td>\n",
       "    </tr>\n",
       "    <tr>\n",
       "      <th>...</th>\n",
       "      <td>...</td>\n",
       "      <td>...</td>\n",
       "      <td>...</td>\n",
       "      <td>...</td>\n",
       "      <td>...</td>\n",
       "    </tr>\n",
       "    <tr>\n",
       "      <th>5029</th>\n",
       "      <td>5029</td>\n",
       "      <td>2022-01-28</td>\n",
       "      <td>C,B,C,C,C,C,C,C,C</td>\n",
       "      <td>5.728889</td>\n",
       "      <td>1</td>\n",
       "    </tr>\n",
       "    <tr>\n",
       "      <th>4800</th>\n",
       "      <td>4800</td>\n",
       "      <td>2022-01-28</td>\n",
       "      <td>A,A,A,A,C,B,C,C,C,C,C,C,C</td>\n",
       "      <td>2.506923</td>\n",
       "      <td>1</td>\n",
       "    </tr>\n",
       "    <tr>\n",
       "      <th>2715</th>\n",
       "      <td>2715</td>\n",
       "      <td>2022-01-28</td>\n",
       "      <td>A,C,B,C,C,C,C,C,C,C</td>\n",
       "      <td>5.297000</td>\n",
       "      <td>1</td>\n",
       "    </tr>\n",
       "    <tr>\n",
       "      <th>9836</th>\n",
       "      <td>9836</td>\n",
       "      <td>2022-01-28</td>\n",
       "      <td>A,C,B,C,C,C,C,C,C,C</td>\n",
       "      <td>5.297000</td>\n",
       "      <td>1</td>\n",
       "    </tr>\n",
       "    <tr>\n",
       "      <th>3882</th>\n",
       "      <td>3882</td>\n",
       "      <td>2022-01-28</td>\n",
       "      <td>A,A,A,A,A,A,A,B,A,C,A,A,A,A,A,A,A,A,C,B,C,C,C,...</td>\n",
       "      <td>-2.369259</td>\n",
       "      <td>-1</td>\n",
       "    </tr>\n",
       "  </tbody>\n",
       "</table>\n",
       "<p>274 rows × 5 columns</p>\n",
       "</div>"
      ],
      "text/plain": [
       "      Sequence_ID Close_Date  \\\n",
       "3940         3940 2021-09-24   \n",
       "3785         3785 2021-09-24   \n",
       "1336         1336 2021-09-24   \n",
       "5363         5363 2021-09-24   \n",
       "1063         1063 2021-09-24   \n",
       "...           ...        ...   \n",
       "5029         5029 2022-01-28   \n",
       "4800         4800 2022-01-28   \n",
       "2715         2715 2022-01-28   \n",
       "9836         9836 2022-01-28   \n",
       "3882         3882 2022-01-28   \n",
       "\n",
       "                                          event_pattern  bhkp_price_outcome  \\\n",
       "3940  C,C,B,B,A,C,B,B,A,B,B,A,A,A,A,A,A,A,A,A,A,A,A,B,A           -4.319600   \n",
       "3785                              A,A,A,A,A,A,A,A,A,B,A          -11.000909   \n",
       "1336  C,B,C,C,B,B,A,C,B,B,A,B,B,A,A,A,A,A,A,A,A,A,A,...           -3.868889   \n",
       "5363                              A,A,A,A,A,A,A,A,A,B,A          -11.000909   \n",
       "1063      B,B,A,C,B,B,A,B,B,A,A,A,A,A,A,A,A,A,A,A,A,B,A           -6.862609   \n",
       "...                                                 ...                 ...   \n",
       "5029                                  C,B,C,C,C,C,C,C,C            5.728889   \n",
       "4800                          A,A,A,A,C,B,C,C,C,C,C,C,C            2.506923   \n",
       "2715                                A,C,B,C,C,C,C,C,C,C            5.297000   \n",
       "9836                                A,C,B,C,C,C,C,C,C,C            5.297000   \n",
       "3882  A,A,A,A,A,A,A,B,A,C,A,A,A,A,A,A,A,A,C,B,C,C,C,...           -2.369259   \n",
       "\n",
       "      direction  \n",
       "3940         -1  \n",
       "3785         -1  \n",
       "1336         -1  \n",
       "5363         -1  \n",
       "1063         -1  \n",
       "...         ...  \n",
       "5029          1  \n",
       "4800          1  \n",
       "2715          1  \n",
       "9836          1  \n",
       "3882         -1  \n",
       "\n",
       "[274 rows x 5 columns]"
      ]
     },
     "execution_count": 44,
     "metadata": {},
     "output_type": "execute_result"
    }
   ],
   "source": [
    "validation"
   ]
  },
  {
   "cell_type": "code",
   "execution_count": 45,
   "metadata": {},
   "outputs": [
    {
     "name": "stdout",
     "output_type": "stream",
     "text": [
      "==========================================================================================\n",
      "row_num: 1 | seq_id: 3940 | Processed : 0.36%\n",
      "sum(pos): 7.167702963521896 | sum(neg): 11.044518656365398 | sum(pos)/sum(neg) : 0.6489828290878809 \n",
      "sum(log_odds): -12.36048930265255\n",
      "Outcome: -1 | Predict: -1\n"
     ]
    },
    {
     "data": {
      "text/markdown": [
       "<span style='color:blue'>Model Result vs. Actual is **CORRECT**</span>"
      ],
      "text/plain": [
       "<IPython.core.display.Markdown object>"
      ]
     },
     "metadata": {},
     "output_type": "display_data"
    },
    {
     "name": "stdout",
     "output_type": "stream",
     "text": [
      "==========================================================================================\n",
      "row_num: 2 | seq_id: 3785 | Processed : 0.73%\n",
      "sum(pos): 2.2706092778687514 | sum(neg): 5.790019181039093 | sum(pos)/sum(neg) : 0.39215919790118237 \n",
      "sum(log_odds): -9.812234397420992\n",
      "Outcome: -1 | Predict: -1\n"
     ]
    },
    {
     "data": {
      "text/markdown": [
       "<span style='color:blue'>Model Result vs. Actual is **CORRECT**</span>"
      ],
      "text/plain": [
       "<IPython.core.display.Markdown object>"
      ]
     },
     "metadata": {},
     "output_type": "display_data"
    },
    {
     "name": "stdout",
     "output_type": "stream",
     "text": [
      "==========================================================================================\n",
      "row_num: 3 | seq_id: 1336 | Processed : 1.09%\n",
      "sum(pos): 8.111550757111567 | sum(neg): 11.469814936436773 | sum(pos)/sum(neg) : 0.7072085122614464 \n",
      "sum(log_odds): -10.717694370836472\n",
      "Outcome: -1 | Predict: -1\n"
     ]
    },
    {
     "data": {
      "text/markdown": [
       "<span style='color:blue'>Model Result vs. Actual is **CORRECT**</span>"
      ],
      "text/plain": [
       "<IPython.core.display.Markdown object>"
      ]
     },
     "metadata": {},
     "output_type": "display_data"
    },
    {
     "name": "stdout",
     "output_type": "stream",
     "text": [
      "==========================================================================================\n",
      "row_num: 4 | seq_id: 5363 | Processed : 1.46%\n",
      "sum(pos): 2.2706092778687514 | sum(neg): 5.790019181039093 | sum(pos)/sum(neg) : 0.39215919790118237 \n",
      "sum(log_odds): -9.812234397420992\n",
      "Outcome: -1 | Predict: -1\n"
     ]
    },
    {
     "data": {
      "text/markdown": [
       "<span style='color:blue'>Model Result vs. Actual is **CORRECT**</span>"
      ],
      "text/plain": [
       "<IPython.core.display.Markdown object>"
      ]
     },
     "metadata": {},
     "output_type": "display_data"
    },
    {
     "name": "stdout",
     "output_type": "stream",
     "text": [
      "==========================================================================================\n",
      "row_num: 5 | seq_id: 1063 | Processed : 1.82%\n",
      "sum(pos): 5.940049972383104 | sum(neg): 10.539103091999786 | sum(pos)/sum(neg) : 0.563620065249403 \n",
      "sum(log_odds): -14.365874789062525\n",
      "Outcome: -1 | Predict: -1\n"
     ]
    },
    {
     "data": {
      "text/markdown": [
       "<span style='color:blue'>Model Result vs. Actual is **CORRECT**</span>"
      ],
      "text/plain": [
       "<IPython.core.display.Markdown object>"
      ]
     },
     "metadata": {},
     "output_type": "display_data"
    },
    {
     "name": "stdout",
     "output_type": "stream",
     "text": [
      "==========================================================================================\n",
      "row_num: 6 | seq_id: 9873 | Processed : 2.19%\n",
      "sum(pos): 5.940049972383104 | sum(neg): 10.539103091999786 | sum(pos)/sum(neg) : 0.563620065249403 \n",
      "sum(log_odds): -14.365874789062525\n",
      "Outcome: -1 | Predict: -1\n"
     ]
    },
    {
     "data": {
      "text/markdown": [
       "<span style='color:blue'>Model Result vs. Actual is **CORRECT**</span>"
      ],
      "text/plain": [
       "<IPython.core.display.Markdown object>"
      ]
     },
     "metadata": {},
     "output_type": "display_data"
    },
    {
     "name": "stdout",
     "output_type": "stream",
     "text": [
      "==========================================================================================\n",
      "row_num: 7 | seq_id: 1290 | Processed : 2.55%\n",
      "sum(pos): 7.545159122406325 | sum(neg): 11.677123030122852 | sum(pos)/sum(neg) : 0.6461488076251728 \n",
      "sum(log_odds): -14.383907764269381\n",
      "Outcome: -1 | Predict: -1\n"
     ]
    },
    {
     "data": {
      "text/markdown": [
       "<span style='color:blue'>Model Result vs. Actual is **CORRECT**</span>"
      ],
      "text/plain": [
       "<IPython.core.display.Markdown object>"
      ]
     },
     "metadata": {},
     "output_type": "display_data"
    },
    {
     "name": "stdout",
     "output_type": "stream",
     "text": [
      "==========================================================================================\n",
      "row_num: 8 | seq_id: 3564 | Processed : 2.92%\n",
      "sum(pos): 3.7134509538387013 | sum(neg): 8.605135129627294 | sum(pos)/sum(neg) : 0.4315389471402221 \n",
      "sum(log_odds): -14.815104938690869\n",
      "Outcome: -1 | Predict: -1\n"
     ]
    },
    {
     "data": {
      "text/markdown": [
       "<span style='color:blue'>Model Result vs. Actual is **CORRECT**</span>"
      ],
      "text/plain": [
       "<IPython.core.display.Markdown object>"
      ]
     },
     "metadata": {},
     "output_type": "display_data"
    },
    {
     "name": "stdout",
     "output_type": "stream",
     "text": [
      "==========================================================================================\n",
      "row_num: 9 | seq_id: 3321 | Processed : 3.28%\n",
      "sum(pos): 2.736961248805446 | sum(neg): 7.367049206348748 | sum(pos)/sum(neg) : 0.371513909048795 \n",
      "sum(log_odds): -14.116204032602065\n",
      "Outcome: -1 | Predict: -1\n"
     ]
    },
    {
     "data": {
      "text/markdown": [
       "<span style='color:blue'>Model Result vs. Actual is **CORRECT**</span>"
      ],
      "text/plain": [
       "<IPython.core.display.Markdown object>"
      ]
     },
     "metadata": {},
     "output_type": "display_data"
    },
    {
     "name": "stdout",
     "output_type": "stream",
     "text": [
      "==========================================================================================\n",
      "row_num: 10 | seq_id: 1510 | Processed : 3.65%\n",
      "sum(pos): 2.095509565377374 | sum(neg): 5.519496216097983 | sum(pos)/sum(neg) : 0.3796559474514502 \n",
      "sum(log_odds): -10.942553618260668\n",
      "Outcome: -1 | Predict: -1\n"
     ]
    },
    {
     "data": {
      "text/markdown": [
       "<span style='color:blue'>Model Result vs. Actual is **CORRECT**</span>"
      ],
      "text/plain": [
       "<IPython.core.display.Markdown object>"
      ]
     },
     "metadata": {},
     "output_type": "display_data"
    },
    {
     "name": "stdout",
     "output_type": "stream",
     "text": [
      "==========================================================================================\n",
      "row_num: 11 | seq_id: 5483 | Processed : 4.01%\n",
      "sum(pos): 3.4147050179353107 | sum(neg): 8.29463323894321 | sum(pos)/sum(neg) : 0.41167643216619987 \n",
      "sum(log_odds): -14.776508447658713\n",
      "Outcome: -1 | Predict: -1\n"
     ]
    },
    {
     "data": {
      "text/markdown": [
       "<span style='color:blue'>Model Result vs. Actual is **CORRECT**</span>"
      ],
      "text/plain": [
       "<IPython.core.display.Markdown object>"
      ]
     },
     "metadata": {},
     "output_type": "display_data"
    },
    {
     "name": "stdout",
     "output_type": "stream",
     "text": [
      "==========================================================================================\n",
      "row_num: 12 | seq_id: 2670 | Processed : 4.38%\n",
      "sum(pos): 5.978767487701084 | sum(neg): 10.884431123808932 | sum(pos)/sum(neg) : 0.5492953577172213 \n",
      "sum(log_odds): -16.55407748134933\n",
      "Outcome: -1 | Predict: -1\n"
     ]
    },
    {
     "data": {
      "text/markdown": [
       "<span style='color:blue'>Model Result vs. Actual is **CORRECT**</span>"
      ],
      "text/plain": [
       "<IPython.core.display.Markdown object>"
      ]
     },
     "metadata": {},
     "output_type": "display_data"
    },
    {
     "name": "stdout",
     "output_type": "stream",
     "text": [
      "==========================================================================================\n",
      "row_num: 13 | seq_id: 5266 | Processed : 4.74%\n",
      "sum(pos): 3.7134509538387013 | sum(neg): 8.605135129627294 | sum(pos)/sum(neg) : 0.4315389471402221 \n",
      "sum(log_odds): -14.815104938690869\n",
      "Outcome: -1 | Predict: -1\n"
     ]
    },
    {
     "data": {
      "text/markdown": [
       "<span style='color:blue'>Model Result vs. Actual is **CORRECT**</span>"
      ],
      "text/plain": [
       "<IPython.core.display.Markdown object>"
      ]
     },
     "metadata": {},
     "output_type": "display_data"
    },
    {
     "name": "stdout",
     "output_type": "stream",
     "text": [
      "==========================================================================================\n",
      "row_num: 14 | seq_id: 986 | Processed : 5.11%\n",
      "sum(pos): 2.095509565377374 | sum(neg): 5.519496216097983 | sum(pos)/sum(neg) : 0.3796559474514502 \n",
      "sum(log_odds): -10.942553618260668\n",
      "Outcome: -1 | Predict: -1\n"
     ]
    },
    {
     "data": {
      "text/markdown": [
       "<span style='color:blue'>Model Result vs. Actual is **CORRECT**</span>"
      ],
      "text/plain": [
       "<IPython.core.display.Markdown object>"
      ]
     },
     "metadata": {},
     "output_type": "display_data"
    },
    {
     "name": "stdout",
     "output_type": "stream",
     "text": [
      "==========================================================================================\n",
      "row_num: 15 | seq_id: 5199 | Processed : 5.47%\n",
      "sum(pos): 3.7134509538387013 | sum(neg): 8.605135129627294 | sum(pos)/sum(neg) : 0.4315389471402221 \n",
      "sum(log_odds): -14.815104938690869\n",
      "Outcome: -1 | Predict: -1\n"
     ]
    },
    {
     "data": {
      "text/markdown": [
       "<span style='color:blue'>Model Result vs. Actual is **CORRECT**</span>"
      ],
      "text/plain": [
       "<IPython.core.display.Markdown object>"
      ]
     },
     "metadata": {},
     "output_type": "display_data"
    },
    {
     "name": "stdout",
     "output_type": "stream",
     "text": [
      "==========================================================================================\n",
      "row_num: 16 | seq_id: 6479 | Processed : 5.84%\n",
      "sum(pos): 2.9507784766148033 | sum(neg): 7.982900203099002 | sum(pos)/sum(neg) : 0.36963740013551666 \n",
      "sum(log_odds): -15.174087504049197\n",
      "Outcome: -1 | Predict: -1\n"
     ]
    },
    {
     "data": {
      "text/markdown": [
       "<span style='color:blue'>Model Result vs. Actual is **CORRECT**</span>"
      ],
      "text/plain": [
       "<IPython.core.display.Markdown object>"
      ]
     },
     "metadata": {},
     "output_type": "display_data"
    },
    {
     "name": "stdout",
     "output_type": "stream",
     "text": [
      "==========================================================================================\n",
      "row_num: 17 | seq_id: 9315 | Processed : 6.20%\n",
      "sum(pos): 2.095509565377374 | sum(neg): 5.519496216097983 | sum(pos)/sum(neg) : 0.3796559474514502 \n",
      "sum(log_odds): -10.942553618260668\n",
      "Outcome: -1 | Predict: -1\n"
     ]
    },
    {
     "data": {
      "text/markdown": [
       "<span style='color:blue'>Model Result vs. Actual is **CORRECT**</span>"
      ],
      "text/plain": [
       "<IPython.core.display.Markdown object>"
      ]
     },
     "metadata": {},
     "output_type": "display_data"
    },
    {
     "name": "stdout",
     "output_type": "stream",
     "text": [
      "==========================================================================================\n",
      "row_num: 18 | seq_id: 3383 | Processed : 6.57%\n",
      "sum(pos): 2.095509565377374 | sum(neg): 5.519496216097983 | sum(pos)/sum(neg) : 0.3796559474514502 \n",
      "sum(log_odds): -10.942553618260668\n",
      "Outcome: -1 | Predict: -1\n"
     ]
    },
    {
     "data": {
      "text/markdown": [
       "<span style='color:blue'>Model Result vs. Actual is **CORRECT**</span>"
      ],
      "text/plain": [
       "<IPython.core.display.Markdown object>"
      ]
     },
     "metadata": {},
     "output_type": "display_data"
    },
    {
     "name": "stdout",
     "output_type": "stream",
     "text": [
      "==========================================================================================\n",
      "row_num: 19 | seq_id: 5561 | Processed : 6.93%\n",
      "sum(pos): 1.6678751097586595 | sum(neg): 4.287794222597475 | sum(pos)/sum(neg) : 0.38898207870346174 \n",
      "sum(log_odds): -8.826786675366403\n",
      "Outcome: -1 | Predict: -1\n"
     ]
    },
    {
     "data": {
      "text/markdown": [
       "<span style='color:blue'>Model Result vs. Actual is **CORRECT**</span>"
      ],
      "text/plain": [
       "<IPython.core.display.Markdown object>"
      ]
     },
     "metadata": {},
     "output_type": "display_data"
    },
    {
     "name": "stdout",
     "output_type": "stream",
     "text": [
      "==========================================================================================\n",
      "row_num: 20 | seq_id: 8284 | Processed : 7.30%\n",
      "sum(pos): 5.978767487701084 | sum(neg): 10.884431123808932 | sum(pos)/sum(neg) : 0.5492953577172213 \n",
      "sum(log_odds): -16.55407748134933\n",
      "Outcome: -1 | Predict: -1\n"
     ]
    },
    {
     "data": {
      "text/markdown": [
       "<span style='color:blue'>Model Result vs. Actual is **CORRECT**</span>"
      ],
      "text/plain": [
       "<IPython.core.display.Markdown object>"
      ]
     },
     "metadata": {},
     "output_type": "display_data"
    },
    {
     "name": "stdout",
     "output_type": "stream",
     "text": [
      "==========================================================================================\n",
      "row_num: 21 | seq_id: 9548 | Processed : 7.66%\n",
      "sum(pos): 1.6678751097586595 | sum(neg): 4.287794222597475 | sum(pos)/sum(neg) : 0.38898207870346174 \n",
      "sum(log_odds): -8.826786675366403\n",
      "Outcome: -1 | Predict: -1\n"
     ]
    },
    {
     "data": {
      "text/markdown": [
       "<span style='color:blue'>Model Result vs. Actual is **CORRECT**</span>"
      ],
      "text/plain": [
       "<IPython.core.display.Markdown object>"
      ]
     },
     "metadata": {},
     "output_type": "display_data"
    },
    {
     "name": "stdout",
     "output_type": "stream",
     "text": [
      "==========================================================================================\n",
      "row_num: 22 | seq_id: 4779 | Processed : 8.03%\n",
      "sum(pos): 4.273522409232595 | sum(neg): 9.46834633666435 | sum(pos)/sum(neg) : 0.4513483408062717 \n",
      "sum(log_odds): -16.1642715645348\n",
      "Outcome: -1 | Predict: -1\n"
     ]
    },
    {
     "data": {
      "text/markdown": [
       "<span style='color:blue'>Model Result vs. Actual is **CORRECT**</span>"
      ],
      "text/plain": [
       "<IPython.core.display.Markdown object>"
      ]
     },
     "metadata": {},
     "output_type": "display_data"
    },
    {
     "name": "stdout",
     "output_type": "stream",
     "text": [
      "==========================================================================================\n",
      "row_num: 23 | seq_id: 3697 | Processed : 8.39%\n",
      "sum(pos): 2.9507784766148033 | sum(neg): 7.982900203099002 | sum(pos)/sum(neg) : 0.36963740013551666 \n",
      "sum(log_odds): -15.174087504049197\n",
      "Outcome: -1 | Predict: -1\n"
     ]
    },
    {
     "data": {
      "text/markdown": [
       "<span style='color:blue'>Model Result vs. Actual is **CORRECT**</span>"
      ],
      "text/plain": [
       "<IPython.core.display.Markdown object>"
      ]
     },
     "metadata": {},
     "output_type": "display_data"
    },
    {
     "name": "stdout",
     "output_type": "stream",
     "text": [
      "==========================================================================================\n",
      "row_num: 24 | seq_id: 1573 | Processed : 8.76%\n",
      "sum(pos): 2.3093267931867314 | sum(neg): 6.135347212848238 | sum(pos)/sum(neg) : 0.3763970828498006 \n",
      "sum(log_odds): -12.0004370897078\n",
      "Outcome: -1 | Predict: -1\n"
     ]
    },
    {
     "data": {
      "text/markdown": [
       "<span style='color:blue'>Model Result vs. Actual is **CORRECT**</span>"
      ],
      "text/plain": [
       "<IPython.core.display.Markdown object>"
      ]
     },
     "metadata": {},
     "output_type": "display_data"
    },
    {
     "name": "stdout",
     "output_type": "stream",
     "text": [
      "==========================================================================================\n",
      "row_num: 25 | seq_id: 1781 | Processed : 9.12%\n",
      "sum(pos): 7.206420478839877 | sum(neg): 11.389846688174543 | sum(pos)/sum(neg) : 0.632705661114992 \n",
      "sum(log_odds): -14.548691994939357\n",
      "Outcome: -1 | Predict: -1\n"
     ]
    },
    {
     "data": {
      "text/markdown": [
       "<span style='color:blue'>Model Result vs. Actual is **CORRECT**</span>"
      ],
      "text/plain": [
       "<IPython.core.display.Markdown object>"
      ]
     },
     "metadata": {},
     "output_type": "display_data"
    },
    {
     "name": "stdout",
     "output_type": "stream",
     "text": [
      "==========================================================================================\n",
      "row_num: 26 | seq_id: 1983 | Processed : 9.49%\n",
      "sum(pos): 7.545159122406325 | sum(neg): 11.677123030122852 | sum(pos)/sum(neg) : 0.6461488076251728 \n",
      "sum(log_odds): -14.383907764269381\n",
      "Outcome: -1 | Predict: -1\n"
     ]
    },
    {
     "data": {
      "text/markdown": [
       "<span style='color:blue'>Model Result vs. Actual is **CORRECT**</span>"
      ],
      "text/plain": [
       "<IPython.core.display.Markdown object>"
      ]
     },
     "metadata": {},
     "output_type": "display_data"
    },
    {
     "name": "stdout",
     "output_type": "stream",
     "text": [
      "==========================================================================================\n",
      "row_num: 27 | seq_id: 96 | Processed : 9.85%\n",
      "sum(pos): 3.8095958679120874 | sum(neg): 9.156613300820144 | sum(pos)/sum(neg) : 0.4160485697884465 \n",
      "sum(log_odds): -16.561850620925284\n",
      "Outcome: -1 | Predict: -1\n"
     ]
    },
    {
     "data": {
      "text/markdown": [
       "<span style='color:blue'>Model Result vs. Actual is **CORRECT**</span>"
      ],
      "text/plain": [
       "<IPython.core.display.Markdown object>"
      ]
     },
     "metadata": {},
     "output_type": "display_data"
    },
    {
     "name": "stdout",
     "output_type": "stream",
     "text": [
      "==========================================================================================\n",
      "row_num: 28 | seq_id: 4815 | Processed : 10.22%\n",
      "sum(pos): 5.216095010477188 | sum(neg): 10.262196197280645 | sum(pos)/sum(neg) : 0.5082825264887636 \n",
      "sum(log_odds): -16.913060046707663\n",
      "Outcome: -1 | Predict: -1\n"
     ]
    },
    {
     "data": {
      "text/markdown": [
       "<span style='color:blue'>Model Result vs. Actual is **CORRECT**</span>"
      ],
      "text/plain": [
       "<IPython.core.display.Markdown object>"
      ]
     },
     "metadata": {},
     "output_type": "display_data"
    },
    {
     "name": "stdout",
     "output_type": "stream",
     "text": [
      "==========================================================================================\n",
      "row_num: 29 | seq_id: 9217 | Processed : 10.58%\n",
      "sum(pos): 2.9507784766148033 | sum(neg): 7.982900203099002 | sum(pos)/sum(neg) : 0.36963740013551666 \n",
      "sum(log_odds): -15.174087504049197\n",
      "Outcome: -1 | Predict: -1\n"
     ]
    },
    {
     "data": {
      "text/markdown": [
       "<span style='color:blue'>Model Result vs. Actual is **CORRECT**</span>"
      ],
      "text/plain": [
       "<IPython.core.display.Markdown object>"
      ]
     },
     "metadata": {},
     "output_type": "display_data"
    },
    {
     "name": "stdout",
     "output_type": "stream",
     "text": [
      "==========================================================================================\n",
      "row_num: 30 | seq_id: 7891 | Processed : 10.95%\n",
      "sum(pos): 5.978767487701084 | sum(neg): 10.884431123808932 | sum(pos)/sum(neg) : 0.5492953577172213 \n",
      "sum(log_odds): -16.55407748134933\n",
      "Outcome: -1 | Predict: -1\n"
     ]
    },
    {
     "data": {
      "text/markdown": [
       "<span style='color:blue'>Model Result vs. Actual is **CORRECT**</span>"
      ],
      "text/plain": [
       "<IPython.core.display.Markdown object>"
      ]
     },
     "metadata": {},
     "output_type": "display_data"
    },
    {
     "name": "stdout",
     "output_type": "stream",
     "text": [
      "==========================================================================================\n",
      "row_num: 31 | seq_id: 992 | Processed : 11.31%\n",
      "sum(pos): 5.177377495159208 | sum(neg): 9.916868165471499 | sum(pos)/sum(neg) : 0.5220778786982139 \n",
      "sum(log_odds): -14.724857354420855\n",
      "Outcome: -1 | Predict: -1\n"
     ]
    },
    {
     "data": {
      "text/markdown": [
       "<span style='color:blue'>Model Result vs. Actual is **CORRECT**</span>"
      ],
      "text/plain": [
       "<IPython.core.display.Markdown object>"
      ]
     },
     "metadata": {},
     "output_type": "display_data"
    },
    {
     "name": "stdout",
     "output_type": "stream",
     "text": [
      "==========================================================================================\n",
      "row_num: 32 | seq_id: 8676 | Processed : 11.68%\n",
      "sum(pos): 1.5624968850100807 | sum(neg): 3.128508196502504 | sum(pos)/sum(neg) : 0.4994383223150459 \n",
      "sum(log_odds): -5.218099574674205\n",
      "Outcome: -1 | Predict: -1\n"
     ]
    },
    {
     "data": {
      "text/markdown": [
       "<span style='color:blue'>Model Result vs. Actual is **CORRECT**</span>"
      ],
      "text/plain": [
       "<IPython.core.display.Markdown object>"
      ]
     },
     "metadata": {},
     "output_type": "display_data"
    },
    {
     "name": "stdout",
     "output_type": "stream",
     "text": [
      "==========================================================================================\n",
      "row_num: 33 | seq_id: 1787 | Processed : 12.04%\n",
      "sum(pos): 3.273034707484939 | sum(neg): 8.055316170504542 | sum(pos)/sum(neg) : 0.40631983130215654 \n",
      "sum(log_odds): -13.681167346251264\n",
      "Outcome: -1 | Predict: -1\n"
     ]
    },
    {
     "data": {
      "text/markdown": [
       "<span style='color:blue'>Model Result vs. Actual is **CORRECT**</span>"
      ],
      "text/plain": [
       "<IPython.core.display.Markdown object>"
      ]
     },
     "metadata": {},
     "output_type": "display_data"
    },
    {
     "name": "stdout",
     "output_type": "stream",
     "text": [
      "==========================================================================================\n",
      "row_num: 34 | seq_id: 1779 | Processed : 12.41%\n",
      "sum(pos): 1.776314112819438 | sum(neg): 3.744359193252759 | sum(pos)/sum(neg) : 0.4743973591049468 \n",
      "sum(log_odds): -6.275983046121337\n",
      "Outcome: -1 | Predict: -1\n"
     ]
    },
    {
     "data": {
      "text/markdown": [
       "<span style='color:blue'>Model Result vs. Actual is **CORRECT**</span>"
      ],
      "text/plain": [
       "<IPython.core.display.Markdown object>"
      ]
     },
     "metadata": {},
     "output_type": "display_data"
    },
    {
     "name": "stdout",
     "output_type": "stream",
     "text": [
      "==========================================================================================\n",
      "row_num: 35 | seq_id: 7791 | Processed : 12.77%\n",
      "sum(pos): 1.990131340628795 | sum(neg): 4.360210190003014 | sum(pos)/sum(neg) : 0.456430138435005 \n",
      "sum(log_odds): -7.333866517568469\n",
      "Outcome: -1 | Predict: -1\n"
     ]
    },
    {
     "data": {
      "text/markdown": [
       "<span style='color:blue'>Model Result vs. Actual is **CORRECT**</span>"
      ],
      "text/plain": [
       "<IPython.core.display.Markdown object>"
      ]
     },
     "metadata": {},
     "output_type": "display_data"
    },
    {
     "name": "stdout",
     "output_type": "stream",
     "text": [
      "==========================================================================================\n",
      "row_num: 36 | seq_id: 6000 | Processed : 13.14%\n",
      "sum(pos): 1.5624968850100807 | sum(neg): 3.128508196502504 | sum(pos)/sum(neg) : 0.4994383223150459 \n",
      "sum(log_odds): -5.218099574674205\n",
      "Outcome: -1 | Predict: -1\n"
     ]
    },
    {
     "data": {
      "text/markdown": [
       "<span style='color:blue'>Model Result vs. Actual is **CORRECT**</span>"
      ],
      "text/plain": [
       "<IPython.core.display.Markdown object>"
      ]
     },
     "metadata": {},
     "output_type": "display_data"
    },
    {
     "name": "stdout",
     "output_type": "stream",
     "text": [
      "==========================================================================================\n",
      "row_num: 37 | seq_id: 2966 | Processed : 13.50%\n",
      "sum(pos): 2.203948568438152 | sum(neg): 4.9760611867532685 | sum(pos)/sum(neg) : 0.4429102629013617 \n",
      "sum(log_odds): -8.391749989015603\n",
      "Outcome: -1 | Predict: -1\n"
     ]
    },
    {
     "data": {
      "text/markdown": [
       "<span style='color:blue'>Model Result vs. Actual is **CORRECT**</span>"
      ],
      "text/plain": [
       "<IPython.core.display.Markdown object>"
      ]
     },
     "metadata": {},
     "output_type": "display_data"
    },
    {
     "name": "stdout",
     "output_type": "stream",
     "text": [
      "==========================================================================================\n",
      "row_num: 38 | seq_id: 4405 | Processed : 13.87%\n",
      "sum(pos): 3.0592174796755813 | sum(neg): 7.439465173754287 | sum(pos)/sum(neg) : 0.41121470538879656 \n",
      "sum(log_odds): -12.623283874804132\n",
      "Outcome: -1 | Predict: -1\n"
     ]
    },
    {
     "data": {
      "text/markdown": [
       "<span style='color:blue'>Model Result vs. Actual is **CORRECT**</span>"
      ],
      "text/plain": [
       "<IPython.core.display.Markdown object>"
      ]
     },
     "metadata": {},
     "output_type": "display_data"
    },
    {
     "name": "stdout",
     "output_type": "stream",
     "text": [
      "==========================================================================================\n",
      "row_num: 39 | seq_id: 6727 | Processed : 14.23%\n",
      "sum(pos): 3.273034707484939 | sum(neg): 8.055316170504542 | sum(pos)/sum(neg) : 0.40631983130215654 \n",
      "sum(log_odds): -13.681167346251264\n",
      "Outcome: -1 | Predict: -1\n"
     ]
    },
    {
     "data": {
      "text/markdown": [
       "<span style='color:blue'>Model Result vs. Actual is **CORRECT**</span>"
      ],
      "text/plain": [
       "<IPython.core.display.Markdown object>"
      ]
     },
     "metadata": {},
     "output_type": "display_data"
    },
    {
     "name": "stdout",
     "output_type": "stream",
     "text": [
      "==========================================================================================\n",
      "row_num: 40 | seq_id: 4324 | Processed : 14.60%\n",
      "sum(pos): 5.538351241347324 | sum(neg): 10.334612164686183 | sum(pos)/sum(neg) : 0.5359031527348563 \n",
      "sum(log_odds): -15.42013988890973\n",
      "Outcome: -1 | Predict: -1\n"
     ]
    },
    {
     "data": {
      "text/markdown": [
       "<span style='color:blue'>Model Result vs. Actual is **CORRECT**</span>"
      ],
      "text/plain": [
       "<IPython.core.display.Markdown object>"
      ]
     },
     "metadata": {},
     "output_type": "display_data"
    },
    {
     "name": "stdout",
     "output_type": "stream",
     "text": [
      "==========================================================================================\n",
      "row_num: 41 | seq_id: 3739 | Processed : 14.96%\n",
      "sum(pos): 4.131852098782223 | sum(neg): 9.229029268225682 | sum(pos)/sum(neg) : 0.44770170065530496 \n",
      "sum(log_odds): -15.068930463127352\n",
      "Outcome: -1 | Predict: -1\n"
     ]
    },
    {
     "data": {
      "text/markdown": [
       "<span style='color:blue'>Model Result vs. Actual is **CORRECT**</span>"
      ],
      "text/plain": [
       "<IPython.core.display.Markdown object>"
      ]
     },
     "metadata": {},
     "output_type": "display_data"
    },
    {
     "name": "stdout",
     "output_type": "stream",
     "text": [
      "==========================================================================================\n",
      "row_num: 42 | seq_id: 9666 | Processed : 15.33%\n",
      "sum(pos): 2.8454002518662245 | sum(neg): 6.823614177004032 | sum(pos)/sum(neg) : 0.4169931326796561 \n",
      "sum(log_odds): -11.565400403357\n",
      "Outcome: -1 | Predict: -1\n"
     ]
    },
    {
     "data": {
      "text/markdown": [
       "<span style='color:blue'>Model Result vs. Actual is **CORRECT**</span>"
      ],
      "text/plain": [
       "<IPython.core.display.Markdown object>"
      ]
     },
     "metadata": {},
     "output_type": "display_data"
    },
    {
     "name": "stdout",
     "output_type": "stream",
     "text": [
      "==========================================================================================\n",
      "row_num: 43 | seq_id: 8141 | Processed : 15.69%\n",
      "sum(pos): 4.595778640102731 | sum(neg): 9.540762304069888 | sum(pos)/sum(neg) : 0.481699312238632 \n",
      "sum(log_odds): -14.671351406736868\n",
      "Outcome: -1 | Predict: -1\n"
     ]
    },
    {
     "data": {
      "text/markdown": [
       "<span style='color:blue'>Model Result vs. Actual is **CORRECT**</span>"
      ],
      "text/plain": [
       "<IPython.core.display.Markdown object>"
      ]
     },
     "metadata": {},
     "output_type": "display_data"
    },
    {
     "name": "stdout",
     "output_type": "stream",
     "text": [
      "==========================================================================================\n",
      "row_num: 44 | seq_id: 2119 | Processed : 16.06%\n",
      "sum(pos): 6.0022777826678295 | sum(neg): 10.646345200530387 | sum(pos)/sum(neg) : 0.5637876350626696 \n",
      "sum(log_odds): -15.022560832519243\n",
      "Outcome: -1 | Predict: -1\n"
     ]
    },
    {
     "data": {
      "text/markdown": [
       "<span style='color:blue'>Model Result vs. Actual is **CORRECT**</span>"
      ],
      "text/plain": [
       "<IPython.core.display.Markdown object>"
      ]
     },
     "metadata": {},
     "output_type": "display_data"
    },
    {
     "name": "stdout",
     "output_type": "stream",
     "text": [
      "==========================================================================================\n",
      "row_num: 45 | seq_id: 3687 | Processed : 16.42%\n",
      "sum(pos): 2.203948568438152 | sum(neg): 4.9760611867532685 | sum(pos)/sum(neg) : 0.4429102629013617 \n",
      "sum(log_odds): -8.391749989015603\n",
      "Outcome: -1 | Predict: -1\n"
     ]
    },
    {
     "data": {
      "text/markdown": [
       "<span style='color:blue'>Model Result vs. Actual is **CORRECT**</span>"
      ],
      "text/plain": [
       "<IPython.core.display.Markdown object>"
      ]
     },
     "metadata": {},
     "output_type": "display_data"
    },
    {
     "name": "stdout",
     "output_type": "stream",
     "text": [
      "==========================================================================================\n",
      "row_num: 46 | seq_id: 9962 | Processed : 16.79%\n",
      "sum(pos): 1.776314112819438 | sum(neg): 3.744359193252759 | sum(pos)/sum(neg) : 0.4743973591049468 \n",
      "sum(log_odds): -6.275983046121337\n",
      "Outcome: -1 | Predict: -1\n"
     ]
    },
    {
     "data": {
      "text/markdown": [
       "<span style='color:blue'>Model Result vs. Actual is **CORRECT**</span>"
      ],
      "text/plain": [
       "<IPython.core.display.Markdown object>"
      ]
     },
     "metadata": {},
     "output_type": "display_data"
    },
    {
     "name": "stdout",
     "output_type": "stream",
     "text": [
      "==========================================================================================\n",
      "row_num: 47 | seq_id: 4191 | Processed : 17.15%\n",
      "sum(pos): 7.5286767097100125 | sum(neg): 11.462262655580082 | sum(pos)/sum(neg) : 0.656822909745912 \n",
      "sum(log_odds): -13.055771837141425\n",
      "Outcome: -1 | Predict: -1\n"
     ]
    },
    {
     "data": {
      "text/markdown": [
       "<span style='color:blue'>Model Result vs. Actual is **CORRECT**</span>"
      ],
      "text/plain": [
       "<IPython.core.display.Markdown object>"
      ]
     },
     "metadata": {},
     "output_type": "display_data"
    },
    {
     "name": "stdout",
     "output_type": "stream",
     "text": [
      "==========================================================================================\n",
      "row_num: 48 | seq_id: 9268 | Processed : 17.52%\n",
      "sum(pos): 2.203948568438152 | sum(neg): 4.9760611867532685 | sum(pos)/sum(neg) : 0.4429102629013617 \n",
      "sum(log_odds): -8.391749989015603\n",
      "Outcome: -1 | Predict: -1\n"
     ]
    },
    {
     "data": {
      "text/markdown": [
       "<span style='color:blue'>Model Result vs. Actual is **CORRECT**</span>"
      ],
      "text/plain": [
       "<IPython.core.display.Markdown object>"
      ]
     },
     "metadata": {},
     "output_type": "display_data"
    },
    {
     "name": "stdout",
     "output_type": "stream",
     "text": [
      "==========================================================================================\n",
      "row_num: 49 | seq_id: 8411 | Processed : 17.88%\n",
      "sum(pos): 3.0592174796755813 | sum(neg): 7.439465173754287 | sum(pos)/sum(neg) : 0.41121470538879656 \n",
      "sum(log_odds): -12.623283874804132\n",
      "Outcome: -1 | Predict: -1\n"
     ]
    },
    {
     "data": {
      "text/markdown": [
       "<span style='color:blue'>Model Result vs. Actual is **CORRECT**</span>"
      ],
      "text/plain": [
       "<IPython.core.display.Markdown object>"
      ]
     },
     "metadata": {},
     "output_type": "display_data"
    },
    {
     "name": "stdout",
     "output_type": "stream",
     "text": [
      "==========================================================================================\n",
      "row_num: 50 | seq_id: 3818 | Processed : 18.25%\n",
      "sum(pos): 3.7369612488054464 | sum(neg): 8.367049206348748 | sum(pos)/sum(neg) : 0.44662833415272807 \n",
      "sum(log_odds): -13.28358828986078\n",
      "Outcome: -1 | Predict: -1\n"
     ]
    },
    {
     "data": {
      "text/markdown": [
       "<span style='color:blue'>Model Result vs. Actual is **CORRECT**</span>"
      ],
      "text/plain": [
       "<IPython.core.display.Markdown object>"
      ]
     },
     "metadata": {},
     "output_type": "display_data"
    },
    {
     "name": "stdout",
     "output_type": "stream",
     "text": [
      "==========================================================================================\n",
      "row_num: 51 | seq_id: 7189 | Processed : 18.61%\n",
      "sum(pos): 1.776314112819438 | sum(neg): 3.744359193252759 | sum(pos)/sum(neg) : 0.4743973591049468 \n",
      "sum(log_odds): -6.275983046121337\n",
      "Outcome: -1 | Predict: -1\n"
     ]
    },
    {
     "data": {
      "text/markdown": [
       "<span style='color:blue'>Model Result vs. Actual is **CORRECT**</span>"
      ],
      "text/plain": [
       "<IPython.core.display.Markdown object>"
      ]
     },
     "metadata": {},
     "output_type": "display_data"
    },
    {
     "name": "stdout",
     "output_type": "stream",
     "text": [
      "==========================================================================================\n",
      "row_num: 52 | seq_id: 3017 | Processed : 18.98%\n",
      "sum(pos): 1.776314112819438 | sum(neg): 3.744359193252759 | sum(pos)/sum(neg) : 0.4743973591049468 \n",
      "sum(log_odds): -6.275983046121337\n",
      "Outcome: -1 | Predict: -1\n"
     ]
    },
    {
     "data": {
      "text/markdown": [
       "<span style='color:blue'>Model Result vs. Actual is **CORRECT**</span>"
      ],
      "text/plain": [
       "<IPython.core.display.Markdown object>"
      ]
     },
     "metadata": {},
     "output_type": "display_data"
    },
    {
     "name": "stdout",
     "output_type": "stream",
     "text": [
      "==========================================================================================\n",
      "row_num: 53 | seq_id: 1479 | Processed : 19.34%\n",
      "sum(pos): 4.894524576006121 | sum(neg): 9.851264194753972 | sum(pos)/sum(neg) : 0.4968422812792463 \n",
      "sum(log_odds): -14.709947897769023\n",
      "Outcome: -1 | Predict: -1\n"
     ]
    },
    {
     "data": {
      "text/markdown": [
       "<span style='color:blue'>Model Result vs. Actual is **CORRECT**</span>"
      ],
      "text/plain": [
       "<IPython.core.display.Markdown object>"
      ]
     },
     "metadata": {},
     "output_type": "display_data"
    },
    {
     "name": "stdout",
     "output_type": "stream",
     "text": [
      "==========================================================================================\n",
      "row_num: 54 | seq_id: 7078 | Processed : 19.71%\n",
      "sum(pos): 6.906132868594442 | sum(neg): 11.094867029337538 | sum(pos)/sum(neg) : 0.6224619772668695 \n",
      "sum(log_odds): -13.5831466224053\n",
      "Outcome: -1 | Predict: -1\n"
     ]
    },
    {
     "data": {
      "text/markdown": [
       "<span style='color:blue'>Model Result vs. Actual is **CORRECT**</span>"
      ],
      "text/plain": [
       "<IPython.core.display.Markdown object>"
      ]
     },
     "metadata": {},
     "output_type": "display_data"
    },
    {
     "name": "stdout",
     "output_type": "stream",
     "text": [
      "==========================================================================================\n",
      "row_num: 55 | seq_id: 9031 | Processed : 20.07%\n",
      "sum(pos): 6.514840946380577 | sum(neg): 11.572698087964724 | sum(pos)/sum(neg) : 0.562949184093537 \n",
      "sum(log_odds): -16.119040794998533\n",
      "Outcome: -1 | Predict: -1\n"
     ]
    },
    {
     "data": {
      "text/markdown": [
       "<span style='color:blue'>Model Result vs. Actual is **CORRECT**</span>"
      ],
      "text/plain": [
       "<IPython.core.display.Markdown object>"
      ]
     },
     "metadata": {},
     "output_type": "display_data"
    },
    {
     "name": "stdout",
     "output_type": "stream",
     "text": [
      "==========================================================================================\n",
      "row_num: 56 | seq_id: 5122 | Processed : 20.44%\n",
      "sum(pos): 7.742493937519369 | sum(neg): 12.078113652330336 | sum(pos)/sum(neg) : 0.6410350291765587 \n",
      "sum(log_odds): -14.113655308588557\n",
      "Outcome: -1 | Predict: -1\n"
     ]
    },
    {
     "data": {
      "text/markdown": [
       "<span style='color:blue'>Model Result vs. Actual is **CORRECT**</span>"
      ],
      "text/plain": [
       "<IPython.core.display.Markdown object>"
      ]
     },
     "metadata": {},
     "output_type": "display_data"
    },
    {
     "name": "stdout",
     "output_type": "stream",
     "text": [
      "==========================================================================================\n",
      "row_num: 57 | seq_id: 9516 | Processed : 20.80%\n",
      "sum(pos): 3.0592174796755818 | sum(neg): 7.439465173754287 | sum(pos)/sum(neg) : 0.4112147053887966 \n",
      "sum(log_odds): -12.623283874804132\n",
      "Outcome: -1 | Predict: -1\n"
     ]
    },
    {
     "data": {
      "text/markdown": [
       "<span style='color:blue'>Model Result vs. Actual is **CORRECT**</span>"
      ],
      "text/plain": [
       "<IPython.core.display.Markdown object>"
      ]
     },
     "metadata": {},
     "output_type": "display_data"
    },
    {
     "name": "stdout",
     "output_type": "stream",
     "text": [
      "==========================================================================================\n",
      "row_num: 58 | seq_id: 2560 | Processed : 21.17%\n",
      "sum(pos): 4.249524412518194 | sum(neg): 9.293402093783087 | sum(pos)/sum(neg) : 0.45726251480724756 \n",
      "sum(log_odds): -14.380068252340068\n",
      "Outcome: -1 | Predict: -1\n"
     ]
    },
    {
     "data": {
      "text/markdown": [
       "<span style='color:blue'>Model Result vs. Actual is **CORRECT**</span>"
      ],
      "text/plain": [
       "<IPython.core.display.Markdown object>"
      ]
     },
     "metadata": {},
     "output_type": "display_data"
    },
    {
     "name": "stdout",
     "output_type": "stream",
     "text": [
      "==========================================================================================\n",
      "row_num: 59 | seq_id: 1769 | Processed : 21.53%\n",
      "sum(pos): 3.4868519352942964 | sum(neg): 8.671167167254795 | sum(pos)/sum(neg) : 0.40212025302220056 \n",
      "sum(log_odds): -14.739050817698397\n",
      "Outcome: -1 | Predict: -1\n"
     ]
    },
    {
     "data": {
      "text/markdown": [
       "<span style='color:blue'>Model Result vs. Actual is **CORRECT**</span>"
      ],
      "text/plain": [
       "<IPython.core.display.Markdown object>"
      ]
     },
     "metadata": {},
     "output_type": "display_data"
    },
    {
     "name": "stdout",
     "output_type": "stream",
     "text": [
      "==========================================================================================\n",
      "row_num: 60 | seq_id: 4228 | Processed : 21.90%\n",
      "sum(pos): 2.4177657962475094 | sum(neg): 5.591912183503523 | sum(pos)/sum(neg) : 0.43236834143784725 \n",
      "sum(log_odds): -9.449633460462735\n",
      "Outcome: -1 | Predict: -1\n"
     ]
    },
    {
     "data": {
      "text/markdown": [
       "<span style='color:blue'>Model Result vs. Actual is **CORRECT**</span>"
      ],
      "text/plain": [
       "<IPython.core.display.Markdown object>"
      ]
     },
     "metadata": {},
     "output_type": "display_data"
    },
    {
     "name": "stdout",
     "output_type": "stream",
     "text": [
      "==========================================================================================\n",
      "row_num: 61 | seq_id: 7691 | Processed : 22.26%\n",
      "sum(pos): 3.0592174796755818 | sum(neg): 7.439465173754287 | sum(pos)/sum(neg) : 0.4112147053887966 \n",
      "sum(log_odds): -12.623283874804132\n",
      "Outcome: -1 | Predict: -1\n"
     ]
    },
    {
     "data": {
      "text/markdown": [
       "<span style='color:blue'>Model Result vs. Actual is **CORRECT**</span>"
      ],
      "text/plain": [
       "<IPython.core.display.Markdown object>"
      ]
     },
     "metadata": {},
     "output_type": "display_data"
    },
    {
     "name": "stdout",
     "output_type": "stream",
     "text": [
      "==========================================================================================\n",
      "row_num: 62 | seq_id: 8545 | Processed : 22.63%\n",
      "sum(pos): 5.7134509538387 | sum(neg): 10.60513512962729 | sum(pos)/sum(neg) : 0.5387438145768818 \n",
      "sum(log_odds): -14.289820668070055\n",
      "Outcome: -1 | Predict: -1\n"
     ]
    },
    {
     "data": {
      "text/markdown": [
       "<span style='color:blue'>Model Result vs. Actual is **CORRECT**</span>"
      ],
      "text/plain": [
       "<IPython.core.display.Markdown object>"
      ]
     },
     "metadata": {},
     "output_type": "display_data"
    },
    {
     "name": "stdout",
     "output_type": "stream",
     "text": [
      "==========================================================================================\n",
      "row_num: 63 | seq_id: 8118 | Processed : 22.99%\n",
      "sum(pos): 7.119950096403799 | sum(neg): 11.710718026087791 | sum(pos)/sum(neg) : 0.6079857853756527 \n",
      "sum(log_odds): -14.641030093852432\n",
      "Outcome: -1 | Predict: -1\n"
     ]
    },
    {
     "data": {
      "text/markdown": [
       "<span style='color:blue'>Model Result vs. Actual is **CORRECT**</span>"
      ],
      "text/plain": [
       "<IPython.core.display.Markdown object>"
      ]
     },
     "metadata": {},
     "output_type": "display_data"
    },
    {
     "name": "stdout",
     "output_type": "stream",
     "text": [
      "==========================================================================================\n",
      "row_num: 64 | seq_id: 1871 | Processed : 23.36%\n",
      "sum(pos): 1.9901313406287953 | sum(neg): 4.360210190003014 | sum(pos)/sum(neg) : 0.4564301384350051 \n",
      "sum(log_odds): -7.333866517568469\n",
      "Outcome: -1 | Predict: -1\n"
     ]
    },
    {
     "data": {
      "text/markdown": [
       "<span style='color:blue'>Model Result vs. Actual is **CORRECT**</span>"
      ],
      "text/plain": [
       "<IPython.core.display.Markdown object>"
      ]
     },
     "metadata": {},
     "output_type": "display_data"
    },
    {
     "name": "stdout",
     "output_type": "stream",
     "text": [
      "==========================================================================================\n",
      "row_num: 65 | seq_id: 6091 | Processed : 23.72%\n",
      "sum(pos): 3.2730347074849386 | sum(neg): 8.055316170504542 | sum(pos)/sum(neg) : 0.4063198313021565 \n",
      "sum(log_odds): -13.681167346251264\n",
      "Outcome: -1 | Predict: -1\n"
     ]
    },
    {
     "data": {
      "text/markdown": [
       "<span style='color:blue'>Model Result vs. Actual is **CORRECT**</span>"
      ],
      "text/plain": [
       "<IPython.core.display.Markdown object>"
      ]
     },
     "metadata": {},
     "output_type": "display_data"
    },
    {
     "name": "stdout",
     "output_type": "stream",
     "text": [
      "==========================================================================================\n",
      "row_num: 66 | seq_id: 8265 | Processed : 24.09%\n",
      "sum(pos): 1.776314112819438 | sum(neg): 3.744359193252759 | sum(pos)/sum(neg) : 0.4743973591049468 \n",
      "sum(log_odds): -6.275983046121337\n",
      "Outcome: -1 | Predict: -1\n"
     ]
    },
    {
     "data": {
      "text/markdown": [
       "<span style='color:blue'>Model Result vs. Actual is **CORRECT**</span>"
      ],
      "text/plain": [
       "<IPython.core.display.Markdown object>"
      ]
     },
     "metadata": {},
     "output_type": "display_data"
    },
    {
     "name": "stdout",
     "output_type": "stream",
     "text": [
      "==========================================================================================\n",
      "row_num: 67 | seq_id: 8740 | Processed : 24.45%\n",
      "sum(pos): 3.9507784766148037 | sum(neg): 8.982900203099002 | sum(pos)/sum(neg) : 0.43981101729838085 \n",
      "sum(log_odds): -14.341471761307913\n",
      "Outcome: -1 | Predict: -1\n"
     ]
    },
    {
     "data": {
      "text/markdown": [
       "<span style='color:blue'>Model Result vs. Actual is **CORRECT**</span>"
      ],
      "text/plain": [
       "<IPython.core.display.Markdown object>"
      ]
     },
     "metadata": {},
     "output_type": "display_data"
    },
    {
     "name": "stdout",
     "output_type": "stream",
     "text": [
      "==========================================================================================\n",
      "row_num: 68 | seq_id: 9359 | Processed : 24.82%\n",
      "sum(pos): 6.514840946380577 | sum(neg): 11.572698087964724 | sum(pos)/sum(neg) : 0.562949184093537 \n",
      "sum(log_odds): -16.119040794998533\n",
      "Outcome: -1 | Predict: -1\n"
     ]
    },
    {
     "data": {
      "text/markdown": [
       "<span style='color:blue'>Model Result vs. Actual is **CORRECT**</span>"
      ],
      "text/plain": [
       "<IPython.core.display.Markdown object>"
      ]
     },
     "metadata": {},
     "output_type": "display_data"
    },
    {
     "name": "stdout",
     "output_type": "stream",
     "text": [
      "==========================================================================================\n",
      "row_num: 69 | seq_id: 5989 | Processed : 25.18%\n",
      "sum(pos): 2.631583024056867 | sum(neg): 6.207763180253777 | sum(pos)/sum(neg) : 0.4239180760676644 \n",
      "sum(log_odds): -10.507516931909867\n",
      "Outcome: -1 | Predict: -1\n"
     ]
    },
    {
     "data": {
      "text/markdown": [
       "<span style='color:blue'>Model Result vs. Actual is **CORRECT**</span>"
      ],
      "text/plain": [
       "<IPython.core.display.Markdown object>"
      ]
     },
     "metadata": {},
     "output_type": "display_data"
    },
    {
     "name": "stdout",
     "output_type": "stream",
     "text": [
      "==========================================================================================\n",
      "row_num: 70 | seq_id: 10011 | Processed : 25.55%\n",
      "sum(pos): 4.463341640327551 | sum(neg): 9.90925309053334 | sum(pos)/sum(neg) : 0.4504216008562279 \n",
      "sum(log_odds): -15.4379517237872\n",
      "Outcome: -1 | Predict: -1\n"
     ]
    },
    {
     "data": {
      "text/markdown": [
       "<span style='color:blue'>Model Result vs. Actual is **CORRECT**</span>"
      ],
      "text/plain": [
       "<IPython.core.display.Markdown object>"
      ]
     },
     "metadata": {},
     "output_type": "display_data"
    },
    {
     "name": "stdout",
     "output_type": "stream",
     "text": [
      "==========================================================================================\n",
      "row_num: 71 | seq_id: 8715 | Processed : 25.91%\n",
      "sum(pos): 2.2039485684381526 | sum(neg): 4.9760611867532685 | sum(pos)/sum(neg) : 0.4429102629013618 \n",
      "sum(log_odds): -8.3917499890156\n",
      "Outcome: -1 | Predict: -1\n"
     ]
    },
    {
     "data": {
      "text/markdown": [
       "<span style='color:blue'>Model Result vs. Actual is **CORRECT**</span>"
      ],
      "text/plain": [
       "<IPython.core.display.Markdown object>"
      ]
     },
     "metadata": {},
     "output_type": "display_data"
    },
    {
     "name": "stdout",
     "output_type": "stream",
     "text": [
      "==========================================================================================\n",
      "row_num: 72 | seq_id: 8255 | Processed : 26.28%\n",
      "sum(pos): 6.429912238286543 | sum(neg): 11.878047194030895 | sum(pos)/sum(neg) : 0.5413273859963937 \n",
      "sum(log_odds): -17.138327775413508\n",
      "Outcome: -1 | Predict: -1\n"
     ]
    },
    {
     "data": {
      "text/markdown": [
       "<span style='color:blue'>Model Result vs. Actual is **CORRECT**</span>"
      ],
      "text/plain": [
       "<IPython.core.display.Markdown object>"
      ]
     },
     "metadata": {},
     "output_type": "display_data"
    },
    {
     "name": "stdout",
     "output_type": "stream",
     "text": [
      "==========================================================================================\n",
      "row_num: 73 | seq_id: 40 | Processed : 26.64%\n",
      "sum(pos): 5.023413095721445 | sum(neg): 10.772464297570396 | sum(pos)/sum(neg) : 0.46631977205572334 \n",
      "sum(log_odds): -16.787118349631132\n",
      "Outcome: -1 | Predict: -1\n"
     ]
    },
    {
     "data": {
      "text/markdown": [
       "<span style='color:blue'>Model Result vs. Actual is **CORRECT**</span>"
      ],
      "text/plain": [
       "<IPython.core.display.Markdown object>"
      ]
     },
     "metadata": {},
     "output_type": "display_data"
    },
    {
     "name": "stdout",
     "output_type": "stream",
     "text": [
      "==========================================================================================\n",
      "row_num: 74 | seq_id: 1314 | Processed : 27.01%\n",
      "sum(pos): 3.486851935294296 | sum(neg): 8.671167167254795 | sum(pos)/sum(neg) : 0.4021202530222005 \n",
      "sum(log_odds): -14.739050817698397\n",
      "Outcome: -1 | Predict: -1\n"
     ]
    },
    {
     "data": {
      "text/markdown": [
       "<span style='color:blue'>Model Result vs. Actual is **CORRECT**</span>"
      ],
      "text/plain": [
       "<IPython.core.display.Markdown object>"
      ]
     },
     "metadata": {},
     "output_type": "display_data"
    },
    {
     "name": "stdout",
     "output_type": "stream",
     "text": [
      "==========================================================================================\n",
      "row_num: 75 | seq_id: 3565 | Processed : 27.37%\n",
      "sum(pos): 1.9901313406287953 | sum(neg): 4.360210190003014 | sum(pos)/sum(neg) : 0.4564301384350051 \n",
      "sum(log_odds): -7.333866517568469\n",
      "Outcome: -1 | Predict: -1\n"
     ]
    },
    {
     "data": {
      "text/markdown": [
       "<span style='color:blue'>Model Result vs. Actual is **CORRECT**</span>"
      ],
      "text/plain": [
       "<IPython.core.display.Markdown object>"
      ]
     },
     "metadata": {},
     "output_type": "display_data"
    },
    {
     "name": "stdout",
     "output_type": "stream",
     "text": [
      "==========================================================================================\n",
      "row_num: 76 | seq_id: 8213 | Processed : 27.74%\n",
      "sum(pos): 5.965985696966038 | sum(neg): 11.56631415818669 | sum(pos)/sum(neg) : 0.5158069904873961 \n",
      "sum(log_odds): -17.535906831804\n",
      "Outcome: -1 | Predict: -1\n"
     ]
    },
    {
     "data": {
      "text/markdown": [
       "<span style='color:blue'>Model Result vs. Actual is **CORRECT**</span>"
      ],
      "text/plain": [
       "<IPython.core.display.Markdown object>"
      ]
     },
     "metadata": {},
     "output_type": "display_data"
    },
    {
     "name": "stdout",
     "output_type": "stream",
     "text": [
      "==========================================================================================\n",
      "row_num: 77 | seq_id: 6277 | Processed : 28.10%\n",
      "sum(pos): 5.322159031624834 | sum(neg): 11.08296618825448 | sum(pos)/sum(neg) : 0.4802107072441635 \n",
      "sum(log_odds): -16.825714840663288\n",
      "Outcome: -1 | Predict: -1\n"
     ]
    },
    {
     "data": {
      "text/markdown": [
       "<span style='color:blue'>Model Result vs. Actual is **CORRECT**</span>"
      ],
      "text/plain": [
       "<IPython.core.display.Markdown object>"
      ]
     },
     "metadata": {},
     "output_type": "display_data"
    },
    {
     "name": "stdout",
     "output_type": "stream",
     "text": [
      "==========================================================================================\n",
      "row_num: 78 | seq_id: 7688 | Processed : 28.47%\n",
      "sum(pos): 4.559486554400936 | sum(neg): 10.46073126172619 | sum(pos)/sum(neg) : 0.4358669045521916 \n",
      "sum(log_odds): -17.18469740602162\n",
      "Outcome: -1 | Predict: -1\n"
     ]
    },
    {
     "data": {
      "text/markdown": [
       "<span style='color:blue'>Model Result vs. Actual is **CORRECT**</span>"
      ],
      "text/plain": [
       "<IPython.core.display.Markdown object>"
      ]
     },
     "metadata": {},
     "output_type": "display_data"
    },
    {
     "name": "stdout",
     "output_type": "stream",
     "text": [
      "==========================================================================================\n",
      "row_num: 79 | seq_id: 3854 | Processed : 28.83%\n",
      "sum(pos): 3.0592174796755813 | sum(neg): 7.439465173754287 | sum(pos)/sum(neg) : 0.41121470538879656 \n",
      "sum(log_odds): -12.623283874804132\n",
      "Outcome: -1 | Predict: -1\n"
     ]
    },
    {
     "data": {
      "text/markdown": [
       "<span style='color:blue'>Model Result vs. Actual is **CORRECT**</span>"
      ],
      "text/plain": [
       "<IPython.core.display.Markdown object>"
      ]
     },
     "metadata": {},
     "output_type": "display_data"
    },
    {
     "name": "stdout",
     "output_type": "stream",
     "text": [
      "==========================================================================================\n",
      "row_num: 80 | seq_id: 8892 | Processed : 29.20%\n",
      "sum(pos): 1.776314112819438 | sum(neg): 3.744359193252759 | sum(pos)/sum(neg) : 0.4743973591049468 \n",
      "sum(log_odds): -6.275983046121337\n",
      "Outcome: -1 | Predict: -1\n"
     ]
    },
    {
     "data": {
      "text/markdown": [
       "<span style='color:blue'>Model Result vs. Actual is **CORRECT**</span>"
      ],
      "text/plain": [
       "<IPython.core.display.Markdown object>"
      ]
     },
     "metadata": {},
     "output_type": "display_data"
    },
    {
     "name": "stdout",
     "output_type": "stream",
     "text": [
      "==========================================================================================\n",
      "row_num: 81 | seq_id: 6382 | Processed : 29.56%\n",
      "sum(pos): 1.776314112819438 | sum(neg): 3.744359193252759 | sum(pos)/sum(neg) : 0.4743973591049468 \n",
      "sum(log_odds): -6.275983046121337\n",
      "Outcome: -1 | Predict: -1\n"
     ]
    },
    {
     "data": {
      "text/markdown": [
       "<span style='color:blue'>Model Result vs. Actual is **CORRECT**</span>"
      ],
      "text/plain": [
       "<IPython.core.display.Markdown object>"
      ]
     },
     "metadata": {},
     "output_type": "display_data"
    },
    {
     "name": "stdout",
     "output_type": "stream",
     "text": [
      "==========================================================================================\n",
      "row_num: 82 | seq_id: 7520 | Processed : 29.93%\n",
      "sum(pos): 6.728658174189934 | sum(neg): 12.188549084714978 | sum(pos)/sum(neg) : 0.5520475101198051 \n",
      "sum(log_odds): -17.176924266445667\n",
      "Outcome: -1 | Predict: -1\n"
     ]
    },
    {
     "data": {
      "text/markdown": [
       "<span style='color:blue'>Model Result vs. Actual is **CORRECT**</span>"
      ],
      "text/plain": [
       "<IPython.core.display.Markdown object>"
      ]
     },
     "metadata": {},
     "output_type": "display_data"
    },
    {
     "name": "stdout",
     "output_type": "stream",
     "text": [
      "==========================================================================================\n",
      "row_num: 83 | seq_id: 702 | Processed : 30.29%\n",
      "sum(pos): 1.9901313406287953 | sum(neg): 4.360210190003014 | sum(pos)/sum(neg) : 0.4564301384350051 \n",
      "sum(log_odds): -7.333866517568469\n",
      "Outcome: -1 | Predict: -1\n"
     ]
    },
    {
     "data": {
      "text/markdown": [
       "<span style='color:blue'>Model Result vs. Actual is **CORRECT**</span>"
      ],
      "text/plain": [
       "<IPython.core.display.Markdown object>"
      ]
     },
     "metadata": {},
     "output_type": "display_data"
    },
    {
     "name": "stdout",
     "output_type": "stream",
     "text": [
      "==========================================================================================\n",
      "row_num: 84 | seq_id: 1924 | Processed : 30.66%\n",
      "sum(pos): 6.141085409457414 | sum(neg): 11.836837123127799 | sum(pos)/sum(neg) : 0.5188113467793225 \n",
      "sum(log_odds): -16.405587610964318\n",
      "Outcome: -1 | Predict: -1\n"
     ]
    },
    {
     "data": {
      "text/markdown": [
       "<span style='color:blue'>Model Result vs. Actual is **CORRECT**</span>"
      ],
      "text/plain": [
       "<IPython.core.display.Markdown object>"
      ]
     },
     "metadata": {},
     "output_type": "display_data"
    },
    {
     "name": "stdout",
     "output_type": "stream",
     "text": [
      "==========================================================================================\n",
      "row_num: 85 | seq_id: 5633 | Processed : 31.02%\n",
      "sum(pos): 3.4868519352942964 | sum(neg): 8.671167167254795 | sum(pos)/sum(neg) : 0.40212025302220056 \n",
      "sum(log_odds): -14.739050817698397\n",
      "Outcome: -1 | Predict: -1\n"
     ]
    },
    {
     "data": {
      "text/markdown": [
       "<span style='color:blue'>Model Result vs. Actual is **CORRECT**</span>"
      ],
      "text/plain": [
       "<IPython.core.display.Markdown object>"
      ]
     },
     "metadata": {},
     "output_type": "display_data"
    },
    {
     "name": "stdout",
     "output_type": "stream",
     "text": [
      "==========================================================================================\n",
      "row_num: 86 | seq_id: 5301 | Processed : 31.39%\n",
      "sum(pos): 1.9901313406287953 | sum(neg): 4.360210190003014 | sum(pos)/sum(neg) : 0.4564301384350051 \n",
      "sum(log_odds): -7.333866517568469\n",
      "Outcome: -1 | Predict: -1\n"
     ]
    },
    {
     "data": {
      "text/markdown": [
       "<span style='color:blue'>Model Result vs. Actual is **CORRECT**</span>"
      ],
      "text/plain": [
       "<IPython.core.display.Markdown object>"
      ]
     },
     "metadata": {},
     "output_type": "display_data"
    },
    {
     "name": "stdout",
     "output_type": "stream",
     "text": [
      "==========================================================================================\n",
      "row_num: 87 | seq_id: 7662 | Processed : 31.75%\n",
      "sum(pos): 6.942475401999291 | sum(neg): 12.804400081465232 | sum(pos)/sum(neg) : 0.5421945079682992 \n",
      "sum(log_odds): -18.2348077378928\n",
      "Outcome: -1 | Predict: -1\n"
     ]
    },
    {
     "data": {
      "text/markdown": [
       "<span style='color:blue'>Model Result vs. Actual is **CORRECT**</span>"
      ],
      "text/plain": [
       "<IPython.core.display.Markdown object>"
      ]
     },
     "metadata": {},
     "output_type": "display_data"
    },
    {
     "name": "stdout",
     "output_type": "stream",
     "text": [
      "==========================================================================================\n",
      "row_num: 88 | seq_id: 4165 | Processed : 32.12%\n",
      "sum(pos): 6.1798029247753945 | sum(neg): 12.182165154936945 | sum(pos)/sum(neg) : 0.5072828061496907 \n",
      "sum(log_odds): -18.593790303251133\n",
      "Outcome: -1 | Predict: -1\n"
     ]
    },
    {
     "data": {
      "text/markdown": [
       "<span style='color:blue'>Model Result vs. Actual is **CORRECT**</span>"
      ],
      "text/plain": [
       "<IPython.core.display.Markdown object>"
      ]
     },
     "metadata": {},
     "output_type": "display_data"
    },
    {
     "name": "stdout",
     "output_type": "stream",
     "text": [
      "==========================================================================================\n",
      "row_num: 89 | seq_id: 5571 | Processed : 32.48%\n",
      "sum(pos): 6.1798029247753945 | sum(neg): 12.182165154936945 | sum(pos)/sum(neg) : 0.5072828061496907 \n",
      "sum(log_odds): -18.593790303251133\n",
      "Outcome: -1 | Predict: -1\n"
     ]
    },
    {
     "data": {
      "text/markdown": [
       "<span style='color:blue'>Model Result vs. Actual is **CORRECT**</span>"
      ],
      "text/plain": [
       "<IPython.core.display.Markdown object>"
      ]
     },
     "metadata": {},
     "output_type": "display_data"
    },
    {
     "name": "stdout",
     "output_type": "stream",
     "text": [
      "==========================================================================================\n",
      "row_num: 90 | seq_id: 4587 | Processed : 32.85%\n",
      "sum(pos): 1.776314112819438 | sum(neg): 3.7443591932527593 | sum(pos)/sum(neg) : 0.47439735910494674 \n",
      "sum(log_odds): -6.275983046121337\n",
      "Outcome: -1 | Predict: -1\n"
     ]
    },
    {
     "data": {
      "text/markdown": [
       "<span style='color:blue'>Model Result vs. Actual is **CORRECT**</span>"
      ],
      "text/plain": [
       "<IPython.core.display.Markdown object>"
      ]
     },
     "metadata": {},
     "output_type": "display_data"
    },
    {
     "name": "stdout",
     "output_type": "stream",
     "text": [
      "==========================================================================================\n",
      "row_num: 91 | seq_id: 6591 | Processed : 33.21%\n",
      "sum(pos): 1.9901313406287953 | sum(neg): 4.360210190003014 | sum(pos)/sum(neg) : 0.4564301384350051 \n",
      "sum(log_odds): -7.333866517568469\n",
      "Outcome: -1 | Predict: -1\n"
     ]
    },
    {
     "data": {
      "text/markdown": [
       "<span style='color:blue'>Model Result vs. Actual is **CORRECT**</span>"
      ],
      "text/plain": [
       "<IPython.core.display.Markdown object>"
      ]
     },
     "metadata": {},
     "output_type": "display_data"
    },
    {
     "name": "stdout",
     "output_type": "stream",
     "text": [
      "==========================================================================================\n",
      "row_num: 92 | seq_id: 9108 | Processed : 33.58%\n",
      "sum(pos): 3.914486390913011 | sum(neg): 9.902869160755303 | sum(pos)/sum(neg) : 0.3952881056356851 \n",
      "sum(log_odds): -16.85481776059266\n",
      "Outcome: -1 | Predict: -1\n"
     ]
    },
    {
     "data": {
      "text/markdown": [
       "<span style='color:blue'>Model Result vs. Actual is **CORRECT**</span>"
      ],
      "text/plain": [
       "<IPython.core.display.Markdown object>"
      ]
     },
     "metadata": {},
     "output_type": "display_data"
    },
    {
     "name": "stdout",
     "output_type": "stream",
     "text": [
      "==========================================================================================\n",
      "row_num: 93 | seq_id: 3090 | Processed : 33.94%\n",
      "sum(pos): 6.6437294660959 | sum(neg): 12.493898190781149 | sum(pos)/sum(neg) : 0.5317579321238665 \n",
      "sum(log_odds): -18.196211246860642\n",
      "Outcome: -1 | Predict: -1\n"
     ]
    },
    {
     "data": {
      "text/markdown": [
       "<span style='color:blue'>Model Result vs. Actual is **CORRECT**</span>"
      ],
      "text/plain": [
       "<IPython.core.display.Markdown object>"
      ]
     },
     "metadata": {},
     "output_type": "display_data"
    },
    {
     "name": "stdout",
     "output_type": "stream",
     "text": [
      "==========================================================================================\n",
      "row_num: 94 | seq_id: 9665 | Processed : 34.31%\n",
      "sum(pos): 2.6315830240568667 | sum(neg): 6.207763180253778 | sum(pos)/sum(neg) : 0.4239180760676643 \n",
      "sum(log_odds): -10.507516931909866\n",
      "Outcome: -1 | Predict: -1\n"
     ]
    },
    {
     "data": {
      "text/markdown": [
       "<span style='color:blue'>Model Result vs. Actual is **CORRECT**</span>"
      ],
      "text/plain": [
       "<IPython.core.display.Markdown object>"
      ]
     },
     "metadata": {},
     "output_type": "display_data"
    },
    {
     "name": "stdout",
     "output_type": "stream",
     "text": [
      "==========================================================================================\n",
      "row_num: 95 | seq_id: 620 | Processed : 34.67%\n",
      "sum(pos): 2.41776579624751 | sum(neg): 5.591912183503523 | sum(pos)/sum(neg) : 0.43236834143784736 \n",
      "sum(log_odds): -9.449633460462733\n",
      "Outcome: -1 | Predict: -1\n"
     ]
    },
    {
     "data": {
      "text/markdown": [
       "<span style='color:blue'>Model Result vs. Actual is **CORRECT**</span>"
      ],
      "text/plain": [
       "<IPython.core.display.Markdown object>"
      ]
     },
     "metadata": {},
     "output_type": "display_data"
    },
    {
     "name": "stdout",
     "output_type": "stream",
     "text": [
      "==========================================================================================\n",
      "row_num: 96 | seq_id: 3515 | Processed : 35.04%\n",
      "sum(pos): 3.0592174796755818 | sum(neg): 7.439465173754287 | sum(pos)/sum(neg) : 0.4112147053887966 \n",
      "sum(log_odds): -12.623283874804132\n",
      "Outcome: -1 | Predict: -1\n"
     ]
    },
    {
     "data": {
      "text/markdown": [
       "<span style='color:blue'>Model Result vs. Actual is **CORRECT**</span>"
      ],
      "text/plain": [
       "<IPython.core.display.Markdown object>"
      ]
     },
     "metadata": {},
     "output_type": "display_data"
    },
    {
     "name": "stdout",
     "output_type": "stream",
     "text": [
      "==========================================================================================\n",
      "row_num: 97 | seq_id: 4124 | Processed : 35.40%\n",
      "sum(pos): 3.486851935294296 | sum(neg): 8.671167167254795 | sum(pos)/sum(neg) : 0.4021202530222005 \n",
      "sum(log_odds): -14.739050817698397\n",
      "Outcome: -1 | Predict: -1\n"
     ]
    },
    {
     "data": {
      "text/markdown": [
       "<span style='color:blue'>Model Result vs. Actual is **CORRECT**</span>"
      ],
      "text/plain": [
       "<IPython.core.display.Markdown object>"
      ]
     },
     "metadata": {},
     "output_type": "display_data"
    },
    {
     "name": "stdout",
     "output_type": "stream",
     "text": [
      "==========================================================================================\n",
      "row_num: 98 | seq_id: 6658 | Processed : 35.77%\n",
      "sum(pos): 3.486851935294296 | sum(neg): 8.671167167254795 | sum(pos)/sum(neg) : 0.4021202530222005 \n",
      "sum(log_odds): -14.739050817698397\n",
      "Outcome: -1 | Predict: -1\n"
     ]
    },
    {
     "data": {
      "text/markdown": [
       "<span style='color:blue'>Model Result vs. Actual is **CORRECT**</span>"
      ],
      "text/plain": [
       "<IPython.core.display.Markdown object>"
      ]
     },
     "metadata": {},
     "output_type": "display_data"
    },
    {
     "name": "stdout",
     "output_type": "stream",
     "text": [
      "==========================================================================================\n",
      "row_num: 99 | seq_id: 6835 | Processed : 36.13%\n",
      "sum(pos): 3.7006691631036537 | sum(neg): 9.28701816400505 | sum(pos)/sum(neg) : 0.39847764888054565 \n",
      "sum(log_odds): -15.796934289145529\n",
      "Outcome: -1 | Predict: -1\n"
     ]
    },
    {
     "data": {
      "text/markdown": [
       "<span style='color:blue'>Model Result vs. Actual is **CORRECT**</span>"
      ],
      "text/plain": [
       "<IPython.core.display.Markdown object>"
      ]
     },
     "metadata": {},
     "output_type": "display_data"
    },
    {
     "name": "stdout",
     "output_type": "stream",
     "text": [
      "==========================================================================================\n",
      "row_num: 100 | seq_id: 2785 | Processed : 36.50%\n",
      "sum(pos): 2.631583024056867 | sum(neg): 6.207763180253778 | sum(pos)/sum(neg) : 0.42391807606766435 \n",
      "sum(log_odds): -10.507516931909866\n",
      "Outcome: -1 | Predict: -1\n"
     ]
    },
    {
     "data": {
      "text/markdown": [
       "<span style='color:blue'>Model Result vs. Actual is **CORRECT**</span>"
      ],
      "text/plain": [
       "<IPython.core.display.Markdown object>"
      ]
     },
     "metadata": {},
     "output_type": "display_data"
    },
    {
     "name": "stdout",
     "output_type": "stream",
     "text": [
      "==========================================================================================\n",
      "row_num: 101 | seq_id: 7272 | Processed : 36.86%\n",
      "sum(pos): 2.2039485684381526 | sum(neg): 4.9760611867532685 | sum(pos)/sum(neg) : 0.4429102629013618 \n",
      "sum(log_odds): -8.3917499890156\n",
      "Outcome: -1 | Predict: -1\n"
     ]
    },
    {
     "data": {
      "text/markdown": [
       "<span style='color:blue'>Model Result vs. Actual is **CORRECT**</span>"
      ],
      "text/plain": [
       "<IPython.core.display.Markdown object>"
      ]
     },
     "metadata": {},
     "output_type": "display_data"
    },
    {
     "name": "stdout",
     "output_type": "stream",
     "text": [
      "==========================================================================================\n",
      "row_num: 102 | seq_id: 4872 | Processed : 37.23%\n",
      "sum(pos): 2.2039485684381526 | sum(neg): 4.9760611867532685 | sum(pos)/sum(neg) : 0.4429102629013618 \n",
      "sum(log_odds): -8.3917499890156\n",
      "Outcome: -1 | Predict: -1\n"
     ]
    },
    {
     "data": {
      "text/markdown": [
       "<span style='color:blue'>Model Result vs. Actual is **CORRECT**</span>"
      ],
      "text/plain": [
       "<IPython.core.display.Markdown object>"
      ]
     },
     "metadata": {},
     "output_type": "display_data"
    },
    {
     "name": "stdout",
     "output_type": "stream",
     "text": [
      "==========================================================================================\n",
      "row_num: 103 | seq_id: 1986 | Processed : 37.59%\n",
      "sum(pos): 3.273034707484939 | sum(neg): 8.055316170504542 | sum(pos)/sum(neg) : 0.40631983130215654 \n",
      "sum(log_odds): -13.681167346251264\n",
      "Outcome: -1 | Predict: -1\n"
     ]
    },
    {
     "data": {
      "text/markdown": [
       "<span style='color:blue'>Model Result vs. Actual is **CORRECT**</span>"
      ],
      "text/plain": [
       "<IPython.core.display.Markdown object>"
      ]
     },
     "metadata": {},
     "output_type": "display_data"
    },
    {
     "name": "stdout",
     "output_type": "stream",
     "text": [
      "==========================================================================================\n",
      "row_num: 104 | seq_id: 9164 | Processed : 37.96%\n",
      "sum(pos): 2.41776579624751 | sum(neg): 5.591912183503523 | sum(pos)/sum(neg) : 0.43236834143784736 \n",
      "sum(log_odds): -9.449633460462733\n",
      "Outcome: -1 | Predict: -1\n"
     ]
    },
    {
     "data": {
      "text/markdown": [
       "<span style='color:blue'>Model Result vs. Actual is **CORRECT**</span>"
      ],
      "text/plain": [
       "<IPython.core.display.Markdown object>"
      ]
     },
     "metadata": {},
     "output_type": "display_data"
    },
    {
     "name": "stdout",
     "output_type": "stream",
     "text": [
      "==========================================================================================\n",
      "row_num: 105 | seq_id: 1737 | Processed : 38.32%\n",
      "sum(pos): 4.128303618722368 | sum(neg): 10.518720157505557 | sum(pos)/sum(neg) : 0.39247204573425665 \n",
      "sum(log_odds): -17.912701232039794\n",
      "Outcome: -1 | Predict: -1\n"
     ]
    },
    {
     "data": {
      "text/markdown": [
       "<span style='color:blue'>Model Result vs. Actual is **CORRECT**</span>"
      ],
      "text/plain": [
       "<IPython.core.display.Markdown object>"
      ]
     },
     "metadata": {},
     "output_type": "display_data"
    },
    {
     "name": "stdout",
     "output_type": "stream",
     "text": [
      "==========================================================================================\n",
      "row_num: 106 | seq_id: 1213 | Processed : 38.69%\n",
      "sum(pos): 6.393620152584751 | sum(neg): 12.798016151687198 | sum(pos)/sum(neg) : 0.49957900324589466 \n",
      "sum(log_odds): -19.651673774698267\n",
      "Outcome: -1 | Predict: -1\n"
     ]
    },
    {
     "data": {
      "text/markdown": [
       "<span style='color:blue'>Model Result vs. Actual is **CORRECT**</span>"
      ],
      "text/plain": [
       "<IPython.core.display.Markdown object>"
      ]
     },
     "metadata": {},
     "output_type": "display_data"
    },
    {
     "name": "stdout",
     "output_type": "stream",
     "text": [
      "==========================================================================================\n",
      "row_num: 107 | seq_id: 5632 | Processed : 39.05%\n",
      "sum(pos): 6.354902637266771 | sum(neg): 12.452688119878053 | sum(pos)/sum(neg) : 0.5103237611100633 \n",
      "sum(log_odds): -17.463471082411452\n",
      "Outcome: -1 | Predict: -1\n"
     ]
    },
    {
     "data": {
      "text/markdown": [
       "<span style='color:blue'>Model Result vs. Actual is **CORRECT**</span>"
      ],
      "text/plain": [
       "<IPython.core.display.Markdown object>"
      ]
     },
     "metadata": {},
     "output_type": "display_data"
    },
    {
     "name": "stdout",
     "output_type": "stream",
     "text": [
      "==========================================================================================\n",
      "row_num: 108 | seq_id: 4414 | Processed : 39.42%\n",
      "sum(pos): 1.9901313406287953 | sum(neg): 4.360210190003014 | sum(pos)/sum(neg) : 0.4564301384350051 \n",
      "sum(log_odds): -7.333866517568469\n",
      "Outcome: -1 | Predict: -1\n"
     ]
    },
    {
     "data": {
      "text/markdown": [
       "<span style='color:blue'>Model Result vs. Actual is **CORRECT**</span>"
      ],
      "text/plain": [
       "<IPython.core.display.Markdown object>"
      ]
     },
     "metadata": {},
     "output_type": "display_data"
    },
    {
     "name": "stdout",
     "output_type": "stream",
     "text": [
      "==========================================================================================\n",
      "row_num: 109 | seq_id: 1025 | Processed : 39.78%\n",
      "sum(pos): 3.9144863909130105 | sum(neg): 9.902869160755303 | sum(pos)/sum(neg) : 0.3952881056356851 \n",
      "sum(log_odds): -16.85481776059266\n",
      "Outcome: -1 | Predict: -1\n"
     ]
    },
    {
     "data": {
      "text/markdown": [
       "<span style='color:blue'>Model Result vs. Actual is **CORRECT**</span>"
      ],
      "text/plain": [
       "<IPython.core.display.Markdown object>"
      ]
     },
     "metadata": {},
     "output_type": "display_data"
    },
    {
     "name": "stdout",
     "output_type": "stream",
     "text": [
      "==========================================================================================\n",
      "row_num: 110 | seq_id: 1612 | Processed : 40.15%\n",
      "sum(pos): 1.680169198746052 | sum(neg): 3.1928810220599093 | sum(pos)/sum(neg) : 0.5262235539431654 \n",
      "sum(log_odds): -4.52923736388692\n",
      "Outcome: -1 | Predict: -1\n"
     ]
    },
    {
     "data": {
      "text/markdown": [
       "<span style='color:blue'>Model Result vs. Actual is **CORRECT**</span>"
      ],
      "text/plain": [
       "<IPython.core.display.Markdown object>"
      ]
     },
     "metadata": {},
     "output_type": "display_data"
    },
    {
     "name": "stdout",
     "output_type": "stream",
     "text": [
      "==========================================================================================\n",
      "row_num: 111 | seq_id: 310 | Processed : 40.51%\n",
      "sum(pos): 4.8909760959462645 | sum(neg): 11.140955084033848 | sum(pos)/sum(neg) : 0.43900868992421876 \n",
      "sum(log_odds): -17.55371866668147\n",
      "Outcome: -1 | Predict: -1\n"
     ]
    },
    {
     "data": {
      "text/markdown": [
       "<span style='color:blue'>Model Result vs. Actual is **CORRECT**</span>"
      ],
      "text/plain": [
       "<IPython.core.display.Markdown object>"
      ]
     },
     "metadata": {},
     "output_type": "display_data"
    },
    {
     "name": "stdout",
     "output_type": "stream",
     "text": [
      "==========================================================================================\n",
      "row_num: 112 | seq_id: 2906 | Processed : 40.88%\n",
      "sum(pos): 4.128303618722368 | sum(neg): 10.518720157505557 | sum(pos)/sum(neg) : 0.39247204573425665 \n",
      "sum(log_odds): -17.912701232039794\n",
      "Outcome: -1 | Predict: -1\n"
     ]
    },
    {
     "data": {
      "text/markdown": [
       "<span style='color:blue'>Model Result vs. Actual is **CORRECT**</span>"
      ],
      "text/plain": [
       "<IPython.core.display.Markdown object>"
      ]
     },
     "metadata": {},
     "output_type": "display_data"
    },
    {
     "name": "stdout",
     "output_type": "stream",
     "text": [
      "==========================================================================================\n",
      "row_num: 113 | seq_id: 8688 | Processed : 41.24%\n",
      "sum(pos): 3.486851935294296 | sum(neg): 8.671167167254795 | sum(pos)/sum(neg) : 0.4021202530222005 \n",
      "sum(log_odds): -14.739050817698397\n",
      "Outcome: -1 | Predict: -1\n"
     ]
    },
    {
     "data": {
      "text/markdown": [
       "<span style='color:blue'>Model Result vs. Actual is **CORRECT**</span>"
      ],
      "text/plain": [
       "<IPython.core.display.Markdown object>"
      ]
     },
     "metadata": {},
     "output_type": "display_data"
    },
    {
     "name": "stdout",
     "output_type": "stream",
     "text": [
      "==========================================================================================\n",
      "row_num: 114 | seq_id: 4494 | Processed : 41.61%\n",
      "sum(pos): 3.914486390913011 | sum(neg): 9.902869160755303 | sum(pos)/sum(neg) : 0.3952881056356851 \n",
      "sum(log_odds): -16.85481776059266\n",
      "Outcome: -1 | Predict: -1\n"
     ]
    },
    {
     "data": {
      "text/markdown": [
       "<span style='color:blue'>Model Result vs. Actual is **CORRECT**</span>"
      ],
      "text/plain": [
       "<IPython.core.display.Markdown object>"
      ]
     },
     "metadata": {},
     "output_type": "display_data"
    },
    {
     "name": "stdout",
     "output_type": "stream",
     "text": [
      "==========================================================================================\n",
      "row_num: 115 | seq_id: 735 | Processed : 41.97%\n",
      "sum(pos): 3.0592174796755813 | sum(neg): 7.439465173754288 | sum(pos)/sum(neg) : 0.4112147053887965 \n",
      "sum(log_odds): -12.62328387480413\n",
      "Outcome: -1 | Predict: -1\n"
     ]
    },
    {
     "data": {
      "text/markdown": [
       "<span style='color:blue'>Model Result vs. Actual is **CORRECT**</span>"
      ],
      "text/plain": [
       "<IPython.core.display.Markdown object>"
      ]
     },
     "metadata": {},
     "output_type": "display_data"
    },
    {
     "name": "stdout",
     "output_type": "stream",
     "text": [
      "==========================================================================================\n",
      "row_num: 116 | seq_id: 2520 | Processed : 42.34%\n",
      "sum(pos): 1.8939864265554094 | sum(neg): 3.808732018810164 | sum(pos)/sum(neg) : 0.497274793081159 \n",
      "sum(log_odds): -5.587120835334052\n",
      "Outcome: -1 | Predict: -1\n"
     ]
    },
    {
     "data": {
      "text/markdown": [
       "<span style='color:blue'>Model Result vs. Actual is **CORRECT**</span>"
      ],
      "text/plain": [
       "<IPython.core.display.Markdown object>"
      ]
     },
     "metadata": {},
     "output_type": "display_data"
    },
    {
     "name": "stdout",
     "output_type": "stream",
     "text": [
      "==========================================================================================\n",
      "row_num: 117 | seq_id: 2108 | Processed : 42.70%\n",
      "sum(pos): 1.430059885234902 | sum(neg): 3.496998982965958 | sum(pos)/sum(neg) : 0.4089391767629299 \n",
      "sum(log_odds): -5.984699891724536\n",
      "Outcome: -1 | Predict: -1\n"
     ]
    },
    {
     "data": {
      "text/markdown": [
       "<span style='color:blue'>Model Result vs. Actual is **CORRECT**</span>"
      ],
      "text/plain": [
       "<IPython.core.display.Markdown object>"
      ]
     },
     "metadata": {},
     "output_type": "display_data"
    },
    {
     "name": "stdout",
     "output_type": "stream",
     "text": [
      "==========================================================================================\n",
      "row_num: 118 | seq_id: 8556 | Processed : 43.07%\n",
      "sum(pos): 6.568719865076128 | sum(neg): 13.068539116628306 | sum(pos)/sum(neg) : 0.5026361253124414 \n",
      "sum(log_odds): -18.521354553858586\n",
      "Outcome: -1 | Predict: -1\n"
     ]
    },
    {
     "data": {
      "text/markdown": [
       "<span style='color:blue'>Model Result vs. Actual is **CORRECT**</span>"
      ],
      "text/plain": [
       "<IPython.core.display.Markdown object>"
      ]
     },
     "metadata": {},
     "output_type": "display_data"
    },
    {
     "name": "stdout",
     "output_type": "stream",
     "text": [
      "==========================================================================================\n",
      "row_num: 119 | seq_id: 8177 | Processed : 43.43%\n",
      "sum(pos): 4.806047387852232 | sum(neg): 11.446304190100017 | sum(pos)/sum(neg) : 0.4198776572798942 \n",
      "sum(log_odds): -18.573005647096444\n",
      "Outcome: -1 | Predict: -1\n"
     ]
    },
    {
     "data": {
      "text/markdown": [
       "<span style='color:blue'>Model Result vs. Actual is **CORRECT**</span>"
      ],
      "text/plain": [
       "<IPython.core.display.Markdown object>"
      ]
     },
     "metadata": {},
     "output_type": "display_data"
    },
    {
     "name": "stdout",
     "output_type": "stream",
     "text": [
      "==========================================================================================\n",
      "row_num: 120 | seq_id: 7835 | Processed : 43.80%\n",
      "sum(pos): 4.342120846531725 | sum(neg): 11.134571154255811 | sum(pos)/sum(neg) : 0.3899674972998037 \n",
      "sum(log_odds): -18.970584703486928\n",
      "Outcome: -1 | Predict: -1\n"
     ]
    },
    {
     "data": {
      "text/markdown": [
       "<span style='color:blue'>Model Result vs. Actual is **CORRECT**</span>"
      ],
      "text/plain": [
       "<IPython.core.display.Markdown object>"
      ]
     },
     "metadata": {},
     "output_type": "display_data"
    },
    {
     "name": "stdout",
     "output_type": "stream",
     "text": [
      "==========================================================================================\n",
      "row_num: 121 | seq_id: 5208 | Processed : 44.16%\n",
      "sum(pos): 1.9901313406287953 | sum(neg): 4.360210190003014 | sum(pos)/sum(neg) : 0.4564301384350051 \n",
      "sum(log_odds): -7.333866517568469\n",
      "Outcome: -1 | Predict: -1\n"
     ]
    },
    {
     "data": {
      "text/markdown": [
       "<span style='color:blue'>Model Result vs. Actual is **CORRECT**</span>"
      ],
      "text/plain": [
       "<IPython.core.display.Markdown object>"
      ]
     },
     "metadata": {},
     "output_type": "display_data"
    },
    {
     "name": "stdout",
     "output_type": "stream",
     "text": [
      "==========================================================================================\n",
      "row_num: 122 | seq_id: 4510 | Processed : 44.53%\n",
      "sum(pos): 2.631583024056867 | sum(neg): 6.207763180253778 | sum(pos)/sum(neg) : 0.42391807606766435 \n",
      "sum(log_odds): -10.507516931909866\n",
      "Outcome: -1 | Predict: -1\n"
     ]
    },
    {
     "data": {
      "text/markdown": [
       "<span style='color:blue'>Model Result vs. Actual is **CORRECT**</span>"
      ],
      "text/plain": [
       "<IPython.core.display.Markdown object>"
      ]
     },
     "metadata": {},
     "output_type": "display_data"
    },
    {
     "name": "stdout",
     "output_type": "stream",
     "text": [
      "==========================================================================================\n",
      "row_num: 123 | seq_id: 3298 | Processed : 44.89%\n",
      "sum(pos): 4.342120846531725 | sum(neg): 11.134571154255811 | sum(pos)/sum(neg) : 0.3899674972998037 \n",
      "sum(log_odds): -18.970584703486928\n",
      "Outcome: -1 | Predict: -1\n"
     ]
    },
    {
     "data": {
      "text/markdown": [
       "<span style='color:blue'>Model Result vs. Actual is **CORRECT**</span>"
      ],
      "text/plain": [
       "<IPython.core.display.Markdown object>"
      ]
     },
     "metadata": {},
     "output_type": "display_data"
    },
    {
     "name": "stdout",
     "output_type": "stream",
     "text": [
      "==========================================================================================\n",
      "row_num: 124 | seq_id: 9354 | Processed : 45.26%\n",
      "sum(pos): 1.430059885234902 | sum(neg): 3.496998982965958 | sum(pos)/sum(neg) : 0.4089391767629299 \n",
      "sum(log_odds): -5.984699891724536\n",
      "Outcome: -1 | Predict: -1\n"
     ]
    },
    {
     "data": {
      "text/markdown": [
       "<span style='color:blue'>Model Result vs. Actual is **CORRECT**</span>"
      ],
      "text/plain": [
       "<IPython.core.display.Markdown object>"
      ]
     },
     "metadata": {},
     "output_type": "display_data"
    },
    {
     "name": "stdout",
     "output_type": "stream",
     "text": [
      "==========================================================================================\n",
      "row_num: 125 | seq_id: 1344 | Processed : 45.62%\n",
      "sum(pos): 2.8454002518662245 | sum(neg): 6.823614177004033 | sum(pos)/sum(neg) : 0.41699313267965604 \n",
      "sum(log_odds): -11.565400403356998\n",
      "Outcome: -1 | Predict: -1\n"
     ]
    },
    {
     "data": {
      "text/markdown": [
       "<span style='color:blue'>Model Result vs. Actual is **CORRECT**</span>"
      ],
      "text/plain": [
       "<IPython.core.display.Markdown object>"
      ]
     },
     "metadata": {},
     "output_type": "display_data"
    },
    {
     "name": "stdout",
     "output_type": "stream",
     "text": [
      "==========================================================================================\n",
      "row_num: 126 | seq_id: 7530 | Processed : 45.99%\n",
      "sum(pos): 3.7006691631036537 | sum(neg): 9.28701816400505 | sum(pos)/sum(neg) : 0.39847764888054565 \n",
      "sum(log_odds): -15.796934289145529\n",
      "Outcome: -1 | Predict: -1\n"
     ]
    },
    {
     "data": {
      "text/markdown": [
       "<span style='color:blue'>Model Result vs. Actual is **CORRECT**</span>"
      ],
      "text/plain": [
       "<IPython.core.display.Markdown object>"
      ]
     },
     "metadata": {},
     "output_type": "display_data"
    },
    {
     "name": "stdout",
     "output_type": "stream",
     "text": [
      "==========================================================================================\n",
      "row_num: 127 | seq_id: 5142 | Processed : 46.35%\n",
      "sum(pos): 3.2730347074849386 | sum(neg): 8.055316170504542 | sum(pos)/sum(neg) : 0.4063198313021565 \n",
      "sum(log_odds): -13.681167346251263\n",
      "Outcome: -1 | Predict: -1\n"
     ]
    },
    {
     "data": {
      "text/markdown": [
       "<span style='color:blue'>Model Result vs. Actual is **CORRECT**</span>"
      ],
      "text/plain": [
       "<IPython.core.display.Markdown object>"
      ]
     },
     "metadata": {},
     "output_type": "display_data"
    },
    {
     "name": "stdout",
     "output_type": "stream",
     "text": [
      "==========================================================================================\n",
      "row_num: 128 | seq_id: 1644 | Processed : 46.72%\n",
      "sum(pos): 2.631583024056867 | sum(neg): 6.207763180253778 | sum(pos)/sum(neg) : 0.42391807606766435 \n",
      "sum(log_odds): -10.507516931909866\n",
      "Outcome: -1 | Predict: -1\n"
     ]
    },
    {
     "data": {
      "text/markdown": [
       "<span style='color:blue'>Model Result vs. Actual is **CORRECT**</span>"
      ],
      "text/plain": [
       "<IPython.core.display.Markdown object>"
      ]
     },
     "metadata": {},
     "output_type": "display_data"
    },
    {
     "name": "stdout",
     "output_type": "stream",
     "text": [
      "==========================================================================================\n",
      "row_num: 129 | seq_id: 4368 | Processed : 47.08%\n",
      "sum(pos): 5.878682006958872 | sum(neg): 13.235868284571412 | sum(pos)/sum(neg) : 0.44414781717127283 \n",
      "sum(log_odds): -21.018652235419665\n",
      "Outcome: -1 | Predict: -1\n"
     ]
    },
    {
     "data": {
      "text/markdown": [
       "<span style='color:blue'>Model Result vs. Actual is **CORRECT**</span>"
      ],
      "text/plain": [
       "<IPython.core.display.Markdown object>"
      ]
     },
     "metadata": {},
     "output_type": "display_data"
    },
    {
     "name": "stdout",
     "output_type": "stream",
     "text": [
      "==========================================================================================\n",
      "row_num: 130 | seq_id: 1497 | Processed : 47.45%\n",
      "sum(pos): 3.9144863909130105 | sum(neg): 9.902869160755303 | sum(pos)/sum(neg) : 0.3952881056356851 \n",
      "sum(log_odds): -16.85481776059266\n",
      "Outcome: -1 | Predict: -1\n"
     ]
    },
    {
     "data": {
      "text/markdown": [
       "<span style='color:blue'>Model Result vs. Actual is **CORRECT**</span>"
      ],
      "text/plain": [
       "<IPython.core.display.Markdown object>"
      ]
     },
     "metadata": {},
     "output_type": "display_data"
    },
    {
     "name": "stdout",
     "output_type": "stream",
     "text": [
      "==========================================================================================\n",
      "row_num: 131 | seq_id: 5123 | Processed : 47.81%\n",
      "sum(pos): 1.6051595977262794 | sum(neg): 3.7675219479070674 | sum(pos)/sum(neg) : 0.42605182396295715 \n",
      "sum(log_odds): -4.8543806708848605\n",
      "Outcome: -1 | Predict: -1\n"
     ]
    },
    {
     "data": {
      "text/markdown": [
       "<span style='color:blue'>Model Result vs. Actual is **CORRECT**</span>"
      ],
      "text/plain": [
       "<IPython.core.display.Markdown object>"
      ]
     },
     "metadata": {},
     "output_type": "display_data"
    },
    {
     "name": "stdout",
     "output_type": "stream",
     "text": [
      "==========================================================================================\n",
      "row_num: 132 | seq_id: 3105 | Processed : 48.18%\n",
      "sum(pos): 3.9144863909130105 | sum(neg): 9.902869160755303 | sum(pos)/sum(neg) : 0.3952881056356851 \n",
      "sum(log_odds): -16.85481776059266\n",
      "Outcome: -1 | Predict: -1\n"
     ]
    },
    {
     "data": {
      "text/markdown": [
       "<span style='color:blue'>Model Result vs. Actual is **CORRECT**</span>"
      ],
      "text/plain": [
       "<IPython.core.display.Markdown object>"
      ]
     },
     "metadata": {},
     "output_type": "display_data"
    },
    {
     "name": "stdout",
     "output_type": "stream",
     "text": [
      "==========================================================================================\n",
      "row_num: 133 | seq_id: 6584 | Processed : 48.54%\n",
      "sum(pos): 2.1078036543647665 | sum(neg): 4.424583015560419 | sum(pos)/sum(neg) : 0.47638470042307285 \n",
      "sum(log_odds): -6.645004306781185\n",
      "Outcome: -1 | Predict: -1\n"
     ]
    },
    {
     "data": {
      "text/markdown": [
       "<span style='color:blue'>Model Result vs. Actual is **CORRECT**</span>"
      ],
      "text/plain": [
       "<IPython.core.display.Markdown object>"
      ]
     },
     "metadata": {},
     "output_type": "display_data"
    },
    {
     "name": "stdout",
     "output_type": "stream",
     "text": [
      "==========================================================================================\n",
      "row_num: 134 | seq_id: 7296 | Processed : 48.91%\n",
      "sum(pos): 5.318610551564978 | sum(neg): 12.372657077534356 | sum(pos)/sum(neg) : 0.42986809690395783 \n",
      "sum(log_odds): -19.669485609575737\n",
      "Outcome: -1 | Predict: -1\n"
     ]
    },
    {
     "data": {
      "text/markdown": [
       "<span style='color:blue'>Model Result vs. Actual is **CORRECT**</span>"
      ],
      "text/plain": [
       "<IPython.core.display.Markdown object>"
      ]
     },
     "metadata": {},
     "output_type": "display_data"
    },
    {
     "name": "stdout",
     "output_type": "stream",
     "text": [
      "==========================================================================================\n",
      "row_num: 135 | seq_id: 2013 | Processed : 49.27%\n",
      "sum(pos): 3.7006691631036537 | sum(neg): 9.28701816400505 | sum(pos)/sum(neg) : 0.39847764888054565 \n",
      "sum(log_odds): -15.796934289145529\n",
      "Outcome: -1 | Predict: -1\n"
     ]
    },
    {
     "data": {
      "text/markdown": [
       "<span style='color:blue'>Model Result vs. Actual is **CORRECT**</span>"
      ],
      "text/plain": [
       "<IPython.core.display.Markdown object>"
      ]
     },
     "metadata": {},
     "output_type": "display_data"
    },
    {
     "name": "stdout",
     "output_type": "stream",
     "text": [
      "==========================================================================================\n",
      "row_num: 136 | seq_id: 4593 | Processed : 49.64%\n",
      "sum(pos): 1.6438771130442593 | sum(neg): 4.112849979716213 | sum(pos)/sum(neg) : 0.399692943129836 \n",
      "sum(log_odds): -7.042583363171668\n",
      "Outcome: -1 | Predict: -1\n"
     ]
    },
    {
     "data": {
      "text/markdown": [
       "<span style='color:blue'>Model Result vs. Actual is **CORRECT**</span>"
      ],
      "text/plain": [
       "<IPython.core.display.Markdown object>"
      ]
     },
     "metadata": {},
     "output_type": "display_data"
    },
    {
     "name": "stdout",
     "output_type": "stream",
     "text": [
      "==========================================================================================\n",
      "row_num: 137 | seq_id: 4747 | Processed : 50.00%\n",
      "sum(pos): 4.128303618722368 | sum(neg): 10.518720157505557 | sum(pos)/sum(neg) : 0.39247204573425665 \n",
      "sum(log_odds): -17.912701232039794\n",
      "Outcome: -1 | Predict: -1\n"
     ]
    },
    {
     "data": {
      "text/markdown": [
       "<span style='color:blue'>Model Result vs. Actual is **CORRECT**</span>"
      ],
      "text/plain": [
       "<IPython.core.display.Markdown object>"
      ]
     },
     "metadata": {},
     "output_type": "display_data"
    },
    {
     "name": "stdout",
     "output_type": "stream",
     "text": [
      "==========================================================================================\n",
      "row_num: 138 | seq_id: 2812 | Processed : 50.36%\n",
      "sum(pos): 4.128303618722368 | sum(neg): 10.518720157505557 | sum(pos)/sum(neg) : 0.39247204573425665 \n",
      "sum(log_odds): -17.912701232039794\n",
      "Outcome: -1 | Predict: -1\n"
     ]
    },
    {
     "data": {
      "text/markdown": [
       "<span style='color:blue'>Model Result vs. Actual is **CORRECT**</span>"
      ],
      "text/plain": [
       "<IPython.core.display.Markdown object>"
      ]
     },
     "metadata": {},
     "output_type": "display_data"
    },
    {
     "name": "stdout",
     "output_type": "stream",
     "text": [
      "==========================================================================================\n",
      "row_num: 139 | seq_id: 5724 | Processed : 50.73%\n",
      "sum(pos): 3.9144863909130105 | sum(neg): 9.902869160755303 | sum(pos)/sum(neg) : 0.3952881056356851 \n",
      "sum(log_odds): -16.85481776059266\n",
      "Outcome: -1 | Predict: -1\n"
     ]
    },
    {
     "data": {
      "text/markdown": [
       "<span style='color:blue'>Model Result vs. Actual is **CORRECT**</span>"
      ],
      "text/plain": [
       "<IPython.core.display.Markdown object>"
      ]
     },
     "metadata": {},
     "output_type": "display_data"
    },
    {
     "name": "stdout",
     "output_type": "stream",
     "text": [
      "==========================================================================================\n",
      "row_num: 140 | seq_id: 3749 | Processed : 51.09%\n",
      "sum(pos): 4.555938074341082 | sum(neg): 11.750422151006065 | sum(pos)/sum(neg) : 0.38772548047995065 \n",
      "sum(log_odds): -20.028468174934062\n",
      "Outcome: -1 | Predict: -1\n"
     ]
    },
    {
     "data": {
      "text/markdown": [
       "<span style='color:blue'>Model Result vs. Actual is **CORRECT**</span>"
      ],
      "text/plain": [
       "<IPython.core.display.Markdown object>"
      ]
     },
     "metadata": {},
     "output_type": "display_data"
    },
    {
     "name": "stdout",
     "output_type": "stream",
     "text": [
      "==========================================================================================\n",
      "row_num: 141 | seq_id: 4046 | Processed : 51.46%\n",
      "sum(pos): 3.9144863909130105 | sum(neg): 9.902869160755303 | sum(pos)/sum(neg) : 0.3952881056356851 \n",
      "sum(log_odds): -16.85481776059266\n",
      "Outcome: -1 | Predict: -1\n"
     ]
    },
    {
     "data": {
      "text/markdown": [
       "<span style='color:blue'>Model Result vs. Actual is **CORRECT**</span>"
      ],
      "text/plain": [
       "<IPython.core.display.Markdown object>"
      ]
     },
     "metadata": {},
     "output_type": "display_data"
    },
    {
     "name": "stdout",
     "output_type": "stream",
     "text": [
      "==========================================================================================\n",
      "row_num: 142 | seq_id: 2502 | Processed : 51.82%\n",
      "sum(pos): 6.391245170671619 | sum(neg): 14.162221172005749 | sum(pos)/sum(neg) : 0.451288332038275 \n",
      "sum(log_odds): -22.11513219789896\n",
      "Outcome: -1 | Predict: -1\n"
     ]
    },
    {
     "data": {
      "text/markdown": [
       "<span style='color:blue'>Model Result vs. Actual is **CORRECT**</span>"
      ],
      "text/plain": [
       "<IPython.core.display.Markdown object>"
      ]
     },
     "metadata": {},
     "output_type": "display_data"
    },
    {
     "name": "stdout",
     "output_type": "stream",
     "text": [
      "==========================================================================================\n",
      "row_num: 143 | seq_id: 5866 | Processed : 52.19%\n",
      "sum(pos): 1.496720594665501 | sum(neg): 4.310956977251783 | sum(pos)/sum(neg) : 0.3471898705005528 \n",
      "sum(log_odds): -7.4051843001299265\n",
      "Outcome: -1 | Predict: -1\n"
     ]
    },
    {
     "data": {
      "text/markdown": [
       "<span style='color:blue'>Model Result vs. Actual is **CORRECT**</span>"
      ],
      "text/plain": [
       "<IPython.core.display.Markdown object>"
      ]
     },
     "metadata": {},
     "output_type": "display_data"
    },
    {
     "name": "stdout",
     "output_type": "stream",
     "text": [
      "==========================================================================================\n",
      "row_num: 144 | seq_id: 9734 | Processed : 52.55%\n",
      "sum(pos): 3.914486390913011 | sum(neg): 9.902869160755303 | sum(pos)/sum(neg) : 0.3952881056356851 \n",
      "sum(log_odds): -16.85481776059266\n",
      "Outcome: -1 | Predict: -1\n"
     ]
    },
    {
     "data": {
      "text/markdown": [
       "<span style='color:blue'>Model Result vs. Actual is **CORRECT**</span>"
      ],
      "text/plain": [
       "<IPython.core.display.Markdown object>"
      ]
     },
     "metadata": {},
     "output_type": "display_data"
    },
    {
     "name": "stdout",
     "output_type": "stream",
     "text": [
      "==========================================================================================\n",
      "row_num: 145 | seq_id: 6483 | Processed : 52.92%\n",
      "sum(pos): 3.914486390913011 | sum(neg): 9.902869160755303 | sum(pos)/sum(neg) : 0.3952881056356851 \n",
      "sum(log_odds): -16.85481776059266\n",
      "Outcome: -1 | Predict: -1\n"
     ]
    },
    {
     "data": {
      "text/markdown": [
       "<span style='color:blue'>Model Result vs. Actual is **CORRECT**</span>"
      ],
      "text/plain": [
       "<IPython.core.display.Markdown object>"
      ]
     },
     "metadata": {},
     "output_type": "display_data"
    },
    {
     "name": "stdout",
     "output_type": "stream",
     "text": [
      "==========================================================================================\n",
      "row_num: 146 | seq_id: 9452 | Processed : 53.28%\n",
      "sum(pos): 6.092499234768229 | sum(neg): 13.851719281321666 | sum(pos)/sum(neg) : 0.43983704196082374 \n",
      "sum(log_odds): -22.0765357068668\n",
      "Outcome: -1 | Predict: -1\n"
     ]
    },
    {
     "data": {
      "text/markdown": [
       "<span style='color:blue'>Model Result vs. Actual is **CORRECT**</span>"
      ],
      "text/plain": [
       "<IPython.core.display.Markdown object>"
      ]
     },
     "metadata": {},
     "output_type": "display_data"
    },
    {
     "name": "stdout",
     "output_type": "stream",
     "text": [
      "==========================================================================================\n",
      "row_num: 147 | seq_id: 6575 | Processed : 53.65%\n",
      "sum(pos): 3.7006691631036532 | sum(neg): 9.28701816400505 | sum(pos)/sum(neg) : 0.3984776488805456 \n",
      "sum(log_odds): -15.796934289145529\n",
      "Outcome: -1 | Predict: -1\n"
     ]
    },
    {
     "data": {
      "text/markdown": [
       "<span style='color:blue'>Model Result vs. Actual is **CORRECT**</span>"
      ],
      "text/plain": [
       "<IPython.core.display.Markdown object>"
      ]
     },
     "metadata": {},
     "output_type": "display_data"
    },
    {
     "name": "stdout",
     "output_type": "stream",
     "text": [
      "==========================================================================================\n",
      "row_num: 148 | seq_id: 5060 | Processed : 54.01%\n",
      "sum(pos): 2.631583024056867 | sum(neg): 6.207763180253778 | sum(pos)/sum(neg) : 0.42391807606766435 \n",
      "sum(log_odds): -10.507516931909866\n",
      "Outcome: -1 | Predict: -1\n"
     ]
    },
    {
     "data": {
      "text/markdown": [
       "<span style='color:blue'>Model Result vs. Actual is **CORRECT**</span>"
      ],
      "text/plain": [
       "<IPython.core.display.Markdown object>"
      ]
     },
     "metadata": {},
     "output_type": "display_data"
    },
    {
     "name": "stdout",
     "output_type": "stream",
     "text": [
      "==========================================================================================\n",
      "row_num: 149 | seq_id: 1471 | Processed : 54.38%\n",
      "sum(pos): 3.273034707484939 | sum(neg): 8.055316170504542 | sum(pos)/sum(neg) : 0.40631983130215654 \n",
      "sum(log_odds): -13.681167346251263\n",
      "Outcome: -1 | Predict: -1\n"
     ]
    },
    {
     "data": {
      "text/markdown": [
       "<span style='color:blue'>Model Result vs. Actual is **CORRECT**</span>"
      ],
      "text/plain": [
       "<IPython.core.display.Markdown object>"
      ]
     },
     "metadata": {},
     "output_type": "display_data"
    },
    {
     "name": "stdout",
     "output_type": "stream",
     "text": [
      "==========================================================================================\n",
      "row_num: 150 | seq_id: 2977 | Processed : 54.74%\n",
      "sum(pos): 4.769755302150439 | sum(neg): 12.366273147756319 | sum(pos)/sum(neg) : 0.3857067723767562 \n",
      "sum(log_odds): -21.086351646381196\n",
      "Outcome: -1 | Predict: -1\n"
     ]
    },
    {
     "data": {
      "text/markdown": [
       "<span style='color:blue'>Model Result vs. Actual is **CORRECT**</span>"
      ],
      "text/plain": [
       "<IPython.core.display.Markdown object>"
      ]
     },
     "metadata": {},
     "output_type": "display_data"
    },
    {
     "name": "stdout",
     "output_type": "stream",
     "text": [
      "==========================================================================================\n",
      "row_num: 151 | seq_id: 7829 | Processed : 55.11%\n",
      "sum(pos): 1.8189768255356367 | sum(neg): 4.383372944657322 | sum(pos)/sum(neg) : 0.41497195162293876 \n",
      "sum(log_odds): -5.912264142331993\n",
      "Outcome: -1 | Predict: -1\n"
     ]
    },
    {
     "data": {
      "text/markdown": [
       "<span style='color:blue'>Model Result vs. Actual is **CORRECT**</span>"
      ],
      "text/plain": [
       "<IPython.core.display.Markdown object>"
      ]
     },
     "metadata": {},
     "output_type": "display_data"
    },
    {
     "name": "stdout",
     "output_type": "stream",
     "text": [
      "==========================================================================================\n",
      "row_num: 152 | seq_id: 3431 | Processed : 55.47%\n",
      "sum(pos): 3.7006691631036532 | sum(neg): 9.28701816400505 | sum(pos)/sum(neg) : 0.3984776488805456 \n",
      "sum(log_odds): -15.796934289145529\n",
      "Outcome: -1 | Predict: -1\n"
     ]
    },
    {
     "data": {
      "text/markdown": [
       "<span style='color:blue'>Model Result vs. Actual is **CORRECT**</span>"
      ],
      "text/plain": [
       "<IPython.core.display.Markdown object>"
      ]
     },
     "metadata": {},
     "output_type": "display_data"
    },
    {
     "name": "stdout",
     "output_type": "stream",
     "text": [
      "==========================================================================================\n",
      "row_num: 153 | seq_id: 9860 | Processed : 55.84%\n",
      "sum(pos): 5.233681843470945 | sum(neg): 12.678006183600525 | sum(pos)/sum(neg) : 0.4128158456209706 \n",
      "sum(log_odds): -20.688772589990712\n",
      "Outcome: -1 | Predict: -1\n"
     ]
    },
    {
     "data": {
      "text/markdown": [
       "<span style='color:blue'>Model Result vs. Actual is **CORRECT**</span>"
      ],
      "text/plain": [
       "<IPython.core.display.Markdown object>"
      ]
     },
     "metadata": {},
     "output_type": "display_data"
    },
    {
     "name": "stdout",
     "output_type": "stream",
     "text": [
      "==========================================================================================\n",
      "row_num: 154 | seq_id: 4392 | Processed : 56.20%\n",
      "sum(pos): 5.628572693447721 | sum(neg): 13.53998624547746 | sum(pos)/sum(neg) : 0.4157000303695095 \n",
      "sum(log_odds): -22.47411476325729\n",
      "Outcome: -1 | Predict: -1\n"
     ]
    },
    {
     "data": {
      "text/markdown": [
       "<span style='color:blue'>Model Result vs. Actual is **CORRECT**</span>"
      ],
      "text/plain": [
       "<IPython.core.display.Markdown object>"
      ]
     },
     "metadata": {},
     "output_type": "display_data"
    },
    {
     "name": "stdout",
     "output_type": "stream",
     "text": [
      "==========================================================================================\n",
      "row_num: 155 | seq_id: 4875 | Processed : 56.57%\n",
      "sum(pos): 5.233681843470945 | sum(neg): 12.678006183600525 | sum(pos)/sum(neg) : 0.4128158456209706 \n",
      "sum(log_odds): -20.688772589990712\n",
      "Outcome: -1 | Predict: -1\n"
     ]
    },
    {
     "data": {
      "text/markdown": [
       "<span style='color:blue'>Model Result vs. Actual is **CORRECT**</span>"
      ],
      "text/plain": [
       "<IPython.core.display.Markdown object>"
      ]
     },
     "metadata": {},
     "output_type": "display_data"
    },
    {
     "name": "stdout",
     "output_type": "stream",
     "text": [
      "==========================================================================================\n",
      "row_num: 156 | seq_id: 8483 | Processed : 56.93%\n",
      "sum(pos): 1.496720594665501 | sum(neg): 4.310956977251783 | sum(pos)/sum(neg) : 0.3471898705005528 \n",
      "sum(log_odds): -7.4051843001299265\n",
      "Outcome: -1 | Predict: -1\n"
     ]
    },
    {
     "data": {
      "text/markdown": [
       "<span style='color:blue'>Model Result vs. Actual is **CORRECT**</span>"
      ],
      "text/plain": [
       "<IPython.core.display.Markdown object>"
      ]
     },
     "metadata": {},
     "output_type": "display_data"
    },
    {
     "name": "stdout",
     "output_type": "stream",
     "text": [
      "==========================================================================================\n",
      "row_num: 157 | seq_id: 7590 | Processed : 57.30%\n",
      "sum(pos): 5.233681843470945 | sum(neg): 12.678006183600525 | sum(pos)/sum(neg) : 0.4128158456209706 \n",
      "sum(log_odds): -20.688772589990712\n",
      "Outcome: -1 | Predict: -1\n"
     ]
    },
    {
     "data": {
      "text/markdown": [
       "<span style='color:blue'>Model Result vs. Actual is **CORRECT**</span>"
      ],
      "text/plain": [
       "<IPython.core.display.Markdown object>"
      ]
     },
     "metadata": {},
     "output_type": "display_data"
    },
    {
     "name": "stdout",
     "output_type": "stream",
     "text": [
      "==========================================================================================\n",
      "row_num: 158 | seq_id: 9877 | Processed : 57.66%\n",
      "sum(pos): 3.739386678421633 | sum(neg): 9.632346195814195 | sum(pos)/sum(neg) : 0.3882114079378304 \n",
      "sum(log_odds): -17.985136981432337\n",
      "Outcome: -1 | Predict: -1\n"
     ]
    },
    {
     "data": {
      "text/markdown": [
       "<span style='color:blue'>Model Result vs. Actual is **CORRECT**</span>"
      ],
      "text/plain": [
       "<IPython.core.display.Markdown object>"
      ]
     },
     "metadata": {},
     "output_type": "display_data"
    },
    {
     "name": "stdout",
     "output_type": "stream",
     "text": [
      "==========================================================================================\n",
      "row_num: 159 | seq_id: 1981 | Processed : 58.03%\n",
      "sum(pos): 3.311752222802919 | sum(neg): 8.400644202313687 | sum(pos)/sum(neg) : 0.39422598351336 \n",
      "sum(log_odds): -15.86937003853807\n",
      "Outcome: -1 | Predict: -1\n"
     ]
    },
    {
     "data": {
      "text/markdown": [
       "<span style='color:blue'>Model Result vs. Actual is **CORRECT**</span>"
      ],
      "text/plain": [
       "<IPython.core.display.Markdown object>"
      ]
     },
     "metadata": {},
     "output_type": "display_data"
    },
    {
     "name": "stdout",
     "output_type": "stream",
     "text": [
      "==========================================================================================\n",
      "row_num: 160 | seq_id: 7232 | Processed : 58.39%\n",
      "sum(pos): 6.131216750086209 | sum(neg): 14.197047313130811 | sum(pos)/sum(neg) : 0.43186562775031845 \n",
      "sum(log_odds): -24.264738399153607\n",
      "Outcome: -1 | Predict: -1\n"
     ]
    },
    {
     "data": {
      "text/markdown": [
       "<span style='color:blue'>Model Result vs. Actual is **CORRECT**</span>"
      ],
      "text/plain": [
       "<IPython.core.display.Markdown object>"
      ]
     },
     "metadata": {},
     "output_type": "display_data"
    },
    {
     "name": "stdout",
     "output_type": "stream",
     "text": [
      "==========================================================================================\n",
      "row_num: 161 | seq_id: 20 | Processed : 58.76%\n",
      "sum(pos): 1.3216208821741238 | sum(neg): 4.040434012310674 | sum(pos)/sum(neg) : 0.32709874190428995 \n",
      "sum(log_odds): -8.535503520969602\n",
      "Outcome: -1 | Predict: -1\n"
     ]
    },
    {
     "data": {
      "text/markdown": [
       "<span style='color:blue'>Model Result vs. Actual is **CORRECT**</span>"
      ],
      "text/plain": [
       "<IPython.core.display.Markdown object>"
      ]
     },
     "metadata": {},
     "output_type": "display_data"
    },
    {
     "name": "stdout",
     "output_type": "stream",
     "text": [
      "==========================================================================================\n",
      "row_num: 162 | seq_id: 610 | Processed : 59.12%\n",
      "sum(pos): 4.3808383618497055 | sum(neg): 11.479899186064957 | sum(pos)/sum(neg) : 0.38160948026159064 \n",
      "sum(log_odds): -21.158787395773736\n",
      "Outcome: -1 | Predict: -1\n"
     ]
    },
    {
     "data": {
      "text/markdown": [
       "<span style='color:blue'>Model Result vs. Actual is **CORRECT**</span>"
      ],
      "text/plain": [
       "<IPython.core.display.Markdown object>"
      ]
     },
     "metadata": {},
     "output_type": "display_data"
    },
    {
     "name": "stdout",
     "output_type": "stream",
     "text": [
      "==========================================================================================\n",
      "row_num: 163 | seq_id: 7672 | Processed : 59.49%\n",
      "sum(pos): 1.535438109983481 | sum(neg): 4.656285009060928 | sum(pos)/sum(neg) : 0.3297560409200866 \n",
      "sum(log_odds): -9.593386992416734\n",
      "Outcome: -1 | Predict: -1\n"
     ]
    },
    {
     "data": {
      "text/markdown": [
       "<span style='color:blue'>Model Result vs. Actual is **CORRECT**</span>"
      ],
      "text/plain": [
       "<IPython.core.display.Markdown object>"
      ]
     },
     "metadata": {},
     "output_type": "display_data"
    },
    {
     "name": "stdout",
     "output_type": "stream",
     "text": [
      "==========================================================================================\n",
      "row_num: 164 | seq_id: 3368 | Processed : 59.85%\n",
      "sum(pos): 5.272399358788926 | sum(neg): 13.02333421540967 | sum(pos)/sum(neg) : 0.40484251356695095 \n",
      "sum(log_odds): -22.87697528227752\n",
      "Outcome: -1 | Predict: -1\n"
     ]
    },
    {
     "data": {
      "text/markdown": [
       "<span style='color:blue'>Model Result vs. Actual is **CORRECT**</span>"
      ],
      "text/plain": [
       "<IPython.core.display.Markdown object>"
      ]
     },
     "metadata": {},
     "output_type": "display_data"
    },
    {
     "name": "stdout",
     "output_type": "stream",
     "text": [
      "==========================================================================================\n",
      "row_num: 165 | seq_id: 4029 | Processed : 60.22%\n",
      "sum(pos): 3.525569450612276 | sum(neg): 9.016495199063941 | sum(pos)/sum(neg) : 0.3910132898399688 \n",
      "sum(log_odds): -16.927253509985203\n",
      "Outcome: -1 | Predict: -1\n"
     ]
    },
    {
     "data": {
      "text/markdown": [
       "<span style='color:blue'>Model Result vs. Actual is **CORRECT**</span>"
      ],
      "text/plain": [
       "<IPython.core.display.Markdown object>"
      ]
     },
     "metadata": {},
     "output_type": "display_data"
    },
    {
     "name": "stdout",
     "output_type": "stream",
     "text": [
      "==========================================================================================\n",
      "row_num: 166 | seq_id: 8094 | Processed : 60.58%\n",
      "sum(pos): 1.8576943408536168 | sum(neg): 4.728700976466467 | sum(pos)/sum(neg) : 0.392855109701139 \n",
      "sum(log_odds): -8.1004668346188\n",
      "Outcome: -1 | Predict: -1\n"
     ]
    },
    {
     "data": {
      "text/markdown": [
       "<span style='color:blue'>Model Result vs. Actual is **CORRECT**</span>"
      ],
      "text/plain": [
       "<IPython.core.display.Markdown object>"
      ]
     },
     "metadata": {},
     "output_type": "display_data"
    },
    {
     "name": "stdout",
     "output_type": "stream",
     "text": [
      "==========================================================================================\n",
      "row_num: 167 | seq_id: 4684 | Processed : 60.95%\n",
      "sum(pos): 6.131216750086209 | sum(neg): 14.197047313130811 | sum(pos)/sum(neg) : 0.43186562775031845 \n",
      "sum(log_odds): -24.264738399153607\n",
      "Outcome: -1 | Predict: -1\n"
     ]
    },
    {
     "data": {
      "text/markdown": [
       "<span style='color:blue'>Model Result vs. Actual is **CORRECT**</span>"
      ],
      "text/plain": [
       "<IPython.core.display.Markdown object>"
      ]
     },
     "metadata": {},
     "output_type": "display_data"
    },
    {
     "name": "stdout",
     "output_type": "stream",
     "text": [
      "==========================================================================================\n",
      "row_num: 168 | seq_id: 9419 | Processed : 61.31%\n",
      "sum(pos): 4.167021134040348 | sum(neg): 10.864048189314703 | sum(pos)/sum(neg) : 0.3835606268884933 \n",
      "sum(log_odds): -20.1009039243266\n",
      "Outcome: -1 | Predict: -1\n"
     ]
    },
    {
     "data": {
      "text/markdown": [
       "<span style='color:blue'>Model Result vs. Actual is **CORRECT**</span>"
      ],
      "text/plain": [
       "<IPython.core.display.Markdown object>"
      ]
     },
     "metadata": {},
     "output_type": "display_data"
    },
    {
     "name": "stdout",
     "output_type": "stream",
     "text": [
      "==========================================================================================\n",
      "row_num: 169 | seq_id: 6748 | Processed : 61.68%\n",
      "sum(pos): 3.0979349949935617 | sum(neg): 7.784793205563433 | sum(pos)/sum(neg) : 0.39794698628341346 \n",
      "sum(log_odds): -14.811486567090938\n",
      "Outcome: -1 | Predict: -1\n"
     ]
    },
    {
     "data": {
      "text/markdown": [
       "<span style='color:blue'>Model Result vs. Actual is **CORRECT**</span>"
      ],
      "text/plain": [
       "<IPython.core.display.Markdown object>"
      ]
     },
     "metadata": {},
     "output_type": "display_data"
    },
    {
     "name": "stdout",
     "output_type": "stream",
     "text": [
      "==========================================================================================\n",
      "row_num: 170 | seq_id: 1941 | Processed : 62.04%\n",
      "sum(pos): 5.272399358788926 | sum(neg): 13.02333421540967 | sum(pos)/sum(neg) : 0.40484251356695095 \n",
      "sum(log_odds): -22.87697528227752\n",
      "Outcome: -1 | Predict: -1\n"
     ]
    },
    {
     "data": {
      "text/markdown": [
       "<span style='color:blue'>Model Result vs. Actual is **CORRECT**</span>"
      ],
      "text/plain": [
       "<IPython.core.display.Markdown object>"
      ]
     },
     "metadata": {},
     "output_type": "display_data"
    },
    {
     "name": "stdout",
     "output_type": "stream",
     "text": [
      "==========================================================================================\n",
      "row_num: 171 | seq_id: 1015 | Processed : 62.41%\n",
      "sum(pos): 3.0979349949935617 | sum(neg): 7.784793205563433 | sum(pos)/sum(neg) : 0.39794698628341346 \n",
      "sum(log_odds): -14.811486567090938\n",
      "Outcome: -1 | Predict: -1\n"
     ]
    },
    {
     "data": {
      "text/markdown": [
       "<span style='color:blue'>Model Result vs. Actual is **CORRECT**</span>"
      ],
      "text/plain": [
       "<IPython.core.display.Markdown object>"
      ]
     },
     "metadata": {},
     "output_type": "display_data"
    },
    {
     "name": "stdout",
     "output_type": "stream",
     "text": [
      "==========================================================================================\n",
      "row_num: 172 | seq_id: 7923 | Processed : 62.77%\n",
      "sum(pos): 3.4892269172074277 | sum(neg): 7.306962146936244 | sum(pos)/sum(neg) : 0.4775208694177286 \n",
      "sum(log_odds): -12.275592394497705\n",
      "Outcome: -1 | Predict: -1\n"
     ]
    },
    {
     "data": {
      "text/markdown": [
       "<span style='color:blue'>Model Result vs. Actual is **CORRECT**</span>"
      ],
      "text/plain": [
       "<IPython.core.display.Markdown object>"
      ]
     },
     "metadata": {},
     "output_type": "display_data"
    },
    {
     "name": "stdout",
     "output_type": "stream",
     "text": [
      "==========================================================================================\n",
      "row_num: 173 | seq_id: 7438 | Processed : 63.14%\n",
      "sum(pos): 4.7721302840635715 | sum(neg): 11.00206812743777 | sum(pos)/sum(neg) : 0.43374847608537165 \n",
      "sum(log_odds): -18.6228932231805\n",
      "Outcome: -1 | Predict: -1\n"
     ]
    },
    {
     "data": {
      "text/markdown": [
       "<span style='color:blue'>Model Result vs. Actual is **CORRECT**</span>"
      ],
      "text/plain": [
       "<IPython.core.display.Markdown object>"
      ]
     },
     "metadata": {},
     "output_type": "display_data"
    },
    {
     "name": "stdout",
     "output_type": "stream",
     "text": [
      "==========================================================================================\n",
      "row_num: 174 | seq_id: 5597 | Processed : 63.50%\n",
      "sum(pos): 1.7129128043879898 | sum(neg): 3.5626029536834847 | sum(pos)/sum(neg) : 0.4808037344203503 \n",
      "sum(log_odds): -5.999609348376369\n",
      "Outcome: -1 | Predict: -1\n"
     ]
    },
    {
     "data": {
      "text/markdown": [
       "<span style='color:blue'>Model Result vs. Actual is **CORRECT**</span>"
      ],
      "text/plain": [
       "<IPython.core.display.Markdown object>"
      ]
     },
     "metadata": {},
     "output_type": "display_data"
    },
    {
     "name": "stdout",
     "output_type": "stream",
     "text": [
      "==========================================================================================\n",
      "row_num: 175 | seq_id: 4700 | Processed : 63.87%\n",
      "sum(pos): 5.8775085088121495 | sum(neg): 13.161354153532738 | sum(pos)/sum(neg) : 0.4465732355689649 \n",
      "sum(log_odds): -21.39896458113142\n",
      "Outcome: -1 | Predict: -1\n"
     ]
    },
    {
     "data": {
      "text/markdown": [
       "<span style='color:blue'>Model Result vs. Actual is **CORRECT**</span>"
      ],
      "text/plain": [
       "<IPython.core.display.Markdown object>"
      ]
     },
     "metadata": {},
     "output_type": "display_data"
    },
    {
     "name": "stdout",
     "output_type": "stream",
     "text": [
      "==========================================================================================\n",
      "row_num: 176 | seq_id: 1637 | Processed : 64.23%\n",
      "sum(pos): 5.8775085088121495 | sum(neg): 13.161354153532738 | sum(pos)/sum(neg) : 0.4465732355689649 \n",
      "sum(log_odds): -21.39896458113142\n",
      "Outcome: -1 | Predict: -1\n"
     ]
    },
    {
     "data": {
      "text/markdown": [
       "<span style='color:blue'>Model Result vs. Actual is **CORRECT**</span>"
      ],
      "text/plain": [
       "<IPython.core.display.Markdown object>"
      ]
     },
     "metadata": {},
     "output_type": "display_data"
    },
    {
     "name": "stdout",
     "output_type": "stream",
     "text": [
      "==========================================================================================\n",
      "row_num: 177 | seq_id: 7808 | Processed : 64.60%\n",
      "sum(pos): 6.272399358788925 | sum(neg): 14.023334215409673 | sum(pos)/sum(neg) : 0.4472830257369492 \n",
      "sum(log_odds): -23.184306754397998\n",
      "Outcome: -1 | Predict: -1\n"
     ]
    },
    {
     "data": {
      "text/markdown": [
       "<span style='color:blue'>Model Result vs. Actual is **CORRECT**</span>"
      ],
      "text/plain": [
       "<IPython.core.display.Markdown object>"
      ]
     },
     "metadata": {},
     "output_type": "display_data"
    },
    {
     "name": "stdout",
     "output_type": "stream",
     "text": [
      "==========================================================================================\n",
      "row_num: 178 | seq_id: 8700 | Processed : 64.96%\n",
      "sum(pos): 2.965447547515327 | sum(neg): 5.523781982242885 | sum(pos)/sum(neg) : 0.536850939636693 \n",
      "sum(log_odds): -8.413079769369023\n",
      "Outcome: -1 | Predict: -1\n"
     ]
    },
    {
     "data": {
      "text/markdown": [
       "<span style='color:blue'>Model Result vs. Actual is **CORRECT**</span>"
      ],
      "text/plain": [
       "<IPython.core.display.Markdown object>"
      ]
     },
     "metadata": {},
     "output_type": "display_data"
    },
    {
     "name": "stdout",
     "output_type": "stream",
     "text": [
      "==========================================================================================\n",
      "row_num: 179 | seq_id: 3899 | Processed : 65.33%\n",
      "sum(pos): 1.926730032197347 | sum(neg): 4.17845395043374 | sum(pos)/sum(neg) : 0.46111074934721846 \n",
      "sum(log_odds): -7.057492819823501\n",
      "Outcome: -1 | Predict: -1\n"
     ]
    },
    {
     "data": {
      "text/markdown": [
       "<span style='color:blue'>Model Result vs. Actual is **CORRECT**</span>"
      ],
      "text/plain": [
       "<IPython.core.display.Markdown object>"
      ]
     },
     "metadata": {},
     "output_type": "display_data"
    },
    {
     "name": "stdout",
     "output_type": "stream",
     "text": [
      "==========================================================================================\n",
      "row_num: 180 | seq_id: 4487 | Processed : 65.69%\n",
      "sum(pos): 6.176254444715539 | sum(neg): 13.471856044216823 | sum(pos)/sum(neg) : 0.4584560898248963 \n",
      "sum(log_odds): -21.43756107216358\n",
      "Outcome: -1 | Predict: -1\n"
     ]
    },
    {
     "data": {
      "text/markdown": [
       "<span style='color:blue'>Model Result vs. Actual is **CORRECT**</span>"
      ],
      "text/plain": [
       "<IPython.core.display.Markdown object>"
      ]
     },
     "metadata": {},
     "output_type": "display_data"
    },
    {
     "name": "stdout",
     "output_type": "stream",
     "text": [
      "==========================================================================================\n",
      "row_num: 181 | seq_id: 9093 | Processed : 66.06%\n",
      "sum(pos): 2.1405472600067044 | sum(neg): 4.794304947183994 | sum(pos)/sum(neg) : 0.44647707719634866 \n",
      "sum(log_odds): -8.115376291270634\n",
      "Outcome: -1 | Predict: -1\n"
     ]
    },
    {
     "data": {
      "text/markdown": [
       "<span style='color:blue'>Model Result vs. Actual is **CORRECT**</span>"
      ],
      "text/plain": [
       "<IPython.core.display.Markdown object>"
      ]
     },
     "metadata": {},
     "output_type": "display_data"
    },
    {
     "name": "stdout",
     "output_type": "stream",
     "text": [
      "==========================================================================================\n",
      "row_num: 182 | seq_id: 8999 | Processed : 66.42%\n",
      "sum(pos): 2.50152100619482 | sum(neg): 5.212048946398679 | sum(pos)/sum(neg) : 0.4799496382172836 \n",
      "sum(log_odds): -8.810658825759507\n",
      "Outcome: -1 | Predict: -1\n"
     ]
    },
    {
     "data": {
      "text/markdown": [
       "<span style='color:blue'>Model Result vs. Actual is **CORRECT**</span>"
      ],
      "text/plain": [
       "<IPython.core.display.Markdown object>"
      ]
     },
     "metadata": {},
     "output_type": "display_data"
    },
    {
     "name": "stdout",
     "output_type": "stream",
     "text": [
      "==========================================================================================\n",
      "row_num: 183 | seq_id: 7535 | Processed : 66.79%\n",
      "sum(pos): 4.7721302840635715 | sum(neg): 11.00206812743777 | sum(pos)/sum(neg) : 0.43374847608537165 \n",
      "sum(log_odds): -18.6228932231805\n",
      "Outcome: -1 | Predict: -1\n"
     ]
    },
    {
     "data": {
      "text/markdown": [
       "<span style='color:blue'>Model Result vs. Actual is **CORRECT**</span>"
      ],
      "text/plain": [
       "<IPython.core.display.Markdown object>"
      ]
     },
     "metadata": {},
     "output_type": "display_data"
    },
    {
     "name": "stdout",
     "output_type": "stream",
     "text": [
      "==========================================================================================\n",
      "row_num: 184 | seq_id: 5001 | Processed : 67.15%\n",
      "sum(pos): 6.272399358788925 | sum(neg): 14.023334215409673 | sum(pos)/sum(neg) : 0.4472830257369492 \n",
      "sum(log_odds): -23.184306754397998\n",
      "Outcome: -1 | Predict: -1\n"
     ]
    },
    {
     "data": {
      "text/markdown": [
       "<span style='color:blue'>Model Result vs. Actual is **CORRECT**</span>"
      ],
      "text/plain": [
       "<IPython.core.display.Markdown object>"
      ]
     },
     "metadata": {},
     "output_type": "display_data"
    },
    {
     "name": "stdout",
     "output_type": "stream",
     "text": [
      "==========================================================================================\n",
      "row_num: 185 | seq_id: 9066 | Processed : 67.52%\n",
      "sum(pos): 6.176254444715539 | sum(neg): 13.471856044216823 | sum(pos)/sum(neg) : 0.4584560898248963 \n",
      "sum(log_odds): -21.43756107216358\n",
      "Outcome: -1 | Predict: -1\n"
     ]
    },
    {
     "data": {
      "text/markdown": [
       "<span style='color:blue'>Model Result vs. Actual is **CORRECT**</span>"
      ],
      "text/plain": [
       "<IPython.core.display.Markdown object>"
      ]
     },
     "metadata": {},
     "output_type": "display_data"
    },
    {
     "name": "stdout",
     "output_type": "stream",
     "text": [
      "==========================================================================================\n",
      "row_num: 186 | seq_id: 5657 | Processed : 67.88%\n",
      "sum(pos): 4.130678600635499 | sum(neg): 9.154515137187008 | sum(pos)/sum(neg) : 0.4512176274476914 \n",
      "sum(log_odds): -15.449242808839102\n",
      "Outcome: -1 | Predict: -1\n"
     ]
    },
    {
     "data": {
      "text/markdown": [
       "<span style='color:blue'>Model Result vs. Actual is **CORRECT**</span>"
      ],
      "text/plain": [
       "<IPython.core.display.Markdown object>"
      ]
     },
     "metadata": {},
     "output_type": "display_data"
    },
    {
     "name": "stdout",
     "output_type": "stream",
     "text": [
      "==========================================================================================\n",
      "row_num: 187 | seq_id: 5704 | Processed : 68.25%\n",
      "sum(pos): 3.2754096893980704 | sum(neg): 6.691111150185989 | sum(pos)/sum(neg) : 0.48951655650004045 \n",
      "sum(log_odds): -11.217708923050573\n",
      "Outcome: -1 | Predict: -1\n"
     ]
    },
    {
     "data": {
      "text/markdown": [
       "<span style='color:blue'>Model Result vs. Actual is **CORRECT**</span>"
      ],
      "text/plain": [
       "<IPython.core.display.Markdown object>"
      ]
     },
     "metadata": {},
     "output_type": "display_data"
    },
    {
     "name": "stdout",
     "output_type": "stream",
     "text": [
      "==========================================================================================\n",
      "row_num: 188 | seq_id: 168 | Processed : 68.61%\n",
      "sum(pos): 3.703044145016785 | sum(neg): 7.922813143686499 | sum(pos)/sum(neg) : 0.4673900643444624 \n",
      "sum(log_odds): -13.333475865944838\n",
      "Outcome: -1 | Predict: -1\n"
     ]
    },
    {
     "data": {
      "text/markdown": [
       "<span style='color:blue'>Model Result vs. Actual is **CORRECT**</span>"
      ],
      "text/plain": [
       "<IPython.core.display.Markdown object>"
      ]
     },
     "metadata": {},
     "output_type": "display_data"
    },
    {
     "name": "stdout",
     "output_type": "stream",
     "text": [
      "==========================================================================================\n",
      "row_num: 189 | seq_id: 4879 | Processed : 68.98%\n",
      "sum(pos): 2.1405472600067044 | sum(neg): 4.794304947183994 | sum(pos)/sum(neg) : 0.44647707719634866 \n",
      "sum(log_odds): -8.115376291270634\n",
      "Outcome: -1 | Predict: -1\n"
     ]
    },
    {
     "data": {
      "text/markdown": [
       "<span style='color:blue'>Model Result vs. Actual is **CORRECT**</span>"
      ],
      "text/plain": [
       "<IPython.core.display.Markdown object>"
      ]
     },
     "metadata": {},
     "output_type": "display_data"
    },
    {
     "name": "stdout",
     "output_type": "stream",
     "text": [
      "==========================================================================================\n",
      "row_num: 190 | seq_id: 800 | Processed : 69.34%\n",
      "sum(pos): 3.703044145016785 | sum(neg): 7.922813143686499 | sum(pos)/sum(neg) : 0.4673900643444624 \n",
      "sum(log_odds): -13.333475865944838\n",
      "Outcome: -1 | Predict: -1\n"
     ]
    },
    {
     "data": {
      "text/markdown": [
       "<span style='color:blue'>Model Result vs. Actual is **CORRECT**</span>"
      ],
      "text/plain": [
       "<IPython.core.display.Markdown object>"
      ]
     },
     "metadata": {},
     "output_type": "display_data"
    },
    {
     "name": "stdout",
     "output_type": "stream",
     "text": [
      "==========================================================================================\n",
      "row_num: 191 | seq_id: 4898 | Processed : 69.71%\n",
      "sum(pos): 1.926730032197347 | sum(neg): 4.17845395043374 | sum(pos)/sum(neg) : 0.46111074934721846 \n",
      "sum(log_odds): -7.057492819823501\n",
      "Outcome: -1 | Predict: -1\n"
     ]
    },
    {
     "data": {
      "text/markdown": [
       "<span style='color:blue'>Model Result vs. Actual is **CORRECT**</span>"
      ],
      "text/plain": [
       "<IPython.core.display.Markdown object>"
      ]
     },
     "metadata": {},
     "output_type": "display_data"
    },
    {
     "name": "stdout",
     "output_type": "stream",
     "text": [
      "==========================================================================================\n",
      "row_num: 192 | seq_id: 2199 | Processed : 70.07%\n",
      "sum(pos): 5.11086892763002 | sum(neg): 11.28934446938608 | sum(pos)/sum(neg) : 0.4527161821919277 \n",
      "sum(log_odds): -18.458108992510525\n",
      "Outcome: -1 | Predict: -1\n"
     ]
    },
    {
     "data": {
      "text/markdown": [
       "<span style='color:blue'>Model Result vs. Actual is **CORRECT**</span>"
      ],
      "text/plain": [
       "<IPython.core.display.Markdown object>"
      ]
     },
     "metadata": {},
     "output_type": "display_data"
    },
    {
     "name": "stdout",
     "output_type": "stream",
     "text": [
      "==========================================================================================\n",
      "row_num: 193 | seq_id: 752 | Processed : 70.44%\n",
      "sum(pos): 4.683234472011305 | sum(neg): 10.057642475885572 | sum(pos)/sum(neg) : 0.46563938649041586 \n",
      "sum(log_odds): -16.34234204961626\n",
      "Outcome: -1 | Predict: -1\n"
     ]
    },
    {
     "data": {
      "text/markdown": [
       "<span style='color:blue'>Model Result vs. Actual is **CORRECT**</span>"
      ],
      "text/plain": [
       "<IPython.core.display.Markdown object>"
      ]
     },
     "metadata": {},
     "output_type": "display_data"
    },
    {
     "name": "stdout",
     "output_type": "stream",
     "text": [
      "==========================================================================================\n",
      "row_num: 194 | seq_id: 5829 | Processed : 70.80%\n",
      "sum(pos): 3.827965560773876 | sum(neg): 7.594238488884554 | sum(pos)/sum(neg) : 0.504061805061396 \n",
      "sum(log_odds): -12.110808163827729\n",
      "Outcome: -1 | Predict: -1\n"
     ]
    },
    {
     "data": {
      "text/markdown": [
       "<span style='color:blue'>Model Result vs. Actual is **CORRECT**</span>"
      ],
      "text/plain": [
       "<IPython.core.display.Markdown object>"
      ]
     },
     "metadata": {},
     "output_type": "display_data"
    },
    {
     "name": "stdout",
     "output_type": "stream",
     "text": [
      "==========================================================================================\n",
      "row_num: 195 | seq_id: 4452 | Processed : 71.17%\n",
      "sum(pos): 4.4694172442019475 | sum(neg): 9.441791479135318 | sum(pos)/sum(neg) : 0.4733653834739483 \n",
      "sum(log_odds): -15.284458578169126\n",
      "Outcome: -1 | Predict: -1\n"
     ]
    },
    {
     "data": {
      "text/markdown": [
       "<span style='color:blue'>Model Result vs. Actual is **CORRECT**</span>"
      ],
      "text/plain": [
       "<IPython.core.display.Markdown object>"
      ]
     },
     "metadata": {},
     "output_type": "display_data"
    },
    {
     "name": "stdout",
     "output_type": "stream",
     "text": [
      "==========================================================================================\n",
      "row_num: 196 | seq_id: 4878 | Processed : 71.53%\n",
      "sum(pos): 4.255600016392591 | sum(neg): 8.825940482385064 | sum(pos)/sum(neg) : 0.48216958010151745 \n",
      "sum(log_odds): -14.226575106721993\n",
      "Outcome: -1 | Predict: -1\n"
     ]
    },
    {
     "data": {
      "text/markdown": [
       "<span style='color:blue'>Model Result vs. Actual is **CORRECT**</span>"
      ],
      "text/plain": [
       "<IPython.core.display.Markdown object>"
      ]
     },
     "metadata": {},
     "output_type": "display_data"
    },
    {
     "name": "stdout",
     "output_type": "stream",
     "text": [
      "==========================================================================================\n",
      "row_num: 197 | seq_id: 3606 | Processed : 71.90%\n",
      "sum(pos): 5.11086892763002 | sum(neg): 11.28934446938608 | sum(pos)/sum(neg) : 0.4527161821919277 \n",
      "sum(log_odds): -18.458108992510525\n",
      "Outcome: -1 | Predict: -1\n"
     ]
    },
    {
     "data": {
      "text/markdown": [
       "<span style='color:blue'>Model Result vs. Actual is **CORRECT**</span>"
      ],
      "text/plain": [
       "<IPython.core.display.Markdown object>"
      ]
     },
     "metadata": {},
     "output_type": "display_data"
    },
    {
     "name": "stdout",
     "output_type": "stream",
     "text": [
      "==========================================================================================\n",
      "row_num: 198 | seq_id: 982 | Processed : 72.26%\n",
      "sum(pos): 3.3041861910817754 | sum(neg): 5.811058324191195 | sum(pos)/sum(neg) : 0.5686031711859758 \n",
      "sum(log_odds): -8.248295538699047\n",
      "Outcome: -1 | Predict: -1\n"
     ]
    },
    {
     "data": {
      "text/markdown": [
       "<span style='color:blue'>Model Result vs. Actual is **CORRECT**</span>"
      ],
      "text/plain": [
       "<IPython.core.display.Markdown object>"
      ]
     },
     "metadata": {},
     "output_type": "display_data"
    },
    {
     "name": "stdout",
     "output_type": "stream",
     "text": [
      "==========================================================================================\n",
      "row_num: 199 | seq_id: 2354 | Processed : 72.63%\n",
      "sum(pos): 3.6141483329645188 | sum(neg): 6.978387492134299 | sum(pos)/sum(neg) : 0.5179059398805543 \n",
      "sum(log_odds): -11.052924692380596\n",
      "Outcome: -1 | Predict: -1\n"
     ]
    },
    {
     "data": {
      "text/markdown": [
       "<span style='color:blue'>Model Result vs. Actual is **CORRECT**</span>"
      ],
      "text/plain": [
       "<IPython.core.display.Markdown object>"
      ]
     },
     "metadata": {},
     "output_type": "display_data"
    },
    {
     "name": "stdout",
     "output_type": "stream",
     "text": [
      "==========================================================================================\n",
      "row_num: 200 | seq_id: 1503 | Processed : 72.99%\n",
      "sum(pos): 6.5149930882819875 | sum(neg): 13.759132386165133 | sum(pos)/sum(neg) : 0.47350319085764747 \n",
      "sum(log_odds): -21.272776841493602\n",
      "Outcome: -1 | Predict: -1\n"
     ]
    },
    {
     "data": {
      "text/markdown": [
       "<span style='color:blue'>Model Result vs. Actual is **CORRECT**</span>"
      ],
      "text/plain": [
       "<IPython.core.display.Markdown object>"
      ]
     },
     "metadata": {},
     "output_type": "display_data"
    },
    {
     "name": "stdout",
     "output_type": "stream",
     "text": [
      "==========================================================================================\n",
      "row_num: 201 | seq_id: 1480 | Processed : 73.36%\n",
      "sum(pos): 5.947229996554949 | sum(neg): 12.272591092378878 | sum(pos)/sum(neg) : 0.48459448797639015 \n",
      "sum(log_odds): -18.98861767869378\n",
      "Outcome: -1 | Predict: -1\n"
     ]
    },
    {
     "data": {
      "text/markdown": [
       "<span style='color:blue'>Model Result vs. Actual is **CORRECT**</span>"
      ],
      "text/plain": [
       "<IPython.core.display.Markdown object>"
      ]
     },
     "metadata": {},
     "output_type": "display_data"
    },
    {
     "name": "stdout",
     "output_type": "stream",
     "text": [
      "==========================================================================================\n",
      "row_num: 202 | seq_id: 453 | Processed : 73.72%\n",
      "sum(pos): 4.022874946270733 | sum(neg): 6.7299321216265895 | sum(pos)/sum(neg) : 0.5977586212709712 \n",
      "sum(log_odds): -9.467666435669589\n",
      "Outcome: -1 | Predict: -1\n"
     ]
    },
    {
     "data": {
      "text/markdown": [
       "<span style='color:blue'>Model Result vs. Actual is **CORRECT**</span>"
      ],
      "text/plain": [
       "<IPython.core.display.Markdown object>"
      ]
     },
     "metadata": {},
     "output_type": "display_data"
    },
    {
     "name": "stdout",
     "output_type": "stream",
     "text": [
      "==========================================================================================\n",
      "row_num: 203 | seq_id: 2059 | Processed : 74.09%\n",
      "sum(pos): 4.022874946270733 | sum(neg): 6.7299321216265895 | sum(pos)/sum(neg) : 0.5977586212709712 \n",
      "sum(log_odds): -9.467666435669589\n",
      "Outcome: -1 | Predict: -1\n"
     ]
    },
    {
     "data": {
      "text/markdown": [
       "<span style='color:blue'>Model Result vs. Actual is **CORRECT**</span>"
      ],
      "text/plain": [
       "<IPython.core.display.Markdown object>"
      ]
     },
     "metadata": {},
     "output_type": "display_data"
    },
    {
     "name": "stdout",
     "output_type": "stream",
     "text": [
      "==========================================================================================\n",
      "row_num: 204 | seq_id: 3379 | Processed : 74.45%\n",
      "sum(pos): 4.450509401889447 | sum(neg): 7.961634115127099 | sum(pos)/sum(neg) : 0.5589944648967833 \n",
      "sum(log_odds): -11.583433378563853\n",
      "Outcome: -1 | Predict: -1\n"
     ]
    },
    {
     "data": {
      "text/markdown": [
       "<span style='color:blue'>Model Result vs. Actual is **CORRECT**</span>"
      ],
      "text/plain": [
       "<IPython.core.display.Markdown object>"
      ]
     },
     "metadata": {},
     "output_type": "display_data"
    },
    {
     "name": "stdout",
     "output_type": "stream",
     "text": [
      "==========================================================================================\n",
      "row_num: 205 | seq_id: 8012 | Processed : 74.82%\n",
      "sum(pos): 3.1018297446887244 | sum(neg): 5.448976915374849 | sum(pos)/sum(neg) : 0.5692499331271881 \n",
      "sum(log_odds): -7.423217275336782\n",
      "Outcome: -1 | Predict: -1\n"
     ]
    },
    {
     "data": {
      "text/markdown": [
       "<span style='color:blue'>Model Result vs. Actual is **CORRECT**</span>"
      ],
      "text/plain": [
       "<IPython.core.display.Markdown object>"
      ]
     },
     "metadata": {},
     "output_type": "display_data"
    },
    {
     "name": "stdout",
     "output_type": "stream",
     "text": [
      "==========================================================================================\n",
      "row_num: 206 | seq_id: 9552 | Processed : 75.18%\n",
      "sum(pos): 3.4628034908768397 | sum(neg): 5.866720914589534 | sum(pos)/sum(neg) : 0.5902451371541193 \n",
      "sum(log_odds): -8.118499809825655\n",
      "Outcome: -1 | Predict: -1\n"
     ]
    },
    {
     "data": {
      "text/markdown": [
       "<span style='color:blue'>Model Result vs. Actual is **CORRECT**</span>"
      ],
      "text/plain": [
       "<IPython.core.display.Markdown object>"
      ]
     },
     "metadata": {},
     "output_type": "display_data"
    },
    {
     "name": "stdout",
     "output_type": "stream",
     "text": [
      "==========================================================================================\n",
      "row_num: 207 | seq_id: 9541 | Processed : 75.55%\n",
      "sum(pos): 4.664326629698805 | sum(neg): 8.577485111877353 | sum(pos)/sum(neg) : 0.5437872020599666 \n",
      "sum(log_odds): -12.641316850010986\n",
      "Outcome: -1 | Predict: -1\n"
     ]
    },
    {
     "data": {
      "text/markdown": [
       "<span style='color:blue'>Model Result vs. Actual is **CORRECT**</span>"
      ],
      "text/plain": [
       "<IPython.core.display.Markdown object>"
      ]
     },
     "metadata": {},
     "output_type": "display_data"
    },
    {
     "name": "stdout",
     "output_type": "stream",
     "text": [
      "==========================================================================================\n",
      "row_num: 208 | seq_id: 1817 | Processed : 75.91%\n",
      "sum(pos): 3.42408597555886 | sum(neg): 5.521392882780388 | sum(pos)/sum(neg) : 0.6201489457918462 \n",
      "sum(log_odds): -5.9302971175388475\n",
      "Outcome: -1 | Predict: -1\n"
     ]
    },
    {
     "data": {
      "text/markdown": [
       "<span style='color:blue'>Model Result vs. Actual is **CORRECT**</span>"
      ],
      "text/plain": [
       "<IPython.core.display.Markdown object>"
      ]
     },
     "metadata": {},
     "output_type": "display_data"
    },
    {
     "name": "stdout",
     "output_type": "stream",
     "text": [
      "==========================================================================================\n",
      "row_num: 209 | seq_id: 9712 | Processed : 76.28%\n",
      "sum(pos): 3.4628034908768397 | sum(neg): 5.866720914589534 | sum(pos)/sum(neg) : 0.5902451371541193 \n",
      "sum(log_odds): -8.118499809825655\n",
      "Outcome: -1 | Predict: -1\n"
     ]
    },
    {
     "data": {
      "text/markdown": [
       "<span style='color:blue'>Model Result vs. Actual is **CORRECT**</span>"
      ],
      "text/plain": [
       "<IPython.core.display.Markdown object>"
      ]
     },
     "metadata": {},
     "output_type": "display_data"
    },
    {
     "name": "stdout",
     "output_type": "stream",
     "text": [
      "==========================================================================================\n",
      "row_num: 210 | seq_id: 3852 | Processed : 76.64%\n",
      "sum(pos): 5.519595540936234 | sum(neg): 11.04088909887837 | sum(pos)/sum(neg) : 0.4999231032487196 \n",
      "sum(log_odds): -16.872850735799513\n",
      "Outcome: -1 | Predict: -1\n"
     ]
    },
    {
     "data": {
      "text/markdown": [
       "<span style='color:blue'>Model Result vs. Actual is **CORRECT**</span>"
      ],
      "text/plain": [
       "<IPython.core.display.Markdown object>"
      ]
     },
     "metadata": {},
     "output_type": "display_data"
    },
    {
     "name": "stdout",
     "output_type": "stream",
     "text": [
      "==========================================================================================\n",
      "row_num: 211 | seq_id: 6804 | Processed : 77.01%\n",
      "sum(pos): 6.161047224364305 | sum(neg): 12.888442089129132 | sum(pos)/sum(neg) : 0.4780288557575856 \n",
      "sum(log_odds): -20.046501150140916\n",
      "Outcome: -1 | Predict: -1\n"
     ]
    },
    {
     "data": {
      "text/markdown": [
       "<span style='color:blue'>Model Result vs. Actual is **CORRECT**</span>"
      ],
      "text/plain": [
       "<IPython.core.display.Markdown object>"
      ]
     },
     "metadata": {},
     "output_type": "display_data"
    },
    {
     "name": "stdout",
     "output_type": "stream",
     "text": [
      "==========================================================================================\n",
      "row_num: 212 | seq_id: 2394 | Processed : 77.37%\n",
      "sum(pos): 6.161047224364305 | sum(neg): 12.888442089129132 | sum(pos)/sum(neg) : 0.4780288557575856 \n",
      "sum(log_odds): -20.046501150140916\n",
      "Outcome: -1 | Predict: -1\n"
     ]
    },
    {
     "data": {
      "text/markdown": [
       "<span style='color:blue'>Model Result vs. Actual is **CORRECT**</span>"
      ],
      "text/plain": [
       "<IPython.core.display.Markdown object>"
      ]
     },
     "metadata": {},
     "output_type": "display_data"
    },
    {
     "name": "stdout",
     "output_type": "stream",
     "text": [
      "==========================================================================================\n",
      "row_num: 213 | seq_id: 253 | Processed : 77.74%\n",
      "sum(pos): 5.733412768745591 | sum(neg): 11.656740095628624 | sum(pos)/sum(neg) : 0.4918538735281289 \n",
      "sum(log_odds): -17.930734207246648\n",
      "Outcome: -1 | Predict: -1\n"
     ]
    },
    {
     "data": {
      "text/markdown": [
       "<span style='color:blue'>Model Result vs. Actual is **CORRECT**</span>"
      ],
      "text/plain": [
       "<IPython.core.display.Markdown object>"
      ]
     },
     "metadata": {},
     "output_type": "display_data"
    },
    {
     "name": "stdout",
     "output_type": "stream",
     "text": [
      "==========================================================================================\n",
      "row_num: 214 | seq_id: 7454 | Processed : 78.10%\n",
      "sum(pos): 4.2366921740800905 | sum(neg): 7.345783118376844 | sum(pos)/sum(neg) : 0.5767516009942107 \n",
      "sum(log_odds): -10.525549907116721\n",
      "Outcome: -1 | Predict: -1\n"
     ]
    },
    {
     "data": {
      "text/markdown": [
       "<span style='color:blue'>Model Result vs. Actual is **CORRECT**</span>"
      ],
      "text/plain": [
       "<IPython.core.display.Markdown object>"
      ]
     },
     "metadata": {},
     "output_type": "display_data"
    },
    {
     "name": "stdout",
     "output_type": "stream",
     "text": [
      "==========================================================================================\n",
      "row_num: 215 | seq_id: 8551 | Processed : 78.47%\n",
      "sum(pos): 3.926730032197347 | sum(neg): 6.17845395043374 | sum(pos)/sum(neg) : 0.6355522050822573 \n",
      "sum(log_odds): -7.720920753435172\n",
      "Outcome: -1 | Predict: -1\n"
     ]
    },
    {
     "data": {
      "text/markdown": [
       "<span style='color:blue'>Model Result vs. Actual is **CORRECT**</span>"
      ],
      "text/plain": [
       "<IPython.core.display.Markdown object>"
      ]
     },
     "metadata": {},
     "output_type": "display_data"
    },
    {
     "name": "stdout",
     "output_type": "stream",
     "text": [
      "==========================================================================================\n",
      "row_num: 216 | seq_id: 3227 | Processed : 78.83%\n",
      "sum(pos): 4.664326629698805 | sum(neg): 8.577485111877353 | sum(pos)/sum(neg) : 0.5437872020599666 \n",
      "sum(log_odds): -12.641316850010986\n",
      "Outcome: -1 | Predict: -1\n"
     ]
    },
    {
     "data": {
      "text/markdown": [
       "<span style='color:blue'>Model Result vs. Actual is **CORRECT**</span>"
      ],
      "text/plain": [
       "<IPython.core.display.Markdown object>"
      ]
     },
     "metadata": {},
     "output_type": "display_data"
    },
    {
     "name": "stdout",
     "output_type": "stream",
     "text": [
      "==========================================================================================\n",
      "row_num: 217 | seq_id: 1335 | Processed : 79.20%\n",
      "sum(pos): 5.286870470814376 | sum(neg): 8.944880738119897 | sum(pos)/sum(neg) : 0.5910498558447645 \n",
      "sum(log_odds): -12.11394206474711\n",
      "Outcome: -1 | Predict: -1\n"
     ]
    },
    {
     "data": {
      "text/markdown": [
       "<span style='color:blue'>Model Result vs. Actual is **CORRECT**</span>"
      ],
      "text/plain": [
       "<IPython.core.display.Markdown object>"
      ]
     },
     "metadata": {},
     "output_type": "display_data"
    },
    {
     "name": "stdout",
     "output_type": "stream",
     "text": [
      "==========================================================================================\n",
      "row_num: 218 | seq_id: 4007 | Processed : 79.56%\n",
      "sum(pos): 5.286870470814376 | sum(neg): 8.944880738119897 | sum(pos)/sum(neg) : 0.5910498558447645 \n",
      "sum(log_odds): -12.11394206474711\n",
      "Outcome: -1 | Predict: -1\n"
     ]
    },
    {
     "data": {
      "text/markdown": [
       "<span style='color:blue'>Model Result vs. Actual is **CORRECT**</span>"
      ],
      "text/plain": [
       "<IPython.core.display.Markdown object>"
      ]
     },
     "metadata": {},
     "output_type": "display_data"
    },
    {
     "name": "stdout",
     "output_type": "stream",
     "text": [
      "==========================================================================================\n",
      "row_num: 219 | seq_id: 10024 | Processed : 79.93%\n",
      "sum(pos): 6.1421393820518055 | sum(neg): 11.408284725120915 | sum(pos)/sum(neg) : 0.5383928899080581 \n",
      "sum(log_odds): -16.345475950535636\n",
      "Outcome: -1 | Predict: -1\n"
     ]
    },
    {
     "data": {
      "text/markdown": [
       "<span style='color:blue'>Model Result vs. Actual is **CORRECT**</span>"
      ],
      "text/plain": [
       "<IPython.core.display.Markdown object>"
      ]
     },
     "metadata": {},
     "output_type": "display_data"
    },
    {
     "name": "stdout",
     "output_type": "stream",
     "text": [
      "==========================================================================================\n",
      "row_num: 220 | seq_id: 5470 | Processed : 80.29%\n",
      "sum(pos): 4.859236015195662 | sum(neg): 7.713178744619389 | sum(pos)/sum(neg) : 0.6299913662166069 \n",
      "sum(log_odds): -9.998175121852846\n",
      "Outcome: -1 | Predict: -1\n"
     ]
    },
    {
     "data": {
      "text/markdown": [
       "<span style='color:blue'>Model Result vs. Actual is **CORRECT**</span>"
      ],
      "text/plain": [
       "<IPython.core.display.Markdown object>"
      ]
     },
     "metadata": {},
     "output_type": "display_data"
    },
    {
     "name": "stdout",
     "output_type": "stream",
     "text": [
      "==========================================================================================\n",
      "row_num: 221 | seq_id: 554 | Processed : 80.66%\n",
      "sum(pos): 4.0466298166744314 | sum(neg): 5.888788509022933 | sum(pos)/sum(neg) : 0.6871752671154848 \n",
      "sum(log_odds): -5.402922332274972\n",
      "Outcome: -1 | Predict: -1\n"
     ]
    },
    {
     "data": {
      "text/markdown": [
       "<span style='color:blue'>Model Result vs. Actual is **CORRECT**</span>"
      ],
      "text/plain": [
       "<IPython.core.display.Markdown object>"
      ]
     },
     "metadata": {},
     "output_type": "display_data"
    },
    {
     "name": "stdout",
     "output_type": "stream",
     "text": [
      "==========================================================================================\n",
      "row_num: 222 | seq_id: 4652 | Processed : 81.02%\n",
      "sum(pos): 5.71450492643309 | sum(neg): 10.176582731620407 | sum(pos)/sum(neg) : 0.5615347584879483 \n",
      "sum(log_odds): -14.229709007641375\n",
      "Outcome: -1 | Predict: -1\n"
     ]
    },
    {
     "data": {
      "text/markdown": [
       "<span style='color:blue'>Model Result vs. Actual is **CORRECT**</span>"
      ],
      "text/plain": [
       "<IPython.core.display.Markdown object>"
      ]
     },
     "metadata": {},
     "output_type": "display_data"
    },
    {
     "name": "stdout",
     "output_type": "stream",
     "text": [
      "==========================================================================================\n",
      "row_num: 223 | seq_id: 7445 | Processed : 81.39%\n",
      "sum(pos): 4.0466298166744314 | sum(neg): 5.888788509022933 | sum(pos)/sum(neg) : 0.6871752671154848 \n",
      "sum(log_odds): -5.402922332274972\n",
      "Outcome: -1 | Predict: -1\n"
     ]
    },
    {
     "data": {
      "text/markdown": [
       "<span style='color:blue'>Model Result vs. Actual is **CORRECT**</span>"
      ],
      "text/plain": [
       "<IPython.core.display.Markdown object>"
      ]
     },
     "metadata": {},
     "output_type": "display_data"
    },
    {
     "name": "stdout",
     "output_type": "stream",
     "text": [
      "==========================================================================================\n",
      "row_num: 224 | seq_id: 6153 | Processed : 81.75%\n",
      "sum(pos): 6.783591065479876 | sum(neg): 13.255837715371676 | sum(pos)/sum(neg) : 0.5117436718174 \n",
      "sum(log_odds): -19.51912636487704\n",
      "Outcome: -1 | Predict: -1\n"
     ]
    },
    {
     "data": {
      "text/markdown": [
       "<span style='color:blue'>Model Result vs. Actual is **CORRECT**</span>"
      ],
      "text/plain": [
       "<IPython.core.display.Markdown object>"
      ]
     },
     "metadata": {},
     "output_type": "display_data"
    },
    {
     "name": "stdout",
     "output_type": "stream",
     "text": [
      "==========================================================================================\n",
      "row_num: 225 | seq_id: 6268 | Processed : 82.12%\n",
      "sum(pos): 6.56977383767052 | sum(neg): 12.639986718621422 | sum(pos)/sum(neg) : 0.5197611345581422 \n",
      "sum(log_odds): -18.461242893429905\n",
      "Outcome: -1 | Predict: -1\n"
     ]
    },
    {
     "data": {
      "text/markdown": [
       "<span style='color:blue'>Model Result vs. Actual is **CORRECT**</span>"
      ],
      "text/plain": [
       "<IPython.core.display.Markdown object>"
      ]
     },
     "metadata": {},
     "output_type": "display_data"
    },
    {
     "name": "stdout",
     "output_type": "stream",
     "text": [
      "==========================================================================================\n",
      "row_num: 226 | seq_id: 6059 | Processed : 82.48%\n",
      "sum(pos): 4.0466298166744314 | sum(neg): 5.888788509022933 | sum(pos)/sum(neg) : 0.6871752671154848 \n",
      "sum(log_odds): -5.402922332274972\n",
      "Outcome: -1 | Predict: -1\n"
     ]
    },
    {
     "data": {
      "text/markdown": [
       "<span style='color:blue'>Model Result vs. Actual is **CORRECT**</span>"
      ],
      "text/plain": [
       "<IPython.core.display.Markdown object>"
      ]
     },
     "metadata": {},
     "output_type": "display_data"
    },
    {
     "name": "stdout",
     "output_type": "stream",
     "text": [
      "==========================================================================================\n",
      "row_num: 227 | seq_id: 5257 | Processed : 82.85%\n",
      "sum(pos): 6.355956609861162 | sum(neg): 12.024135721871168 | sum(pos)/sum(neg) : 0.5285998725297208 \n",
      "sum(log_odds): -17.40335942198277\n",
      "Outcome: -1 | Predict: -1\n"
     ]
    },
    {
     "data": {
      "text/markdown": [
       "<span style='color:blue'>Model Result vs. Actual is **CORRECT**</span>"
      ],
      "text/plain": [
       "<IPython.core.display.Markdown object>"
      ]
     },
     "metadata": {},
     "output_type": "display_data"
    },
    {
     "name": "stdout",
     "output_type": "stream",
     "text": [
      "==========================================================================================\n",
      "row_num: 228 | seq_id: 408 | Processed : 83.21%\n",
      "sum(pos): 4.645418787386304 | sum(neg): 7.097327747869135 | sum(pos)/sum(neg) : 0.654530684281985 \n",
      "sum(log_odds): -8.940291650405713\n",
      "Outcome: -1 | Predict: -1\n"
     ]
    },
    {
     "data": {
      "text/markdown": [
       "<span style='color:blue'>Model Result vs. Actual is **CORRECT**</span>"
      ],
      "text/plain": [
       "<IPython.core.display.Markdown object>"
      ]
     },
     "metadata": {},
     "output_type": "display_data"
    },
    {
     "name": "stdout",
     "output_type": "stream",
     "text": [
      "==========================================================================================\n",
      "row_num: 229 | seq_id: 9514 | Processed : 83.58%\n",
      "sum(pos): 5.073053243005019 | sum(neg): 8.329029741369643 | sum(pos)/sum(neg) : 0.609080937459925 \n",
      "sum(log_odds): -11.056058593299978\n",
      "Outcome: -1 | Predict: -1\n"
     ]
    },
    {
     "data": {
      "text/markdown": [
       "<span style='color:blue'>Model Result vs. Actual is **CORRECT**</span>"
      ],
      "text/plain": [
       "<IPython.core.display.Markdown object>"
      ]
     },
     "metadata": {},
     "output_type": "display_data"
    },
    {
     "name": "stdout",
     "output_type": "stream",
     "text": [
      "==========================================================================================\n",
      "row_num: 230 | seq_id: 5759 | Processed : 83.94%\n",
      "sum(pos): 4.707891173107982 | sum(neg): 6.601512167074624 | sum(pos)/sum(neg) : 0.7131534493852526 \n",
      "sum(log_odds): -7.063750239297905\n",
      "Outcome: -1 | Predict: -1\n"
     ]
    },
    {
     "data": {
      "text/markdown": [
       "<span style='color:blue'>Model Result vs. Actual is **CORRECT**</span>"
      ],
      "text/plain": [
       "<IPython.core.display.Markdown object>"
      ]
     },
     "metadata": {},
     "output_type": "display_data"
    },
    {
     "name": "stdout",
     "output_type": "stream",
     "text": [
      "==========================================================================================\n",
      "row_num: 231 | seq_id: 4519 | Processed : 84.31%\n",
      "sum(pos): 6.764683223167377 | sum(neg): 11.775680351363459 | sum(pos)/sum(neg) : 0.5744621984736636 \n",
      "sum(log_odds): -15.818101165271761\n",
      "Outcome: -1 | Predict: -1\n"
     ]
    },
    {
     "data": {
      "text/markdown": [
       "<span style='color:blue'>Model Result vs. Actual is **CORRECT**</span>"
      ],
      "text/plain": [
       "<IPython.core.display.Markdown object>"
      ]
     },
     "metadata": {},
     "output_type": "display_data"
    },
    {
     "name": "stdout",
     "output_type": "stream",
     "text": [
      "==========================================================================================\n",
      "row_num: 232 | seq_id: 1681 | Processed : 84.67%\n",
      "sum(pos): 6.337048767548661 | sum(neg): 10.543978357862951 | sum(pos)/sum(neg) : 0.6010111698325841 \n",
      "sum(log_odds): -13.7023342223775\n",
      "Outcome: -1 | Predict: -1\n"
     ]
    },
    {
     "data": {
      "text/markdown": [
       "<span style='color:blue'>Model Result vs. Actual is **CORRECT**</span>"
      ],
      "text/plain": [
       "<IPython.core.display.Markdown object>"
      ]
     },
     "metadata": {},
     "output_type": "display_data"
    },
    {
     "name": "stdout",
     "output_type": "stream",
     "text": [
      "==========================================================================================\n",
      "row_num: 233 | seq_id: 2765 | Processed : 85.04%\n",
      "sum(pos): 3.277831287873081 | sum(neg): 3.1045131841086646 | sum(pos)/sum(neg) : 1.0558277879609577 \n",
      "sum(log_odds): -1.0790503475733697\n",
      "Outcome: 1 | Predict: -1\n"
     ]
    },
    {
     "data": {
      "text/markdown": [
       "<span style='color:red'>Model Result vs. Actual is **INCORRECT**</span>"
      ],
      "text/plain": [
       "<IPython.core.display.Markdown object>"
      ]
     },
     "metadata": {},
     "output_type": "display_data"
    },
    {
     "name": "stdout",
     "output_type": "stream",
     "text": [
      "==========================================================================================\n",
      "row_num: 234 | seq_id: 8226 | Processed : 85.40%\n",
      "sum(pos): 3.277831287873081 | sum(neg): 3.1045131841086646 | sum(pos)/sum(neg) : 1.0558277879609577 \n",
      "sum(log_odds): -1.0790503475733697\n",
      "Outcome: 1 | Predict: -1\n"
     ]
    },
    {
     "data": {
      "text/markdown": [
       "<span style='color:red'>Model Result vs. Actual is **INCORRECT**</span>"
      ],
      "text/plain": [
       "<IPython.core.display.Markdown object>"
      ]
     },
     "metadata": {},
     "output_type": "display_data"
    },
    {
     "name": "stdout",
     "output_type": "stream",
     "text": [
      "==========================================================================================\n",
      "row_num: 235 | seq_id: 5924 | Processed : 85.77%\n",
      "sum(pos): 5.481779856311233 | sum(neg): 8.080574370861934 | sum(pos)/sum(neg) : 0.6783898773431506 \n",
      "sum(log_odds): -9.47080033658897\n",
      "Outcome: -1 | Predict: -1\n"
     ]
    },
    {
     "data": {
      "text/markdown": [
       "<span style='color:blue'>Model Result vs. Actual is **CORRECT**</span>"
      ],
      "text/plain": [
       "<IPython.core.display.Markdown object>"
      ]
     },
     "metadata": {},
     "output_type": "display_data"
    },
    {
     "name": "stdout",
     "output_type": "stream",
     "text": [
      "==========================================================================================\n",
      "row_num: 236 | seq_id: 8576 | Processed : 86.13%\n",
      "sum(pos): 4.707891173107982 | sum(neg): 6.601512167074624 | sum(pos)/sum(neg) : 0.7131534493852526 \n",
      "sum(log_odds): -7.063750239297905\n",
      "Outcome: -1 | Predict: -1\n"
     ]
    },
    {
     "data": {
      "text/markdown": [
       "<span style='color:blue'>Model Result vs. Actual is **CORRECT**</span>"
      ],
      "text/plain": [
       "<IPython.core.display.Markdown object>"
      ]
     },
     "metadata": {},
     "output_type": "display_data"
    },
    {
     "name": "stdout",
     "output_type": "stream",
     "text": [
      "==========================================================================================\n",
      "row_num: 237 | seq_id: 7965 | Processed : 86.50%\n",
      "sum(pos): 5.17181771442849 | sum(neg): 6.91324520291883 | sum(pos)/sum(neg) : 0.7481027451832469 \n",
      "sum(log_odds): -6.666171182907421\n",
      "Outcome: -1 | Predict: -1\n"
     ]
    },
    {
     "data": {
      "text/markdown": [
       "<span style='color:blue'>Model Result vs. Actual is **CORRECT**</span>"
      ],
      "text/plain": [
       "<IPython.core.display.Markdown object>"
      ]
     },
     "metadata": {},
     "output_type": "display_data"
    },
    {
     "name": "stdout",
     "output_type": "stream",
     "text": [
      "==========================================================================================\n",
      "row_num: 238 | seq_id: 5403 | Processed : 86.86%\n",
      "sum(pos): 5.17181771442849 | sum(neg): 6.91324520291883 | sum(pos)/sum(neg) : 0.7481027451832469 \n",
      "sum(log_odds): -6.666171182907421\n",
      "Outcome: -1 | Predict: -1\n"
     ]
    },
    {
     "data": {
      "text/markdown": [
       "<span style='color:blue'>Model Result vs. Actual is **CORRECT**</span>"
      ],
      "text/plain": [
       "<IPython.core.display.Markdown object>"
      ]
     },
     "metadata": {},
     "output_type": "display_data"
    },
    {
     "name": "stdout",
     "output_type": "stream",
     "text": [
      "==========================================================================================\n",
      "row_num: 239 | seq_id: 9945 | Processed : 87.23%\n",
      "sum(pos): 6.1232315397393045 | sum(neg): 9.928127361112697 | sum(pos)/sum(neg) : 0.6167559416817394 \n",
      "sum(log_odds): -12.644450750930368\n",
      "Outcome: -1 | Predict: -1\n"
     ]
    },
    {
     "data": {
      "text/markdown": [
       "<span style='color:blue'>Model Result vs. Actual is **CORRECT**</span>"
      ],
      "text/plain": [
       "<IPython.core.display.Markdown object>"
      ]
     },
     "metadata": {},
     "output_type": "display_data"
    },
    {
     "name": "stdout",
     "output_type": "stream",
     "text": [
      "==========================================================================================\n",
      "row_num: 240 | seq_id: 6045 | Processed : 87.59%\n",
      "sum(pos): 7.192317678786091 | sum(neg): 13.007382344863966 | sum(pos)/sum(neg) : 0.5529412058549978 \n",
      "sum(log_odds): -17.933868108166028\n",
      "Outcome: -1 | Predict: -1\n"
     ]
    },
    {
     "data": {
      "text/markdown": [
       "<span style='color:blue'>Model Result vs. Actual is **CORRECT**</span>"
      ],
      "text/plain": [
       "<IPython.core.display.Markdown object>"
      ]
     },
     "metadata": {},
     "output_type": "display_data"
    },
    {
     "name": "stdout",
     "output_type": "stream",
     "text": [
      "==========================================================================================\n",
      "row_num: 241 | seq_id: 2470 | Processed : 87.96%\n",
      "sum(pos): 5.69559708412059 | sum(neg): 8.696425367612187 | sum(pos)/sum(neg) : 0.6549354295999039 \n",
      "sum(log_odds): -10.528683808036103\n",
      "Outcome: -1 | Predict: -1\n"
     ]
    },
    {
     "data": {
      "text/markdown": [
       "<span style='color:blue'>Model Result vs. Actual is **CORRECT**</span>"
      ],
      "text/plain": [
       "<IPython.core.display.Markdown object>"
      ]
     },
     "metadata": {},
     "output_type": "display_data"
    },
    {
     "name": "stdout",
     "output_type": "stream",
     "text": [
      "==========================================================================================\n",
      "row_num: 242 | seq_id: 2155 | Processed : 88.32%\n",
      "sum(pos): 7.17340983647359 | sum(neg): 11.527224980855749 | sum(pos)/sum(neg) : 0.6223015381748068 \n",
      "sum(log_odds): -14.232842908560759\n",
      "Outcome: -1 | Predict: -1\n"
     ]
    },
    {
     "data": {
      "text/markdown": [
       "<span style='color:blue'>Model Result vs. Actual is **CORRECT**</span>"
      ],
      "text/plain": [
       "<IPython.core.display.Markdown object>"
      ]
     },
     "metadata": {},
     "output_type": "display_data"
    },
    {
     "name": "stdout",
     "output_type": "stream",
     "text": [
      "==========================================================================================\n",
      "row_num: 243 | seq_id: 4590 | Processed : 88.69%\n",
      "sum(pos): 6.318140925236161 | sum(neg): 9.063820993854732 | sum(pos)/sum(neg) : 0.6970725623906142 \n",
      "sum(log_odds): -10.001309022772228\n",
      "Outcome: -1 | Predict: -1\n"
     ]
    },
    {
     "data": {
      "text/markdown": [
       "<span style='color:blue'>Model Result vs. Actual is **CORRECT**</span>"
      ],
      "text/plain": [
       "<IPython.core.display.Markdown object>"
      ]
     },
     "metadata": {},
     "output_type": "display_data"
    },
    {
     "name": "stdout",
     "output_type": "stream",
     "text": [
      "==========================================================================================\n",
      "row_num: 244 | seq_id: 8641 | Processed : 89.05%\n",
      "sum(pos): 6.318140925236161 | sum(neg): 9.063820993854732 | sum(pos)/sum(neg) : 0.6970725623906142 \n",
      "sum(log_odds): -10.001309022772228\n",
      "Outcome: -1 | Predict: -1\n"
     ]
    },
    {
     "data": {
      "text/markdown": [
       "<span style='color:blue'>Model Result vs. Actual is **CORRECT**</span>"
      ],
      "text/plain": [
       "<IPython.core.display.Markdown object>"
      ]
     },
     "metadata": {},
     "output_type": "display_data"
    },
    {
     "name": "stdout",
     "output_type": "stream",
     "text": [
      "==========================================================================================\n",
      "row_num: 245 | seq_id: 7534 | Processed : 89.42%\n",
      "sum(pos): 7.814861519901663 | sum(neg): 13.37477797110651 | sum(pos)/sum(neg) : 0.5842984112920665 \n",
      "sum(log_odds): -17.40649332290215\n",
      "Outcome: -1 | Predict: -1\n"
     ]
    },
    {
     "data": {
      "text/markdown": [
       "<span style='color:blue'>Model Result vs. Actual is **CORRECT**</span>"
      ],
      "text/plain": [
       "<IPython.core.display.Markdown object>"
      ]
     },
     "metadata": {},
     "output_type": "display_data"
    },
    {
     "name": "stdout",
     "output_type": "stream",
     "text": [
      "==========================================================================================\n",
      "row_num: 246 | seq_id: 839 | Processed : 89.78%\n",
      "sum(pos): 4.114192356798009 | sum(neg): 4.087759807101464 | sum(pos)/sum(neg) : 1.006466267819999 \n",
      "sum(log_odds): -1.6095590337566268\n",
      "Outcome: 1 | Predict: -1\n"
     ]
    },
    {
     "data": {
      "text/markdown": [
       "<span style='color:red'>Model Result vs. Actual is **INCORRECT**</span>"
      ],
      "text/plain": [
       "<IPython.core.display.Markdown object>"
      ]
     },
     "metadata": {},
     "output_type": "display_data"
    },
    {
     "name": "stdout",
     "output_type": "stream",
     "text": [
      "==========================================================================================\n",
      "row_num: 247 | seq_id: 7075 | Processed : 90.15%\n",
      "sum(pos): 4.114192356798009 | sum(neg): 4.087759807101464 | sum(pos)/sum(neg) : 1.006466267819999 \n",
      "sum(log_odds): -1.6095590337566268\n",
      "Outcome: 1 | Predict: -1\n"
     ]
    },
    {
     "data": {
      "text/markdown": [
       "<span style='color:red'>Model Result vs. Actual is **INCORRECT**</span>"
      ],
      "text/plain": [
       "<IPython.core.display.Markdown object>"
      ]
     },
     "metadata": {},
     "output_type": "display_data"
    },
    {
     "name": "stdout",
     "output_type": "stream",
     "text": [
      "==========================================================================================\n",
      "row_num: 248 | seq_id: 4473 | Processed : 90.51%\n",
      "sum(pos): 6.959592608664233 | sum(neg): 10.911373984105495 | sum(pos)/sum(neg) : 0.6378291697088022 \n",
      "sum(log_odds): -13.174959437113625\n",
      "Outcome: -1 | Predict: -1\n"
     ]
    },
    {
     "data": {
      "text/markdown": [
       "<span style='color:blue'>Model Result vs. Actual is **CORRECT**</span>"
      ],
      "text/plain": [
       "<IPython.core.display.Markdown object>"
      ]
     },
     "metadata": {},
     "output_type": "display_data"
    },
    {
     "name": "stdout",
     "output_type": "stream",
     "text": [
      "==========================================================================================\n",
      "row_num: 249 | seq_id: 6867 | Processed : 90.88%\n",
      "sum(pos): 4.114192356798009 | sum(neg): 4.087759807101464 | sum(pos)/sum(neg) : 1.006466267819999 \n",
      "sum(log_odds): -1.6095590337566268\n",
      "Outcome: 1 | Predict: -1\n"
     ]
    },
    {
     "data": {
      "text/markdown": [
       "<span style='color:red'>Model Result vs. Actual is **INCORRECT**</span>"
      ],
      "text/plain": [
       "<IPython.core.display.Markdown object>"
      ]
     },
     "metadata": {},
     "output_type": "display_data"
    },
    {
     "name": "stdout",
     "output_type": "stream",
     "text": [
      "==========================================================================================\n",
      "row_num: 250 | seq_id: 9570 | Processed : 91.24%\n",
      "sum(pos): 7.17340983647359 | sum(neg): 11.527224980855749 | sum(pos)/sum(neg) : 0.6223015381748068 \n",
      "sum(log_odds): -14.232842908560759\n",
      "Outcome: -1 | Predict: -1\n"
     ]
    },
    {
     "data": {
      "text/markdown": [
       "<span style='color:blue'>Model Result vs. Actual is **CORRECT**</span>"
      ],
      "text/plain": [
       "<IPython.core.display.Markdown object>"
      ]
     },
     "metadata": {},
     "output_type": "display_data"
    },
    {
     "name": "stdout",
     "output_type": "stream",
     "text": [
      "==========================================================================================\n",
      "row_num: 251 | seq_id: 3469 | Processed : 91.61%\n",
      "sum(pos): 3.900375128988652 | sum(neg): 3.4719088103512092 | sum(pos)/sum(neg) : 1.123409439026741 \n",
      "sum(log_odds): -0.5516755623094943\n",
      "Outcome: 1 | Predict: -1\n"
     ]
    },
    {
     "data": {
      "text/markdown": [
       "<span style='color:red'>Model Result vs. Actual is **INCORRECT**</span>"
      ],
      "text/plain": [
       "<IPython.core.display.Markdown object>"
      ]
     },
     "metadata": {},
     "output_type": "display_data"
    },
    {
     "name": "stdout",
     "output_type": "stream",
     "text": [
      "==========================================================================================\n",
      "row_num: 252 | seq_id: 7174 | Processed : 91.97%\n",
      "sum(pos): 7.17340983647359 | sum(neg): 11.527224980855749 | sum(pos)/sum(neg) : 0.6223015381748068 \n",
      "sum(log_odds): -14.232842908560759\n",
      "Outcome: -1 | Predict: -1\n"
     ]
    },
    {
     "data": {
      "text/markdown": [
       "<span style='color:blue'>Model Result vs. Actual is **CORRECT**</span>"
      ],
      "text/plain": [
       "<IPython.core.display.Markdown object>"
      ]
     },
     "metadata": {},
     "output_type": "display_data"
    },
    {
     "name": "stdout",
     "output_type": "stream",
     "text": [
      "==========================================================================================\n",
      "row_num: 253 | seq_id: 5471 | Processed : 92.34%\n",
      "sum(pos): 4.114192356798009 | sum(neg): 4.087759807101464 | sum(pos)/sum(neg) : 1.006466267819999 \n",
      "sum(log_odds): -1.6095590337566268\n",
      "Outcome: 1 | Predict: -1\n"
     ]
    },
    {
     "data": {
      "text/markdown": [
       "<span style='color:red'>Model Result vs. Actual is **INCORRECT**</span>"
      ],
      "text/plain": [
       "<IPython.core.display.Markdown object>"
      ]
     },
     "metadata": {},
     "output_type": "display_data"
    },
    {
     "name": "stdout",
     "output_type": "stream",
     "text": [
      "==========================================================================================\n",
      "row_num: 254 | seq_id: 8462 | Processed : 92.70%\n",
      "sum(pos): 3.900375128988652 | sum(neg): 3.4719088103512092 | sum(pos)/sum(neg) : 1.123409439026741 \n",
      "sum(log_odds): -0.5516755623094943\n",
      "Outcome: 1 | Predict: -1\n"
     ]
    },
    {
     "data": {
      "text/markdown": [
       "<span style='color:red'>Model Result vs. Actual is **INCORRECT**</span>"
      ],
      "text/plain": [
       "<IPython.core.display.Markdown object>"
      ]
     },
     "metadata": {},
     "output_type": "display_data"
    },
    {
     "name": "stdout",
     "output_type": "stream",
     "text": [
      "==========================================================================================\n",
      "row_num: 255 | seq_id: 9231 | Processed : 93.07%\n",
      "sum(pos): 3.900375128988652 | sum(neg): 3.4719088103512092 | sum(pos)/sum(neg) : 1.123409439026741 \n",
      "sum(log_odds): -0.5516755623094943\n",
      "Outcome: 1 | Predict: -1\n"
     ]
    },
    {
     "data": {
      "text/markdown": [
       "<span style='color:red'>Model Result vs. Actual is **INCORRECT**</span>"
      ],
      "text/plain": [
       "<IPython.core.display.Markdown object>"
      ]
     },
     "metadata": {},
     "output_type": "display_data"
    },
    {
     "name": "stdout",
     "output_type": "stream",
     "text": [
      "==========================================================================================\n",
      "row_num: 256 | seq_id: 9744 | Processed : 93.43%\n",
      "sum(pos): 3.4727406733699375 | sum(neg): 2.2402068168507 | sum(pos)/sum(neg) : 1.5501875305655677 \n",
      "sum(log_odds): 1.5640913805847716\n",
      "Outcome: 1 | Predict: 1\n"
     ]
    },
    {
     "data": {
      "text/markdown": [
       "<span style='color:blue'>Model Result vs. Actual is **CORRECT**</span>"
      ],
      "text/plain": [
       "<IPython.core.display.Markdown object>"
      ]
     },
     "metadata": {},
     "output_type": "display_data"
    },
    {
     "name": "stdout",
     "output_type": "stream",
     "text": [
      "==========================================================================================\n",
      "row_num: 257 | seq_id: 7450 | Processed : 93.80%\n",
      "sum(pos): 3.6865579011792944 | sum(neg): 2.856057813600955 | sum(pos)/sum(neg) : 1.2907854608626546 \n",
      "sum(log_odds): 0.5062079091376391\n",
      "Outcome: 1 | Predict: 1\n"
     ]
    },
    {
     "data": {
      "text/markdown": [
       "<span style='color:blue'>Model Result vs. Actual is **CORRECT**</span>"
      ],
      "text/plain": [
       "<IPython.core.display.Markdown object>"
      ]
     },
     "metadata": {},
     "output_type": "display_data"
    },
    {
     "name": "stdout",
     "output_type": "stream",
     "text": [
      "==========================================================================================\n",
      "row_num: 258 | seq_id: 6640 | Processed : 94.16%\n",
      "sum(pos): 7.17340983647359 | sum(neg): 11.527224980855749 | sum(pos)/sum(neg) : 0.6223015381748068 \n",
      "sum(log_odds): -14.232842908560759\n",
      "Outcome: -1 | Predict: -1\n"
     ]
    },
    {
     "data": {
      "text/markdown": [
       "<span style='color:blue'>Model Result vs. Actual is **CORRECT**</span>"
      ],
      "text/plain": [
       "<IPython.core.display.Markdown object>"
      ]
     },
     "metadata": {},
     "output_type": "display_data"
    },
    {
     "name": "stdout",
     "output_type": "stream",
     "text": [
      "==========================================================================================\n",
      "row_num: 259 | seq_id: 8737 | Processed : 94.53%\n",
      "sum(pos): 4.095284514485509 | sum(neg): 2.6076024430932447 | sum(pos)/sum(neg) : 1.5705172102951073 \n",
      "sum(log_odds): 2.091466165848647\n",
      "Outcome: 1 | Predict: 1\n"
     ]
    },
    {
     "data": {
      "text/markdown": [
       "<span style='color:blue'>Model Result vs. Actual is **CORRECT**</span>"
      ],
      "text/plain": [
       "<IPython.core.display.Markdown object>"
      ]
     },
     "metadata": {},
     "output_type": "display_data"
    },
    {
     "name": "stdout",
     "output_type": "stream",
     "text": [
      "==========================================================================================\n",
      "row_num: 260 | seq_id: 9803 | Processed : 94.89%\n",
      "sum(pos): 7.795953677589162 | sum(neg): 11.894620607098293 | sum(pos)/sum(neg) : 0.6554184395706416 \n",
      "sum(log_odds): -13.705468123296884\n",
      "Outcome: -1 | Predict: -1\n"
     ]
    },
    {
     "data": {
      "text/markdown": [
       "<span style='color:blue'>Model Result vs. Actual is **CORRECT**</span>"
      ],
      "text/plain": [
       "<IPython.core.display.Markdown object>"
      ]
     },
     "metadata": {},
     "output_type": "display_data"
    },
    {
     "name": "stdout",
     "output_type": "stream",
     "text": [
      "==========================================================================================\n",
      "row_num: 261 | seq_id: 4417 | Processed : 95.26%\n",
      "sum(pos): 4.309101742294866 | sum(neg): 3.2234534398434995 | sum(pos)/sum(neg) : 1.3367966445651764 \n",
      "sum(log_odds): 1.0335826944015145\n",
      "Outcome: 1 | Predict: 1\n"
     ]
    },
    {
     "data": {
      "text/markdown": [
       "<span style='color:blue'>Model Result vs. Actual is **CORRECT**</span>"
      ],
      "text/plain": [
       "<IPython.core.display.Markdown object>"
      ]
     },
     "metadata": {},
     "output_type": "display_data"
    },
    {
     "name": "stdout",
     "output_type": "stream",
     "text": [
      "==========================================================================================\n",
      "row_num: 262 | seq_id: 7668 | Processed : 95.62%\n",
      "sum(pos): 8.00977090539852 | sum(neg): 12.510471603848547 | sum(pos)/sum(neg) : 0.6402453208026551 \n",
      "sum(log_odds): -14.76335159474401\n",
      "Outcome: -1 | Predict: -1\n"
     ]
    },
    {
     "data": {
      "text/markdown": [
       "<span style='color:blue'>Model Result vs. Actual is **CORRECT**</span>"
      ],
      "text/plain": [
       "<IPython.core.display.Markdown object>"
      ]
     },
     "metadata": {},
     "output_type": "display_data"
    },
    {
     "name": "stdout",
     "output_type": "stream",
     "text": [
      "==========================================================================================\n",
      "row_num: 263 | seq_id: 659 | Processed : 95.99%\n",
      "sum(pos): 4.73673619791358 | sum(neg): 4.455155433344009 | sum(pos)/sum(neg) : 1.0632033536837162 \n",
      "sum(log_odds): -1.0821842484927515\n",
      "Outcome: 1 | Predict: -1\n"
     ]
    },
    {
     "data": {
      "text/markdown": [
       "<span style='color:red'>Model Result vs. Actual is **INCORRECT**</span>"
      ],
      "text/plain": [
       "<IPython.core.display.Markdown object>"
      ]
     },
     "metadata": {},
     "output_type": "display_data"
    },
    {
     "name": "stdout",
     "output_type": "stream",
     "text": [
      "==========================================================================================\n",
      "row_num: 264 | seq_id: 92 | Processed : 96.35%\n",
      "sum(pos): 4.73673619791358 | sum(neg): 4.455155433344009 | sum(pos)/sum(neg) : 1.0632033536837162 \n",
      "sum(log_odds): -1.0821842484927515\n",
      "Outcome: 1 | Predict: -1\n"
     ]
    },
    {
     "data": {
      "text/markdown": [
       "<span style='color:red'>Model Result vs. Actual is **INCORRECT**</span>"
      ],
      "text/plain": [
       "<IPython.core.display.Markdown object>"
      ]
     },
     "metadata": {},
     "output_type": "display_data"
    },
    {
     "name": "stdout",
     "output_type": "stream",
     "text": [
      "==========================================================================================\n",
      "row_num: 265 | seq_id: 7920 | Processed : 96.72%\n",
      "sum(pos): 4.522918970104223 | sum(neg): 3.839304436593754 | sum(pos)/sum(neg) : 1.1780568706650871 \n",
      "sum(log_odds): -0.02430077704561895\n",
      "Outcome: 1 | Predict: -1\n"
     ]
    },
    {
     "data": {
      "text/markdown": [
       "<span style='color:red'>Model Result vs. Actual is **INCORRECT**</span>"
      ],
      "text/plain": [
       "<IPython.core.display.Markdown object>"
      ]
     },
     "metadata": {},
     "output_type": "display_data"
    },
    {
     "name": "stdout",
     "output_type": "stream",
     "text": [
      "==========================================================================================\n",
      "row_num: 266 | seq_id: 5015 | Processed : 97.08%\n",
      "sum(pos): 7.795953677589162 | sum(neg): 11.894620607098293 | sum(pos)/sum(neg) : 0.6554184395706416 \n",
      "sum(log_odds): -13.705468123296884\n",
      "Outcome: -1 | Predict: -1\n"
     ]
    },
    {
     "data": {
      "text/markdown": [
       "<span style='color:blue'>Model Result vs. Actual is **CORRECT**</span>"
      ],
      "text/plain": [
       "<IPython.core.display.Markdown object>"
      ]
     },
     "metadata": {},
     "output_type": "display_data"
    },
    {
     "name": "stdout",
     "output_type": "stream",
     "text": [
      "==========================================================================================\n",
      "row_num: 267 | seq_id: 1582 | Processed : 97.45%\n",
      "sum(pos): 4.73673619791358 | sum(neg): 4.455155433344009 | sum(pos)/sum(neg) : 1.0632033536837162 \n",
      "sum(log_odds): -1.0821842484927515\n",
      "Outcome: 1 | Predict: -1\n"
     ]
    },
    {
     "data": {
      "text/markdown": [
       "<span style='color:red'>Model Result vs. Actual is **INCORRECT**</span>"
      ],
      "text/plain": [
       "<IPython.core.display.Markdown object>"
      ]
     },
     "metadata": {},
     "output_type": "display_data"
    },
    {
     "name": "stdout",
     "output_type": "stream",
     "text": [
      "==========================================================================================\n",
      "row_num: 268 | seq_id: 7332 | Processed : 97.81%\n",
      "sum(pos): 5.145462811219795 | sum(neg): 4.2067000628362985 | sum(pos)/sum(neg) : 1.2231589451021023 \n",
      "sum(log_odds): 0.5030740082182564\n",
      "Outcome: 1 | Predict: 1\n"
     ]
    },
    {
     "data": {
      "text/markdown": [
       "<span style='color:blue'>Model Result vs. Actual is **CORRECT**</span>"
      ],
      "text/plain": [
       "<IPython.core.display.Markdown object>"
      ]
     },
     "metadata": {},
     "output_type": "display_data"
    },
    {
     "name": "stdout",
     "output_type": "stream",
     "text": [
      "==========================================================================================\n",
      "row_num: 269 | seq_id: 952 | Processed : 98.18%\n",
      "sum(pos): 4.931645583410437 | sum(neg): 3.590849066086044 | sum(pos)/sum(neg) : 1.3733926134594776 \n",
      "sum(log_odds): 1.5609574796653898\n",
      "Outcome: 1 | Predict: 1\n"
     ]
    },
    {
     "data": {
      "text/markdown": [
       "<span style='color:blue'>Model Result vs. Actual is **CORRECT**</span>"
      ],
      "text/plain": [
       "<IPython.core.display.Markdown object>"
      ]
     },
     "metadata": {},
     "output_type": "display_data"
    },
    {
     "name": "stdout",
     "output_type": "stream",
     "text": [
      "==========================================================================================\n",
      "row_num: 270 | seq_id: 5029 | Processed : 98.54%\n",
      "sum(pos): 4.6791108402831 | sum(neg): 2.6296700375266444 | sum(pos)/sum(neg) : 1.7793528364813678 \n",
      "sum(log_odds): 4.8070436433993295\n",
      "Outcome: 1 | Predict: 1\n"
     ]
    },
    {
     "data": {
      "text/markdown": [
       "<span style='color:blue'>Model Result vs. Actual is **CORRECT**</span>"
      ],
      "text/plain": [
       "<IPython.core.display.Markdown object>"
      ]
     },
     "metadata": {},
     "output_type": "display_data"
    },
    {
     "name": "stdout",
     "output_type": "stream",
     "text": [
      "==========================================================================================\n",
      "row_num: 271 | seq_id: 4800 | Processed : 98.91%\n",
      "sum(pos): 5.3592800390291515 | sum(neg): 4.822551059586554 | sum(pos)/sum(neg) : 1.111295655102636 \n",
      "sum(log_odds): -0.5548094632288761\n",
      "Outcome: 1 | Predict: -1\n"
     ]
    },
    {
     "data": {
      "text/markdown": [
       "<span style='color:red'>Model Result vs. Actual is **INCORRECT**</span>"
      ],
      "text/plain": [
       "<IPython.core.display.Markdown object>"
      ]
     },
     "metadata": {},
     "output_type": "display_data"
    },
    {
     "name": "stdout",
     "output_type": "stream",
     "text": [
      "==========================================================================================\n",
      "row_num: 272 | seq_id: 2715 | Processed : 99.27%\n",
      "sum(pos): 4.71782835560108 | sum(neg): 2.9749980693357894 | sum(pos)/sum(neg) : 1.585825686486715 \n",
      "sum(log_odds): 2.618840951112522\n",
      "Outcome: 1 | Predict: 1\n"
     ]
    },
    {
     "data": {
      "text/markdown": [
       "<span style='color:blue'>Model Result vs. Actual is **CORRECT**</span>"
      ],
      "text/plain": [
       "<IPython.core.display.Markdown object>"
      ]
     },
     "metadata": {},
     "output_type": "display_data"
    },
    {
     "name": "stdout",
     "output_type": "stream",
     "text": [
      "==========================================================================================\n",
      "row_num: 273 | seq_id: 9836 | Processed : 99.64%\n",
      "sum(pos): 4.71782835560108 | sum(neg): 2.9749980693357894 | sum(pos)/sum(neg) : 1.585825686486715 \n",
      "sum(log_odds): 2.618840951112522\n",
      "Outcome: 1 | Predict: 1\n"
     ]
    },
    {
     "data": {
      "text/markdown": [
       "<span style='color:blue'>Model Result vs. Actual is **CORRECT**</span>"
      ],
      "text/plain": [
       "<IPython.core.display.Markdown object>"
      ]
     },
     "metadata": {},
     "output_type": "display_data"
    },
    {
     "name": "stdout",
     "output_type": "stream",
     "text": [
      "==========================================================================================\n",
      "row_num: 274 | seq_id: 3882 | Processed : 100.00%\n",
      "sum(pos): 8.418497518704733 | sum(neg): 12.262016233340837 | sum(pos)/sum(neg) : 0.6865508378479025 \n",
      "sum(log_odds): -13.178093338033008\n",
      "Outcome: -1 | Predict: -1\n"
     ]
    },
    {
     "data": {
      "text/markdown": [
       "<span style='color:blue'>Model Result vs. Actual is **CORRECT**</span>"
      ],
      "text/plain": [
       "<IPython.core.display.Markdown object>"
      ]
     },
     "metadata": {},
     "output_type": "display_data"
    }
   ],
   "source": [
    "def predict_something(df_validation: pd.DataFrame, \n",
    "                      df_positive: pd.DataFrame, \n",
    "                      df_negative: pd.DataFrame):\n",
    "    \n",
    "    actual = []\n",
    "    predicted = []\n",
    "    \n",
    "    list_positive = list(df_positive)\n",
    "    list_negative = list(df_negative)\n",
    "    total_size = len(df_validation)\n",
    "    \n",
    "    for row_num, seq_id in enumerate(df_validation['Sequence_ID'].values):\n",
    "        patterns = df_validation[df_validation['Sequence_ID'] == seq_id]['event_pattern'].values[0].split(',')\n",
    "        \n",
    "        log.debug(f'patterns: {len(patterns)} | {patterns}' )\n",
    "        \n",
    "        pos = []\n",
    "        neg = []\n",
    "        log_odds = []\n",
    "\n",
    "        for id in range(0, len(patterns) - 1):\n",
    "            \n",
    "#             log.debug(f'compare 1: {patterns[id]} in { list_positive}')\n",
    "#             log.debug(f'compare 2: {patterns[id+1]} in { list_positive}')\n",
    "#             log.debug(f'compare 3: {patterns[id]} in { list_negative}')\n",
    "#             log.debug(f'compare 4: {patterns[id+1]} in { list_negative}')\n",
    "\n",
    "\n",
    "            # get log odds\n",
    "            # logOdds = log(tp(i,j) / tn(i,j)\n",
    "            \n",
    "            if patterns[id] in list_positive and patterns[id+1] in list_positive and \\\n",
    "                patterns[id] in list_negative and patterns[id+1] in list_negative:\n",
    "\n",
    "                numerator = df_positive[patterns[id]][patterns[id+1]]\n",
    "                denominator = df_negative[patterns[id]][patterns[id+1]]\n",
    "                \n",
    "                log_value = safe_log(numerator, denominator)\n",
    "                \n",
    "#                 log.debug(f'numerator: {numerator:.5f} | denominator: {denominator:.5f} | log_value : {log_value:.5f}')\n",
    "\n",
    "            else:\n",
    "                log_value = 0\n",
    "\n",
    "            log_odds.append(log_value)\n",
    "            pos.append(numerator)\n",
    "            neg.append(denominator)\n",
    "            \n",
    "#             break\n",
    "\n",
    "        summarized_log = sum(log_odds)\n",
    "    \n",
    "#         log.debug(f'log_value:{sum(log_odds)}')\n",
    "#         log.debug(f'numerator:{sum(pos)}')\n",
    "#         log.debug(f'denominator:{sum(neg)}')\n",
    "            \n",
    "        print('===' * 30)\n",
    "        outcome = df_validation[df_validation[\"Sequence_ID\"]==seq_id][\"direction\"].values[0]\n",
    "        \n",
    "        model_prediction = 1 if summarized_log > 0 else -1\n",
    "        \n",
    "        print(f'row_num: {row_num+1} | seq_id: {seq_id} | Processed : {((row_num+1)/total_size)*100:.2f}%')\n",
    "        print(f'sum(pos): {sum(pos)} | sum(neg): {sum(neg)} | sum(pos)/sum(neg) : {sum(pos)/sum(neg)} ')\n",
    "        print(f'sum(log_odds): {summarized_log}')\n",
    "        \n",
    "        print(f'Outcome: {outcome} | Predict: {model_prediction}')\n",
    "        if model_prediction == outcome:\n",
    "            blue('Model Result vs. Actual is **CORRECT**')\n",
    "        else: \n",
    "            red('Model Result vs. Actual is **INCORRECT**')\n",
    "\n",
    "        actual.append(outcome)\n",
    "        predicted.append(model_prediction)\n",
    "        \n",
    "#         break\n",
    "        \n",
    "    return actual, predicted\n",
    "        \n",
    "actual, predicted = predict_something(validation, grid_pos, grid_neg)"
   ]
  },
  {
   "cell_type": "code",
   "execution_count": 46,
   "metadata": {},
   "outputs": [
    {
     "name": "stdout",
     "output_type": "stream",
     "text": [
      "0.09614491407338598\n"
     ]
    },
    {
     "data": {
      "text/html": [
       "<div>\n",
       "<style scoped>\n",
       "    .dataframe tbody tr th:only-of-type {\n",
       "        vertical-align: middle;\n",
       "    }\n",
       "\n",
       "    .dataframe tbody tr th {\n",
       "        vertical-align: top;\n",
       "    }\n",
       "\n",
       "    .dataframe thead th {\n",
       "        text-align: right;\n",
       "    }\n",
       "</style>\n",
       "<table border=\"1\" class=\"dataframe\">\n",
       "  <thead>\n",
       "    <tr style=\"text-align: right;\">\n",
       "      <th></th>\n",
       "      <th>A</th>\n",
       "      <th>B</th>\n",
       "      <th>C</th>\n",
       "    </tr>\n",
       "    <tr>\n",
       "      <th>x</th>\n",
       "      <th></th>\n",
       "      <th></th>\n",
       "      <th></th>\n",
       "    </tr>\n",
       "  </thead>\n",
       "  <tbody>\n",
       "    <tr>\n",
       "      <th>A</th>\n",
       "      <td>0.213817</td>\n",
       "      <td>0.463927</td>\n",
       "      <td>0.322256</td>\n",
       "    </tr>\n",
       "    <tr>\n",
       "      <th>B</th>\n",
       "      <td>0.096145</td>\n",
       "      <td>0.298746</td>\n",
       "      <td>0.605109</td>\n",
       "    </tr>\n",
       "    <tr>\n",
       "      <th>C</th>\n",
       "      <td>0.038718</td>\n",
       "      <td>0.338739</td>\n",
       "      <td>0.622544</td>\n",
       "    </tr>\n",
       "  </tbody>\n",
       "</table>\n",
       "</div>"
      ],
      "text/plain": [
       "          A         B         C\n",
       "x                              \n",
       "A  0.213817  0.463927  0.322256\n",
       "B  0.096145  0.298746  0.605109\n",
       "C  0.038718  0.338739  0.622544"
      ]
     },
     "execution_count": 46,
     "metadata": {},
     "output_type": "execute_result"
    }
   ],
   "source": [
    "print(grid_pos['A']['B'])\n",
    "grid_pos"
   ]
  },
  {
   "cell_type": "code",
   "execution_count": 47,
   "metadata": {},
   "outputs": [
    {
     "name": "stdout",
     "output_type": "stream",
     "text": [
      "0.5514781711928498\n"
     ]
    },
    {
     "data": {
      "text/html": [
       "<div>\n",
       "<style scoped>\n",
       "    .dataframe tbody tr th:only-of-type {\n",
       "        vertical-align: middle;\n",
       "    }\n",
       "\n",
       "    .dataframe tbody tr th {\n",
       "        vertical-align: top;\n",
       "    }\n",
       "\n",
       "    .dataframe thead th {\n",
       "        text-align: right;\n",
       "    }\n",
       "</style>\n",
       "<table border=\"1\" class=\"dataframe\">\n",
       "  <thead>\n",
       "    <tr style=\"text-align: right;\">\n",
       "      <th></th>\n",
       "      <th>A</th>\n",
       "      <th>B</th>\n",
       "      <th>C</th>\n",
       "    </tr>\n",
       "    <tr>\n",
       "      <th>x</th>\n",
       "      <th></th>\n",
       "      <th></th>\n",
       "      <th></th>\n",
       "    </tr>\n",
       "  </thead>\n",
       "  <tbody>\n",
       "    <tr>\n",
       "      <th>A</th>\n",
       "      <td>0.615851</td>\n",
       "      <td>0.311733</td>\n",
       "      <td>0.072416</td>\n",
       "    </tr>\n",
       "    <tr>\n",
       "      <th>B</th>\n",
       "      <td>0.551478</td>\n",
       "      <td>0.310502</td>\n",
       "      <td>0.138020</td>\n",
       "    </tr>\n",
       "    <tr>\n",
       "      <th>C</th>\n",
       "      <td>0.345328</td>\n",
       "      <td>0.287276</td>\n",
       "      <td>0.367396</td>\n",
       "    </tr>\n",
       "  </tbody>\n",
       "</table>\n",
       "</div>"
      ],
      "text/plain": [
       "          A         B         C\n",
       "x                              \n",
       "A  0.615851  0.311733  0.072416\n",
       "B  0.551478  0.310502  0.138020\n",
       "C  0.345328  0.287276  0.367396"
      ]
     },
     "execution_count": 47,
     "metadata": {},
     "output_type": "execute_result"
    }
   ],
   "source": [
    "print(grid_neg['A']['B'])\n",
    "grid_neg"
   ]
  },
  {
   "cell_type": "markdown",
   "metadata": {},
   "source": [
    "## predict analysis"
   ]
  },
  {
   "cell_type": "code",
   "execution_count": 48,
   "metadata": {},
   "outputs": [],
   "source": [
    "from sklearn.metrics import accuracy_score"
   ]
  },
  {
   "cell_type": "code",
   "execution_count": 49,
   "metadata": {},
   "outputs": [
    {
     "name": "stdout",
     "output_type": "stream",
     "text": [
      "Markov Chain Model | Accuracy: 94.89 %\n"
     ]
    }
   ],
   "source": [
    "score = accuracy_score(actual, predicted)\n",
    "print('Markov Chain Model | Accuracy:', round(score * 100,2),'%')"
   ]
  },
  {
   "cell_type": "code",
   "execution_count": 50,
   "metadata": {},
   "outputs": [],
   "source": [
    "from sklearn.metrics import confusion_matrix\n",
    "import seaborn as sns\n",
    "import matplotlib.pyplot as plt"
   ]
  },
  {
   "cell_type": "code",
   "execution_count": 51,
   "metadata": {},
   "outputs": [
    {
     "data": {
      "image/png": "[encoded data removed]",
      "text/plain": [
       "<Figure size 360x360 with 2 Axes>"
      ]
     },
     "metadata": {
      "needs_background": "light"
     },
     "output_type": "display_data"
    }
   ],
   "source": [
    "cm = confusion_matrix(actual, predicted)\n",
    "fig, ax = plt.subplots(figsize=(5, 5))\n",
    "sns.heatmap(cm, annot=True, ax = ax, fmt='g')\n",
    "\n",
    "ax.set_title('Confusion Matrix') \n",
    "ax.set_xlabel('Predicted')\n",
    "ax.set_ylabel('Actual')\n",
    "\n",
    "ax.xaxis.set_ticklabels(['Upward Week','Downward Week'])\n",
    "ax.yaxis.set_ticklabels(['Upward Week','Downward Week'])\n",
    "ax.set_yticklabels(ax.get_yticklabels(), rotation = 0, fontsize = 8)\n",
    "ax.set_xticklabels(ax.get_xticklabels(), rotation = 90, fontsize = 8)  \n",
    "plt.show()"
   ]
  },
  {
   "cell_type": "markdown",
   "metadata": {},
   "source": [
    "# Forecasting"
   ]
  },
  {
   "cell_type": "markdown",
   "metadata": {},
   "source": [
    "## Preparação"
   ]
  },
  {
   "cell_type": "code",
   "execution_count": 66,
   "metadata": {},
   "outputs": [],
   "source": [
    "from datetime import datetime, timedelta, date"
   ]
  },
  {
   "cell_type": "code",
   "execution_count": 84,
   "metadata": {},
   "outputs": [
    {
     "data": {
      "text/html": [
       "<div>\n",
       "<style scoped>\n",
       "    .dataframe tbody tr th:only-of-type {\n",
       "        vertical-align: middle;\n",
       "    }\n",
       "\n",
       "    .dataframe tbody tr th {\n",
       "        vertical-align: top;\n",
       "    }\n",
       "\n",
       "    .dataframe thead th {\n",
       "        text-align: right;\n",
       "    }\n",
       "</style>\n",
       "<table border=\"1\" class=\"dataframe\">\n",
       "  <thead>\n",
       "    <tr style=\"text-align: right;\">\n",
       "      <th></th>\n",
       "      <th>DATE</th>\n",
       "    </tr>\n",
       "  </thead>\n",
       "  <tbody>\n",
       "    <tr>\n",
       "      <th>0</th>\n",
       "      <td>2022-02-10</td>\n",
       "    </tr>\n",
       "    <tr>\n",
       "      <th>1</th>\n",
       "      <td>2022-02-17</td>\n",
       "    </tr>\n",
       "    <tr>\n",
       "      <th>2</th>\n",
       "      <td>2022-02-24</td>\n",
       "    </tr>\n",
       "    <tr>\n",
       "      <th>3</th>\n",
       "      <td>2022-03-03</td>\n",
       "    </tr>\n",
       "    <tr>\n",
       "      <th>4</th>\n",
       "      <td>2022-03-10</td>\n",
       "    </tr>\n",
       "  </tbody>\n",
       "</table>\n",
       "</div>"
      ],
      "text/plain": [
       "         DATE\n",
       "0  2022-02-10\n",
       "1  2022-02-17\n",
       "2  2022-02-24\n",
       "3  2022-03-03\n",
       "4  2022-03-10"
      ]
     },
     "execution_count": 84,
     "metadata": {},
     "output_type": "execute_result"
    }
   ],
   "source": [
    "def generate_futures_dataframe(start_date: date, number_of_weeks: int):\n",
    "    return pd.DataFrame([ start_date + timedelta(weeks = i) for i in range(number_of_weeks) ], columns=['DATE'])\n",
    "\n",
    "generate_futures_dataframe(date.today(), 5)"
   ]
  },
  {
   "cell_type": "code",
   "execution_count": 85,
   "metadata": {},
   "outputs": [
    {
     "name": "stdout",
     "output_type": "stream",
     "text": [
      "(522, 1)\n"
     ]
    }
   ],
   "source": [
    "df_future = generate_futures_dataframe(date.today(), 522)\n",
    "print(df_future.shape)"
   ]
  },
  {
   "cell_type": "code",
   "execution_count": 98,
   "metadata": {},
   "outputs": [
    {
     "data": {
      "text/html": [
       "<div>\n",
       "<style scoped>\n",
       "    .dataframe tbody tr th:only-of-type {\n",
       "        vertical-align: middle;\n",
       "    }\n",
       "\n",
       "    .dataframe tbody tr th {\n",
       "        vertical-align: top;\n",
       "    }\n",
       "\n",
       "    .dataframe thead th {\n",
       "        text-align: right;\n",
       "    }\n",
       "</style>\n",
       "<table border=\"1\" class=\"dataframe\">\n",
       "  <thead>\n",
       "    <tr style=\"text-align: right;\">\n",
       "      <th></th>\n",
       "      <th>date</th>\n",
       "      <th>bhkp_price</th>\n",
       "      <th>year</th>\n",
       "      <th>week</th>\n",
       "      <th>bhkp_delta</th>\n",
       "      <th>bhkp_delta_outcome</th>\n",
       "      <th>bhkp_variation</th>\n",
       "      <th>Outcome</th>\n",
       "    </tr>\n",
       "  </thead>\n",
       "  <tbody>\n",
       "    <tr>\n",
       "      <th>0</th>\n",
       "      <td>2010-01-05</td>\n",
       "      <td>662.09</td>\n",
       "      <td>2010</td>\n",
       "      <td>1</td>\n",
       "      <td>NaN</td>\n",
       "      <td>21.66</td>\n",
       "      <td>NaN</td>\n",
       "      <td>21.66</td>\n",
       "    </tr>\n",
       "    <tr>\n",
       "      <th>1</th>\n",
       "      <td>2010-01-12</td>\n",
       "      <td>683.75</td>\n",
       "      <td>2010</td>\n",
       "      <td>2</td>\n",
       "      <td>21.66</td>\n",
       "      <td>2.10</td>\n",
       "      <td>0.032715</td>\n",
       "      <td>2.10</td>\n",
       "    </tr>\n",
       "    <tr>\n",
       "      <th>2</th>\n",
       "      <td>2010-01-19</td>\n",
       "      <td>685.85</td>\n",
       "      <td>2010</td>\n",
       "      <td>3</td>\n",
       "      <td>2.10</td>\n",
       "      <td>5.29</td>\n",
       "      <td>0.003071</td>\n",
       "      <td>5.29</td>\n",
       "    </tr>\n",
       "    <tr>\n",
       "      <th>3</th>\n",
       "      <td>2010-01-26</td>\n",
       "      <td>691.14</td>\n",
       "      <td>2010</td>\n",
       "      <td>4</td>\n",
       "      <td>5.29</td>\n",
       "      <td>3.79</td>\n",
       "      <td>0.007713</td>\n",
       "      <td>3.79</td>\n",
       "    </tr>\n",
       "    <tr>\n",
       "      <th>4</th>\n",
       "      <td>2010-02-02</td>\n",
       "      <td>694.93</td>\n",
       "      <td>2010</td>\n",
       "      <td>5</td>\n",
       "      <td>3.79</td>\n",
       "      <td>23.50</td>\n",
       "      <td>0.005484</td>\n",
       "      <td>23.50</td>\n",
       "    </tr>\n",
       "    <tr>\n",
       "      <th>...</th>\n",
       "      <td>...</td>\n",
       "      <td>...</td>\n",
       "      <td>...</td>\n",
       "      <td>...</td>\n",
       "      <td>...</td>\n",
       "      <td>...</td>\n",
       "      <td>...</td>\n",
       "      <td>...</td>\n",
       "    </tr>\n",
       "    <tr>\n",
       "      <th>623</th>\n",
       "      <td>2021-12-31</td>\n",
       "      <td>576.42</td>\n",
       "      <td>2021</td>\n",
       "      <td>52</td>\n",
       "      <td>5.69</td>\n",
       "      <td>11.76</td>\n",
       "      <td>0.009970</td>\n",
       "      <td>11.76</td>\n",
       "    </tr>\n",
       "    <tr>\n",
       "      <th>624</th>\n",
       "      <td>2022-01-07</td>\n",
       "      <td>588.18</td>\n",
       "      <td>2022</td>\n",
       "      <td>1</td>\n",
       "      <td>11.76</td>\n",
       "      <td>5.11</td>\n",
       "      <td>0.020402</td>\n",
       "      <td>5.11</td>\n",
       "    </tr>\n",
       "    <tr>\n",
       "      <th>625</th>\n",
       "      <td>2022-01-14</td>\n",
       "      <td>593.29</td>\n",
       "      <td>2022</td>\n",
       "      <td>2</td>\n",
       "      <td>5.11</td>\n",
       "      <td>7.15</td>\n",
       "      <td>0.008688</td>\n",
       "      <td>7.15</td>\n",
       "    </tr>\n",
       "    <tr>\n",
       "      <th>626</th>\n",
       "      <td>2022-01-21</td>\n",
       "      <td>600.44</td>\n",
       "      <td>2022</td>\n",
       "      <td>3</td>\n",
       "      <td>7.15</td>\n",
       "      <td>2.38</td>\n",
       "      <td>0.012051</td>\n",
       "      <td>2.38</td>\n",
       "    </tr>\n",
       "    <tr>\n",
       "      <th>627</th>\n",
       "      <td>2022-01-28</td>\n",
       "      <td>602.82</td>\n",
       "      <td>2022</td>\n",
       "      <td>4</td>\n",
       "      <td>2.38</td>\n",
       "      <td>NaN</td>\n",
       "      <td>0.003964</td>\n",
       "      <td>NaN</td>\n",
       "    </tr>\n",
       "  </tbody>\n",
       "</table>\n",
       "<p>628 rows × 8 columns</p>\n",
       "</div>"
      ],
      "text/plain": [
       "          date  bhkp_price  year  week  bhkp_delta  bhkp_delta_outcome  \\\n",
       "0   2010-01-05      662.09  2010     1         NaN               21.66   \n",
       "1   2010-01-12      683.75  2010     2       21.66                2.10   \n",
       "2   2010-01-19      685.85  2010     3        2.10                5.29   \n",
       "3   2010-01-26      691.14  2010     4        5.29                3.79   \n",
       "4   2010-02-02      694.93  2010     5        3.79               23.50   \n",
       "..         ...         ...   ...   ...         ...                 ...   \n",
       "623 2021-12-31      576.42  2021    52        5.69               11.76   \n",
       "624 2022-01-07      588.18  2022     1       11.76                5.11   \n",
       "625 2022-01-14      593.29  2022     2        5.11                7.15   \n",
       "626 2022-01-21      600.44  2022     3        7.15                2.38   \n",
       "627 2022-01-28      602.82  2022     4        2.38                 NaN   \n",
       "\n",
       "     bhkp_variation  Outcome  \n",
       "0               NaN    21.66  \n",
       "1          0.032715     2.10  \n",
       "2          0.003071     5.29  \n",
       "3          0.007713     3.79  \n",
       "4          0.005484    23.50  \n",
       "..              ...      ...  \n",
       "623        0.009970    11.76  \n",
       "624        0.020402     5.11  \n",
       "625        0.008688     7.15  \n",
       "626        0.012051     2.38  \n",
       "627        0.003964      NaN  \n",
       "\n",
       "[628 rows x 8 columns]"
      ]
     },
     "execution_count": 98,
     "metadata": {},
     "output_type": "execute_result"
    }
   ],
   "source": [
    "df_forecast = df.copy()\n",
    "df_forecast"
   ]
  },
  {
   "cell_type": "code",
   "execution_count": 99,
   "metadata": {},
   "outputs": [
    {
     "data": {
      "text/html": [
       "<div>\n",
       "<style scoped>\n",
       "    .dataframe tbody tr th:only-of-type {\n",
       "        vertical-align: middle;\n",
       "    }\n",
       "\n",
       "    .dataframe tbody tr th {\n",
       "        vertical-align: top;\n",
       "    }\n",
       "\n",
       "    .dataframe thead th {\n",
       "        text-align: right;\n",
       "    }\n",
       "</style>\n",
       "<table border=\"1\" class=\"dataframe\">\n",
       "  <thead>\n",
       "    <tr style=\"text-align: right;\">\n",
       "      <th></th>\n",
       "      <th>date</th>\n",
       "      <th>bhkp_price</th>\n",
       "      <th>year</th>\n",
       "      <th>week</th>\n",
       "      <th>bhkp_delta</th>\n",
       "      <th>bhkp_delta_outcome</th>\n",
       "      <th>bhkp_variation</th>\n",
       "      <th>Outcome</th>\n",
       "      <th>event_pattern</th>\n",
       "      <th>direction</th>\n",
       "    </tr>\n",
       "  </thead>\n",
       "  <tbody>\n",
       "    <tr>\n",
       "      <th>0</th>\n",
       "      <td>2010-01-05</td>\n",
       "      <td>662.09</td>\n",
       "      <td>2010</td>\n",
       "      <td>1</td>\n",
       "      <td>NaN</td>\n",
       "      <td>21.66</td>\n",
       "      <td>NaN</td>\n",
       "      <td>21.66</td>\n",
       "      <td>NaN</td>\n",
       "      <td>1</td>\n",
       "    </tr>\n",
       "    <tr>\n",
       "      <th>1</th>\n",
       "      <td>2010-01-12</td>\n",
       "      <td>683.75</td>\n",
       "      <td>2010</td>\n",
       "      <td>2</td>\n",
       "      <td>21.66</td>\n",
       "      <td>2.10</td>\n",
       "      <td>0.032715</td>\n",
       "      <td>2.10</td>\n",
       "      <td>H</td>\n",
       "      <td>1</td>\n",
       "    </tr>\n",
       "    <tr>\n",
       "      <th>2</th>\n",
       "      <td>2010-01-19</td>\n",
       "      <td>685.85</td>\n",
       "      <td>2010</td>\n",
       "      <td>3</td>\n",
       "      <td>2.10</td>\n",
       "      <td>5.29</td>\n",
       "      <td>0.003071</td>\n",
       "      <td>5.29</td>\n",
       "      <td>H</td>\n",
       "      <td>1</td>\n",
       "    </tr>\n",
       "    <tr>\n",
       "      <th>3</th>\n",
       "      <td>2010-01-26</td>\n",
       "      <td>691.14</td>\n",
       "      <td>2010</td>\n",
       "      <td>4</td>\n",
       "      <td>5.29</td>\n",
       "      <td>3.79</td>\n",
       "      <td>0.007713</td>\n",
       "      <td>3.79</td>\n",
       "      <td>H</td>\n",
       "      <td>1</td>\n",
       "    </tr>\n",
       "    <tr>\n",
       "      <th>4</th>\n",
       "      <td>2010-02-02</td>\n",
       "      <td>694.93</td>\n",
       "      <td>2010</td>\n",
       "      <td>5</td>\n",
       "      <td>3.79</td>\n",
       "      <td>23.50</td>\n",
       "      <td>0.005484</td>\n",
       "      <td>23.50</td>\n",
       "      <td>H</td>\n",
       "      <td>1</td>\n",
       "    </tr>\n",
       "    <tr>\n",
       "      <th>...</th>\n",
       "      <td>...</td>\n",
       "      <td>...</td>\n",
       "      <td>...</td>\n",
       "      <td>...</td>\n",
       "      <td>...</td>\n",
       "      <td>...</td>\n",
       "      <td>...</td>\n",
       "      <td>...</td>\n",
       "      <td>...</td>\n",
       "      <td>...</td>\n",
       "    </tr>\n",
       "    <tr>\n",
       "      <th>623</th>\n",
       "      <td>2021-12-31</td>\n",
       "      <td>576.42</td>\n",
       "      <td>2021</td>\n",
       "      <td>52</td>\n",
       "      <td>5.69</td>\n",
       "      <td>11.76</td>\n",
       "      <td>0.009970</td>\n",
       "      <td>11.76</td>\n",
       "      <td>H</td>\n",
       "      <td>1</td>\n",
       "    </tr>\n",
       "    <tr>\n",
       "      <th>624</th>\n",
       "      <td>2022-01-07</td>\n",
       "      <td>588.18</td>\n",
       "      <td>2022</td>\n",
       "      <td>1</td>\n",
       "      <td>11.76</td>\n",
       "      <td>5.11</td>\n",
       "      <td>0.020402</td>\n",
       "      <td>5.11</td>\n",
       "      <td>H</td>\n",
       "      <td>1</td>\n",
       "    </tr>\n",
       "    <tr>\n",
       "      <th>625</th>\n",
       "      <td>2022-01-14</td>\n",
       "      <td>593.29</td>\n",
       "      <td>2022</td>\n",
       "      <td>2</td>\n",
       "      <td>5.11</td>\n",
       "      <td>7.15</td>\n",
       "      <td>0.008688</td>\n",
       "      <td>7.15</td>\n",
       "      <td>H</td>\n",
       "      <td>1</td>\n",
       "    </tr>\n",
       "    <tr>\n",
       "      <th>626</th>\n",
       "      <td>2022-01-21</td>\n",
       "      <td>600.44</td>\n",
       "      <td>2022</td>\n",
       "      <td>3</td>\n",
       "      <td>7.15</td>\n",
       "      <td>2.38</td>\n",
       "      <td>0.012051</td>\n",
       "      <td>2.38</td>\n",
       "      <td>H</td>\n",
       "      <td>1</td>\n",
       "    </tr>\n",
       "    <tr>\n",
       "      <th>627</th>\n",
       "      <td>2022-01-28</td>\n",
       "      <td>602.82</td>\n",
       "      <td>2022</td>\n",
       "      <td>4</td>\n",
       "      <td>2.38</td>\n",
       "      <td>NaN</td>\n",
       "      <td>0.003964</td>\n",
       "      <td>NaN</td>\n",
       "      <td>H</td>\n",
       "      <td>-1</td>\n",
       "    </tr>\n",
       "  </tbody>\n",
       "</table>\n",
       "<p>628 rows × 10 columns</p>\n",
       "</div>"
      ],
      "text/plain": [
       "          date  bhkp_price  year  week  bhkp_delta  bhkp_delta_outcome  \\\n",
       "0   2010-01-05      662.09  2010     1         NaN               21.66   \n",
       "1   2010-01-12      683.75  2010     2       21.66                2.10   \n",
       "2   2010-01-19      685.85  2010     3        2.10                5.29   \n",
       "3   2010-01-26      691.14  2010     4        5.29                3.79   \n",
       "4   2010-02-02      694.93  2010     5        3.79               23.50   \n",
       "..         ...         ...   ...   ...         ...                 ...   \n",
       "623 2021-12-31      576.42  2021    52        5.69               11.76   \n",
       "624 2022-01-07      588.18  2022     1       11.76                5.11   \n",
       "625 2022-01-14      593.29  2022     2        5.11                7.15   \n",
       "626 2022-01-21      600.44  2022     3        7.15                2.38   \n",
       "627 2022-01-28      602.82  2022     4        2.38                 NaN   \n",
       "\n",
       "     bhkp_variation  Outcome event_pattern  direction  \n",
       "0               NaN    21.66           NaN          1  \n",
       "1          0.032715     2.10             H          1  \n",
       "2          0.003071     5.29             H          1  \n",
       "3          0.007713     3.79             H          1  \n",
       "4          0.005484    23.50             H          1  \n",
       "..              ...      ...           ...        ...  \n",
       "623        0.009970    11.76             H          1  \n",
       "624        0.020402     5.11             H          1  \n",
       "625        0.008688     7.15             H          1  \n",
       "626        0.012051     2.38             H          1  \n",
       "627        0.003964      NaN             H         -1  \n",
       "\n",
       "[628 rows x 10 columns]"
      ]
     },
     "execution_count": 99,
     "metadata": {},
     "output_type": "execute_result"
    }
   ],
   "source": [
    "df_forecast['event_pattern'], _  = pd.qcut(df['bhkp_variation'], 3, labels=[\"L\", \"M\", \"H\"], retbins=True)\n",
    "df_forecast['direction'] =  df_forecast['bhkp_delta_outcome'].apply(lambda x: 1 if x >0 else -1)\n",
    "df_forecast"
   ]
  },
  {
   "cell_type": "markdown",
   "metadata": {},
   "source": [
    "## Class to Number Prep (Normal) ??\n"
   ]
  },
  {
   "cell_type": "code",
   "execution_count": 102,
   "metadata": {},
   "outputs": [
    {
     "name": "stdout",
     "output_type": "stream",
     "text": [
      "pos_avg_change: 0.007396944217685864 | pos_avg_std_dev: 0.012962102343764503\n",
      "neg_avg_change: -0.007534008888572403 | neg_avg_std_dev: 0.01012791542584334\n"
     ]
    }
   ],
   "source": [
    "pos_avg_change  = df_forecast[df_forecast['bhkp_variation'] > 0]['bhkp_variation'].describe()['mean']\n",
    "pos_avg_std_dev = df_forecast[df_forecast['bhkp_variation'] > 0]['bhkp_variation'].describe()['std']\n",
    "\n",
    "neg_avg_change  = df_forecast[df_forecast['bhkp_variation'] < 0]['bhkp_variation'].describe()['mean']\n",
    "neg_avg_std_dev = df_forecast[df_forecast['bhkp_variation'] < 0]['bhkp_variation'].describe()['std']\n",
    "\n",
    "print(f'pos_avg_change: {pos_avg_change} | pos_avg_std_dev: {pos_avg_std_dev}')\n",
    "print(f'neg_avg_change: {neg_avg_change} | neg_avg_std_dev: {neg_avg_std_dev}') "
   ]
  },
  {
   "cell_type": "code",
   "execution_count": null,
   "metadata": {},
   "outputs": [],
   "source": []
  },
  {
   "cell_type": "code",
   "execution_count": null,
   "metadata": {},
   "outputs": [],
   "source": []
  },
  {
   "cell_type": "code",
   "execution_count": null,
   "metadata": {},
   "outputs": [],
   "source": []
  },
  {
   "cell_type": "code",
   "execution_count": null,
   "metadata": {},
   "outputs": [],
   "source": []
  },
  {
   "cell_type": "code",
   "execution_count": 60,
   "metadata": {},
   "outputs": [
    {
     "name": "stdout",
     "output_type": "stream",
     "text": [
      "[1 3 5]\n"
     ]
    }
   ],
   "source": [
    "array1 = np.array([1, 2, 3, 4, 5])\n",
    "array2 = np.array([2, 6, 7, 8, 4])\n",
    "\n",
    "uniao = np.setdiff1d(array1, array2, assume_unique=True)\n",
    "\n",
    "print(uniao)"
   ]
  },
  {
   "cell_type": "code",
   "execution_count": 58,
   "metadata": {},
   "outputs": [
    {
     "data": {
      "text/plain": [
       "[1, 2, 3, 4]"
      ]
     },
     "execution_count": 58,
     "metadata": {},
     "output_type": "execute_result"
    }
   ],
   "source": [
    "a"
   ]
  },
  {
   "cell_type": "code",
   "execution_count": 59,
   "metadata": {},
   "outputs": [
    {
     "ename": "TypeError",
     "evalue": "unsupported operand type(s) for -: 'list' and 'list'",
     "output_type": "error",
     "traceback": [
      "\u001b[1;31m---------------------------------------------------------------------------\u001b[0m",
      "\u001b[1;31mTypeError\u001b[0m                                 Traceback (most recent call last)",
      "Input \u001b[1;32mIn [59]\u001b[0m, in \u001b[0;36m<module>\u001b[1;34m\u001b[0m\n\u001b[1;32m----> 1\u001b[0m \u001b[43ma\u001b[49m\u001b[43m \u001b[49m\u001b[38;5;241;43m-\u001b[39;49m\u001b[43m \u001b[49m\u001b[43m[\u001b[49m\u001b[38;5;241;43m2\u001b[39;49m\u001b[43m,\u001b[49m\u001b[38;5;241;43m3\u001b[39;49m\u001b[43m]\u001b[49m\n",
      "\u001b[1;31mTypeError\u001b[0m: unsupported operand type(s) for -: 'list' and 'list'"
     ]
    }
   ],
   "source": [
    "a - [2,3]"
   ]
  },
  {
   "cell_type": "code",
   "execution_count": null,
   "metadata": {},
   "outputs": [],
   "source": []
  }
 ],
 "metadata": {
  "kernelspec": {
   "display_name": "env-win-tese",
   "language": "python",
   "name": "env-win-tese"
  },
  "language_info": {
   "codemirror_mode": {
    "name": "ipython",
    "version": 3
   },
   "file_extension": ".py",
   "mimetype": "text/x-python",
   "name": "python",
   "nbconvert_exporter": "python",
   "pygments_lexer": "ipython3",
   "version": "3.10.0"
  },
  "toc": {
   "base_numbering": 1,
   "nav_menu": {},
   "number_sections": true,
   "sideBar": true,
   "skip_h1_title": false,
   "title_cell": "Table of Contents",
   "title_sidebar": "Contents",
   "toc_cell": false,
   "toc_position": {
    "height": "calc(100% - 180px)",
    "left": "10px",
    "top": "150px",
    "width": "426.659px"
   },
   "toc_section_display": true,
   "toc_window_display": true
  }
 },
 "nbformat": 4,
 "nbformat_minor": 4
}
