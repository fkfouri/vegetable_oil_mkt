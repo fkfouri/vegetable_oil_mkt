{
 "cells": [
  {
   "cell_type": "markdown",
   "metadata": {},
   "source": [
    "Neste estudo, o FK tentou entender outras coisas / nuances do dataset.\n",
    "\n",
    "Não chegou a lugar nenhum"
   ]
  },
  {
   "cell_type": "code",
   "execution_count": 175,
   "metadata": {},
   "outputs": [],
   "source": [
    "import pandas as pd\n",
    "import numpy as np\n",
    "\n",
    "import logging\n",
    "log = logging.getLogger(__name__)\n",
    "logging.basicConfig(level=logging.DEBUG) "
   ]
  },
  {
   "cell_type": "markdown",
   "metadata": {},
   "source": [
    "# DataCollect"
   ]
  },
  {
   "cell_type": "code",
   "execution_count": 84,
   "metadata": {},
   "outputs": [
    {
     "name": "stdout",
     "output_type": "stream",
     "text": [
      "(253, 12)\n"
     ]
    },
    {
     "data": {
      "text/html": [
       "<div>\n",
       "<style scoped>\n",
       "    .dataframe tbody tr th:only-of-type {\n",
       "        vertical-align: middle;\n",
       "    }\n",
       "\n",
       "    .dataframe tbody tr th {\n",
       "        vertical-align: top;\n",
       "    }\n",
       "\n",
       "    .dataframe thead th {\n",
       "        text-align: right;\n",
       "    }\n",
       "</style>\n",
       "<table border=\"1\" class=\"dataframe\">\n",
       "  <thead>\n",
       "    <tr style=\"text-align: right;\">\n",
       "      <th></th>\n",
       "      <th>md5</th>\n",
       "      <th>DATE</th>\n",
       "      <th>PIX_CHINA_BHKP_NET_USDT</th>\n",
       "      <th>PIX_CHINA_NBSK_NET_USDT</th>\n",
       "      <th>year</th>\n",
       "      <th>month</th>\n",
       "      <th>day</th>\n",
       "      <th>quarter</th>\n",
       "      <th>week</th>\n",
       "      <th>weekday</th>\n",
       "      <th>datasource</th>\n",
       "      <th>ingestion_date</th>\n",
       "    </tr>\n",
       "  </thead>\n",
       "  <tbody>\n",
       "    <tr>\n",
       "      <th>0</th>\n",
       "      <td>2d37cf8996c9720ce8a6fb0253ef9bd9</td>\n",
       "      <td>2017-04-04T00:00:00Z</td>\n",
       "      <td>592.08</td>\n",
       "      <td>647.76</td>\n",
       "      <td>2017</td>\n",
       "      <td>4</td>\n",
       "      <td>4</td>\n",
       "      <td>2</td>\n",
       "      <td>14</td>\n",
       "      <td>Tuesday</td>\n",
       "      <td>foex</td>\n",
       "      <td>2022-01-20T17:26:52.151Z</td>\n",
       "    </tr>\n",
       "    <tr>\n",
       "      <th>1</th>\n",
       "      <td>a902dbdce318fc04ab2cdbfc23383b77</td>\n",
       "      <td>2017-04-11T00:00:00Z</td>\n",
       "      <td>598.47</td>\n",
       "      <td>644.48</td>\n",
       "      <td>2017</td>\n",
       "      <td>4</td>\n",
       "      <td>11</td>\n",
       "      <td>2</td>\n",
       "      <td>15</td>\n",
       "      <td>Tuesday</td>\n",
       "      <td>foex</td>\n",
       "      <td>2022-01-20T17:26:52.151Z</td>\n",
       "    </tr>\n",
       "    <tr>\n",
       "      <th>2</th>\n",
       "      <td>aca5dc4e1bb75c2afa1973ac3a2b88d6</td>\n",
       "      <td>2017-04-18T00:00:00Z</td>\n",
       "      <td>600.08</td>\n",
       "      <td>642.52</td>\n",
       "      <td>2017</td>\n",
       "      <td>4</td>\n",
       "      <td>18</td>\n",
       "      <td>2</td>\n",
       "      <td>16</td>\n",
       "      <td>Tuesday</td>\n",
       "      <td>foex</td>\n",
       "      <td>2022-01-20T17:26:52.151Z</td>\n",
       "    </tr>\n",
       "    <tr>\n",
       "      <th>3</th>\n",
       "      <td>0ddc73bf4938cbf98411d7bfdabf02b6</td>\n",
       "      <td>2017-04-25T00:00:00Z</td>\n",
       "      <td>610.29</td>\n",
       "      <td>646.20</td>\n",
       "      <td>2017</td>\n",
       "      <td>4</td>\n",
       "      <td>25</td>\n",
       "      <td>2</td>\n",
       "      <td>17</td>\n",
       "      <td>Tuesday</td>\n",
       "      <td>foex</td>\n",
       "      <td>2022-01-20T17:26:52.151Z</td>\n",
       "    </tr>\n",
       "    <tr>\n",
       "      <th>4</th>\n",
       "      <td>58c2c32c2ace5c41f658aca3f814ebd7</td>\n",
       "      <td>2017-05-02T00:00:00Z</td>\n",
       "      <td>613.88</td>\n",
       "      <td>647.22</td>\n",
       "      <td>2017</td>\n",
       "      <td>5</td>\n",
       "      <td>2</td>\n",
       "      <td>2</td>\n",
       "      <td>18</td>\n",
       "      <td>Tuesday</td>\n",
       "      <td>foex</td>\n",
       "      <td>2022-01-20T17:26:52.151Z</td>\n",
       "    </tr>\n",
       "  </tbody>\n",
       "</table>\n",
       "</div>"
      ],
      "text/plain": [
       "                                md5                  DATE  \\\n",
       "0  2d37cf8996c9720ce8a6fb0253ef9bd9  2017-04-04T00:00:00Z   \n",
       "1  a902dbdce318fc04ab2cdbfc23383b77  2017-04-11T00:00:00Z   \n",
       "2  aca5dc4e1bb75c2afa1973ac3a2b88d6  2017-04-18T00:00:00Z   \n",
       "3  0ddc73bf4938cbf98411d7bfdabf02b6  2017-04-25T00:00:00Z   \n",
       "4  58c2c32c2ace5c41f658aca3f814ebd7  2017-05-02T00:00:00Z   \n",
       "\n",
       "   PIX_CHINA_BHKP_NET_USDT  PIX_CHINA_NBSK_NET_USDT  year  month  day  \\\n",
       "0                   592.08                   647.76  2017      4    4   \n",
       "1                   598.47                   644.48  2017      4   11   \n",
       "2                   600.08                   642.52  2017      4   18   \n",
       "3                   610.29                   646.20  2017      4   25   \n",
       "4                   613.88                   647.22  2017      5    2   \n",
       "\n",
       "   quarter  week  weekday datasource            ingestion_date  \n",
       "0        2    14  Tuesday       foex  2022-01-20T17:26:52.151Z  \n",
       "1        2    15  Tuesday       foex  2022-01-20T17:26:52.151Z  \n",
       "2        2    16  Tuesday       foex  2022-01-20T17:26:52.151Z  \n",
       "3        2    17  Tuesday       foex  2022-01-20T17:26:52.151Z  \n",
       "4        2    18  Tuesday       foex  2022-01-20T17:26:52.151Z  "
      ]
     },
     "execution_count": 84,
     "metadata": {},
     "output_type": "execute_result"
    }
   ],
   "source": [
    "#SELECT * FROM `sz-vision-prod.vision.foex_pulp_china` order by DATE\n",
    "df_master = pd.read_csv(\"pix.csv\")\n",
    "print(df_master.shape)\n",
    "df_master.head()"
   ]
  },
  {
   "cell_type": "code",
   "execution_count": 85,
   "metadata": {},
   "outputs": [
    {
     "data": {
      "text/html": [
       "<div>\n",
       "<style scoped>\n",
       "    .dataframe tbody tr th:only-of-type {\n",
       "        vertical-align: middle;\n",
       "    }\n",
       "\n",
       "    .dataframe tbody tr th {\n",
       "        vertical-align: top;\n",
       "    }\n",
       "\n",
       "    .dataframe thead th {\n",
       "        text-align: right;\n",
       "    }\n",
       "</style>\n",
       "<table border=\"1\" class=\"dataframe\">\n",
       "  <thead>\n",
       "    <tr style=\"text-align: right;\">\n",
       "      <th></th>\n",
       "      <th>date</th>\n",
       "      <th>year</th>\n",
       "      <th>week</th>\n",
       "      <th>bhkp_price</th>\n",
       "      <th>nbkp_price</th>\n",
       "    </tr>\n",
       "  </thead>\n",
       "  <tbody>\n",
       "    <tr>\n",
       "      <th>0</th>\n",
       "      <td>2017-04-04</td>\n",
       "      <td>2017</td>\n",
       "      <td>14</td>\n",
       "      <td>592.08</td>\n",
       "      <td>647.76</td>\n",
       "    </tr>\n",
       "    <tr>\n",
       "      <th>1</th>\n",
       "      <td>2017-04-11</td>\n",
       "      <td>2017</td>\n",
       "      <td>15</td>\n",
       "      <td>598.47</td>\n",
       "      <td>644.48</td>\n",
       "    </tr>\n",
       "    <tr>\n",
       "      <th>2</th>\n",
       "      <td>2017-04-18</td>\n",
       "      <td>2017</td>\n",
       "      <td>16</td>\n",
       "      <td>600.08</td>\n",
       "      <td>642.52</td>\n",
       "    </tr>\n",
       "    <tr>\n",
       "      <th>3</th>\n",
       "      <td>2017-04-25</td>\n",
       "      <td>2017</td>\n",
       "      <td>17</td>\n",
       "      <td>610.29</td>\n",
       "      <td>646.20</td>\n",
       "    </tr>\n",
       "    <tr>\n",
       "      <th>4</th>\n",
       "      <td>2017-05-02</td>\n",
       "      <td>2017</td>\n",
       "      <td>18</td>\n",
       "      <td>613.88</td>\n",
       "      <td>647.22</td>\n",
       "    </tr>\n",
       "  </tbody>\n",
       "</table>\n",
       "</div>"
      ],
      "text/plain": [
       "        date  year  week  bhkp_price  nbkp_price\n",
       "0 2017-04-04  2017    14      592.08      647.76\n",
       "1 2017-04-11  2017    15      598.47      644.48\n",
       "2 2017-04-18  2017    16      600.08      642.52\n",
       "3 2017-04-25  2017    17      610.29      646.20\n",
       "4 2017-05-02  2017    18      613.88      647.22"
      ]
     },
     "execution_count": 85,
     "metadata": {},
     "output_type": "execute_result"
    }
   ],
   "source": [
    "df = df_master[['DATE','PIX_CHINA_BHKP_NET_USDT', 'PIX_CHINA_NBSK_NET_USDT','year','week']]\n",
    "df = df.rename(columns = {'PIX_CHINA_BHKP_NET_USDT':'bhkp_price', \n",
    "                          'PIX_CHINA_NBSK_NET_USDT':'nbkp_price', \n",
    "                          \"DATE\":'date'})\n",
    "\n",
    "df['date'] = pd.to_datetime(df['date'], infer_datetime_format = True)\n",
    "df = df[['date','year','week', 'bhkp_price','nbkp_price']]\n",
    "df.head()"
   ]
  },
  {
   "cell_type": "markdown",
   "metadata": {},
   "source": [
    "# Variations"
   ]
  },
  {
   "cell_type": "code",
   "execution_count": 86,
   "metadata": {},
   "outputs": [
    {
     "data": {
      "text/html": [
       "<div>\n",
       "<style scoped>\n",
       "    .dataframe tbody tr th:only-of-type {\n",
       "        vertical-align: middle;\n",
       "    }\n",
       "\n",
       "    .dataframe tbody tr th {\n",
       "        vertical-align: top;\n",
       "    }\n",
       "\n",
       "    .dataframe thead th {\n",
       "        text-align: right;\n",
       "    }\n",
       "</style>\n",
       "<table border=\"1\" class=\"dataframe\">\n",
       "  <thead>\n",
       "    <tr style=\"text-align: right;\">\n",
       "      <th></th>\n",
       "      <th>date</th>\n",
       "      <th>year</th>\n",
       "      <th>week</th>\n",
       "      <th>bhkp_price</th>\n",
       "      <th>bhkp_delta</th>\n",
       "      <th>bhkp_variation</th>\n",
       "      <th>nbkp_price</th>\n",
       "      <th>nbkp_delta</th>\n",
       "      <th>nbkp_variation</th>\n",
       "    </tr>\n",
       "  </thead>\n",
       "  <tbody>\n",
       "    <tr>\n",
       "      <th>0</th>\n",
       "      <td>2017-04-04</td>\n",
       "      <td>2017</td>\n",
       "      <td>14</td>\n",
       "      <td>592.08</td>\n",
       "      <td>0.00</td>\n",
       "      <td>0.000000</td>\n",
       "      <td>647.76</td>\n",
       "      <td>0.00</td>\n",
       "      <td>0.000000</td>\n",
       "    </tr>\n",
       "    <tr>\n",
       "      <th>1</th>\n",
       "      <td>2017-04-11</td>\n",
       "      <td>2017</td>\n",
       "      <td>15</td>\n",
       "      <td>598.47</td>\n",
       "      <td>6.39</td>\n",
       "      <td>0.010792</td>\n",
       "      <td>644.48</td>\n",
       "      <td>-3.28</td>\n",
       "      <td>-0.005064</td>\n",
       "    </tr>\n",
       "    <tr>\n",
       "      <th>2</th>\n",
       "      <td>2017-04-18</td>\n",
       "      <td>2017</td>\n",
       "      <td>16</td>\n",
       "      <td>600.08</td>\n",
       "      <td>1.61</td>\n",
       "      <td>0.002690</td>\n",
       "      <td>642.52</td>\n",
       "      <td>-1.96</td>\n",
       "      <td>-0.003041</td>\n",
       "    </tr>\n",
       "    <tr>\n",
       "      <th>3</th>\n",
       "      <td>2017-04-25</td>\n",
       "      <td>2017</td>\n",
       "      <td>17</td>\n",
       "      <td>610.29</td>\n",
       "      <td>10.21</td>\n",
       "      <td>0.017014</td>\n",
       "      <td>646.20</td>\n",
       "      <td>3.68</td>\n",
       "      <td>0.005727</td>\n",
       "    </tr>\n",
       "    <tr>\n",
       "      <th>4</th>\n",
       "      <td>2017-05-02</td>\n",
       "      <td>2017</td>\n",
       "      <td>18</td>\n",
       "      <td>613.88</td>\n",
       "      <td>3.59</td>\n",
       "      <td>0.005882</td>\n",
       "      <td>647.22</td>\n",
       "      <td>1.02</td>\n",
       "      <td>0.001578</td>\n",
       "    </tr>\n",
       "  </tbody>\n",
       "</table>\n",
       "</div>"
      ],
      "text/plain": [
       "        date  year  week  bhkp_price  bhkp_delta  bhkp_variation  nbkp_price  \\\n",
       "0 2017-04-04  2017    14      592.08        0.00        0.000000      647.76   \n",
       "1 2017-04-11  2017    15      598.47        6.39        0.010792      644.48   \n",
       "2 2017-04-18  2017    16      600.08        1.61        0.002690      642.52   \n",
       "3 2017-04-25  2017    17      610.29       10.21        0.017014      646.20   \n",
       "4 2017-05-02  2017    18      613.88        3.59        0.005882      647.22   \n",
       "\n",
       "   nbkp_delta  nbkp_variation  \n",
       "0        0.00        0.000000  \n",
       "1       -3.28       -0.005064  \n",
       "2       -1.96       -0.003041  \n",
       "3        3.68        0.005727  \n",
       "4        1.02        0.001578  "
      ]
     },
     "execution_count": 86,
     "metadata": {},
     "output_type": "execute_result"
    }
   ],
   "source": [
    "df['bhkp_delta'] = df['bhkp_price'].diff()\n",
    "# df['wow_variation'] =  df['wow_delta'] / df['price']  #ERRADO\n",
    "df['bhkp_variation'] = df['bhkp_price'].pct_change()\n",
    "\n",
    "df['nbkp_delta'] = df['nbkp_price'].diff()\n",
    "# df['nbkp_wow_variation'] = round( ( df['nbkp_wow_delta'] / df['nbkp_price'] ) * 100, 2)\n",
    "df['nbkp_variation'] = df['nbkp_price'].pct_change()\n",
    "df = df.fillna(0)\n",
    "\n",
    "df = df[['date','year','week', 'bhkp_price', 'bhkp_delta', 'bhkp_variation', 'nbkp_price', 'nbkp_delta', 'nbkp_variation']] \n",
    "df.head()"
   ]
  },
  {
   "cell_type": "code",
   "execution_count": 87,
   "metadata": {},
   "outputs": [
    {
     "name": "stdout",
     "output_type": "stream",
     "text": [
      "0.001688960951222788\n",
      "0.010792460478313717\n",
      "0.002690193326315482\n",
      "0.0026901933263154603\n"
     ]
    }
   ],
   "source": [
    "print ( ((598.47 / 592.08) - 1) * 1/6.39   )\n",
    "print (  ((598.47- 592.08)/592.08)  )\n",
    "\n",
    "print ( ((600.08 / 598.47) - 1)   )\n",
    "print (  (( 600.08- 598.47)/598.47)  )"
   ]
  },
  {
   "cell_type": "code",
   "execution_count": 88,
   "metadata": {},
   "outputs": [
    {
     "name": "stdout",
     "output_type": "stream",
     "text": [
      "<class 'pandas.core.frame.DataFrame'>\n",
      "RangeIndex: 253 entries, 0 to 252\n",
      "Data columns (total 9 columns):\n",
      " #   Column          Non-Null Count  Dtype         \n",
      "---  ------          --------------  -----         \n",
      " 0   date            253 non-null    datetime64[ns]\n",
      " 1   year            253 non-null    int64         \n",
      " 2   week            253 non-null    int64         \n",
      " 3   bhkp_price      253 non-null    float64       \n",
      " 4   bhkp_delta      253 non-null    float64       \n",
      " 5   bhkp_variation  253 non-null    float64       \n",
      " 6   nbkp_price      253 non-null    float64       \n",
      " 7   nbkp_delta      253 non-null    float64       \n",
      " 8   nbkp_variation  253 non-null    float64       \n",
      "dtypes: datetime64[ns](1), float64(6), int64(2)\n",
      "memory usage: 17.9 KB\n"
     ]
    }
   ],
   "source": [
    "df.info()"
   ]
  },
  {
   "cell_type": "markdown",
   "metadata": {},
   "source": [
    "# Analise"
   ]
  },
  {
   "cell_type": "code",
   "execution_count": 89,
   "metadata": {},
   "outputs": [],
   "source": [
    "import seaborn as sns\n",
    "import numpy as np\n",
    "import matplotlib.pyplot as plt"
   ]
  },
  {
   "cell_type": "code",
   "execution_count": 90,
   "metadata": {},
   "outputs": [
    {
     "data": {
      "image/png": "[encoded data removed]",
      "text/plain": [
       "<Figure size 1080x360 with 1 Axes>"
      ]
     },
     "metadata": {
      "needs_background": "light"
     },
     "output_type": "display_data"
    }
   ],
   "source": [
    "plt.figure(figsize=(15,5))\n",
    "plt.plot(df['date'],df['bhkp_price'],label='bhkp_price');\n",
    "plt.plot(df['date'],df['nbkp_price'],label='nbkp_price');\n",
    "plt.legend(loc='best');"
   ]
  },
  {
   "cell_type": "code",
   "execution_count": 91,
   "metadata": {},
   "outputs": [
    {
     "data": {
      "image/png": "[encoded data removed]",
      "text/plain": [
       "<Figure size 1080x360 with 1 Axes>"
      ]
     },
     "metadata": {
      "needs_background": "light"
     },
     "output_type": "display_data"
    }
   ],
   "source": [
    "plt.figure(figsize=(15,5))\n",
    "plt.title(\"Variação do preço\" )\n",
    "plt.plot(df['date'],df['bhkp_variation'],label='bhkp_variation');\n",
    "plt.plot(df['date'],df['nbkp_variation'],label='nbkp_variation');\n",
    "plt.legend(loc='best');\n"
   ]
  },
  {
   "cell_type": "code",
   "execution_count": null,
   "metadata": {},
   "outputs": [],
   "source": []
  },
  {
   "cell_type": "code",
   "execution_count": 92,
   "metadata": {},
   "outputs": [
    {
     "data": {
      "text/plain": [
       "<Figure size 1080x288 with 0 Axes>"
      ]
     },
     "execution_count": 92,
     "metadata": {},
     "output_type": "execute_result"
    },
    {
     "data": {
      "text/plain": [
       "<Figure size 1080x288 with 0 Axes>"
      ]
     },
     "metadata": {},
     "output_type": "display_data"
    }
   ],
   "source": [
    "#https://seaborn.pydata.org/generated/seaborn.histplot.html\n",
    "plt.figure(figsize=(15,4))\n",
    "# sns.histplot(data = df, x = 'bhkp_wow_variation', color='b', kde=True); #bins=auto\n",
    "# sns.histplot(data = df, x = 'nbkp_wow_variation', color='orange', kde=True ); # bins=20"
   ]
  },
  {
   "cell_type": "code",
   "execution_count": 93,
   "metadata": {},
   "outputs": [
    {
     "data": {
      "image/png": "[encoded data removed]",
      "text/plain": [
       "<Figure size 1080x288 with 1 Axes>"
      ]
     },
     "metadata": {
      "needs_background": "light"
     },
     "output_type": "display_data"
    }
   ],
   "source": [
    "plt.figure(figsize=(15,4))\n",
    "sns.histplot(data = df, x = 'bhkp_variation', color='b', bins=12); #bins=auto\n",
    "sns.histplot(data = df, x = 'nbkp_variation', color='orange', kde=True ); # bins=20"
   ]
  },
  {
   "cell_type": "code",
   "execution_count": 94,
   "metadata": {},
   "outputs": [
    {
     "data": {
      "image/png": "[encoded data removed]",
      "text/plain": [
       "<Figure size 432x288 with 1 Axes>"
      ]
     },
     "metadata": {
      "needs_background": "light"
     },
     "output_type": "display_data"
    }
   ],
   "source": [
    "# plt.figure(figsize=(15,4))\n",
    "sns.boxplot(data = df[['bhkp_price','nbkp_price']], notch = True);"
   ]
  },
  {
   "cell_type": "code",
   "execution_count": 95,
   "metadata": {},
   "outputs": [
    {
     "name": "stdout",
     "output_type": "stream",
     "text": [
      "(253, 9)\n"
     ]
    },
    {
     "data": {
      "text/html": [
       "<div>\n",
       "<style scoped>\n",
       "    .dataframe tbody tr th:only-of-type {\n",
       "        vertical-align: middle;\n",
       "    }\n",
       "\n",
       "    .dataframe tbody tr th {\n",
       "        vertical-align: top;\n",
       "    }\n",
       "\n",
       "    .dataframe thead th {\n",
       "        text-align: right;\n",
       "    }\n",
       "</style>\n",
       "<table border=\"1\" class=\"dataframe\">\n",
       "  <thead>\n",
       "    <tr style=\"text-align: right;\">\n",
       "      <th></th>\n",
       "      <th>bhkp_variation</th>\n",
       "      <th>bhkp_variation</th>\n",
       "    </tr>\n",
       "  </thead>\n",
       "  <tbody>\n",
       "    <tr>\n",
       "      <th>0</th>\n",
       "      <td>0.000000</td>\n",
       "      <td>0.000000</td>\n",
       "    </tr>\n",
       "    <tr>\n",
       "      <th>1</th>\n",
       "      <td>0.010792</td>\n",
       "      <td>0.010792</td>\n",
       "    </tr>\n",
       "    <tr>\n",
       "      <th>2</th>\n",
       "      <td>0.002690</td>\n",
       "      <td>0.002690</td>\n",
       "    </tr>\n",
       "    <tr>\n",
       "      <th>3</th>\n",
       "      <td>0.017014</td>\n",
       "      <td>0.017014</td>\n",
       "    </tr>\n",
       "    <tr>\n",
       "      <th>4</th>\n",
       "      <td>0.005882</td>\n",
       "      <td>0.005882</td>\n",
       "    </tr>\n",
       "  </tbody>\n",
       "</table>\n",
       "</div>"
      ],
      "text/plain": [
       "   bhkp_variation  bhkp_variation\n",
       "0        0.000000        0.000000\n",
       "1        0.010792        0.010792\n",
       "2        0.002690        0.002690\n",
       "3        0.017014        0.017014\n",
       "4        0.005882        0.005882"
      ]
     },
     "execution_count": 95,
     "metadata": {},
     "output_type": "execute_result"
    }
   ],
   "source": [
    "print(df.shape)\n",
    "df[['bhkp_variation','bhkp_variation']].head()"
   ]
  },
  {
   "cell_type": "code",
   "execution_count": 96,
   "metadata": {},
   "outputs": [
    {
     "data": {
      "text/html": [
       "<div>\n",
       "<style scoped>\n",
       "    .dataframe tbody tr th:only-of-type {\n",
       "        vertical-align: middle;\n",
       "    }\n",
       "\n",
       "    .dataframe tbody tr th {\n",
       "        vertical-align: top;\n",
       "    }\n",
       "\n",
       "    .dataframe thead th {\n",
       "        text-align: right;\n",
       "    }\n",
       "</style>\n",
       "<table border=\"1\" class=\"dataframe\">\n",
       "  <thead>\n",
       "    <tr style=\"text-align: right;\">\n",
       "      <th></th>\n",
       "      <th>bhkp_variation</th>\n",
       "      <th>bhkp_variation</th>\n",
       "    </tr>\n",
       "  </thead>\n",
       "  <tbody>\n",
       "    <tr>\n",
       "      <th>count</th>\n",
       "      <td>253.000000</td>\n",
       "      <td>253.000000</td>\n",
       "    </tr>\n",
       "    <tr>\n",
       "      <th>mean</th>\n",
       "      <td>0.000231</td>\n",
       "      <td>0.000231</td>\n",
       "    </tr>\n",
       "    <tr>\n",
       "      <th>std</th>\n",
       "      <td>0.018161</td>\n",
       "      <td>0.018161</td>\n",
       "    </tr>\n",
       "    <tr>\n",
       "      <th>min</th>\n",
       "      <td>-0.078251</td>\n",
       "      <td>-0.078251</td>\n",
       "    </tr>\n",
       "    <tr>\n",
       "      <th>25%</th>\n",
       "      <td>-0.003672</td>\n",
       "      <td>-0.003672</td>\n",
       "    </tr>\n",
       "    <tr>\n",
       "      <th>50%</th>\n",
       "      <td>0.000084</td>\n",
       "      <td>0.000084</td>\n",
       "    </tr>\n",
       "    <tr>\n",
       "      <th>75%</th>\n",
       "      <td>0.003820</td>\n",
       "      <td>0.003820</td>\n",
       "    </tr>\n",
       "    <tr>\n",
       "      <th>max</th>\n",
       "      <td>0.157578</td>\n",
       "      <td>0.157578</td>\n",
       "    </tr>\n",
       "  </tbody>\n",
       "</table>\n",
       "</div>"
      ],
      "text/plain": [
       "       bhkp_variation  bhkp_variation\n",
       "count      253.000000      253.000000\n",
       "mean         0.000231        0.000231\n",
       "std          0.018161        0.018161\n",
       "min         -0.078251       -0.078251\n",
       "25%         -0.003672       -0.003672\n",
       "50%          0.000084        0.000084\n",
       "75%          0.003820        0.003820\n",
       "max          0.157578        0.157578"
      ]
     },
     "execution_count": 96,
     "metadata": {},
     "output_type": "execute_result"
    }
   ],
   "source": [
    "df[['bhkp_variation','bhkp_variation']].describe()"
   ]
  },
  {
   "cell_type": "code",
   "execution_count": 97,
   "metadata": {},
   "outputs": [
    {
     "data": {
      "image/png": "[encoded data removed]",
      "text/plain": [
       "<Figure size 1080x288 with 1 Axes>"
      ]
     },
     "metadata": {
      "needs_background": "light"
     },
     "output_type": "display_data"
    }
   ],
   "source": [
    "plt.figure(figsize=(15,4))\n",
    "sns.boxplot(data = df[['bhkp_price', 'bhkp_delta', 'bhkp_variation', 'nbkp_price', 'nbkp_delta', 'nbkp_variation']] ,  );"
   ]
  },
  {
   "cell_type": "code",
   "execution_count": 98,
   "metadata": {},
   "outputs": [
    {
     "data": {
      "image/png": "[encoded data removed]",
      "text/plain": [
       "<Figure size 1080x288 with 1 Axes>"
      ]
     },
     "metadata": {
      "needs_background": "light"
     },
     "output_type": "display_data"
    }
   ],
   "source": [
    "plt.figure(figsize=(15,4))\n",
    "data = [df['bhkp_variation'], df['bhkp_variation']]\n",
    "plt.boxplot(x = data , labels=['bhkp_variation','bhkp_variation']);"
   ]
  },
  {
   "cell_type": "code",
   "execution_count": 99,
   "metadata": {},
   "outputs": [
    {
     "data": {
      "image/png": "[encoded data removed]",
      "text/plain": [
       "<Figure size 1080x288 with 1 Axes>"
      ]
     },
     "metadata": {
      "needs_background": "light"
     },
     "output_type": "display_data"
    }
   ],
   "source": [
    "plt.figure(figsize=(15,4))\n",
    "data = [df['bhkp_delta'], df['nbkp_delta']]\n",
    "plt.boxplot(x = data , labels=['bhkp_delta','nbkp_delta']);"
   ]
  },
  {
   "cell_type": "code",
   "execution_count": 100,
   "metadata": {},
   "outputs": [
    {
     "data": {
      "image/png": "[encoded data removed]",
      "text/plain": [
       "<Figure size 1080x288 with 1 Axes>"
      ]
     },
     "metadata": {
      "needs_background": "light"
     },
     "output_type": "display_data"
    }
   ],
   "source": [
    "plt.figure(figsize=(15,4))\n",
    "# sns.boxplot(data = df[['bhkp_variation','bhkp_variation']] );\n",
    "\n",
    "df.boxplot(column=['bhkp_variation', 'bhkp_variation']) ;\n"
   ]
  },
  {
   "cell_type": "code",
   "execution_count": 101,
   "metadata": {},
   "outputs": [
    {
     "data": {
      "image/png": "[encoded data removed]",
      "text/plain": [
       "<Figure size 1080x288 with 1 Axes>"
      ]
     },
     "metadata": {
      "needs_background": "light"
     },
     "output_type": "display_data"
    }
   ],
   "source": [
    "plt.figure(figsize=(15,4))\n",
    "sns.barplot(x=\"date\", y=\"bhkp_price\", data=df);"
   ]
  },
  {
   "cell_type": "markdown",
   "metadata": {},
   "source": [
    "# Testes Normalidade\n",
    "https://machinelearningmastery.com/statistical-hypothesis-tests-in-python-cheat-sheet/"
   ]
  },
  {
   "cell_type": "code",
   "execution_count": 102,
   "metadata": {},
   "outputs": [],
   "source": [
    "from scipy.stats import *\n",
    "\n",
    "data1 = df[['bhkp_variation']].values\n",
    "data2 = df[['nbkp_variation']].values"
   ]
  },
  {
   "cell_type": "code",
   "execution_count": 103,
   "metadata": {},
   "outputs": [
    {
     "name": "stdout",
     "output_type": "stream",
     "text": [
      "<function shapiro at 0x000001EABC681820> - stat=0.671, p=0.000\n",
      "<function normaltest at 0x000001EABC649670> - stat=197.273, p=0.000\n",
      "<function anderson at 0x000001EABC684040> FAILED - Invalid distribution; dist must be 'norm', 'expon', 'gumbel', 'extreme1' or 'logistic'.\n",
      "<function pearsonr at 0x000001EABC651310> FAILED - shapes (253,1) and (253,1) not aligned: 1 (dim 1) != 253 (dim 0)\n",
      "<function spearmanr at 0x000001EABC651820> - stat=0.622, p=0.000\n",
      "<function kendalltau at 0x000001EABC658160> - stat=0.460, p=0.000\n",
      "<function ttest_ind at 0x000001EABC65ADC0> - stat=-0.574, p=0.566\n",
      "<function ttest_rel at 0x000001EABC65C280> - stat=-1.079, p=0.282\n",
      "<function f_oneway at 0x000001EABC651160> - stat=0.329, p=0.566\n",
      "<function mannwhitneyu at 0x000001EABC73F430> - stat=32623.000, p=0.707\n",
      "<function wilcoxon at 0x000001EABC68BB80> FAILED - Samples x and y must be one-dimensional.\n",
      "<function kruskal at 0x000001EABC662A60> FAILED - Samples must be one-dimensional.\n",
      "<function friedmanchisquare at 0x000001EABC662E50> FAILED - At least 3 sets of measurements must be given for Friedman test, got 2.\n",
      "<function chi2_contingency at 0x000001EABC688160> FAILED - All values in `observed` must be nonnegative.\n"
     ]
    },
    {
     "name": "stderr",
     "output_type": "stream",
     "text": [
      "C:\\Development\\FK\\ITA_Tese\\.env-win-tese\\lib\\site-packages\\scipy\\stats\\morestats.py:1854: FutureWarning: elementwise comparison failed; returning scalar instead, but in the future will perform elementwise comparison\n",
      "  if dist not in ['norm', 'expon', 'gumbel', 'gumbel_l',\n"
     ]
    }
   ],
   "source": [
    "def run_tests():\n",
    "    tests = [shapiro, normaltest, anderson, pearsonr, spearmanr, kendalltau, ttest_ind, \n",
    "             ttest_rel, f_oneway, mannwhitneyu, wilcoxon, kruskal, friedmanchisquare, chi2_contingency]\n",
    "    for t in tests:\n",
    "        try:\n",
    "            stat, p = t(data1)\n",
    "            print(f'{t} - stat=%.3f, p=%.3f' % (stat, p))\n",
    "        except Exception as e:\n",
    "            try:\n",
    "                stat, p = t(data1, data2)\n",
    "                print(f'{t} - stat=%.3f, p=%.3f' % (stat, p))\n",
    "            except Exception as e2:\n",
    "                print(f'{t} FAILED - {e2}')\n",
    "        \n",
    "run_tests()"
   ]
  },
  {
   "cell_type": "code",
   "execution_count": 104,
   "metadata": {},
   "outputs": [],
   "source": [
    "# stat, p, dof, expected = chi2_contingency([data1, data2])\n",
    "# print('stat=%.3f, p=%.3f' % (stat, p))"
   ]
  },
  {
   "cell_type": "markdown",
   "metadata": {},
   "source": [
    "# Categorização\n"
   ]
  },
  {
   "attachments": {
    "image.png": {
     "image/png": "[encoded data removed]"
    }
   },
   "cell_type": "markdown",
   "metadata": {},
   "source": [
    "![image.png](attachment:image.png)"
   ]
  },
  {
   "attachments": {
    "image.png": {
     "image/png": "[encoded data removed]"
    }
   },
   "cell_type": "markdown",
   "metadata": {},
   "source": [
    "![image.png](attachment:image.png)"
   ]
  },
  {
   "cell_type": "markdown",
   "metadata": {},
   "source": [
    "https://pandas.pydata.org/docs/reference/api/pandas.qcut.html\n"
   ]
  },
  {
   "cell_type": "markdown",
   "metadata": {},
   "source": [
    "## Support"
   ]
  },
  {
   "cell_type": "code",
   "execution_count": 105,
   "metadata": {},
   "outputs": [
    {
     "name": "stdout",
     "output_type": "stream",
     "text": [
      "[0.0, 0.2, 0.4, 0.6, 0.8, 1.0]\n",
      "['A', 'B', 'C', 'D', 'E']\n",
      "[('A', '0.0 < x <= 0.2'), ('B', '0.2 < x <= 0.4'), ('C', '0.4 < x <= 0.6'), ('D', '0.6 < x <= 0.8'), ('E', '0.8 < x <= 1.0')]\n",
      "[441.26, 509.026, 576.792, 644.558, 712.324, 780.09]\n"
     ]
    }
   ],
   "source": [
    "get_divison = lambda size: [item / size for item in list(range(size + 1))]\n",
    "get_labels = lambda size: [chr(item + 65) for item in list(range(size))]\n",
    "\n",
    "get_full = lambda size: [ (chr(i + 65), f'{j / size} < x <= { (j+1) / size}' ) for i , j in enumerate(range(size))]\n",
    "\n",
    "get_bins = lambda _input_array, size:  np.round(np.linspace(_input_array.min(), _input_array.max(), size + 1), 6).tolist()\n",
    "\n",
    "print(get_divison(5))\n",
    "print(get_labels(5))\n",
    "print(get_full(5))\n",
    "\n",
    "print( get_bins( df['bhkp_price'].values, 5) )"
   ]
  },
  {
   "cell_type": "code",
   "execution_count": 106,
   "metadata": {},
   "outputs": [
    {
     "data": {
      "text/plain": [
       "array([0. , 0.2, 0.4, 0.6, 0.8, 1. ])"
      ]
     },
     "execution_count": 106,
     "metadata": {},
     "output_type": "execute_result"
    }
   ],
   "source": [
    " np.round( np.linspace(start=0, stop=1, num= 5 + 1, dtype='float64', ), 6)"
   ]
  },
  {
   "cell_type": "code",
   "execution_count": 107,
   "metadata": {},
   "outputs": [
    {
     "data": {
      "text/plain": [
       "IntervalIndex([(0.0, 0.2], (0.2, 0.4], (0.4, 0.6000000000000001], (0.6000000000000001, 0.8], (0.8, 1.0]], dtype='interval[float64, right]')"
      ]
     },
     "execution_count": 107,
     "metadata": {},
     "output_type": "execute_result"
    }
   ],
   "source": [
    "pd.interval_range(start=0, end=1, periods=5)"
   ]
  },
  {
   "cell_type": "code",
   "execution_count": 108,
   "metadata": {},
   "outputs": [
    {
     "data": {
      "text/plain": [
       "array([0. , 0.2, 0.4, 0.6, 0.8, 1. ])"
      ]
     },
     "execution_count": 108,
     "metadata": {},
     "output_type": "execute_result"
    }
   ],
   "source": [
    "np.arange(0, 1.01, .2)"
   ]
  },
  {
   "cell_type": "code",
   "execution_count": 109,
   "metadata": {},
   "outputs": [
    {
     "name": "stdout",
     "output_type": "stream",
     "text": [
      "Q2 quantile of arr :  7.0\n",
      "Q1 quantile of arr :  2.0\n",
      "Q3 quantile of arr :  20.0\n",
      "100th quantile of arr :  1.4\n"
     ]
    }
   ],
   "source": [
    "arr = [20, 2, 7, 1, 34]\n",
    "print(\"Q2 quantile of arr : \", np.quantile(arr, .50))\n",
    "print(\"Q1 quantile of arr : \", np.quantile(arr, .25))\n",
    "print(\"Q3 quantile of arr : \", np.quantile(arr, .75))\n",
    "print(\"100th quantile of arr : \", np.quantile(arr, .1))"
   ]
  },
  {
   "cell_type": "code",
   "execution_count": 110,
   "metadata": {},
   "outputs": [],
   "source": [
    "def group_categories_by_sequence(df, cat):\n",
    "    all = []  # full list\n",
    "    lst = []  # each quantile\n",
    "    last = ''\n",
    "    for z in zip(df[cat], df[cat]):\n",
    "        if z[1] != last:  # next quantile\n",
    "            all.append(lst)\n",
    "            lst = [z[0]]  # start new list\n",
    "            last = z[1]\n",
    "        else:\n",
    "            lst.append(z[0])  # same quantile\n",
    "\n",
    "\n",
    "    all.append(lst)  # final quantile\n",
    "    del all[0]  # remove blank\n",
    "    \n",
    "    return all\n",
    "    \n"
   ]
  },
  {
   "cell_type": "code",
   "execution_count": 111,
   "metadata": {},
   "outputs": [],
   "source": [
    "def print_categories(df, cat, ref):\n",
    "    for item in sorted(list(df[cat].unique())):\n",
    "        print( str(format(df[df[cat] == item][ref].min(), '.8f')).rjust(12), \\\n",
    "              f\" < {item} <= \".center(12), \\\n",
    "               str(format(df[df[cat] == item][ref].max(), '.8f')).rjust(12) )\n",
    "\n",
    "# print_categories(df, 'bhkp_variation_cat', 'bhkp_variation')"
   ]
  },
  {
   "cell_type": "code",
   "execution_count": 112,
   "metadata": {},
   "outputs": [],
   "source": [
    "def print_categories_v2(pd_serie: pd.core.series.Series):\n",
    "    for item in sorted(cut_series.unique()):\n",
    "        #print(type(item) , item, item.left)\n",
    "        #print(str( item.left).rjust(12) )\n",
    "        print(item)\n",
    "        \n",
    "# print_categories(cut_series)    "
   ]
  },
  {
   "cell_type": "code",
   "execution_count": 113,
   "metadata": {},
   "outputs": [],
   "source": [
    "def print_categories_v3(arr: np.ndarray, labeled = False):\n",
    "    arr = np.round(arr, 6)\n",
    "    for i in range(0, len(arr) - 1):\n",
    "        print(str(arr[i]).rjust(12), \\\n",
    "              f\" < x <= \".center(8) if labeled == False else f\" < {chr(i + 65)} <= \".center(8), \\\n",
    "              str(arr[i + 1]).rjust(12) )\n",
    "        \n",
    "# print_categories_v3(cut_intervals, True)"
   ]
  },
  {
   "cell_type": "markdown",
   "metadata": {},
   "source": [
    "## pd.qcut\n",
    "Divisão pelos quartis"
   ]
  },
  {
   "cell_type": "code",
   "execution_count": 114,
   "metadata": {},
   "outputs": [
    {
     "data": {
      "text/plain": [
       "0    M\n",
       "1    M\n",
       "2    M\n",
       "Name: bhkp_price, dtype: category\n",
       "Categories (3, object): ['L' < 'M' < 'H']"
      ]
     },
     "execution_count": 114,
     "metadata": {},
     "output_type": "execute_result"
    }
   ],
   "source": [
    "pd.qcut(df['bhkp_price'], 3, labels=['L','M','H']).head(3)"
   ]
  },
  {
   "cell_type": "code",
   "execution_count": 115,
   "metadata": {},
   "outputs": [
    {
     "data": {
      "text/html": [
       "<div>\n",
       "<style scoped>\n",
       "    .dataframe tbody tr th:only-of-type {\n",
       "        vertical-align: middle;\n",
       "    }\n",
       "\n",
       "    .dataframe tbody tr th {\n",
       "        vertical-align: top;\n",
       "    }\n",
       "\n",
       "    .dataframe thead th {\n",
       "        text-align: right;\n",
       "    }\n",
       "</style>\n",
       "<table border=\"1\" class=\"dataframe\">\n",
       "  <thead>\n",
       "    <tr style=\"text-align: right;\">\n",
       "      <th></th>\n",
       "      <th>date</th>\n",
       "      <th>year</th>\n",
       "      <th>week</th>\n",
       "      <th>bhkp_price</th>\n",
       "      <th>bhkp_delta</th>\n",
       "      <th>bhkp_variation</th>\n",
       "      <th>nbkp_price</th>\n",
       "      <th>nbkp_delta</th>\n",
       "      <th>nbkp_variation</th>\n",
       "    </tr>\n",
       "    <tr>\n",
       "      <th>bhkp_price</th>\n",
       "      <th></th>\n",
       "      <th></th>\n",
       "      <th></th>\n",
       "      <th></th>\n",
       "      <th></th>\n",
       "      <th></th>\n",
       "      <th></th>\n",
       "      <th></th>\n",
       "      <th></th>\n",
       "    </tr>\n",
       "  </thead>\n",
       "  <tbody>\n",
       "    <tr>\n",
       "      <th>(441.259, 464.484]</th>\n",
       "      <td>51</td>\n",
       "      <td>51</td>\n",
       "      <td>51</td>\n",
       "      <td>51</td>\n",
       "      <td>51</td>\n",
       "      <td>51</td>\n",
       "      <td>51</td>\n",
       "      <td>51</td>\n",
       "      <td>51</td>\n",
       "    </tr>\n",
       "    <tr>\n",
       "      <th>(464.484, 593.048]</th>\n",
       "      <td>50</td>\n",
       "      <td>50</td>\n",
       "      <td>50</td>\n",
       "      <td>50</td>\n",
       "      <td>50</td>\n",
       "      <td>50</td>\n",
       "      <td>50</td>\n",
       "      <td>50</td>\n",
       "      <td>50</td>\n",
       "    </tr>\n",
       "    <tr>\n",
       "      <th>(593.048, 660.92]</th>\n",
       "      <td>51</td>\n",
       "      <td>51</td>\n",
       "      <td>51</td>\n",
       "      <td>51</td>\n",
       "      <td>51</td>\n",
       "      <td>51</td>\n",
       "      <td>51</td>\n",
       "      <td>51</td>\n",
       "      <td>51</td>\n",
       "    </tr>\n",
       "    <tr>\n",
       "      <th>(660.92, 759.398]</th>\n",
       "      <td>50</td>\n",
       "      <td>50</td>\n",
       "      <td>50</td>\n",
       "      <td>50</td>\n",
       "      <td>50</td>\n",
       "      <td>50</td>\n",
       "      <td>50</td>\n",
       "      <td>50</td>\n",
       "      <td>50</td>\n",
       "    </tr>\n",
       "    <tr>\n",
       "      <th>(759.398, 780.09]</th>\n",
       "      <td>51</td>\n",
       "      <td>51</td>\n",
       "      <td>51</td>\n",
       "      <td>51</td>\n",
       "      <td>51</td>\n",
       "      <td>51</td>\n",
       "      <td>51</td>\n",
       "      <td>51</td>\n",
       "      <td>51</td>\n",
       "    </tr>\n",
       "  </tbody>\n",
       "</table>\n",
       "</div>"
      ],
      "text/plain": [
       "                    date  year  week  bhkp_price  bhkp_delta  bhkp_variation  \\\n",
       "bhkp_price                                                                     \n",
       "(441.259, 464.484]    51    51    51          51          51              51   \n",
       "(464.484, 593.048]    50    50    50          50          50              50   \n",
       "(593.048, 660.92]     51    51    51          51          51              51   \n",
       "(660.92, 759.398]     50    50    50          50          50              50   \n",
       "(759.398, 780.09]     51    51    51          51          51              51   \n",
       "\n",
       "                    nbkp_price  nbkp_delta  nbkp_variation  \n",
       "bhkp_price                                                  \n",
       "(441.259, 464.484]          51          51              51  \n",
       "(464.484, 593.048]          50          50              50  \n",
       "(593.048, 660.92]           51          51              51  \n",
       "(660.92, 759.398]           50          50              50  \n",
       "(759.398, 780.09]           51          51              51  "
      ]
     },
     "execution_count": 115,
     "metadata": {},
     "output_type": "execute_result"
    }
   ],
   "source": [
    "df.groupby( pd.qcut(df['bhkp_price'], q = get_divison(5) ) ).count()"
   ]
  },
  {
   "cell_type": "code",
   "execution_count": 116,
   "metadata": {},
   "outputs": [
    {
     "data": {
      "text/html": [
       "<div>\n",
       "<style scoped>\n",
       "    .dataframe tbody tr th:only-of-type {\n",
       "        vertical-align: middle;\n",
       "    }\n",
       "\n",
       "    .dataframe tbody tr th {\n",
       "        vertical-align: top;\n",
       "    }\n",
       "\n",
       "    .dataframe thead th {\n",
       "        text-align: right;\n",
       "    }\n",
       "</style>\n",
       "<table border=\"1\" class=\"dataframe\">\n",
       "  <thead>\n",
       "    <tr style=\"text-align: right;\">\n",
       "      <th></th>\n",
       "      <th>date</th>\n",
       "      <th>year</th>\n",
       "      <th>week</th>\n",
       "      <th>bhkp_price</th>\n",
       "      <th>bhkp_delta</th>\n",
       "      <th>bhkp_variation</th>\n",
       "      <th>nbkp_price</th>\n",
       "      <th>nbkp_delta</th>\n",
       "      <th>nbkp_variation</th>\n",
       "    </tr>\n",
       "    <tr>\n",
       "      <th>bhkp_price</th>\n",
       "      <th></th>\n",
       "      <th></th>\n",
       "      <th></th>\n",
       "      <th></th>\n",
       "      <th></th>\n",
       "      <th></th>\n",
       "      <th></th>\n",
       "      <th></th>\n",
       "      <th></th>\n",
       "    </tr>\n",
       "  </thead>\n",
       "  <tbody>\n",
       "    <tr>\n",
       "      <th>A</th>\n",
       "      <td>51</td>\n",
       "      <td>51</td>\n",
       "      <td>51</td>\n",
       "      <td>51</td>\n",
       "      <td>51</td>\n",
       "      <td>51</td>\n",
       "      <td>51</td>\n",
       "      <td>51</td>\n",
       "      <td>51</td>\n",
       "    </tr>\n",
       "    <tr>\n",
       "      <th>B</th>\n",
       "      <td>50</td>\n",
       "      <td>50</td>\n",
       "      <td>50</td>\n",
       "      <td>50</td>\n",
       "      <td>50</td>\n",
       "      <td>50</td>\n",
       "      <td>50</td>\n",
       "      <td>50</td>\n",
       "      <td>50</td>\n",
       "    </tr>\n",
       "    <tr>\n",
       "      <th>C</th>\n",
       "      <td>51</td>\n",
       "      <td>51</td>\n",
       "      <td>51</td>\n",
       "      <td>51</td>\n",
       "      <td>51</td>\n",
       "      <td>51</td>\n",
       "      <td>51</td>\n",
       "      <td>51</td>\n",
       "      <td>51</td>\n",
       "    </tr>\n",
       "    <tr>\n",
       "      <th>D</th>\n",
       "      <td>50</td>\n",
       "      <td>50</td>\n",
       "      <td>50</td>\n",
       "      <td>50</td>\n",
       "      <td>50</td>\n",
       "      <td>50</td>\n",
       "      <td>50</td>\n",
       "      <td>50</td>\n",
       "      <td>50</td>\n",
       "    </tr>\n",
       "    <tr>\n",
       "      <th>E</th>\n",
       "      <td>51</td>\n",
       "      <td>51</td>\n",
       "      <td>51</td>\n",
       "      <td>51</td>\n",
       "      <td>51</td>\n",
       "      <td>51</td>\n",
       "      <td>51</td>\n",
       "      <td>51</td>\n",
       "      <td>51</td>\n",
       "    </tr>\n",
       "  </tbody>\n",
       "</table>\n",
       "</div>"
      ],
      "text/plain": [
       "            date  year  week  bhkp_price  bhkp_delta  bhkp_variation  \\\n",
       "bhkp_price                                                             \n",
       "A             51    51    51          51          51              51   \n",
       "B             50    50    50          50          50              50   \n",
       "C             51    51    51          51          51              51   \n",
       "D             50    50    50          50          50              50   \n",
       "E             51    51    51          51          51              51   \n",
       "\n",
       "            nbkp_price  nbkp_delta  nbkp_variation  \n",
       "bhkp_price                                          \n",
       "A                   51          51              51  \n",
       "B                   50          50              50  \n",
       "C                   51          51              51  \n",
       "D                   50          50              50  \n",
       "E                   51          51              51  "
      ]
     },
     "execution_count": 116,
     "metadata": {},
     "output_type": "execute_result"
    }
   ],
   "source": [
    "df.groupby( pd.qcut(df['bhkp_price'], get_divison(5), labels=get_labels(5)) ).count()"
   ]
  },
  {
   "cell_type": "code",
   "execution_count": 117,
   "metadata": {},
   "outputs": [
    {
     "data": {
      "text/html": [
       "<div>\n",
       "<style scoped>\n",
       "    .dataframe tbody tr th:only-of-type {\n",
       "        vertical-align: middle;\n",
       "    }\n",
       "\n",
       "    .dataframe tbody tr th {\n",
       "        vertical-align: top;\n",
       "    }\n",
       "\n",
       "    .dataframe thead th {\n",
       "        text-align: right;\n",
       "    }\n",
       "</style>\n",
       "<table border=\"1\" class=\"dataframe\">\n",
       "  <thead>\n",
       "    <tr style=\"text-align: right;\">\n",
       "      <th></th>\n",
       "      <th>date</th>\n",
       "      <th>year</th>\n",
       "      <th>week</th>\n",
       "      <th>bhkp_price</th>\n",
       "      <th>bhkp_delta</th>\n",
       "      <th>bhkp_variation</th>\n",
       "      <th>nbkp_price</th>\n",
       "      <th>nbkp_delta</th>\n",
       "      <th>nbkp_variation</th>\n",
       "    </tr>\n",
       "    <tr>\n",
       "      <th>bhkp_price</th>\n",
       "      <th></th>\n",
       "      <th></th>\n",
       "      <th></th>\n",
       "      <th></th>\n",
       "      <th></th>\n",
       "      <th></th>\n",
       "      <th></th>\n",
       "      <th></th>\n",
       "      <th></th>\n",
       "    </tr>\n",
       "  </thead>\n",
       "  <tbody>\n",
       "    <tr>\n",
       "      <th>A</th>\n",
       "      <td>75</td>\n",
       "      <td>75</td>\n",
       "      <td>75</td>\n",
       "      <td>75</td>\n",
       "      <td>75</td>\n",
       "      <td>75</td>\n",
       "      <td>75</td>\n",
       "      <td>75</td>\n",
       "      <td>75</td>\n",
       "    </tr>\n",
       "    <tr>\n",
       "      <th>B</th>\n",
       "      <td>20</td>\n",
       "      <td>20</td>\n",
       "      <td>20</td>\n",
       "      <td>20</td>\n",
       "      <td>20</td>\n",
       "      <td>20</td>\n",
       "      <td>20</td>\n",
       "      <td>20</td>\n",
       "      <td>20</td>\n",
       "    </tr>\n",
       "    <tr>\n",
       "      <th>C</th>\n",
       "      <td>46</td>\n",
       "      <td>46</td>\n",
       "      <td>46</td>\n",
       "      <td>46</td>\n",
       "      <td>46</td>\n",
       "      <td>46</td>\n",
       "      <td>46</td>\n",
       "      <td>46</td>\n",
       "      <td>46</td>\n",
       "    </tr>\n",
       "    <tr>\n",
       "      <th>D</th>\n",
       "      <td>34</td>\n",
       "      <td>34</td>\n",
       "      <td>34</td>\n",
       "      <td>34</td>\n",
       "      <td>34</td>\n",
       "      <td>34</td>\n",
       "      <td>34</td>\n",
       "      <td>34</td>\n",
       "      <td>34</td>\n",
       "    </tr>\n",
       "    <tr>\n",
       "      <th>E</th>\n",
       "      <td>77</td>\n",
       "      <td>77</td>\n",
       "      <td>77</td>\n",
       "      <td>77</td>\n",
       "      <td>77</td>\n",
       "      <td>77</td>\n",
       "      <td>77</td>\n",
       "      <td>77</td>\n",
       "      <td>77</td>\n",
       "    </tr>\n",
       "  </tbody>\n",
       "</table>\n",
       "</div>"
      ],
      "text/plain": [
       "            date  year  week  bhkp_price  bhkp_delta  bhkp_variation  \\\n",
       "bhkp_price                                                             \n",
       "A             75    75    75          75          75              75   \n",
       "B             20    20    20          20          20              20   \n",
       "C             46    46    46          46          46              46   \n",
       "D             34    34    34          34          34              34   \n",
       "E             77    77    77          77          77              77   \n",
       "\n",
       "            nbkp_price  nbkp_delta  nbkp_variation  \n",
       "bhkp_price                                          \n",
       "A                   75          75              75  \n",
       "B                   20          20              20  \n",
       "C                   46          46              46  \n",
       "D                   34          34              34  \n",
       "E                   77          77              77  "
      ]
     },
     "execution_count": 117,
     "metadata": {},
     "output_type": "execute_result"
    }
   ],
   "source": [
    " df.groupby( pd.cut(df['bhkp_price'], bins = get_bins( df['bhkp_price'].values, 5), labels=get_labels(5) ) ).count()"
   ]
  },
  {
   "cell_type": "code",
   "execution_count": 118,
   "metadata": {},
   "outputs": [
    {
     "data": {
      "image/png": "[encoded data removed]",
      "text/plain": [
       "<Figure size 432x288 with 1 Axes>"
      ]
     },
     "metadata": {
      "needs_background": "light"
     },
     "output_type": "display_data"
    }
   ],
   "source": [
    "size = 5\n",
    "pd.qcut(df['bhkp_price'], q = size, labels=get_labels(size) ).value_counts().plot(kind='barh')\n",
    "plt.show()"
   ]
  },
  {
   "cell_type": "code",
   "execution_count": 119,
   "metadata": {},
   "outputs": [
    {
     "data": {
      "text/plain": [
       "['B', 'C', 'D', 'E', 'A']\n",
       "Categories (5, object): ['A' < 'B' < 'C' < 'D' < 'E']"
      ]
     },
     "execution_count": 119,
     "metadata": {},
     "output_type": "execute_result"
    }
   ],
   "source": [
    "pd.qcut(df['bhkp_price'], get_divison(5), labels= get_labels(5)).unique()\n",
    "# sorted(qc.unique())"
   ]
  },
  {
   "cell_type": "code",
   "execution_count": 120,
   "metadata": {},
   "outputs": [
    {
     "data": {
      "text/plain": [
       "0    (505.88, 593.048]\n",
       "1    (593.048, 631.14]\n",
       "2    (593.048, 631.14]\n",
       "3    (593.048, 631.14]\n",
       "4    (593.048, 631.14]\n",
       "Name: bhkp_price, dtype: category\n",
       "Categories (10, interval[float64, right]): [(441.259, 458.382] < (458.382, 464.484] < (464.484, 505.88] < (505.88, 593.048] ... (660.92, 716.708] < (716.708, 759.398] < (759.398, 769.442] < (769.442, 780.09]]"
      ]
     },
     "execution_count": 120,
     "metadata": {},
     "output_type": "execute_result"
    }
   ],
   "source": [
    "qc = pd.qcut(df['bhkp_price'], [0,.1,.2,.3,.4,.5,.6,.7,.8,.9,1])\n",
    "qc.head()"
   ]
  },
  {
   "cell_type": "markdown",
   "metadata": {},
   "source": [
    "## pd.cut"
   ]
  },
  {
   "cell_type": "code",
   "execution_count": 121,
   "metadata": {},
   "outputs": [
    {
     "data": {
      "text/plain": [
       "[441.26, 509.026, 576.792, 644.558, 712.324, 780.09]"
      ]
     },
     "execution_count": 121,
     "metadata": {},
     "output_type": "execute_result"
    }
   ],
   "source": [
    "get_bins( df['bhkp_price'].values, 5)"
   ]
  },
  {
   "cell_type": "code",
   "execution_count": 122,
   "metadata": {},
   "outputs": [
    {
     "data": {
      "text/html": [
       "<div>\n",
       "<style scoped>\n",
       "    .dataframe tbody tr th:only-of-type {\n",
       "        vertical-align: middle;\n",
       "    }\n",
       "\n",
       "    .dataframe tbody tr th {\n",
       "        vertical-align: top;\n",
       "    }\n",
       "\n",
       "    .dataframe thead th {\n",
       "        text-align: right;\n",
       "    }\n",
       "</style>\n",
       "<table border=\"1\" class=\"dataframe\">\n",
       "  <thead>\n",
       "    <tr style=\"text-align: right;\">\n",
       "      <th></th>\n",
       "      <th>date</th>\n",
       "      <th>year</th>\n",
       "      <th>week</th>\n",
       "      <th>bhkp_price</th>\n",
       "      <th>bhkp_delta</th>\n",
       "      <th>bhkp_variation</th>\n",
       "      <th>nbkp_price</th>\n",
       "      <th>nbkp_delta</th>\n",
       "      <th>nbkp_variation</th>\n",
       "    </tr>\n",
       "    <tr>\n",
       "      <th>bhkp_price</th>\n",
       "      <th></th>\n",
       "      <th></th>\n",
       "      <th></th>\n",
       "      <th></th>\n",
       "      <th></th>\n",
       "      <th></th>\n",
       "      <th></th>\n",
       "      <th></th>\n",
       "      <th></th>\n",
       "    </tr>\n",
       "  </thead>\n",
       "  <tbody>\n",
       "    <tr>\n",
       "      <th>(440.921, 509.026]</th>\n",
       "      <td>76</td>\n",
       "      <td>76</td>\n",
       "      <td>76</td>\n",
       "      <td>76</td>\n",
       "      <td>76</td>\n",
       "      <td>76</td>\n",
       "      <td>76</td>\n",
       "      <td>76</td>\n",
       "      <td>76</td>\n",
       "    </tr>\n",
       "    <tr>\n",
       "      <th>(509.026, 576.792]</th>\n",
       "      <td>20</td>\n",
       "      <td>20</td>\n",
       "      <td>20</td>\n",
       "      <td>20</td>\n",
       "      <td>20</td>\n",
       "      <td>20</td>\n",
       "      <td>20</td>\n",
       "      <td>20</td>\n",
       "      <td>20</td>\n",
       "    </tr>\n",
       "    <tr>\n",
       "      <th>(576.792, 644.558]</th>\n",
       "      <td>46</td>\n",
       "      <td>46</td>\n",
       "      <td>46</td>\n",
       "      <td>46</td>\n",
       "      <td>46</td>\n",
       "      <td>46</td>\n",
       "      <td>46</td>\n",
       "      <td>46</td>\n",
       "      <td>46</td>\n",
       "    </tr>\n",
       "    <tr>\n",
       "      <th>(644.558, 712.324]</th>\n",
       "      <td>34</td>\n",
       "      <td>34</td>\n",
       "      <td>34</td>\n",
       "      <td>34</td>\n",
       "      <td>34</td>\n",
       "      <td>34</td>\n",
       "      <td>34</td>\n",
       "      <td>34</td>\n",
       "      <td>34</td>\n",
       "    </tr>\n",
       "    <tr>\n",
       "      <th>(712.324, 780.09]</th>\n",
       "      <td>77</td>\n",
       "      <td>77</td>\n",
       "      <td>77</td>\n",
       "      <td>77</td>\n",
       "      <td>77</td>\n",
       "      <td>77</td>\n",
       "      <td>77</td>\n",
       "      <td>77</td>\n",
       "      <td>77</td>\n",
       "    </tr>\n",
       "  </tbody>\n",
       "</table>\n",
       "</div>"
      ],
      "text/plain": [
       "                    date  year  week  bhkp_price  bhkp_delta  bhkp_variation  \\\n",
       "bhkp_price                                                                     \n",
       "(440.921, 509.026]    76    76    76          76          76              76   \n",
       "(509.026, 576.792]    20    20    20          20          20              20   \n",
       "(576.792, 644.558]    46    46    46          46          46              46   \n",
       "(644.558, 712.324]    34    34    34          34          34              34   \n",
       "(712.324, 780.09]     77    77    77          77          77              77   \n",
       "\n",
       "                    nbkp_price  nbkp_delta  nbkp_variation  \n",
       "bhkp_price                                                  \n",
       "(440.921, 509.026]          76          76              76  \n",
       "(509.026, 576.792]          20          20              20  \n",
       "(576.792, 644.558]          46          46              46  \n",
       "(644.558, 712.324]          34          34              34  \n",
       "(712.324, 780.09]           77          77              77  "
      ]
     },
     "execution_count": 122,
     "metadata": {},
     "output_type": "execute_result"
    }
   ],
   "source": [
    " df.groupby( pd.cut(df['bhkp_price'], bins = 5 ) ).count()"
   ]
  },
  {
   "cell_type": "code",
   "execution_count": 123,
   "metadata": {},
   "outputs": [
    {
     "data": {
      "text/html": [
       "<div>\n",
       "<style scoped>\n",
       "    .dataframe tbody tr th:only-of-type {\n",
       "        vertical-align: middle;\n",
       "    }\n",
       "\n",
       "    .dataframe tbody tr th {\n",
       "        vertical-align: top;\n",
       "    }\n",
       "\n",
       "    .dataframe thead th {\n",
       "        text-align: right;\n",
       "    }\n",
       "</style>\n",
       "<table border=\"1\" class=\"dataframe\">\n",
       "  <thead>\n",
       "    <tr style=\"text-align: right;\">\n",
       "      <th></th>\n",
       "      <th>date</th>\n",
       "      <th>year</th>\n",
       "      <th>week</th>\n",
       "      <th>bhkp_price</th>\n",
       "      <th>bhkp_delta</th>\n",
       "      <th>bhkp_variation</th>\n",
       "      <th>nbkp_price</th>\n",
       "      <th>nbkp_delta</th>\n",
       "      <th>nbkp_variation</th>\n",
       "    </tr>\n",
       "    <tr>\n",
       "      <th>bhkp_price</th>\n",
       "      <th></th>\n",
       "      <th></th>\n",
       "      <th></th>\n",
       "      <th></th>\n",
       "      <th></th>\n",
       "      <th></th>\n",
       "      <th></th>\n",
       "      <th></th>\n",
       "      <th></th>\n",
       "    </tr>\n",
       "  </thead>\n",
       "  <tbody>\n",
       "    <tr>\n",
       "      <th>(441.26, 509.026]</th>\n",
       "      <td>75</td>\n",
       "      <td>75</td>\n",
       "      <td>75</td>\n",
       "      <td>75</td>\n",
       "      <td>75</td>\n",
       "      <td>75</td>\n",
       "      <td>75</td>\n",
       "      <td>75</td>\n",
       "      <td>75</td>\n",
       "    </tr>\n",
       "    <tr>\n",
       "      <th>(509.026, 576.792]</th>\n",
       "      <td>20</td>\n",
       "      <td>20</td>\n",
       "      <td>20</td>\n",
       "      <td>20</td>\n",
       "      <td>20</td>\n",
       "      <td>20</td>\n",
       "      <td>20</td>\n",
       "      <td>20</td>\n",
       "      <td>20</td>\n",
       "    </tr>\n",
       "    <tr>\n",
       "      <th>(576.792, 644.558]</th>\n",
       "      <td>46</td>\n",
       "      <td>46</td>\n",
       "      <td>46</td>\n",
       "      <td>46</td>\n",
       "      <td>46</td>\n",
       "      <td>46</td>\n",
       "      <td>46</td>\n",
       "      <td>46</td>\n",
       "      <td>46</td>\n",
       "    </tr>\n",
       "    <tr>\n",
       "      <th>(644.558, 712.324]</th>\n",
       "      <td>34</td>\n",
       "      <td>34</td>\n",
       "      <td>34</td>\n",
       "      <td>34</td>\n",
       "      <td>34</td>\n",
       "      <td>34</td>\n",
       "      <td>34</td>\n",
       "      <td>34</td>\n",
       "      <td>34</td>\n",
       "    </tr>\n",
       "    <tr>\n",
       "      <th>(712.324, 780.09]</th>\n",
       "      <td>77</td>\n",
       "      <td>77</td>\n",
       "      <td>77</td>\n",
       "      <td>77</td>\n",
       "      <td>77</td>\n",
       "      <td>77</td>\n",
       "      <td>77</td>\n",
       "      <td>77</td>\n",
       "      <td>77</td>\n",
       "    </tr>\n",
       "  </tbody>\n",
       "</table>\n",
       "</div>"
      ],
      "text/plain": [
       "                    date  year  week  bhkp_price  bhkp_delta  bhkp_variation  \\\n",
       "bhkp_price                                                                     \n",
       "(441.26, 509.026]     75    75    75          75          75              75   \n",
       "(509.026, 576.792]    20    20    20          20          20              20   \n",
       "(576.792, 644.558]    46    46    46          46          46              46   \n",
       "(644.558, 712.324]    34    34    34          34          34              34   \n",
       "(712.324, 780.09]     77    77    77          77          77              77   \n",
       "\n",
       "                    nbkp_price  nbkp_delta  nbkp_variation  \n",
       "bhkp_price                                                  \n",
       "(441.26, 509.026]           75          75              75  \n",
       "(509.026, 576.792]          20          20              20  \n",
       "(576.792, 644.558]          46          46              46  \n",
       "(644.558, 712.324]          34          34              34  \n",
       "(712.324, 780.09]           77          77              77  "
      ]
     },
     "execution_count": 123,
     "metadata": {},
     "output_type": "execute_result"
    }
   ],
   "source": [
    " df.groupby( pd.cut(df['bhkp_price'], bins = get_bins( df['bhkp_price'].values, 5) ) ).count()"
   ]
  },
  {
   "cell_type": "code",
   "execution_count": 124,
   "metadata": {},
   "outputs": [
    {
     "name": "stdout",
     "output_type": "stream",
     "text": [
      "Cut series:\n",
      "0    (554.203, 667.147]\n",
      "1    (554.203, 667.147]\n",
      "2    (554.203, 667.147]\n",
      "3    (554.203, 667.147]\n",
      "4    (554.203, 667.147]\n",
      "Name: bhkp_price, dtype: category\n",
      "Categories (3, interval[float64, right]): [(440.921, 554.203] < (554.203, 667.147] < (667.147, 780.09]]\n",
      "\n",
      "<class 'pandas.core.arrays.categorical.Categorical'>\n",
      "Cut intervals:  [440.92 554.2  667.15 780.09]\n"
     ]
    }
   ],
   "source": [
    "cut_series, cut_intervals = pd.cut(df['bhkp_price'], bins = 3, retbins=True )\n",
    "\n",
    "print(\"Cut series:\")\n",
    "print(cut_series.head())\n",
    "print(\"\")\n",
    "print(type(cut_series.unique()) )\n",
    "print(\"Cut intervals: \", np.round(cut_intervals,2) )"
   ]
  },
  {
   "cell_type": "code",
   "execution_count": 125,
   "metadata": {},
   "outputs": [
    {
     "name": "stdout",
     "output_type": "stream",
     "text": [
      "(440.921, 554.203]\n",
      "(554.203, 667.147]\n",
      "(667.147, 780.09]\n"
     ]
    }
   ],
   "source": [
    "print_categories_v2(cut_series)"
   ]
  },
  {
   "cell_type": "code",
   "execution_count": 126,
   "metadata": {},
   "outputs": [
    {
     "data": {
      "image/png": "[encoded data removed]",
      "text/plain": [
       "<Figure size 432x288 with 1 Axes>"
      ]
     },
     "metadata": {
      "needs_background": "light"
     },
     "output_type": "display_data"
    }
   ],
   "source": [
    "bins = 10\n",
    "pd.cut(df['bhkp_price'], bins = bins, labels=get_labels(bins) ).value_counts().plot(kind='barh')\n",
    "plt.show()"
   ]
  },
  {
   "cell_type": "markdown",
   "metadata": {},
   "source": [
    "## Categoriacao do preço  / qcut"
   ]
  },
  {
   "cell_type": "code",
   "execution_count": 127,
   "metadata": {},
   "outputs": [],
   "source": [
    "df['bhkp_price_cat'] = pd.qcut( df['bhkp_price'], get_divison(5), labels= get_labels(5) )"
   ]
  },
  {
   "cell_type": "code",
   "execution_count": 128,
   "metadata": {},
   "outputs": [
    {
     "name": "stdout",
     "output_type": "stream",
     "text": [
      "[['B'], ['C', 'C', 'C', 'C', 'C', 'C', 'C', 'C', 'C', 'C', 'C', 'C', 'C', 'C', 'C', 'C', 'C', 'C', 'C', 'C', 'C', 'C', 'C'], ['D', 'D', 'D', 'D', 'D', 'D', 'D', 'D', 'D', 'D', 'D', 'D', 'D', 'D', 'D', 'D', 'D', 'D', 'D', 'D'], ['E', 'E', 'E', 'E', 'E', 'E', 'E', 'E', 'E', 'E', 'E', 'E', 'E', 'E', 'E', 'E', 'E', 'E', 'E', 'E', 'E', 'E', 'E', 'E', 'E', 'E', 'E', 'E', 'E', 'E', 'E', 'E', 'E', 'E', 'E', 'E', 'E', 'E', 'E'], ['D', 'D', 'D', 'D', 'D', 'D', 'D'], ['C', 'C', 'C', 'C', 'C', 'C', 'C', 'C'], ['D', 'D', 'D', 'D', 'D', 'D', 'D', 'D', 'D', 'D', 'D', 'D', 'D', 'D'], ['C', 'C', 'C'], ['B', 'B', 'B', 'B', 'B', 'B', 'B', 'B', 'B', 'B', 'B', 'B', 'B', 'B', 'B', 'B', 'B'], ['A', 'A', 'A', 'A', 'A', 'A', 'A', 'A', 'A', 'A', 'A', 'A', 'A', 'A', 'A', 'A', 'A', 'A', 'A', 'A', 'A', 'A', 'A', 'A', 'A', 'A', 'A'], ['B', 'B', 'B', 'B', 'B', 'B', 'B', 'B', 'B'], ['A', 'A', 'A', 'A', 'A', 'A', 'A', 'A', 'A', 'A', 'A', 'A', 'A', 'A', 'A', 'A', 'A', 'A', 'A', 'A', 'A', 'A', 'A', 'A'], ['B', 'B', 'B', 'B', 'B', 'B', 'B', 'B', 'B'], ['C', 'C', 'C', 'C'], ['D', 'D', 'D', 'D', 'D'], ['E', 'E', 'E', 'E', 'E', 'E', 'E', 'E', 'E', 'E', 'E', 'E'], ['D', 'D', 'D', 'D'], ['C', 'C', 'C', 'C', 'C', 'C', 'C', 'C', 'C', 'C'], ['B', 'B', 'B', 'B', 'B', 'B', 'B', 'B', 'B', 'B', 'B', 'B', 'B', 'B'], ['C', 'C', 'C']]\n"
     ]
    }
   ],
   "source": [
    "categories_grouped = group_categories_by_sequence(df, 'bhkp_price_cat')\n",
    "print(categories_grouped)"
   ]
  },
  {
   "cell_type": "code",
   "execution_count": 129,
   "metadata": {},
   "outputs": [
    {
     "data": {
      "text/html": [
       "<div>\n",
       "<style scoped>\n",
       "    .dataframe tbody tr th:only-of-type {\n",
       "        vertical-align: middle;\n",
       "    }\n",
       "\n",
       "    .dataframe tbody tr th {\n",
       "        vertical-align: top;\n",
       "    }\n",
       "\n",
       "    .dataframe thead th {\n",
       "        text-align: right;\n",
       "    }\n",
       "</style>\n",
       "<table border=\"1\" class=\"dataframe\">\n",
       "  <thead>\n",
       "    <tr style=\"text-align: right;\">\n",
       "      <th></th>\n",
       "      <th>date</th>\n",
       "      <th>year</th>\n",
       "      <th>week</th>\n",
       "      <th>bhkp_price</th>\n",
       "      <th>bhkp_delta</th>\n",
       "      <th>bhkp_variation</th>\n",
       "      <th>nbkp_price</th>\n",
       "      <th>nbkp_delta</th>\n",
       "      <th>nbkp_variation</th>\n",
       "      <th>bhkp_price_cat</th>\n",
       "    </tr>\n",
       "  </thead>\n",
       "  <tbody>\n",
       "    <tr>\n",
       "      <th>0</th>\n",
       "      <td>2017-04-04</td>\n",
       "      <td>2017</td>\n",
       "      <td>14</td>\n",
       "      <td>592.08</td>\n",
       "      <td>0.00</td>\n",
       "      <td>0.000000</td>\n",
       "      <td>647.76</td>\n",
       "      <td>0.00</td>\n",
       "      <td>0.000000</td>\n",
       "      <td>B</td>\n",
       "    </tr>\n",
       "    <tr>\n",
       "      <th>1</th>\n",
       "      <td>2017-04-11</td>\n",
       "      <td>2017</td>\n",
       "      <td>15</td>\n",
       "      <td>598.47</td>\n",
       "      <td>6.39</td>\n",
       "      <td>0.010792</td>\n",
       "      <td>644.48</td>\n",
       "      <td>-3.28</td>\n",
       "      <td>-0.005064</td>\n",
       "      <td>C</td>\n",
       "    </tr>\n",
       "    <tr>\n",
       "      <th>2</th>\n",
       "      <td>2017-04-18</td>\n",
       "      <td>2017</td>\n",
       "      <td>16</td>\n",
       "      <td>600.08</td>\n",
       "      <td>1.61</td>\n",
       "      <td>0.002690</td>\n",
       "      <td>642.52</td>\n",
       "      <td>-1.96</td>\n",
       "      <td>-0.003041</td>\n",
       "      <td>C</td>\n",
       "    </tr>\n",
       "    <tr>\n",
       "      <th>3</th>\n",
       "      <td>2017-04-25</td>\n",
       "      <td>2017</td>\n",
       "      <td>17</td>\n",
       "      <td>610.29</td>\n",
       "      <td>10.21</td>\n",
       "      <td>0.017014</td>\n",
       "      <td>646.20</td>\n",
       "      <td>3.68</td>\n",
       "      <td>0.005727</td>\n",
       "      <td>C</td>\n",
       "    </tr>\n",
       "    <tr>\n",
       "      <th>4</th>\n",
       "      <td>2017-05-02</td>\n",
       "      <td>2017</td>\n",
       "      <td>18</td>\n",
       "      <td>613.88</td>\n",
       "      <td>3.59</td>\n",
       "      <td>0.005882</td>\n",
       "      <td>647.22</td>\n",
       "      <td>1.02</td>\n",
       "      <td>0.001578</td>\n",
       "      <td>C</td>\n",
       "    </tr>\n",
       "  </tbody>\n",
       "</table>\n",
       "</div>"
      ],
      "text/plain": [
       "        date  year  week  bhkp_price  bhkp_delta  bhkp_variation  nbkp_price  \\\n",
       "0 2017-04-04  2017    14      592.08        0.00        0.000000      647.76   \n",
       "1 2017-04-11  2017    15      598.47        6.39        0.010792      644.48   \n",
       "2 2017-04-18  2017    16      600.08        1.61        0.002690      642.52   \n",
       "3 2017-04-25  2017    17      610.29       10.21        0.017014      646.20   \n",
       "4 2017-05-02  2017    18      613.88        3.59        0.005882      647.22   \n",
       "\n",
       "   nbkp_delta  nbkp_variation bhkp_price_cat  \n",
       "0        0.00        0.000000              B  \n",
       "1       -3.28       -0.005064              C  \n",
       "2       -1.96       -0.003041              C  \n",
       "3        3.68        0.005727              C  \n",
       "4        1.02        0.001578              C  "
      ]
     },
     "execution_count": 129,
     "metadata": {},
     "output_type": "execute_result"
    }
   ],
   "source": [
    "df.head()"
   ]
  },
  {
   "cell_type": "code",
   "execution_count": 130,
   "metadata": {},
   "outputs": [
    {
     "name": "stdout",
     "output_type": "stream",
     "text": [
      "441.26000000    < A <=    464.34000000\n",
      "464.70000000    < B <=    592.08000000\n",
      "593.29000000    < C <=    660.67000000\n",
      "661.92000000    < D <=    759.29000000\n",
      "759.47000000    < E <=    780.09000000\n"
     ]
    }
   ],
   "source": [
    "print_categories(df, 'bhkp_price_cat', 'bhkp_price')"
   ]
  },
  {
   "cell_type": "code",
   "execution_count": 131,
   "metadata": {},
   "outputs": [
    {
     "data": {
      "text/html": [
       "<div>\n",
       "<style scoped>\n",
       "    .dataframe tbody tr th:only-of-type {\n",
       "        vertical-align: middle;\n",
       "    }\n",
       "\n",
       "    .dataframe tbody tr th {\n",
       "        vertical-align: top;\n",
       "    }\n",
       "\n",
       "    .dataframe thead th {\n",
       "        text-align: right;\n",
       "    }\n",
       "</style>\n",
       "<table border=\"1\" class=\"dataframe\">\n",
       "  <thead>\n",
       "    <tr style=\"text-align: right;\">\n",
       "      <th></th>\n",
       "      <th>bhkp_price</th>\n",
       "      <th>bhkp_delta</th>\n",
       "      <th>bhkp_variation</th>\n",
       "    </tr>\n",
       "  </thead>\n",
       "  <tbody>\n",
       "    <tr>\n",
       "      <th>count</th>\n",
       "      <td>50.00000</td>\n",
       "      <td>50.00000</td>\n",
       "      <td>50.000000</td>\n",
       "    </tr>\n",
       "    <tr>\n",
       "      <th>mean</th>\n",
       "      <td>515.71160</td>\n",
       "      <td>-1.31000</td>\n",
       "      <td>-0.002121</td>\n",
       "    </tr>\n",
       "    <tr>\n",
       "      <th>std</th>\n",
       "      <td>44.08956</td>\n",
       "      <td>9.11229</td>\n",
       "      <td>0.016868</td>\n",
       "    </tr>\n",
       "    <tr>\n",
       "      <th>min</th>\n",
       "      <td>464.70000</td>\n",
       "      <td>-30.68000</td>\n",
       "      <td>-0.051261</td>\n",
       "    </tr>\n",
       "    <tr>\n",
       "      <th>25%</th>\n",
       "      <td>471.60000</td>\n",
       "      <td>-4.91750</td>\n",
       "      <td>-0.009895</td>\n",
       "    </tr>\n",
       "    <tr>\n",
       "      <th>50%</th>\n",
       "      <td>505.04500</td>\n",
       "      <td>-1.35500</td>\n",
       "      <td>-0.002743</td>\n",
       "    </tr>\n",
       "    <tr>\n",
       "      <th>75%</th>\n",
       "      <td>551.90000</td>\n",
       "      <td>2.91750</td>\n",
       "      <td>0.005845</td>\n",
       "    </tr>\n",
       "    <tr>\n",
       "      <th>max</th>\n",
       "      <td>592.08000</td>\n",
       "      <td>18.26000</td>\n",
       "      <td>0.038142</td>\n",
       "    </tr>\n",
       "  </tbody>\n",
       "</table>\n",
       "</div>"
      ],
      "text/plain": [
       "       bhkp_price  bhkp_delta  bhkp_variation\n",
       "count    50.00000    50.00000       50.000000\n",
       "mean    515.71160    -1.31000       -0.002121\n",
       "std      44.08956     9.11229        0.016868\n",
       "min     464.70000   -30.68000       -0.051261\n",
       "25%     471.60000    -4.91750       -0.009895\n",
       "50%     505.04500    -1.35500       -0.002743\n",
       "75%     551.90000     2.91750        0.005845\n",
       "max     592.08000    18.26000        0.038142"
      ]
     },
     "execution_count": 131,
     "metadata": {},
     "output_type": "execute_result"
    }
   ],
   "source": [
    "df[df['bhkp_price_cat'] == 'B'].describe()[['bhkp_price','bhkp_delta','bhkp_variation']]"
   ]
  },
  {
   "cell_type": "code",
   "execution_count": 132,
   "metadata": {},
   "outputs": [
    {
     "data": {
      "text/html": [
       "<div>\n",
       "<style scoped>\n",
       "    .dataframe tbody tr th:only-of-type {\n",
       "        vertical-align: middle;\n",
       "    }\n",
       "\n",
       "    .dataframe tbody tr th {\n",
       "        vertical-align: top;\n",
       "    }\n",
       "\n",
       "    .dataframe thead th {\n",
       "        text-align: right;\n",
       "    }\n",
       "</style>\n",
       "<table border=\"1\" class=\"dataframe\">\n",
       "  <thead>\n",
       "    <tr style=\"text-align: right;\">\n",
       "      <th></th>\n",
       "      <th>bhkp_price</th>\n",
       "      <th>bhkp_delta</th>\n",
       "      <th>bhkp_variation</th>\n",
       "    </tr>\n",
       "  </thead>\n",
       "  <tbody>\n",
       "    <tr>\n",
       "      <th>count</th>\n",
       "      <td>253.000000</td>\n",
       "      <td>253.000000</td>\n",
       "      <td>253.000000</td>\n",
       "    </tr>\n",
       "    <tr>\n",
       "      <th>mean</th>\n",
       "      <td>616.829051</td>\n",
       "      <td>0.042451</td>\n",
       "      <td>0.000231</td>\n",
       "    </tr>\n",
       "    <tr>\n",
       "      <th>std</th>\n",
       "      <td>120.906163</td>\n",
       "      <td>11.403620</td>\n",
       "      <td>0.018161</td>\n",
       "    </tr>\n",
       "    <tr>\n",
       "      <th>min</th>\n",
       "      <td>441.260000</td>\n",
       "      <td>-58.140000</td>\n",
       "      <td>-0.078251</td>\n",
       "    </tr>\n",
       "    <tr>\n",
       "      <th>25%</th>\n",
       "      <td>471.030000</td>\n",
       "      <td>-2.000000</td>\n",
       "      <td>-0.003672</td>\n",
       "    </tr>\n",
       "    <tr>\n",
       "      <th>50%</th>\n",
       "      <td>631.140000</td>\n",
       "      <td>0.040000</td>\n",
       "      <td>0.000084</td>\n",
       "    </tr>\n",
       "    <tr>\n",
       "      <th>75%</th>\n",
       "      <td>742.990000</td>\n",
       "      <td>2.200000</td>\n",
       "      <td>0.003820</td>\n",
       "    </tr>\n",
       "    <tr>\n",
       "      <th>max</th>\n",
       "      <td>780.090000</td>\n",
       "      <td>97.260000</td>\n",
       "      <td>0.157578</td>\n",
       "    </tr>\n",
       "  </tbody>\n",
       "</table>\n",
       "</div>"
      ],
      "text/plain": [
       "       bhkp_price  bhkp_delta  bhkp_variation\n",
       "count  253.000000  253.000000      253.000000\n",
       "mean   616.829051    0.042451        0.000231\n",
       "std    120.906163   11.403620        0.018161\n",
       "min    441.260000  -58.140000       -0.078251\n",
       "25%    471.030000   -2.000000       -0.003672\n",
       "50%    631.140000    0.040000        0.000084\n",
       "75%    742.990000    2.200000        0.003820\n",
       "max    780.090000   97.260000        0.157578"
      ]
     },
     "execution_count": 132,
     "metadata": {},
     "output_type": "execute_result"
    }
   ],
   "source": [
    "df.describe()[['bhkp_price','bhkp_delta','bhkp_variation']]"
   ]
  },
  {
   "cell_type": "code",
   "execution_count": 133,
   "metadata": {},
   "outputs": [
    {
     "data": {
      "image/png": "[encoded data removed]",
      "text/plain": [
       "<Figure size 432x288 with 1 Axes>"
      ]
     },
     "metadata": {
      "needs_background": "light"
     },
     "output_type": "display_data"
    }
   ],
   "source": [
    "df['bhkp_price_cat'].value_counts().plot(kind='barh')\n",
    "plt.show()"
   ]
  },
  {
   "cell_type": "code",
   "execution_count": 134,
   "metadata": {},
   "outputs": [
    {
     "data": {
      "image/png": "[encoded data removed]",
      "text/plain": [
       "<Figure size 432x288 with 1 Axes>"
      ]
     },
     "metadata": {
      "needs_background": "light"
     },
     "output_type": "display_data"
    }
   ],
   "source": [
    "sns.histplot(data=df, x=\"bhkp_price_cat\", kde=True);"
   ]
  },
  {
   "cell_type": "markdown",
   "metadata": {},
   "source": [
    "## Categoriacao do preço / cut"
   ]
  },
  {
   "cell_type": "code",
   "execution_count": 135,
   "metadata": {},
   "outputs": [
    {
     "data": {
      "image/png": "[encoded data removed]",
      "text/plain": [
       "<Figure size 432x288 with 1 Axes>"
      ]
     },
     "metadata": {
      "needs_background": "light"
     },
     "output_type": "display_data"
    }
   ],
   "source": [
    "df['bhkp_price_cat2'] = pd.cut( df['bhkp_price'], bins = 5, labels= get_labels(5) )\n",
    "df['bhkp_price_cat2'].value_counts().plot(kind='barh');\n"
   ]
  },
  {
   "cell_type": "code",
   "execution_count": 136,
   "metadata": {},
   "outputs": [
    {
     "data": {
      "image/png": "[encoded data removed]",
      "text/plain": [
       "<Figure size 432x288 with 1 Axes>"
      ]
     },
     "metadata": {
      "needs_background": "light"
     },
     "output_type": "display_data"
    }
   ],
   "source": [
    "sns.histplot(data=df, x=\"bhkp_price_cat2\", kde=True);"
   ]
  },
  {
   "cell_type": "markdown",
   "metadata": {},
   "source": [
    "## Categorização pela variação / qcut"
   ]
  },
  {
   "cell_type": "code",
   "execution_count": 137,
   "metadata": {},
   "outputs": [],
   "source": [
    "df['bhkp_variation_cat'] = pd.qcut( df['bhkp_variation'], get_divison(5), labels= get_labels(5) )"
   ]
  },
  {
   "cell_type": "code",
   "execution_count": 138,
   "metadata": {},
   "outputs": [
    {
     "name": "stdout",
     "output_type": "stream",
     "text": [
      " -0.07825139    < A <=     -0.00448541\n",
      " -0.00445730    < B <=     -0.00104124\n",
      " -0.00098694    < C <=      0.00101373\n",
      "  0.00105389    < D <=      0.00486918\n",
      "  0.00533110    < E <=      0.15757753\n"
     ]
    }
   ],
   "source": [
    "print_categories(df, 'bhkp_variation_cat', 'bhkp_variation')"
   ]
  },
  {
   "cell_type": "code",
   "execution_count": 139,
   "metadata": {},
   "outputs": [
    {
     "name": "stdout",
     "output_type": "stream",
     "text": [
      "[['C'], ['E'], ['D'], ['E', 'E'], ['D', 'D', 'D'], ['E'], ['B'], ['D'], ['B'], ['A'], ['C', 'C'], ['D'], ['C'], ['B'], ['D', 'D'], ['E', 'E', 'E', 'E', 'E', 'E'], ['D', 'D'], ['E', 'E', 'E'], ['D'], ['E'], ['D', 'D'], ['E'], ['B'], ['E', 'E'], ['B'], ['D'], ['C', 'C', 'C', 'C'], ['D'], ['C'], ['D'], ['C'], ['D'], ['B'], ['C'], ['D', 'D', 'D'], ['C'], ['D'], ['C', 'C', 'C', 'C'], ['D'], ['C'], ['B'], ['C', 'C', 'C', 'C', 'C'], ['B'], ['D', 'D'], ['C'], ['D'], ['C'], ['B', 'B'], ['C'], ['B'], ['C'], ['B', 'B', 'B', 'B'], ['C'], ['B'], ['A', 'A', 'A', 'A', 'A', 'A'], ['C'], ['E'], ['D'], ['E'], ['D', 'D', 'D'], ['E', 'E'], ['B', 'B', 'B'], ['C'], ['B', 'B', 'B'], ['A', 'A', 'A', 'A', 'A', 'A', 'A', 'A', 'A', 'A', 'A', 'A', 'A', 'A', 'A', 'A'], ['B'], ['A'], ['B'], ['C'], ['A', 'A', 'A'], ['C'], ['B', 'B'], ['A'], ['B'], ['D'], ['B'], ['C'], ['B'], ['C', 'C'], ['B'], ['C'], ['D', 'D', 'D', 'D', 'D'], ['A'], ['E'], ['B', 'B'], ['D', 'D'], ['B'], ['C', 'C'], ['D', 'D'], ['B'], ['E', 'E'], ['A'], ['B', 'B'], ['A'], ['C'], ['B'], ['A', 'A', 'A'], ['D'], ['A'], ['B', 'B'], ['E'], ['B'], ['C'], ['B'], ['D'], ['E'], ['D'], ['C', 'C'], ['D'], ['C'], ['E', 'E'], ['C'], ['D'], ['E'], ['C'], ['E', 'E', 'E'], ['D'], ['E', 'E', 'E', 'E', 'E', 'E'], ['C'], ['E', 'E', 'E', 'E'], ['C'], ['D'], ['E'], ['C'], ['B'], ['A'], ['E'], ['C', 'C'], ['B', 'B'], ['C'], ['B', 'B'], ['A', 'A', 'A', 'A', 'A', 'A', 'A'], ['B'], ['A', 'A'], ['C'], ['B'], ['D'], ['A', 'A', 'A'], ['B'], ['A', 'A', 'A'], ['B'], ['D', 'D'], ['E', 'E', 'E', 'E', 'E', 'E', 'E'], ['D']]\n"
     ]
    }
   ],
   "source": [
    "categories_variation_grouped = group_categories_by_sequence(df, 'bhkp_variation_cat')\n",
    "print(categories_variation_grouped)"
   ]
  },
  {
   "cell_type": "code",
   "execution_count": 140,
   "metadata": {},
   "outputs": [
    {
     "data": {
      "image/png": "[encoded data removed]",
      "text/plain": [
       "<Figure size 360x360 with 1 Axes>"
      ]
     },
     "metadata": {
      "needs_background": "light"
     },
     "output_type": "display_data"
    }
   ],
   "source": [
    "sns.catplot(x=\"bhkp_variation_cat\", y=\"bhkp_variation\", kind=\"box\", data=df);"
   ]
  },
  {
   "cell_type": "code",
   "execution_count": 141,
   "metadata": {},
   "outputs": [
    {
     "data": {
      "image/png": "[encoded data removed]",
      "text/plain": [
       "<Figure size 432x288 with 1 Axes>"
      ]
     },
     "metadata": {
      "needs_background": "light"
     },
     "output_type": "display_data"
    }
   ],
   "source": [
    "sns.histplot(data=df, x=\"bhkp_variation_cat\", kde=True);"
   ]
  },
  {
   "cell_type": "markdown",
   "metadata": {},
   "source": [
    "## Categorização pela variação / cut"
   ]
  },
  {
   "cell_type": "code",
   "execution_count": 142,
   "metadata": {},
   "outputs": [
    {
     "data": {
      "image/png": "[encoded data removed]",
      "text/plain": [
       "<Figure size 432x288 with 1 Axes>"
      ]
     },
     "metadata": {
      "needs_background": "light"
     },
     "output_type": "display_data"
    }
   ],
   "source": [
    "size = 6\n",
    "df['bhkp_variation_cat2'], cut_intervals = pd.cut( df['bhkp_variation'], bins = size, labels= get_labels(size), retbins=True )\n",
    "df['bhkp_variation_cat2'].value_counts().plot(kind='barh');"
   ]
  },
  {
   "cell_type": "code",
   "execution_count": 143,
   "metadata": {},
   "outputs": [
    {
     "name": "stdout",
     "output_type": "stream",
     "text": [
      "   -0.078487  < A <=     -0.038947\n",
      "   -0.038947  < B <=      0.000358\n",
      "    0.000358  < C <=      0.039663\n",
      "    0.039663  < D <=      0.078968\n",
      "    0.078968  < E <=      0.118273\n",
      "    0.118273  < F <=      0.157578\n"
     ]
    }
   ],
   "source": [
    "print_categories_v3(cut_intervals, True)\n"
   ]
  },
  {
   "cell_type": "code",
   "execution_count": 144,
   "metadata": {},
   "outputs": [
    {
     "name": "stdout",
     "output_type": "stream",
     "text": [
      "[-0.078251, -0.031086, 0.01608, 0.063246, 0.110412, 0.157578]\n"
     ]
    }
   ],
   "source": [
    "print( get_bins( df['bhkp_variation'].values, 5) )"
   ]
  },
  {
   "cell_type": "code",
   "execution_count": 145,
   "metadata": {},
   "outputs": [
    {
     "data": {
      "image/png": "[encoded data removed]",
      "text/plain": [
       "<Figure size 432x288 with 1 Axes>"
      ]
     },
     "metadata": {
      "needs_background": "light"
     },
     "output_type": "display_data"
    }
   ],
   "source": [
    "sns.histplot(data=df, x=\"bhkp_variation_cat2\", kde=True);"
   ]
  },
  {
   "cell_type": "markdown",
   "metadata": {},
   "source": [
    "# Matriz  de Transição"
   ]
  },
  {
   "cell_type": "code",
   "execution_count": 147,
   "metadata": {},
   "outputs": [],
   "source": [
    "def build_transition_grid(compressed_grid, unique_patterns):\n",
    "    # build the markov transition grid\n",
    "\n",
    "    patterns = []\n",
    "    counts = []\n",
    "    for from_event in unique_patterns:\n",
    "\n",
    "        # how many times \n",
    "        for to_event in unique_patterns:\n",
    "            pattern = from_event + ',' + to_event # MMM,MlM\n",
    "\n",
    "            ids_matches = compressed_grid[compressed_grid['Event_Pattern'].str.contains(pattern)]\n",
    "            found = 0\n",
    "            if len(ids_matches) > 0:\n",
    "                Event_Pattern = '---'.join(ids_matches['Event_Pattern'].values)\n",
    "                found = Event_Pattern.count(pattern)\n",
    "            patterns.append(pattern)\n",
    "            counts.append(found)\n",
    "\n",
    "    # create to/from grid\n",
    "    grid_Df = pd.DataFrame({'pairs':patterns, 'counts': counts})\n",
    "\n",
    "    grid_Df['x'], grid_Df['y'] = grid_Df['pairs'].str.split(',', 1).str\n",
    "    grid_Df.head()\n",
    "\n",
    "    grid_Df = grid_Df.pivot(index='x', columns='y', values='counts')\n",
    "\n",
    "    grid_Df.columns= [col for col in grid_Df.columns]\n",
    "    #del grid_Df.index.name\n",
    "\n",
    "    # replace all NaN with zeros\n",
    "    grid_Df.fillna(0, inplace=True)\n",
    "    grid_Df.head()\n",
    "\n",
    "    #grid_Df.rowSums(transition_dataframe) \n",
    "    grid_Df = grid_Df / grid_Df.sum(1)\n",
    "    return (grid_Df)"
   ]
  },
  {
   "cell_type": "code",
   "execution_count": 148,
   "metadata": {},
   "outputs": [],
   "source": [
    "# df[['bhkp_wow_variation']]"
   ]
  },
  {
   "cell_type": "code",
   "execution_count": 170,
   "metadata": {},
   "outputs": [],
   "source": [
    "my_list = (df['bhkp_variation'] * 100).to_list()\n",
    "# my_list\n",
    "# my_list"
   ]
  },
  {
   "cell_type": "code",
   "execution_count": 161,
   "metadata": {},
   "outputs": [],
   "source": [
    "# df['bhkp_wow_variation'].to_list()"
   ]
  },
  {
   "cell_type": "code",
   "execution_count": 162,
   "metadata": {},
   "outputs": [],
   "source": [
    "# max(data1.tolist())[0]"
   ]
  },
  {
   "cell_type": "code",
   "execution_count": 178,
   "metadata": {},
   "outputs": [
    {
     "ename": "TypeError",
     "evalue": "list indices must be integers or slices, not float",
     "output_type": "error",
     "traceback": [
      "\u001b[1;31m---------------------------------------------------------------------------\u001b[0m",
      "\u001b[1;31mTypeError\u001b[0m                                 Traceback (most recent call last)",
      "Input \u001b[1;32mIn [178]\u001b[0m, in \u001b[0;36m<module>\u001b[1;34m\u001b[0m\n\u001b[1;32m----> 1\u001b[0m m \u001b[38;5;241m=\u001b[39m \u001b[43mtransition_matrix\u001b[49m\u001b[43m(\u001b[49m\u001b[43mmy_list\u001b[49m\u001b[43m)\u001b[49m\n",
      "Input \u001b[1;32mIn [177]\u001b[0m, in \u001b[0;36mtransition_matrix\u001b[1;34m(transitions)\u001b[0m\n\u001b[0;32m      6\u001b[0m M \u001b[38;5;241m=\u001b[39m [[\u001b[38;5;241m0\u001b[39m]\u001b[38;5;241m*\u001b[39mn \u001b[38;5;28;01mfor\u001b[39;00m _ \u001b[38;5;129;01min\u001b[39;00m \u001b[38;5;28mrange\u001b[39m(n)]\n\u001b[0;32m      8\u001b[0m \u001b[38;5;28;01mfor\u001b[39;00m (i,j) \u001b[38;5;129;01min\u001b[39;00m \u001b[38;5;28mzip\u001b[39m(transitions,transitions[\u001b[38;5;241m1\u001b[39m:]):\n\u001b[1;32m----> 9\u001b[0m     \u001b[43mM\u001b[49m\u001b[43m[\u001b[49m\u001b[43mi\u001b[49m\u001b[43m]\u001b[49m[j] \u001b[38;5;241m+\u001b[39m\u001b[38;5;241m=\u001b[39m \u001b[38;5;241m1\u001b[39m\n\u001b[0;32m     11\u001b[0m \u001b[38;5;66;03m#now convert to probabilities:\u001b[39;00m\n\u001b[0;32m     12\u001b[0m \u001b[38;5;28;01mfor\u001b[39;00m row \u001b[38;5;129;01min\u001b[39;00m M:\n",
      "\u001b[1;31mTypeError\u001b[0m: list indices must be integers or slices, not float"
     ]
    }
   ],
   "source": [
    "m = transition_matrix(my_list)"
   ]
  },
  {
   "cell_type": "code",
   "execution_count": 190,
   "metadata": {},
   "outputs": [],
   "source": [
    "#https://stackoverflow.com/questions/46657221/generating-markov-transition-matrix-in-python/46657489\n",
    "def transition_matrix(transitions):\n",
    "    \n",
    "    n = 1 + int(max(transitions)) #number of states\n",
    "    log.debug(f'max: {max(transitions)} | n: {n}')\n",
    " \n",
    "    M = [[0]*n for _ in range(n)]\n",
    "    log.debug(M)\n",
    "\n",
    "    for (i,j) in zip(transitions, transitions[1:]):\n",
    "        M[i][j] += 1\n",
    "        \n",
    "    log.debug(M)\n",
    "\n",
    "    #now convert to probabilities:\n",
    "    for row in M:\n",
    "        s = sum(row)\n",
    "        if s > 0:\n",
    "            row[:] = [f/s for f in row]\n",
    "    return M\n",
    "    \n"
   ]
  },
  {
   "cell_type": "code",
   "execution_count": 198,
   "metadata": {},
   "outputs": [
    {
     "name": "stderr",
     "output_type": "stream",
     "text": [
      "DEBUG:__main__:max: 8 | n: 9\n",
      "DEBUG:__main__:[[0, 0, 0, 0, 0, 0, 0, 0, 0], [0, 0, 0, 0, 0, 0, 0, 0, 0], [0, 0, 0, 0, 0, 0, 0, 0, 0], [0, 0, 0, 0, 0, 0, 0, 0, 0], [0, 0, 0, 0, 0, 0, 0, 0, 0], [0, 0, 0, 0, 0, 0, 0, 0, 0], [0, 0, 0, 0, 0, 0, 0, 0, 0], [0, 0, 0, 0, 0, 0, 0, 0, 0], [0, 0, 0, 0, 0, 0, 0, 0, 0]]\n",
      "DEBUG:__main__:[[2, 1, 0, 0, 0, 0, 0, 0, 0], [0, 4, 1, 1, 2, 0, 0, 0, 0], [0, 0, 0, 0, 0, 0, 1, 0, 0], [0, 0, 0, 1, 1, 0, 0, 0, 0], [0, 1, 0, 0, 1, 3, 0, 0, 0], [1, 1, 0, 0, 1, 2, 0, 1, 0], [0, 0, 0, 0, 0, 0, 0, 0, 1], [0, 0, 0, 0, 0, 0, 0, 0, 1], [0, 1, 0, 0, 0, 1, 0, 0, 1]]\n"
     ]
    },
    {
     "data": {
      "text/plain": [
       "[[0.6666666666666666, 0.3333333333333333, 0.0, 0.0, 0.0, 0.0, 0.0, 0.0, 0.0],\n",
       " [0.0, 0.5, 0.125, 0.125, 0.25, 0.0, 0.0, 0.0, 0.0],\n",
       " [0.0, 0.0, 0.0, 0.0, 0.0, 0.0, 1.0, 0.0, 0.0],\n",
       " [0.0, 0.0, 0.0, 0.5, 0.5, 0.0, 0.0, 0.0, 0.0],\n",
       " [0.0, 0.2, 0.0, 0.0, 0.2, 0.6, 0.0, 0.0, 0.0],\n",
       " [0.16666666666666666,\n",
       "  0.16666666666666666,\n",
       "  0.0,\n",
       "  0.0,\n",
       "  0.16666666666666666,\n",
       "  0.3333333333333333,\n",
       "  0.0,\n",
       "  0.16666666666666666,\n",
       "  0.0],\n",
       " [0.0, 0.0, 0.0, 0.0, 0.0, 0.0, 0.0, 0.0, 1.0],\n",
       " [0.0, 0.0, 0.0, 0.0, 0.0, 0.0, 0.0, 0.0, 1.0],\n",
       " [0.0,\n",
       "  0.3333333333333333,\n",
       "  0.0,\n",
       "  0.0,\n",
       "  0.0,\n",
       "  0.3333333333333333,\n",
       "  0.0,\n",
       "  0.0,\n",
       "  0.3333333333333333]]"
      ]
     },
     "execution_count": 198,
     "metadata": {},
     "output_type": "execute_result"
    }
   ],
   "source": [
    "t = [1,1,2,6,8,5,5,7,8,8,1,1,4,5,5,0,0,0,1,1,4,4,5,1,3,3,4,5,4,1,1]\n",
    "m = transition_matrix(t)\n",
    "m"
   ]
  },
  {
   "cell_type": "code",
   "execution_count": 207,
   "metadata": {},
   "outputs": [],
   "source": [
    "def transition_matrix_order1(data):\n",
    "    alphabet = []\n",
    "    for element in data:\n",
    "        if element not in alphabet:\n",
    "            alphabet.append(element)\n",
    "    alphabet.sort()\n",
    "    log.debug(alphabet)\n",
    "    \n",
    "    previous = data[0]\n",
    "    matrix = pd.DataFrame(0.0, index=alphabet, columns=alphabet)\n",
    "    \n",
    "    for i in data[1:]:\n",
    "        matrix[i][previous]    += 1.0\n",
    "        previous = i\n",
    "    \n",
    "    total = matrix.sum()\n",
    "    for element in alphabet:\n",
    "        matrix[element] = matrix.div(total[element])[element]\n",
    "    \n",
    "    return matrix, alphabet"
   ]
  },
  {
   "cell_type": "code",
   "execution_count": 219,
   "metadata": {},
   "outputs": [
    {
     "data": {
      "text/plain": [
       "['A', 'B', 'C']"
      ]
     },
     "execution_count": 219,
     "metadata": {},
     "output_type": "execute_result"
    }
   ],
   "source": [
    "list(\"ABC\")"
   ]
  },
  {
   "cell_type": "code",
   "execution_count": 245,
   "metadata": {},
   "outputs": [],
   "source": [
    "def transition_matrix_vfk(data):\n",
    "    log.debug('transition_matrix_vfk')\n",
    "    size = len(set(data))\n",
    "    M = [[0]*size for _ in range(size)]\n",
    "    log.debug(M)\n",
    "    \n",
    "    \n",
    "    def rank(c):\n",
    "        return ord(c) - ord('A')\n",
    "\n",
    "    T = [rank(c) for c in  data]\n",
    "    \n",
    "    log.debug(T)\n",
    "    \n",
    "    matrix = pd.DataFrame(0.0, index=list(set(data)), columns=list(set(data)))\n",
    "    \n",
    "    log.debug(data[1:])\n",
    "\n",
    "\n",
    "    for (i,j) in zip(T,T[1:]):\n",
    "        M[i][j] += 1\n",
    "\n",
    "    #now convert to probabilities:\n",
    "    for row in M:\n",
    "        n = sum(row)\n",
    "        if n > 0:\n",
    "            row[:] = [f/sum(row) for f in row]\n",
    "\n",
    "    #print M:\n",
    "\n",
    "    for row in M:\n",
    "        print(row)\n",
    "        \n",
    "    return matrix"
   ]
  },
  {
   "cell_type": "code",
   "execution_count": 246,
   "metadata": {},
   "outputs": [
    {
     "name": "stderr",
     "output_type": "stream",
     "text": [
      "DEBUG:__main__:['A', 'B', 'C']\n",
      "DEBUG:__main__:transition_matrix_vfk\n",
      "DEBUG:__main__:[[0, 0, 0], [0, 0, 0], [0, 0, 0]]\n",
      "DEBUG:__main__:[0, 1, 2, 0, 0]\n",
      "DEBUG:__main__:['B', 'C', 'A', 'A']\n"
     ]
    },
    {
     "name": "stdout",
     "output_type": "stream",
     "text": [
      "(     A    B    C\n",
      "A  0.5  1.0  0.0\n",
      "B  0.0  0.0  1.0\n",
      "C  0.5  0.0  0.0, ['A', 'B', 'C'])\n",
      "==============================\n",
      "[1, 0, 2]\n",
      "[0.0, 0.0, 1.0, 0.0]\n",
      "[1.0, 0.0, 0.0, 0.0]\n",
      "[0, 0, 0, 0]\n",
      "[0, 0, 0, 0]\n",
      "None\n",
      "==============================\n",
      "[0.5, 0.5, 0.0]\n",
      "[0.0, 0.0, 1.0]\n",
      "[1.0, 0.0, 0.0]\n",
      "     B    A    C\n",
      "B  0.0  0.0  0.0\n",
      "A  0.0  0.0  0.0\n",
      "C  0.0  0.0  0.0\n"
     ]
    },
    {
     "data": {
      "text/html": [
       "<div>\n",
       "<style scoped>\n",
       "    .dataframe tbody tr th:only-of-type {\n",
       "        vertical-align: middle;\n",
       "    }\n",
       "\n",
       "    .dataframe tbody tr th {\n",
       "        vertical-align: top;\n",
       "    }\n",
       "\n",
       "    .dataframe thead th {\n",
       "        text-align: right;\n",
       "    }\n",
       "</style>\n",
       "<table border=\"1\" class=\"dataframe\">\n",
       "  <thead>\n",
       "    <tr style=\"text-align: right;\">\n",
       "      <th></th>\n",
       "      <th>B</th>\n",
       "      <th>A</th>\n",
       "      <th>C</th>\n",
       "    </tr>\n",
       "  </thead>\n",
       "  <tbody>\n",
       "    <tr>\n",
       "      <th>B</th>\n",
       "      <td>0.0</td>\n",
       "      <td>0.0</td>\n",
       "      <td>0.0</td>\n",
       "    </tr>\n",
       "    <tr>\n",
       "      <th>A</th>\n",
       "      <td>0.0</td>\n",
       "      <td>0.0</td>\n",
       "      <td>0.0</td>\n",
       "    </tr>\n",
       "    <tr>\n",
       "      <th>C</th>\n",
       "      <td>0.0</td>\n",
       "      <td>0.0</td>\n",
       "      <td>0.0</td>\n",
       "    </tr>\n",
       "  </tbody>\n",
       "</table>\n",
       "</div>"
      ],
      "text/plain": [
       "     B    A    C\n",
       "B  0.0  0.0  0.0\n",
       "A  0.0  0.0  0.0\n",
       "C  0.0  0.0  0.0"
      ]
     },
     "execution_count": 246,
     "metadata": {},
     "output_type": "execute_result"
    }
   ],
   "source": [
    "list_text = ['A', 'B', 'B', 'C', 'B', 'A', 'D', 'D', 'A', 'B', 'A', 'D']\n",
    "\n",
    "list_text = list(\"ABCAA\")\n",
    "t1 = transition_matrix_order1(list_text)\n",
    "print(t1)\n",
    "print(\"===\" * 10)\n",
    "t2 = transition_matrix_v1(list_text)\n",
    "print(t2)\n",
    "\n",
    "print(\"===\" * 10)\n",
    "t3 = transition_matrix_vfk(list_text)\n",
    "print(t3)\n",
    "t3"
   ]
  },
  {
   "cell_type": "code",
   "execution_count": 208,
   "metadata": {},
   "outputs": [
    {
     "name": "stderr",
     "output_type": "stream",
     "text": [
      "DEBUG:__main__:[0, 1, 2, 3, 4, 5, 6, 7, 8]\n"
     ]
    },
    {
     "data": {
      "text/plain": [
       "(          0      1    2    3    4         5    6    7         8\n",
       " 0  0.666667  0.125  0.0  0.0  0.0  0.000000  0.0  0.0  0.000000\n",
       " 1  0.000000  0.500  1.0  0.5  0.4  0.000000  0.0  0.0  0.000000\n",
       " 2  0.000000  0.000  0.0  0.0  0.0  0.000000  1.0  0.0  0.000000\n",
       " 3  0.000000  0.000  0.0  0.5  0.2  0.000000  0.0  0.0  0.000000\n",
       " 4  0.000000  0.125  0.0  0.0  0.2  0.500000  0.0  0.0  0.000000\n",
       " 5  0.333333  0.125  0.0  0.0  0.2  0.333333  0.0  1.0  0.000000\n",
       " 6  0.000000  0.000  0.0  0.0  0.0  0.000000  0.0  0.0  0.333333\n",
       " 7  0.000000  0.000  0.0  0.0  0.0  0.000000  0.0  0.0  0.333333\n",
       " 8  0.000000  0.125  0.0  0.0  0.0  0.166667  0.0  0.0  0.333333,\n",
       " [0, 1, 2, 3, 4, 5, 6, 7, 8])"
      ]
     },
     "execution_count": 208,
     "metadata": {},
     "output_type": "execute_result"
    }
   ],
   "source": [
    "transition_matrix_order1(t)"
   ]
  },
  {
   "cell_type": "code",
   "execution_count": 224,
   "metadata": {},
   "outputs": [],
   "source": [
    "def transition_matrix_v1(data):\n",
    "    def rank(c):\n",
    "        return ord(c) - ord('A')\n",
    "\n",
    "    T = [rank(c) for c in  data]\n",
    "    \n",
    "#     log.debug(T)\n",
    "    print(T)\n",
    "\n",
    "    #create matrix of zeros\n",
    "\n",
    "    M = [[0]*4 for _ in range(4)]\n",
    "\n",
    "    for (i,j) in zip(T,T[1:]):\n",
    "        M[i][j] += 1\n",
    "\n",
    "    #now convert to probabilities:\n",
    "    for row in M:\n",
    "        n = sum(row)\n",
    "        if n > 0:\n",
    "            row[:] = [f/sum(row) for f in row]\n",
    "\n",
    "    #print M:\n",
    "\n",
    "    for row in M:\n",
    "        print(row)"
   ]
  },
  {
   "cell_type": "code",
   "execution_count": 205,
   "metadata": {},
   "outputs": [
    {
     "name": "stderr",
     "output_type": "stream",
     "text": [
      "DEBUG:__main__:[0, 1, 1, 2, 1, 0, 3, 3, 0, 1, 0, 3]\n"
     ]
    },
    {
     "name": "stdout",
     "output_type": "stream",
     "text": [
      "[0, 1, 1, 2, 1, 0, 3, 3, 0, 1, 0, 3]\n",
      "[0.0, 0.5, 0.0, 0.5]\n",
      "[0.5, 0.25, 0.25, 0.0]\n",
      "[0.0, 1.0, 0.0, 0.0]\n",
      "[0.5, 0.0, 0.0, 0.5]\n"
     ]
    }
   ],
   "source": [
    "transition_matrix_v1(['A', 'B', 'B', 'C', 'B', 'A', 'D', 'D', 'A', 'B', 'A', 'D'])"
   ]
  },
  {
   "cell_type": "code",
   "execution_count": null,
   "metadata": {},
   "outputs": [],
   "source": []
  }
 ],
 "metadata": {
  "kernelspec": {
   "display_name": "env-win-tese",
   "language": "python",
   "name": "env-win-tese"
  },
  "language_info": {
   "codemirror_mode": {
    "name": "ipython",
    "version": 3
   },
   "file_extension": ".py",
   "mimetype": "text/x-python",
   "name": "python",
   "nbconvert_exporter": "python",
   "pygments_lexer": "ipython3",
   "version": "3.10.0"
  },
  "toc": {
   "base_numbering": 1,
   "nav_menu": {},
   "number_sections": true,
   "sideBar": true,
   "skip_h1_title": false,
   "title_cell": "Table of Contents",
   "title_sidebar": "Contents",
   "toc_cell": false,
   "toc_position": {
    "height": "calc(100% - 180px)",
    "left": "10px",
    "top": "150px",
    "width": "568.889px"
   },
   "toc_section_display": true,
   "toc_window_display": true
  }
 },
 "nbformat": 4,
 "nbformat_minor": 4
}
