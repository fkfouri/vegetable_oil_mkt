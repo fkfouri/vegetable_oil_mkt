{
 "cells": [
  {
   "cell_type": "markdown",
   "id": "0bc82f6e",
   "metadata": {},
   "source": [
    "#  Econometria: conceitos e aplicações | Capítulos 1-3; 5 - Regressão Linear Simples\n",
    "\n",
    "Professor Alexandre Gori Maia\n",
    "\n",
    "https://www.youtube.com/watch?v=bmfzjH0Bo0Y"
   ]
  },
  {
   "cell_type": "code",
   "execution_count": 2,
   "id": "a39f944e",
   "metadata": {},
   "outputs": [],
   "source": [
    "######################################\n",
    "# Importando as libraries\n",
    "######################################\n",
    "\n",
    "import pandas as pd\n",
    "import sklearn.model_selection as ms\n",
    "import sklearn.linear_model as lm\n",
    "import matplotlib.pyplot as plt\n",
    "import numpy as np\n",
    "\n"
   ]
  },
  {
   "cell_type": "code",
   "execution_count": 10,
   "id": "09ce9c8b",
   "metadata": {},
   "outputs": [
    {
     "name": "stdout",
     "output_type": "stream",
     "text": [
      "[1 4 6 7] [ 4  8 10 12]\n"
     ]
    }
   ],
   "source": [
    "Y = np.array([4,8,10,12])\n",
    "X = np.array([1,4,6,7])\n",
    "print(X,Y)"
   ]
  },
  {
   "cell_type": "code",
   "execution_count": 15,
   "id": "e6c25737",
   "metadata": {},
   "outputs": [
    {
     "name": "stdout",
     "output_type": "stream",
     "text": [
      "4.5 8.5\n"
     ]
    }
   ],
   "source": [
    "print(np.mean(X), np.mean(Y))"
   ]
  },
  {
   "cell_type": "code",
   "execution_count": 11,
   "id": "27f251eb",
   "metadata": {},
   "outputs": [
    {
     "name": "stdout",
     "output_type": "stream",
     "text": [
      "[-3.5 -0.5  1.5  2.5] [-4.5 -0.5  1.5  3.5]\n"
     ]
    }
   ],
   "source": [
    "#desvios em relaçao a media\n",
    "x = X-np.mean(X)\n",
    "y = Y-np.mean(Y)\n",
    "print(x, y)"
   ]
  },
  {
   "cell_type": "code",
   "execution_count": 20,
   "id": "04bb260f",
   "metadata": {},
   "outputs": [
    {
     "name": "stdout",
     "output_type": "stream",
     "text": [
      "27.0 21.0 35.0\n"
     ]
    }
   ],
   "source": [
    "# variaveis auxiliades\n",
    "\n",
    "somaxy = np.sum(x*y)\n",
    "somax2 = np.sum(x**2)\n",
    "somay2 = np.sum(y**2)\n",
    "n = 4\n",
    "\n",
    "print(somaxy, somax2, somay2)"
   ]
  },
  {
   "cell_type": "code",
   "execution_count": 16,
   "id": "2560a422",
   "metadata": {},
   "outputs": [
    {
     "data": {
      "text/plain": [
       "array([15.75,  0.25,  2.25,  8.75])"
      ]
     },
     "execution_count": 16,
     "metadata": {},
     "output_type": "execute_result"
    }
   ],
   "source": [
    "x*y"
   ]
  },
  {
   "cell_type": "code",
   "execution_count": 17,
   "id": "02851892",
   "metadata": {},
   "outputs": [
    {
     "data": {
      "text/plain": [
       "array([12.25,  0.25,  2.25,  6.25])"
      ]
     },
     "execution_count": 17,
     "metadata": {},
     "output_type": "execute_result"
    }
   ],
   "source": [
    "x**2"
   ]
  },
  {
   "cell_type": "code",
   "execution_count": 19,
   "id": "7113de7b",
   "metadata": {},
   "outputs": [
    {
     "data": {
      "text/plain": [
       "array([20.25,  0.25,  2.25, 12.25])"
      ]
     },
     "execution_count": 19,
     "metadata": {},
     "output_type": "execute_result"
    }
   ],
   "source": [
    "y**2"
   ]
  },
  {
   "cell_type": "code",
   "execution_count": 21,
   "id": "a46cca80",
   "metadata": {},
   "outputs": [
    {
     "data": {
      "text/plain": [
       "1.2857142857142858"
      ]
     },
     "execution_count": 21,
     "metadata": {},
     "output_type": "execute_result"
    }
   ],
   "source": [
    "beta = somaxy/somax2\n",
    "beta"
   ]
  },
  {
   "cell_type": "code",
   "execution_count": 22,
   "id": "f6bcdc78",
   "metadata": {},
   "outputs": [
    {
     "data": {
      "text/plain": [
       "2.7142857142857135"
      ]
     },
     "execution_count": 22,
     "metadata": {},
     "output_type": "execute_result"
    }
   ],
   "source": [
    "alfa = np.mean(Y) - beta * np.mean(X)\n",
    "alfa"
   ]
  },
  {
   "cell_type": "markdown",
   "id": "369fb019",
   "metadata": {},
   "source": [
    "Variancias\n"
   ]
  },
  {
   "cell_type": "code",
   "execution_count": 24,
   "id": "2b39ee81",
   "metadata": {},
   "outputs": [
    {
     "data": {
      "text/plain": [
       "0.14285714285714235"
      ]
     },
     "execution_count": 24,
     "metadata": {},
     "output_type": "execute_result"
    }
   ],
   "source": [
    "# Estimativa da variancia da regressao\n",
    "s2 = (somay2 - beta * somaxy)/(n-2)\n",
    "s2"
   ]
  },
  {
   "cell_type": "code",
   "execution_count": 25,
   "id": "dde1fcc3",
   "metadata": {},
   "outputs": [
    {
     "data": {
      "text/plain": [
       "0.17346938775510146"
      ]
     },
     "execution_count": 25,
     "metadata": {},
     "output_type": "execute_result"
    }
   ],
   "source": [
    "# estimativas da viariancia dos estimadores\n",
    "sa2 = (1/n + np.mean(X)**2/somax2) * s2\n",
    "sa2"
   ]
  },
  {
   "cell_type": "markdown",
   "id": "43f18ba5",
   "metadata": {},
   "source": [
    "# test t"
   ]
  },
  {
   "cell_type": "code",
   "execution_count": 26,
   "id": "19e42846",
   "metadata": {},
   "outputs": [
    {
     "data": {
      "text/plain": [
       "6.516946235415345"
      ]
     },
     "execution_count": 26,
     "metadata": {},
     "output_type": "execute_result"
    }
   ],
   "source": [
    "ta = alfa/np.sqrt(sa2)\n",
    "ta"
   ]
  },
  {
   "cell_type": "code",
   "execution_count": null,
   "id": "c4887587",
   "metadata": {},
   "outputs": [],
   "source": []
  }
 ],
 "metadata": {
  "kernelspec": {
   "display_name": "Python 3 (ipykernel)",
   "language": "python",
   "name": "python3"
  },
  "language_info": {
   "codemirror_mode": {
    "name": "ipython",
    "version": 3
   },
   "file_extension": ".py",
   "mimetype": "text/x-python",
   "name": "python",
   "nbconvert_exporter": "python",
   "pygments_lexer": "ipython3",
   "version": "3.10.0"
  },
  "toc": {
   "base_numbering": 1,
   "nav_menu": {},
   "number_sections": true,
   "sideBar": true,
   "skip_h1_title": false,
   "title_cell": "Table of Contents",
   "title_sidebar": "Contents",
   "toc_cell": false,
   "toc_position": {},
   "toc_section_display": true,
   "toc_window_display": false
  },
  "varInspector": {
   "cols": {
    "lenName": 16,
    "lenType": 16,
    "lenVar": 40
   },
   "kernels_config": {
    "python": {
     "delete_cmd_postfix": "",
     "delete_cmd_prefix": "del ",
     "library": "var_list.py",
     "varRefreshCmd": "print(var_dic_list())"
    },
    "r": {
     "delete_cmd_postfix": ") ",
     "delete_cmd_prefix": "rm(",
     "library": "var_list.r",
     "varRefreshCmd": "cat(var_dic_list()) "
    }
   },
   "types_to_exclude": [
    "module",
    "function",
    "builtin_function_or_method",
    "instance",
    "_Feature"
   ],
   "window_display": false
  }
 },
 "nbformat": 4,
 "nbformat_minor": 5
}
