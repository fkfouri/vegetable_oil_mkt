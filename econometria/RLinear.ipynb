{
 "cells": [
  {
   "cell_type": "markdown",
   "id": "c3cf0386",
   "metadata": {},
   "source": [
    "Ref\n",
    "- https://youtu.be/DGEqDF5_rt8"
   ]
  },
  {
   "cell_type": "code",
   "execution_count": 131,
   "id": "d25edce2",
   "metadata": {},
   "outputs": [],
   "source": [
    "######################################\n",
    "# Importando as libraries\n",
    "######################################\n",
    "\n",
    "import pandas as pd\n",
    "import sklearn.model_selection as ms\n",
    "import sklearn.linear_model as lm\n",
    "import matplotlib.pyplot as plt\n",
    "\n"
   ]
  },
  {
   "cell_type": "code",
   "execution_count": 69,
   "id": "a004c504",
   "metadata": {},
   "outputs": [
    {
     "name": "stdout",
     "output_type": "stream",
     "text": [
      "(8627, 31)\n"
     ]
    },
    {
     "data": {
      "text/html": [
       "<div>\n",
       "<style scoped>\n",
       "    .dataframe tbody tr th:only-of-type {\n",
       "        vertical-align: middle;\n",
       "    }\n",
       "\n",
       "    .dataframe tbody tr th {\n",
       "        vertical-align: top;\n",
       "    }\n",
       "\n",
       "    .dataframe thead th {\n",
       "        text-align: right;\n",
       "    }\n",
       "</style>\n",
       "<table border=\"1\" class=\"dataframe\">\n",
       "  <thead>\n",
       "    <tr style=\"text-align: right;\">\n",
       "      <th></th>\n",
       "      <th>Survey Year</th>\n",
       "      <th>Timestamp</th>\n",
       "      <th>SalaryUSD</th>\n",
       "      <th>Country</th>\n",
       "      <th>PostalCode</th>\n",
       "      <th>PrimaryDatabase</th>\n",
       "      <th>YearsWithThisDatabase</th>\n",
       "      <th>OtherDatabases</th>\n",
       "      <th>EmploymentStatus</th>\n",
       "      <th>JobTitle</th>\n",
       "      <th>...</th>\n",
       "      <th>NewestVersionInProduction</th>\n",
       "      <th>OldestVersionInProduction</th>\n",
       "      <th>PopulationOfLargestCityWithin20Miles</th>\n",
       "      <th>EmploymentSector</th>\n",
       "      <th>LookingForAnotherJob</th>\n",
       "      <th>CareerPlansThisYear</th>\n",
       "      <th>Gender</th>\n",
       "      <th>OtherJobDuties</th>\n",
       "      <th>KindsOfTasksPerformed</th>\n",
       "      <th>Counter</th>\n",
       "    </tr>\n",
       "  </thead>\n",
       "  <tbody>\n",
       "    <tr>\n",
       "      <th>0</th>\n",
       "      <td>2020</td>\n",
       "      <td>2020-01-04 18:50:34.328</td>\n",
       "      <td>115000.0</td>\n",
       "      <td>United States</td>\n",
       "      <td>03</td>\n",
       "      <td>Microsoft SQL Server</td>\n",
       "      <td>15</td>\n",
       "      <td>Microsoft SQL Server, MongoDB, Azure SQL DB (a...</td>\n",
       "      <td>Full time employee</td>\n",
       "      <td>DBA (Production Focus - build &amp; troubleshoot s...</td>\n",
       "      <td>...</td>\n",
       "      <td>SQL Server 2019</td>\n",
       "      <td>SQL Server 2016</td>\n",
       "      <td>20K-99K (large town)</td>\n",
       "      <td>Private business</td>\n",
       "      <td>Not Asked</td>\n",
       "      <td>Stay with the same employer, same role</td>\n",
       "      <td>Male</td>\n",
       "      <td>Not Asked</td>\n",
       "      <td>Not Asked</td>\n",
       "      <td>1</td>\n",
       "    </tr>\n",
       "    <tr>\n",
       "      <th>1</th>\n",
       "      <td>2020</td>\n",
       "      <td>2020-01-04 10:43:01.821</td>\n",
       "      <td>100000.0</td>\n",
       "      <td>United States</td>\n",
       "      <td>NaN</td>\n",
       "      <td>Other</td>\n",
       "      <td>6</td>\n",
       "      <td>MySQL/MariaDB</td>\n",
       "      <td>Full time employee</td>\n",
       "      <td>Developer: App code (C#, JS, etc)</td>\n",
       "      <td>...</td>\n",
       "      <td>informix</td>\n",
       "      <td>informix</td>\n",
       "      <td>1M+ (metropolis)</td>\n",
       "      <td>Private business</td>\n",
       "      <td>Not Asked</td>\n",
       "      <td>Prefer not to say</td>\n",
       "      <td>Male</td>\n",
       "      <td>Not Asked</td>\n",
       "      <td>Not Asked</td>\n",
       "      <td>1</td>\n",
       "    </tr>\n",
       "    <tr>\n",
       "      <th>2</th>\n",
       "      <td>2020</td>\n",
       "      <td>2020-01-04 09:51:45.885</td>\n",
       "      <td>100000.0</td>\n",
       "      <td>Spain</td>\n",
       "      <td>28046</td>\n",
       "      <td>Microsoft SQL Server</td>\n",
       "      <td>2</td>\n",
       "      <td>MySQL/MariaDB</td>\n",
       "      <td>Full time employee</td>\n",
       "      <td>Other</td>\n",
       "      <td>...</td>\n",
       "      <td>SQL Server 2017</td>\n",
       "      <td>SQL Server 2017</td>\n",
       "      <td>1M+ (metropolis)</td>\n",
       "      <td>Private business</td>\n",
       "      <td>Not Asked</td>\n",
       "      <td>Stay with the same employer, same role</td>\n",
       "      <td>Male</td>\n",
       "      <td>Not Asked</td>\n",
       "      <td>Not Asked</td>\n",
       "      <td>1</td>\n",
       "    </tr>\n",
       "    <tr>\n",
       "      <th>3</th>\n",
       "      <td>2020</td>\n",
       "      <td>2020-01-04 01:08:53.605</td>\n",
       "      <td>70000.0</td>\n",
       "      <td>United States</td>\n",
       "      <td>94133</td>\n",
       "      <td>Microsoft SQL Server</td>\n",
       "      <td>3</td>\n",
       "      <td>Microsoft Access</td>\n",
       "      <td>Full time employee</td>\n",
       "      <td>Analyst</td>\n",
       "      <td>...</td>\n",
       "      <td>SQL Server 2016</td>\n",
       "      <td>SQL Server 2012</td>\n",
       "      <td>1M+ (metropolis)</td>\n",
       "      <td>Private business</td>\n",
       "      <td>Not Asked</td>\n",
       "      <td>Change both employers and roles</td>\n",
       "      <td>Male</td>\n",
       "      <td>Not Asked</td>\n",
       "      <td>Not Asked</td>\n",
       "      <td>1</td>\n",
       "    </tr>\n",
       "    <tr>\n",
       "      <th>4</th>\n",
       "      <td>2020</td>\n",
       "      <td>2020-01-03 15:28:54.163</td>\n",
       "      <td>110000.0</td>\n",
       "      <td>United States</td>\n",
       "      <td>95354</td>\n",
       "      <td>Oracle</td>\n",
       "      <td>30</td>\n",
       "      <td>Microsoft SQL Server, Oracle, MySQL/MariaDB, P...</td>\n",
       "      <td>Full time employee</td>\n",
       "      <td>DBA (General - splits time evenly between writ...</td>\n",
       "      <td>...</td>\n",
       "      <td>SQL Server 2016</td>\n",
       "      <td>SQL Server 2008R2</td>\n",
       "      <td>100K-299K (city)</td>\n",
       "      <td>Non-profit</td>\n",
       "      <td>Not Asked</td>\n",
       "      <td>Stay with the same employer, same role</td>\n",
       "      <td>Male</td>\n",
       "      <td>Not Asked</td>\n",
       "      <td>Not Asked</td>\n",
       "      <td>1</td>\n",
       "    </tr>\n",
       "  </tbody>\n",
       "</table>\n",
       "<p>5 rows × 31 columns</p>\n",
       "</div>"
      ],
      "text/plain": [
       "   Survey Year               Timestamp  SalaryUSD        Country PostalCode  \\\n",
       "0         2020 2020-01-04 18:50:34.328   115000.0  United States         03   \n",
       "1         2020 2020-01-04 10:43:01.821   100000.0  United States        NaN   \n",
       "2         2020 2020-01-04 09:51:45.885   100000.0          Spain      28046   \n",
       "3         2020 2020-01-04 01:08:53.605    70000.0  United States      94133   \n",
       "4         2020 2020-01-03 15:28:54.163   110000.0  United States      95354   \n",
       "\n",
       "        PrimaryDatabase  YearsWithThisDatabase  \\\n",
       "0  Microsoft SQL Server                     15   \n",
       "1                 Other                      6   \n",
       "2  Microsoft SQL Server                      2   \n",
       "3  Microsoft SQL Server                      3   \n",
       "4                Oracle                     30   \n",
       "\n",
       "                                      OtherDatabases    EmploymentStatus  \\\n",
       "0  Microsoft SQL Server, MongoDB, Azure SQL DB (a...  Full time employee   \n",
       "1                                      MySQL/MariaDB  Full time employee   \n",
       "2                                      MySQL/MariaDB  Full time employee   \n",
       "3                                   Microsoft Access  Full time employee   \n",
       "4  Microsoft SQL Server, Oracle, MySQL/MariaDB, P...  Full time employee   \n",
       "\n",
       "                                            JobTitle  ...  \\\n",
       "0  DBA (Production Focus - build & troubleshoot s...  ...   \n",
       "1                  Developer: App code (C#, JS, etc)  ...   \n",
       "2                                              Other  ...   \n",
       "3                                            Analyst  ...   \n",
       "4  DBA (General - splits time evenly between writ...  ...   \n",
       "\n",
       "  NewestVersionInProduction  OldestVersionInProduction  \\\n",
       "0           SQL Server 2019            SQL Server 2016   \n",
       "1                  informix                   informix   \n",
       "2           SQL Server 2017            SQL Server 2017   \n",
       "3           SQL Server 2016            SQL Server 2012   \n",
       "4           SQL Server 2016          SQL Server 2008R2   \n",
       "\n",
       "  PopulationOfLargestCityWithin20Miles  EmploymentSector LookingForAnotherJob  \\\n",
       "0                 20K-99K (large town)  Private business            Not Asked   \n",
       "1                     1M+ (metropolis)  Private business            Not Asked   \n",
       "2                     1M+ (metropolis)  Private business            Not Asked   \n",
       "3                     1M+ (metropolis)  Private business            Not Asked   \n",
       "4                     100K-299K (city)        Non-profit            Not Asked   \n",
       "\n",
       "                      CareerPlansThisYear Gender OtherJobDuties  \\\n",
       "0  Stay with the same employer, same role   Male      Not Asked   \n",
       "1                       Prefer not to say   Male      Not Asked   \n",
       "2  Stay with the same employer, same role   Male      Not Asked   \n",
       "3         Change both employers and roles   Male      Not Asked   \n",
       "4  Stay with the same employer, same role   Male      Not Asked   \n",
       "\n",
       "  KindsOfTasksPerformed Counter  \n",
       "0             Not Asked       1  \n",
       "1             Not Asked       1  \n",
       "2             Not Asked       1  \n",
       "3             Not Asked       1  \n",
       "4             Not Asked       1  \n",
       "\n",
       "[5 rows x 31 columns]"
      ]
     },
     "execution_count": 69,
     "metadata": {},
     "output_type": "execute_result"
    }
   ],
   "source": [
    "df_ref = pd.read_excel('https://downloads.brentozar.com/2020_Data_Professional_Salary_Survey_Responses.xlsx',\n",
    "                   sheet_name='Salary Survey', header=3)\n",
    "print(df_ref.shape)\n",
    "df_ref.head()"
   ]
  },
  {
   "cell_type": "code",
   "execution_count": 111,
   "id": "3a3f8b59",
   "metadata": {},
   "outputs": [
    {
     "data": {
      "text/plain": [
       "array([   15,     6,     2,     3,    30,     4,     1,    10,    20,\n",
       "           7,    18,     5,     0,    13,     8,    16,    11,     9,\n",
       "          17,    26,    19,    12,    25,    24,    14,    22,    23,\n",
       "          21,    33,    40,    29,    28,  1997,    31,    32,  1050,\n",
       "          27, 30331, 53716,    38], dtype=int64)"
      ]
     },
     "execution_count": 111,
     "metadata": {},
     "output_type": "execute_result"
    }
   ],
   "source": [
    "df_ref['YearsWithThisDatabase'].unique()"
   ]
  },
  {
   "cell_type": "code",
   "execution_count": 121,
   "id": "4bae4cf8",
   "metadata": {},
   "outputs": [
    {
     "name": "stdout",
     "output_type": "stream",
     "text": [
      "(5669, 2)\n"
     ]
    }
   ],
   "source": [
    "df = df_ref[(df_ref['Country'] == 'United States')\n",
    "            & (df_ref['SalaryUSD'] < 800000) \n",
    "           & (df_ref['YearsWithThisDatabase'] < 40)  ][[ 'YearsWithThisDatabase', 'SalaryUSD']]\n",
    "print(df.shape)\n",
    "df = df.dropna()\n",
    "X = df.iloc[:, :-1].values\n",
    "y = df.iloc[:, -1].values"
   ]
  },
  {
   "cell_type": "code",
   "execution_count": 122,
   "id": "11a1a05a",
   "metadata": {},
   "outputs": [
    {
     "data": {
      "text/plain": [
       "array([38], dtype=int64)"
      ]
     },
     "execution_count": 122,
     "metadata": {},
     "output_type": "execute_result"
    }
   ],
   "source": [
    "max(X)"
   ]
  },
  {
   "cell_type": "code",
   "execution_count": 123,
   "id": "e0ce2c8a",
   "metadata": {},
   "outputs": [
    {
     "data": {
      "text/plain": [
       "array([115000., 100000.,  70000., ...,  85000., 137500., 200000.])"
      ]
     },
     "execution_count": 123,
     "metadata": {},
     "output_type": "execute_result"
    }
   ],
   "source": [
    "y"
   ]
  },
  {
   "cell_type": "code",
   "execution_count": 124,
   "id": "0cf19d0b",
   "metadata": {},
   "outputs": [
    {
     "name": "stdout",
     "output_type": "stream",
     "text": [
      "(4251, 1) (1418, 1) (4251,) (1418,)\n"
     ]
    }
   ],
   "source": [
    "######################################\n",
    "# Separar dados em Treino e Teste\n",
    "######################################\n",
    "\n",
    "X_train, X_test, y_train, y_test = ms.train_test_split(X, y, random_state = 0)\n",
    "print(X_train.shape, X_test.shape, y_train.shape, y_test.shape)"
   ]
  },
  {
   "cell_type": "code",
   "execution_count": 125,
   "id": "85bf1492",
   "metadata": {},
   "outputs": [
    {
     "data": {
      "text/plain": [
       "LinearRegression()"
      ]
     },
     "execution_count": 125,
     "metadata": {},
     "output_type": "execute_result"
    }
   ],
   "source": [
    "######################################\n",
    "# Treinando o modelo\n",
    "######################################\n",
    "\n",
    "regressor = lm.LinearRegression()\n",
    "regressor.fit(X_train, y_train)\n",
    "regressor"
   ]
  },
  {
   "cell_type": "code",
   "execution_count": 126,
   "id": "2440adb6",
   "metadata": {},
   "outputs": [
    {
     "data": {
      "text/plain": [
       "array([104042.62845137, 128232.12590217,  87109.98023582, ...,\n",
       "        87109.98023582, 120975.27666693, 104042.62845137])"
      ]
     },
     "execution_count": 126,
     "metadata": {},
     "output_type": "execute_result"
    }
   ],
   "source": [
    "######################################\n",
    "# Previsao\n",
    "######################################\n",
    "y_pred = regressor.predict(X_test)\n",
    "y_pred"
   ]
  },
  {
   "cell_type": "code",
   "execution_count": 127,
   "id": "0b18a582",
   "metadata": {},
   "outputs": [
    {
     "data": {
      "text/plain": [
       "array([ 94366.82947106, 116137.37717677, 113718.42743169, ...,\n",
       "        94366.82947106,  89528.9299809 ,  91947.87972598])"
      ]
     },
     "execution_count": 127,
     "metadata": {},
     "output_type": "execute_result"
    }
   ],
   "source": [
    "y_pred_train = regressor.predict(X_train)\n",
    "y_pred_train"
   ]
  },
  {
   "cell_type": "code",
   "execution_count": 128,
   "id": "3fa79a27",
   "metadata": {},
   "outputs": [
    {
     "data": {
      "image/png": "[encoded data removed]",
      "text/plain": [
       "<Figure size 432x288 with 1 Axes>"
      ]
     },
     "metadata": {
      "needs_background": "light"
     },
     "output_type": "display_data"
    }
   ],
   "source": [
    "######################################\n",
    "# Visualizando o treino\n",
    "######################################\n",
    "\n",
    "plt.scatter(X_train, y_train, color = 'red')\n",
    "plt.plot(X_train, regressor.predict(X_train), color = 'blue', scaley=False)\n",
    "plt.title('Treino')\n",
    "plt.show()"
   ]
  },
  {
   "cell_type": "code",
   "execution_count": 129,
   "id": "d639c60c",
   "metadata": {},
   "outputs": [
    {
     "data": {
      "image/png": "[encoded data removed]",
      "text/plain": [
       "<Figure size 432x288 with 1 Axes>"
      ]
     },
     "metadata": {
      "needs_background": "light"
     },
     "output_type": "display_data"
    }
   ],
   "source": [
    "######################################\n",
    "# Visualizando o teste\n",
    "######################################\n",
    "\n",
    "plt.scatter(X_test, y_test, color = 'red')\n",
    "plt.plot(X_train, regressor.predict(X_train), color = 'blue', scaley=False)\n",
    "plt.title('Teste')\n",
    "plt.show()"
   ]
  },
  {
   "cell_type": "code",
   "execution_count": 130,
   "id": "a3c98911",
   "metadata": {},
   "outputs": [
    {
     "name": "stdout",
     "output_type": "stream",
     "text": [
      "[104042.62845137]\n"
     ]
    }
   ],
   "source": [
    "######################################\n",
    "# Valor Especifico\n",
    "######################################\n",
    "\n",
    "print(regressor.predict([[10]]))"
   ]
  },
  {
   "cell_type": "markdown",
   "id": "cf9b25ad",
   "metadata": {},
   "source": [
    "# R^2 - Perfomance do modelo"
   ]
  },
  {
   "cell_type": "code",
   "execution_count": 133,
   "id": "abba6370",
   "metadata": {},
   "outputs": [
    {
     "data": {
      "text/plain": [
       "0.11482864256085834"
      ]
     },
     "execution_count": 133,
     "metadata": {},
     "output_type": "execute_result"
    }
   ],
   "source": [
    "from sklearn.metrics import r2_score\n",
    "r2_score(y_test, y_pred)"
   ]
  },
  {
   "cell_type": "markdown",
   "id": "b422c4a6",
   "metadata": {},
   "source": [
    "Significa que a variavel independente idade tem 11% de influencia sobre o salario."
   ]
  },
  {
   "cell_type": "code",
   "execution_count": null,
   "id": "c39e9f2b",
   "metadata": {},
   "outputs": [],
   "source": []
  }
 ],
 "metadata": {
  "kernelspec": {
   "display_name": "env-win-tese",
   "language": "python",
   "name": "env-win-tese"
  },
  "language_info": {
   "codemirror_mode": {
    "name": "ipython",
    "version": 3
   },
   "file_extension": ".py",
   "mimetype": "text/x-python",
   "name": "python",
   "nbconvert_exporter": "python",
   "pygments_lexer": "ipython3",
   "version": "3.10.0"
  },
  "toc": {
   "base_numbering": 1,
   "nav_menu": {},
   "number_sections": true,
   "sideBar": true,
   "skip_h1_title": false,
   "title_cell": "Table of Contents",
   "title_sidebar": "Contents",
   "toc_cell": false,
   "toc_position": {},
   "toc_section_display": true,
   "toc_window_display": false
  }
 },
 "nbformat": 4,
 "nbformat_minor": 5
}
